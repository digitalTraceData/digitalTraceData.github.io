{
 "cells": [
  {
   "cell_type": "markdown",
   "metadata": {
    "id": "rXM88pYV1gFR"
   },
   "source": [
    "# Lab week 6"
   ]
  },
  {
   "cell_type": "markdown",
   "metadata": {
    "id": "s4-kI72V1lap"
   },
   "source": [
    "## Assignment 1"
   ]
  },
  {
   "cell_type": "markdown",
   "metadata": {
    "id": "UYAyyXNP1lXj"
   },
   "source": [
    "In the lecture of week 2 (on user-centric approaches), we discussed the Screenomics project which is also discussed in the paper by Ram et al. (2019). In this assignment, we reflect on the four ethical principles (and four challenges) described by Salganik in [Bit by Bit Chapter 6](https://www.bitbybitbook.com/en/1st-ed/ethics/principles/).\n",
    "\n",
    "The first principle is “Respect for persons”."
   ]
  },
  {
   "cell_type": "markdown",
   "metadata": {
    "id": "Dt0wy42J1lUs"
   },
   "source": [
    "1. Describe in your own words what “Respect for persons” means."
   ]
  },
  {
   "cell_type": "markdown",
   "metadata": {
    "id": "uqFdPdGU1lR9"
   },
   "source": [
    "*ADD YOUR ANSWER HERE*"
   ]
  },
  {
   "cell_type": "markdown",
   "metadata": {
    "id": "dD5LmAPc1lO9"
   },
   "source": [
    "2. To what extent do you think that the Screenomics project adheres to this principle?"
   ]
  },
  {
   "cell_type": "markdown",
   "metadata": {
    "id": "ccbsE3oR1lL9"
   },
   "source": [
    "*ADD YOUR ANSWER HERE*"
   ]
  },
  {
   "cell_type": "markdown",
   "metadata": {
    "id": "juOEmZAv1lI1"
   },
   "source": [
    "3. Can you think of any suggestions on how to improve their project here?"
   ]
  },
  {
   "cell_type": "markdown",
   "metadata": {
    "id": "wyChN7Au1lF1"
   },
   "source": [
    "*ADD YOUR ANSWER HERE*"
   ]
  },
  {
   "cell_type": "markdown",
   "metadata": {
    "id": "TgD-Qky91lC-"
   },
   "source": [
    "4. What are three reasons why researchers might not be able to obtain informed consent?"
   ]
  },
  {
   "cell_type": "markdown",
   "metadata": {
    "id": "tzg9NnDJ1lAG"
   },
   "source": [
    "*ADD YOUR ANSWER HERE*"
   ]
  },
  {
   "cell_type": "markdown",
   "metadata": {
    "id": "YZt1oUU_1k9o"
   },
   "source": [
    "5. To what extent can these reasons play a role consent of in the Screenomics project? Give a potential explanation for every reason."
   ]
  },
  {
   "cell_type": "markdown",
   "metadata": {
    "id": "U9YaQ5yY1k6o"
   },
   "source": [
    "The second principle is “Beneficence”."
   ]
  },
  {
   "cell_type": "markdown",
   "metadata": {
    "id": "AE_vkmio1k3-"
   },
   "source": [
    "6. Describe in your own words what “Beneficence” means."
   ]
  },
  {
   "cell_type": "markdown",
   "metadata": {
    "id": "WCuiQm5Q1k1E"
   },
   "source": [
    "*ADD YOUR ANSWER HERE*"
   ]
  },
  {
   "cell_type": "markdown",
   "metadata": {
    "id": "uvWxu_ME1kyL"
   },
   "source": [
    "7. To what extent do you think that the Screenomics project adheres to this principle?"
   ]
  },
  {
   "cell_type": "markdown",
   "metadata": {
    "id": "wbTElqpp1kvB"
   },
   "source": [
    "*ADD YOUR ANSWER HERE*"
   ]
  },
  {
   "cell_type": "markdown",
   "metadata": {
    "id": "ygA2N_J61ksJ"
   },
   "source": [
    "8. Can you think of any suggestions on how to improve their project here?"
   ]
  },
  {
   "cell_type": "markdown",
   "metadata": {
    "id": "_UP3GvL91kp0"
   },
   "source": [
    "*ADD YOUR ANSWER HERE*"
   ]
  },
  {
   "cell_type": "markdown",
   "metadata": {
    "id": "5gbbOVJN1km3"
   },
   "source": [
    "9. What is the potential harm for participants if their data in the Screenomics project is disclosed?"
   ]
  },
  {
   "cell_type": "markdown",
   "metadata": {
    "id": "sfmXyIpw1kjd"
   },
   "source": [
    "*ADD YOUR ANSWER HERE*"
   ]
  },
  {
   "cell_type": "markdown",
   "metadata": {
    "id": "hSsV84qW1kg_"
   },
   "source": [
    "10. How could data from the Screenomics project be made available to other researchers you think?"
   ]
  },
  {
   "cell_type": "markdown",
   "metadata": {
    "id": "oNG5lM1774ZI"
   },
   "source": [
    "*ADD YOUR ANSWER HERE*"
   ]
  },
  {
   "cell_type": "markdown",
   "metadata": {
    "id": "zdr92Ie91kcy"
   },
   "source": [
    "The third principle is “Justice”."
   ]
  },
  {
   "cell_type": "markdown",
   "metadata": {
    "id": "CvyJe2qB1kZB"
   },
   "source": [
    "11. Describe in your own words what “Justice” means."
   ]
  },
  {
   "cell_type": "markdown",
   "metadata": {
    "id": "4zio-5OY1kIg"
   },
   "source": [
    "*ADD YOUR ANSWER HERE*"
   ]
  },
  {
   "cell_type": "markdown",
   "metadata": {
    "id": "pS0UyNrF2xlK"
   },
   "source": [
    "12. To what extent do you think that the Screenomics project adheres to this principle?"
   ]
  },
  {
   "cell_type": "markdown",
   "metadata": {
    "id": "Y7DB-dzy2xia"
   },
   "source": [
    "*ADD YOUR ANSWER HERE*"
   ]
  },
  {
   "cell_type": "markdown",
   "metadata": {
    "id": "BfJYLdQf2xfY"
   },
   "source": [
    "13. Can you think of any suggestions on how to improve their project here?"
   ]
  },
  {
   "cell_type": "markdown",
   "metadata": {
    "id": "4l_IoD1b2xcT"
   },
   "source": [
    "*ADD YOUR ANSWER HERE*"
   ]
  },
  {
   "cell_type": "markdown",
   "metadata": {
    "id": "tqXKL-Vj2xZT"
   },
   "source": [
    "The final principle is “Respect for law and public interest”."
   ]
  },
  {
   "cell_type": "markdown",
   "metadata": {
    "id": "R7JditVh2xWZ"
   },
   "source": [
    "14. Describe in your own words what “Respect for law and public interest” means."
   ]
  },
  {
   "cell_type": "markdown",
   "metadata": {
    "id": "D9JcGEEv2xTU"
   },
   "source": [
    "*ADD YOUR ANSWER HERE*"
   ]
  },
  {
   "cell_type": "markdown",
   "metadata": {
    "id": "6wJGOinL2xQd"
   },
   "source": [
    "15. To what extent do you think that the Screenomics project adheres to this principle?"
   ]
  },
  {
   "cell_type": "markdown",
   "metadata": {
    "id": "NC4_oqxk2xNn"
   },
   "source": [
    "*ADD YOUR ANSWER HERE*"
   ]
  },
  {
   "cell_type": "markdown",
   "metadata": {
    "id": "v9C8TsD62xK-"
   },
   "source": [
    "16. Can you think of any suggestions on how to improve their project here?"
   ]
  },
  {
   "cell_type": "markdown",
   "metadata": {
    "id": "IbLw4cvG2xID"
   },
   "source": [
    "*ADD YOUR ANSWER HERE*"
   ]
  },
  {
   "cell_type": "markdown",
   "metadata": {
    "id": "_hj-OZho2xE3"
   },
   "source": [
    "17. What are the three parameters of contextual integrity?"
   ]
  },
  {
   "cell_type": "markdown",
   "metadata": {
    "id": "ayzXc0Me2xBj"
   },
   "source": [
    "*ADD YOUR ANSWER HERE*"
   ]
  },
  {
   "cell_type": "markdown",
   "metadata": {
    "id": "McQb3I9l2wuV"
   },
   "source": [
    "18. How do you expect the information of the Screenomics project to flow?"
   ]
  },
  {
   "cell_type": "markdown",
   "metadata": {
    "id": "Rap31pqC3RJ-"
   },
   "source": [
    "*ADD YOUR ANSWER HERE*"
   ]
  },
  {
   "cell_type": "markdown",
   "metadata": {
    "id": "ixIx6Hdn3RG2"
   },
   "source": [
    "## Assignment 2\n",
    "\n",
    "As part of the second group assignment, you will fill in the [PRIDE](https://ferb.sites.uu.nl/wp-content/uploads/sites/432/2025/05/PRIDE-Questionnaire-for-approval-Single-Study.docx) form from the FETC. In this assignment, we reflect on how the principles and challenges discussed are represented in the PRIDE form."
   ]
  },
  {
   "cell_type": "markdown",
   "metadata": {
    "id": "5PonuN7u3RD-"
   },
   "source": [
    "1. Which elements of the form allow you to reflect on the principle “Respect for persons”?"
   ]
  },
  {
   "cell_type": "markdown",
   "metadata": {
    "id": "vmPPXK6E3RBH"
   },
   "source": [
    "*ADD YOUR ANSWER HERE*"
   ]
  },
  {
   "cell_type": "markdown",
   "metadata": {
    "id": "iLLV4cY23Q-Q"
   },
   "source": [
    "2. Which elements of the form allow you to reflect on the principle “Beneficence”?"
   ]
  },
  {
   "cell_type": "markdown",
   "metadata": {
    "id": "dQM4-l3h3Q7Y"
   },
   "source": [
    "*ADD YOUR ANSWER HERE*"
   ]
  },
  {
   "cell_type": "markdown",
   "metadata": {
    "id": "RUdPCWCf3Q4i"
   },
   "source": [
    "3. Which elements of the form allow you to reflect on the principle “Justice”?"
   ]
  },
  {
   "cell_type": "markdown",
   "metadata": {
    "id": "5vChAfMf3Q1i"
   },
   "source": [
    "*ADD YOUR ANSWER HERE*"
   ]
  },
  {
   "cell_type": "markdown",
   "metadata": {
    "id": "Syxn4xyn3Qyz"
   },
   "source": [
    "4. Which elements of the form allow you to reflect on the principle “Respect for law and public interest”?"
   ]
  },
  {
   "cell_type": "markdown",
   "metadata": {
    "id": "WwAb7EZM3Qvz"
   },
   "source": [
    "*ADD YOUR ANSWER HERE*"
   ]
  },
  {
   "cell_type": "markdown",
   "metadata": {
    "id": "9pAAjbpv3Qs8"
   },
   "source": [
    "5. Which elements of the form allow you to reflect on “Informed consent”?"
   ]
  },
  {
   "cell_type": "markdown",
   "metadata": {
    "id": "sT1V4sry3QqF"
   },
   "source": [
    "*ADD YOUR ANSWER HERE*"
   ]
  },
  {
   "cell_type": "markdown",
   "metadata": {
    "id": "8eX7d9693QnF"
   },
   "source": [
    "6. Which elements of the form allow you to reflect on “Understanding and managing informational risk”?"
   ]
  },
  {
   "cell_type": "markdown",
   "metadata": {
    "id": "YDLkhPAt3Qj9"
   },
   "source": [
    "*ADD YOUR ANSWER HERE*"
   ]
  },
  {
   "cell_type": "markdown",
   "metadata": {
    "id": "VPdDju0f3QhH"
   },
   "source": [
    "7. Which elements of the form allow you to reflect on “Privacy”?"
   ]
  },
  {
   "cell_type": "markdown",
   "metadata": {
    "id": "Ou6jJucJ3QeI"
   },
   "source": [
    "*ADD YOUR ANSWER HERE*"
   ]
  },
  {
   "cell_type": "markdown",
   "metadata": {
    "id": "dUhW79eO3QbX"
   },
   "source": [
    "8. Which elements of the form allow you to reflect on “Making decisions in the face of uncertainty”?"
   ]
  },
  {
   "cell_type": "markdown",
   "metadata": {
    "id": "SGhCBepY3QYn"
   },
   "source": [
    "*ADD YOUR ANSWER HERE*"
   ]
  },
  {
   "cell_type": "markdown",
   "metadata": {
    "id": "IvlAWt1j3QV5"
   },
   "source": [
    "9. If you haven't filled in the PRIDE form yet for your group assignment, you might want to take a moment with your group to look into this together during the lab meeting. In case you already did fill it in, look whether you want to make some changes to the answers that you provided."
   ]
  },
  {
   "cell_type": "markdown",
   "metadata": {
    "id": "EuwJSXWQ3QTH"
   },
   "source": [
    "*ADD YOUR ANSWER HERE*"
   ]
  },
  {
   "cell_type": "markdown",
   "metadata": {
    "id": "cD45fJ3O3QQP"
   },
   "source": [
    "## Assignment 3\n",
    "\n",
    "We have learned that data ethics also plays a role in the commercial domain. And that companies take measures are taken on the technological, individual and organizational level. We now explore what this means in practice at a large company such as L’oreal and we’ll dive in the information we can find online about this.\n",
    "\n",
    "Let’s explore the [code of ethics from L’oreal](https://www.loreal.com/-/media/project/loreal/brand-sites/corp/master/lcorp/2-group/governance-and-ethics/ethics-rework/code-of-ethics-2023/codeofethicseng.pdf?rev=765a100d8f904e0bbcf015ba95c1bdbe)."
   ]
  },
  {
   "cell_type": "markdown",
   "metadata": {
    "id": "Jpl8Z8N23QNh"
   },
   "source": [
    "1. What are the ethical principles that companies can use on a technological level?"
   ]
  },
  {
   "cell_type": "markdown",
   "metadata": {
    "id": "z5z8PSxk3QLL"
   },
   "source": [
    "*ADD YOUR ANSWER HERE*"
   ]
  },
  {
   "cell_type": "markdown",
   "metadata": {
    "id": "vv_jhEJ_3QIG"
   },
   "source": [
    "2. Has L’oreal formulated ethics principles on the technological level? What can you find?"
   ]
  },
  {
   "cell_type": "markdown",
   "metadata": {
    "id": "wd-lEVbn3QFO"
   },
   "source": [
    "*ADD YOUR ANSWER HERE*"
   ]
  },
  {
   "cell_type": "markdown",
   "metadata": {
    "id": "mHJE2yRt3QCw"
   },
   "source": [
    "3. What standards aim to guide individual employees in the commercial domain regarding ethics?"
   ]
  },
  {
   "cell_type": "markdown",
   "metadata": {
    "id": "Hf5UVroY3QAB"
   },
   "source": [
    "*ADD YOUR ANSWER HERE*"
   ]
  },
  {
   "cell_type": "markdown",
   "metadata": {
    "id": "_aw6B2z23P9P"
   },
   "source": [
    "4. Has L’oreal set up any of these codes? What can you find?"
   ]
  },
  {
   "cell_type": "markdown",
   "metadata": {
    "id": "klx3A4yD3P6S"
   },
   "source": [
    "*ADD YOUR ANSWER HERE*"
   ]
  },
  {
   "cell_type": "markdown",
   "metadata": {
    "id": "V4DvBMF_3P3E"
   },
   "source": [
    "5. What innovations can a company do on an organizational level?"
   ]
  },
  {
   "cell_type": "markdown",
   "metadata": {
    "id": "bewNfTdi3PgX"
   },
   "source": [
    "*ADD YOUR ANSWER HERE*"
   ]
  },
  {
   "cell_type": "markdown",
   "metadata": {
    "id": "e44luAIg4Wyc"
   },
   "source": [
    "6. Has L’oreal implemented any of these innovations?"
   ]
  },
  {
   "cell_type": "markdown",
   "metadata": {
    "id": "XRChOQK74WtO"
   },
   "source": [
    "*ADD YOUR ANSWER HERE*"
   ]
  },
  {
   "cell_type": "markdown",
   "metadata": {
    "id": "P9oTo5kf4WlB"
   },
   "source": [
    "7. What is your overall evaluation of the code of ethics of L’oreal?"
   ]
  },
  {
   "cell_type": "markdown",
   "metadata": {
    "id": "4GV_ij254WR-"
   },
   "source": [
    "*ADD YOUR ANSWER HERE*"
   ]
  }
 ],
 "metadata": {
  "colab": {
   "provenance": []
  },
  "kernelspec": {
   "display_name": "Python 3",
   "name": "python3"
  },
  "language_info": {
   "name": "python"
  }
 },
 "nbformat": 4,
 "nbformat_minor": 0
}
