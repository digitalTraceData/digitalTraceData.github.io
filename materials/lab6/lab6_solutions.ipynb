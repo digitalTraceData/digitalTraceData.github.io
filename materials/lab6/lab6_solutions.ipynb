{
 "cells": [
  {
   "cell_type": "markdown",
   "metadata": {
    "id": "rXM88pYV1gFR"
   },
   "source": [
    "# Lab week 6"
   ]
  },
  {
   "cell_type": "markdown",
   "metadata": {
    "id": "s4-kI72V1lap"
   },
   "source": [
    "## Assignment 1"
   ]
  },
  {
   "cell_type": "markdown",
   "metadata": {
    "id": "UYAyyXNP1lXj"
   },
   "source": [
    "In the lecture of week 2 (on user-centric approaches), we discussed the Screenomics project which is also discussed in the paper by Ram et al. (2019). In this assignment, we reflect on the four ethical principles (and four challenges) described by Salganik in [Bit by Bit Chapter 6](https://www.bitbybitbook.com/en/1st-ed/ethics/principles/).\n",
    "\n",
    "\n",
    "The first principle is “Respect for persons”."
   ]
  },
  {
   "cell_type": "markdown",
   "metadata": {
    "id": "Dt0wy42J1lUs"
   },
   "source": [
    "1. Describe in your own words what “Respect for persons” means."
   ]
  },
  {
   "cell_type": "markdown",
   "metadata": {
    "id": "uqFdPdGU1lR9"
   },
   "source": [
    "*Answer: Crucial is that researchers need to obtain informed consent if possible in any way.*"
   ]
  },
  {
   "cell_type": "markdown",
   "metadata": {
    "id": "dD5LmAPc1lO9"
   },
   "source": [
    "2. To what extent do you think that the Screenomics project adheres to this principle?"
   ]
  },
  {
   "cell_type": "markdown",
   "metadata": {
    "id": "ccbsE3oR1lL9"
   },
   "source": [
    "*Answer: There is no information about this in the paper. You can assume that the participants at least got informed about what happens before the study starts and before they install the app, but once the app is working, it is unknown to what extent the participants know which screenshots are being shared, and also for wat research purposes these are being used.*"
   ]
  },
  {
   "cell_type": "markdown",
   "metadata": {
    "id": "juOEmZAv1lI1"
   },
   "source": [
    "3. Can you think of any suggestions on how to improve their project here?"
   ]
  },
  {
   "cell_type": "markdown",
   "metadata": {
    "id": "wyChN7Au1lF1"
   },
   "source": [
    "*Answer: It could for example be really nice if participants could have a dashboard where they can also see (a sample of) the screenshots collected about them or receive regular updates about the studies for which their data has been used.*"
   ]
  },
  {
   "cell_type": "markdown",
   "metadata": {
    "id": "TgD-Qky91lC-"
   },
   "source": [
    "4. What are three reasons why researchers might not be able to obtain informed consent?"
   ]
  },
  {
   "cell_type": "markdown",
   "metadata": {
    "id": "tzg9NnDJ1lAG"
   },
   "source": [
    "*Answer: Increasing risk, compromising research goals, logistical limitations.*"
   ]
  },
  {
   "cell_type": "markdown",
   "metadata": {
    "id": "YZt1oUU_1k9o"
   },
   "source": [
    "5. To what extent can these reasons play a role consent of in the Screenomics project? Give a potential explanation for every reason."
   ]
  },
  {
   "cell_type": "markdown",
   "metadata": {
    "id": "qQf3DfoJ5bVA"
   },
   "source": [
    "*Answer:*\n",
    "\n",
    "*Increasing risk: I don’t think this is relevant.*\n",
    "\n",
    "*Compromising research goals: if a consent form mentions explicitly that a sensitive feature will be derived from their data (for probability of having an eating disorder), people at risk might be less likely to participate.*\n",
    "   \n",
    "*Logistical limitations: I can also imagine that many of the research questions only come after first explorations of the data have been done, and that this is an ongoing process.*"
   ]
  },
  {
   "cell_type": "markdown",
   "metadata": {
    "id": "U9YaQ5yY1k6o"
   },
   "source": [
    "The second principle is “Beneficence”."
   ]
  },
  {
   "cell_type": "markdown",
   "metadata": {
    "id": "AE_vkmio1k3-"
   },
   "source": [
    "6. Describe in your own words what “Beneficence” means."
   ]
  },
  {
   "cell_type": "markdown",
   "metadata": {
    "id": "WCuiQm5Q1k1E"
   },
   "source": [
    "*Answer: It means that you understand what is at risk for what people because of this study, and that you weigh this with respect to the benefits of the study, and search for an appropriate balance here.*"
   ]
  },
  {
   "cell_type": "markdown",
   "metadata": {
    "id": "uvWxu_ME1kyL"
   },
   "source": [
    "7. To what extent do you think that the Screenomics project adheres to this principle?"
   ]
  },
  {
   "cell_type": "markdown",
   "metadata": {
    "id": "wbTElqpp1kvB"
   },
   "source": [
    "*Answer: They seem very private with their app and their data, so they definitely understand there are huge privacy risks if that data would become public. However, it is not clear if researchers interested in using the data for example get to see the raw screenshots or if that is protected in any way.*"
   ]
  },
  {
   "cell_type": "markdown",
   "metadata": {
    "id": "ygA2N_J61ksJ"
   },
   "source": [
    "8. Can you think of any suggestions on how to improve their project here?"
   ]
  },
  {
   "cell_type": "markdown",
   "metadata": {
    "id": "_UP3GvL91kp0"
   },
   "source": [
    "*Answer: A good idea would for example be to only have a small core group of researchers having access to the raw data, and that they for example do classifications of the screenshots on topics of interest to other researchers, and that they give out those kinds of datasets, and never the raw screenshots.*"
   ]
  },
  {
   "cell_type": "markdown",
   "metadata": {
    "id": "5gbbOVJN1km3"
   },
   "source": [
    "9. What is the potential harm for participants if their data in the Screenomics project is disclosed?"
   ]
  },
  {
   "cell_type": "markdown",
   "metadata": {
    "id": "sfmXyIpw1kjd"
   },
   "source": [
    "*Answer: Many things can be disclosed, their private messages can disclose a lot of sensitive information, being on dating apps, what people search for online, potential diseases or mental health issues. Private meetings in their calendar, calls, also “official” information such as banking information or government information if this can be accessed through an app or website.*"
   ]
  },
  {
   "cell_type": "markdown",
   "metadata": {
    "id": "hSsV84qW1kg_"
   },
   "source": [
    "10. How could data from the Screenomics project be made available to other researchers you think?"
   ]
  },
  {
   "cell_type": "markdown",
   "metadata": {
    "id": "c4auZUTB5-wP"
   },
   "source": [
    "*Answer: Raw screenshots can probably never be shared, only if they are highly redacted and to a selected group of researchers, probably only in a secure environment. Aggregated of the data (processed to classifications for example) could be made available to a wider audience, but likely never completely public.*"
   ]
  },
  {
   "cell_type": "markdown",
   "metadata": {
    "id": "zdr92Ie91kcy"
   },
   "source": [
    "The third principle is “Justice”."
   ]
  },
  {
   "cell_type": "markdown",
   "metadata": {
    "id": "CvyJe2qB1kZB"
   },
   "source": [
    "11. Describe in your own words what “Justice” means."
   ]
  },
  {
   "cell_type": "markdown",
   "metadata": {
    "id": "4zio-5OY1kIg"
   },
   "source": [
    "*Answer: Justice is about ensuring that the risks and benefits of the study are distributed.*"
   ]
  },
  {
   "cell_type": "markdown",
   "metadata": {
    "id": "pS0UyNrF2xlK"
   },
   "source": [
    "12. To what extent do you think that the Screenomics project adheres to this principle?"
   ]
  },
  {
   "cell_type": "markdown",
   "metadata": {
    "id": "Y7DB-dzy2xia"
   },
   "source": [
    "*Answer: There are two important aspects here. The first is that vulnerable people should be protected from researchers. From the paper, it is unclear whether any measures were taken to prevent this. Second, compensation is important. It is also now known whether participants were compensated based on the paper.*"
   ]
  },
  {
   "cell_type": "markdown",
   "metadata": {
    "id": "BfJYLdQf2xfY"
   },
   "source": [
    "13. Can you think of any suggestions on how to improve their project here?"
   ]
  },
  {
   "cell_type": "markdown",
   "metadata": {
    "id": "4l_IoD1b2xcT"
   },
   "source": [
    "*Answer: A decent monetary compensation would make sense for the effort of installing an app and also running that app for the duration of the study. Vulnerable people is a more challenging topic, because it seems like the project did not make explicit in advance on what topics they would do research using the data, and it also looked like new projects keep emerging. So it is also hard to determine in advance vulnerable with respect to what?*"
   ]
  },
  {
   "cell_type": "markdown",
   "metadata": {
    "id": "tqXKL-Vj2xZT"
   },
   "source": [
    "The final principle is “Respect for law and public interest”."
   ]
  },
  {
   "cell_type": "markdown",
   "metadata": {
    "id": "R7JditVh2xWZ"
   },
   "source": [
    "14. Describe in your own words what “Respect for law and public interest” means."
   ]
  },
  {
   "cell_type": "markdown",
   "metadata": {
    "id": "D9JcGEEv2xTU"
   },
   "source": [
    "*Answer: This consists of compliance with law and also transparency-based accountability.*"
   ]
  },
  {
   "cell_type": "markdown",
   "metadata": {
    "id": "6wJGOinL2xQd"
   },
   "source": [
    "15. To what extent do you think that the Screenomics project adheres to this principle?"
   ]
  },
  {
   "cell_type": "markdown",
   "metadata": {
    "id": "NC4_oqxk2xNn"
   },
   "source": [
    "*Answer: I cannot think of any legislation they are not complicit with. However, it seems like they come up with new research projects after the data has been collected, so they should keep their participants informed on these developments.*"
   ]
  },
  {
   "cell_type": "markdown",
   "metadata": {
    "id": "v9C8TsD62xK-"
   },
   "source": [
    "16. Can you think of any suggestions on how to improve their project here?"
   ]
  },
  {
   "cell_type": "markdown",
   "metadata": {
    "id": "IbLw4cvG2xID"
   },
   "source": [
    "*Answer: The app that is being used to make the screenshots could maybe also occasionally send updates the participants when their data is being used for certain studies. Or a generic project website can help with this as well.*  "
   ]
  },
  {
   "cell_type": "markdown",
   "metadata": {
    "id": "_hj-OZho2xE3"
   },
   "source": [
    "17. What are the three parameters of contextual integrity?"
   ]
  },
  {
   "cell_type": "markdown",
   "metadata": {
    "id": "ayzXc0Me2xBj"
   },
   "source": [
    "*Answer: Actors, Attributes and Transmission principles.*"
   ]
  },
  {
   "cell_type": "markdown",
   "metadata": {
    "id": "McQb3I9l2wuV"
   },
   "source": [
    "18. How do you expect the information of the Screenomics project to flow?"
   ]
  },
  {
   "cell_type": "markdown",
   "metadata": {
    "id": "Rap31pqC3RJ-"
   },
   "source": [
    "*Answer: All screenshots [attributes] can be accessed by a limited group of selected researchers [actors] for use of different research project to the oversight of the Screenomics team [transmission principles].*"
   ]
  },
  {
   "cell_type": "markdown",
   "metadata": {
    "id": "ixIx6Hdn3RG2"
   },
   "source": [
    "## Assignment 2\n",
    "\n",
    "As part of the second group assignment, you will fill in the [PRIDE](https://ferb.sites.uu.nl/wp-content/uploads/sites/432/2025/05/PRIDE-Questionnaire-for-approval-Single-Study.docx) form from the FETC. In this assignment, we reflect on how the principles and challenges discussed are represented in the PRIDE form."
   ]
  },
  {
   "cell_type": "markdown",
   "metadata": {
    "id": "5PonuN7u3RD-"
   },
   "source": [
    "1. Which elements of the form allow you to reflect on the principle “Respect for persons”?"
   ]
  },
  {
   "cell_type": "markdown",
   "metadata": {
    "id": "vmPPXK6E3RBH"
   },
   "source": [
    "*Answer: Under study details (II), questions are asked about whether the participants are old enough, mentally competent, etc.\n",
    "\n",
    "Also, questions about in and exclusion criteria of participants, time to think about participation, termination of participation and dependency on the researcher are asked under “Participants”.*"
   ]
  },
  {
   "cell_type": "markdown",
   "metadata": {
    "id": "iLLV4cY23Q-Q"
   },
   "source": [
    "2. Which elements of the form allow you to reflect on the principle “Beneficence”?"
   ]
  },
  {
   "cell_type": "markdown",
   "metadata": {
    "id": "dQM4-l3h3Q7Y"
   },
   "source": [
    "*Answer: Under study details (II), the researcher is asked to compare the risks that can come from this study to risks in everyday life. Also, yes/no questions tick off many types of questions that can pose risks to the participants.*"
   ]
  },
  {
   "cell_type": "markdown",
   "metadata": {
    "id": "RUdPCWCf3Q4i"
   },
   "source": [
    "3. Which elements of the form allow you to reflect on the principle “Justice”?"
   ]
  },
  {
   "cell_type": "markdown",
   "metadata": {
    "id": "5vChAfMf3Q1i"
   },
   "source": [
    "*Answer: Under “Participants” it is asked what the investment of the participants is and how they are being compensated for this, and whether the compensation is conditional.*"
   ]
  },
  {
   "cell_type": "markdown",
   "metadata": {
    "id": "Syxn4xyn3Qyz"
   },
   "source": [
    "4. Which elements of the form allow you to reflect on the principle “Respect for law and public interest”?"
   ]
  },
  {
   "cell_type": "markdown",
   "metadata": {
    "id": "WwAb7EZM3Qvz"
   },
   "source": [
    "*Answer: There is no question in the form explicitly focussing on this.*"
   ]
  },
  {
   "cell_type": "markdown",
   "metadata": {
    "id": "9pAAjbpv3Qs8"
   },
   "source": [
    "5. Which elements of the form allow you to reflect on “Informed consent”?"
   ]
  },
  {
   "cell_type": "markdown",
   "metadata": {
    "id": "sT1V4sry3QqF"
   },
   "source": [
    "*Answer: Under study details (II) it is asked if participants provide active informed consent.*"
   ]
  },
  {
   "cell_type": "markdown",
   "metadata": {
    "id": "8eX7d9693QnF"
   },
   "source": [
    "6. Which elements of the form allow you to reflect on “Understanding and managing informational risk”?"
   ]
  },
  {
   "cell_type": "markdown",
   "metadata": {
    "id": "YDLkhPAt3Qj9"
   },
   "source": [
    "*Answer: Under “Datamagement”, questions are asked about who is responsible for datamanagement, and who will have access to the data, and how data is being made available.*"
   ]
  },
  {
   "cell_type": "markdown",
   "metadata": {
    "id": "VPdDju0f3QhH"
   },
   "source": [
    "7. Which elements of the form allow you to reflect on “Privacy”?"
   ]
  },
  {
   "cell_type": "markdown",
   "metadata": {
    "id": "Ou6jJucJ3QeI"
   },
   "source": [
    "*Answer: Under “Study details (I), there are questions about the use of existing data and if participants can be identified or re-identified, as well as whether it contains public behaviour or highly private information.*"
   ]
  },
  {
   "cell_type": "markdown",
   "metadata": {
    "id": "dUhW79eO3QbX"
   },
   "source": [
    "8. Which elements of the form allow you to reflect on “Making decisions in the face of uncertainty”?"
   ]
  },
  {
   "cell_type": "markdown",
   "metadata": {
    "id": "SGhCBepY3QYn"
   },
   "source": [
    "*Answer: The power analysis is part of question 5 under “Participants”.*"
   ]
  },
  {
   "cell_type": "markdown",
   "metadata": {
    "id": "IvlAWt1j3QV5"
   },
   "source": [
    "9. If you haven't filled in the PRIDE form yet for your group assignment, you might want to take a moment with your group to look into this together during the lab meeting. In case you already did fill it in, look whether you want to make some changes to the answers that you provided."
   ]
  },
  {
   "cell_type": "markdown",
   "metadata": {
    "id": "cD45fJ3O3QQP"
   },
   "source": [
    "## Assignment 3\n",
    "\n",
    "We have learned that data ethics also plays a role in the commercial domain. And that companies take measures are taken on the technological, individual and organizational level. We now explore what this means in practice at a large company such as L’oreal and we’ll dive in the information we can find online about this.\n",
    "\n",
    "Let’s explore the [code of ethics from L’oreal](https://www.loreal.com/-/media/project/loreal/brand-sites/corp/master/lcorp/2-group/governance-and-ethics/ethics-rework/code-of-ethics-2023/codeofethicseng.pdf?rev=765a100d8f904e0bbcf015ba95c1bdbe)."
   ]
  },
  {
   "cell_type": "markdown",
   "metadata": {
    "id": "Jpl8Z8N23QNh"
   },
   "source": [
    "1. What are the ethical principles that companies can use on a technological level?"
   ]
  },
  {
   "cell_type": "markdown",
   "metadata": {
    "id": "z5z8PSxk3QLL"
   },
   "source": [
    "*Answer: Transparency, accountability, fairness and nondiscrimination.*"
   ]
  },
  {
   "cell_type": "markdown",
   "metadata": {
    "id": "vv_jhEJ_3QIG"
   },
   "source": [
    "2. Has L’oreal formulated ethics principles on the technological level? What can you find?"
   ]
  },
  {
   "cell_type": "markdown",
   "metadata": {
    "id": "wd-lEVbn3QFO"
   },
   "source": [
    "*Answer:*\n",
    "- *Transparency is stated as one of their key design principles. They state they always need to be sincere and justify their actions. They also state to develop a culture of transparency, about ingredient use (which is probably the law). They also state that they are transparent in their science communication (also mention reproducibility here), and be transparent about their technology use. They explain how transparency and confidentiality are balanced.*\n",
    "- *Accountability is managed through the global ethics department and ethics correspondents who oversee what they call “Speak Up” investigations. A Speak Up seems to be a way to raise an ethical concern.*\n",
    "- *Fairness is mention with respect to the use of AI (p. 20), and also with respect to the selection criteria they use to select business partners. In addition, also when it comes to their HR policy.*\n",
    "- *Nondiscrimination is listed as one of  the human rights they are committed to respect. It is again mentioned in the context of consumers, the context of corruption within businesses and in HR.*  "
   ]
  },
  {
   "cell_type": "markdown",
   "metadata": {
    "id": "mHJE2yRt3QCw"
   },
   "source": [
    "3. What standards aim to guide individual employees in the commercial domain regarding ethics?"
   ]
  },
  {
   "cell_type": "markdown",
   "metadata": {
    "id": "Hf5UVroY3QAB"
   },
   "source": [
    "*Answer: Aspirational, advisory and disciplinary codes.*"
   ]
  },
  {
   "cell_type": "markdown",
   "metadata": {
    "id": "_aw6B2z23P9P"
   },
   "source": [
    "4. Has L’oreal set up any of these codes? What can you find?"
   ]
  },
  {
   "cell_type": "markdown",
   "metadata": {
    "id": "klx3A4yD3P6S"
   },
   "source": [
    "*Answer: None of these codes are mentioned explicitly, but it seems like “Speak Up” tries to cover this.*"
   ]
  },
  {
   "cell_type": "markdown",
   "metadata": {
    "id": "V4DvBMF_3P3E"
   },
   "source": [
    "5. What innovations can a company do on an organizational level?"
   ]
  },
  {
   "cell_type": "markdown",
   "metadata": {
    "id": "bewNfTdi3PgX"
   },
   "source": [
    "*Answer: Setting up an ethics board, hire ethicists within teams, install ethics communities, or have enforcement mechanisms such as structural accountability, reporting requirements and audits of those reports.*"
   ]
  },
  {
   "cell_type": "markdown",
   "metadata": {
    "id": "e44luAIg4Wyc"
   },
   "source": [
    "6. Has L’oreal implemented any of these innovations?"
   ]
  },
  {
   "cell_type": "markdown",
   "metadata": {
    "id": "XRChOQK74WtO"
   },
   "source": [
    "*Answer:*\n",
    "- *Setting up an ethics board.*\n",
    "- *Hire ethicists within design teams.*  \n",
    "- *Install ethics communities to monitor activities and advise on issues.*  \n",
    "- *Structural accountability within and beyond the firm.*   \n",
    "- *Reporting requirements.*  \n",
    "- *Auditing of reporting.*   "
   ]
  },
  {
   "cell_type": "markdown",
   "metadata": {
    "id": "P9oTo5kf4WlB"
   },
   "source": [
    "7. What is your overall evaluation of the code of ethics of L’oreal?"
   ]
  }
 ],
 "metadata": {
  "colab": {
   "provenance": []
  },
  "kernelspec": {
   "display_name": "Python 3",
   "name": "python3"
  },
  "language_info": {
   "name": "python"
  }
 },
 "nbformat": 4,
 "nbformat_minor": 0
}
