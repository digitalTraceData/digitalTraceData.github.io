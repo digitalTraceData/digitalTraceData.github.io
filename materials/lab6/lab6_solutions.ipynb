{
  "nbformat": 4,
  "nbformat_minor": 0,
  "metadata": {
    "colab": {
      "provenance": []
    },
    "kernelspec": {
      "name": "python3",
      "display_name": "Python 3"
    },
    "language_info": {
      "name": "python"
    }
  },
  "cells": [
    {
      "cell_type": "markdown",
      "source": [
        "# Lab week 6"
      ],
      "metadata": {
        "id": "rXM88pYV1gFR"
      }
    },
    {
      "cell_type": "markdown",
      "source": [
        "## Assignment 1"
      ],
      "metadata": {
        "id": "s4-kI72V1lap"
      }
    },
    {
      "cell_type": "markdown",
      "source": [
        "In the lecture of week 2 (on user-centric approaches), we discussed the Screenomics project. It was discussed in the paper by [Ohme et al. (2024)](https://doi.org/10.1080/19312458.2023.2181319). You can also search for more information about this project online or in multiple other research papers. In this assignment, we reflect on the four ethical principles (and four challenges) described by Salganik in [Bit by Bit Chapter 6](https://www.bitbybitbook.com/en/1st-ed/ethics/principles/).\n",
        "\n",
        "The first principle is “Respect for persons”."
      ],
      "metadata": {
        "id": "UYAyyXNP1lXj"
      }
    },
    {
      "cell_type": "markdown",
      "source": [
        "1. Describe in your own words what “Respect for persons” means."
      ],
      "metadata": {
        "id": "Dt0wy42J1lUs"
      }
    },
    {
      "cell_type": "markdown",
      "source": [
        "Crucial is that researchers need to obtain informed consent if possible in any way."
      ],
      "metadata": {
        "id": "uqFdPdGU1lR9"
      }
    },
    {
      "cell_type": "markdown",
      "source": [
        "2. To what extent do you think that the Screenomics project adheres to this principle?"
      ],
      "metadata": {
        "id": "dD5LmAPc1lO9"
      }
    },
    {
      "cell_type": "markdown",
      "source": [
        "There is no information about this in the paper by Ohme. You can assume that the participants at least got informed about what happens before the study starts and before they install the app, but once the app is working, it is unknown to what extent the participants know which screenshots are being shared, and also for wat research purposes these are being used."
      ],
      "metadata": {
        "id": "ccbsE3oR1lL9"
      }
    },
    {
      "cell_type": "markdown",
      "source": [
        "3. Can you think of any suggestions on how to improve their project here?"
      ],
      "metadata": {
        "id": "juOEmZAv1lI1"
      }
    },
    {
      "cell_type": "markdown",
      "source": [
        "It could for example be really nice if participants could have a dashboard where they can also see (a sample of) the screenshots collected about them or receive regular updates about the studies for which their data has been used."
      ],
      "metadata": {
        "id": "wyChN7Au1lF1"
      }
    },
    {
      "cell_type": "markdown",
      "source": [
        "4. What are three reasons why researchers might not be able to obtain informed consent?"
      ],
      "metadata": {
        "id": "TgD-Qky91lC-"
      }
    },
    {
      "cell_type": "markdown",
      "source": [
        "Increasing risk, compromising research goals, logistical limitations."
      ],
      "metadata": {
        "id": "tzg9NnDJ1lAG"
      }
    },
    {
      "cell_type": "markdown",
      "source": [
        "5. To what extent can these reasons play a role consent of in the Screenomics project? Give a potential explanation for every reason."
      ],
      "metadata": {
        "id": "YZt1oUU_1k9o"
      }
    },
    {
      "cell_type": "markdown",
      "source": [
        "Increasing risk: I don’t think this is relevant.\n",
        "\n",
        "Compromising research goals: if a consent form mentions explicitly that a sensitive feature will be derived from their data (for probability of having an eating disorder), people at risk might be less likely to participate.   Logistical limitations: I can also imagine that many of the research questions only come after first explorations of the data have been done, and that this is an ongoing process."
      ],
      "metadata": {
        "id": "qQf3DfoJ5bVA"
      }
    },
    {
      "cell_type": "markdown",
      "source": [
        "The second principle is “Beneficence”."
      ],
      "metadata": {
        "id": "U9YaQ5yY1k6o"
      }
    },
    {
      "cell_type": "markdown",
      "source": [
        "6. Describe in your own words what “Beneficence” means."
      ],
      "metadata": {
        "id": "AE_vkmio1k3-"
      }
    },
    {
      "cell_type": "markdown",
      "source": [
        "It means that you understand what is at risk for what people because of this study, and that you weigh this with respect to the benefits of the study, and search for an appropriate balance here."
      ],
      "metadata": {
        "id": "WCuiQm5Q1k1E"
      }
    },
    {
      "cell_type": "markdown",
      "source": [
        "7. To what extent do you think that the Screenomics project adheres to this principle?"
      ],
      "metadata": {
        "id": "uvWxu_ME1kyL"
      }
    },
    {
      "cell_type": "markdown",
      "source": [
        "They seem very private with their app and their data, so they definitely understand there are huge privacy risks if that data would become public. However, it is not clear if researchers interested in using the data for example get to see the raw screenshots or if that is protected in any way."
      ],
      "metadata": {
        "id": "wbTElqpp1kvB"
      }
    },
    {
      "cell_type": "markdown",
      "source": [
        "8. Can you think of any suggestions on how to improve their project here?"
      ],
      "metadata": {
        "id": "ygA2N_J61ksJ"
      }
    },
    {
      "cell_type": "markdown",
      "source": [
        "A good idea would for example be to only have a small core group of researchers having access to the raw data, and that they for example do classifications of the screenshots on topics of interest to other researchers, and that they give out those kinds of datasets, and never the raw screenshots."
      ],
      "metadata": {
        "id": "_UP3GvL91kp0"
      }
    },
    {
      "cell_type": "markdown",
      "source": [
        "9. What is the potential harm for participants if their data in the Screenomics project is disclosed?"
      ],
      "metadata": {
        "id": "5gbbOVJN1km3"
      }
    },
    {
      "cell_type": "markdown",
      "source": [
        "Many things can be disclosed, their private messages can disclose a lot of sensitive information, being on dating apps, what people search for online, potential diseases or mental health issues. Private meetings in their calendar, calls, also “official” information such as banking information or government information if this can be accessed through an app or website."
      ],
      "metadata": {
        "id": "sfmXyIpw1kjd"
      }
    },
    {
      "cell_type": "markdown",
      "source": [
        "10. How could data from the Screenomics project be made available to other researchers you think?"
      ],
      "metadata": {
        "id": "hSsV84qW1kg_"
      }
    },
    {
      "cell_type": "markdown",
      "source": [
        "Raw screenshots can probably never be shared, only if they are highly redacted and to a selected group of researchers, probably only in a secure environment. Aggregated of the data (processed to classifications for example) could be made available to a wider audience, but likely never completely public."
      ],
      "metadata": {
        "id": "c4auZUTB5-wP"
      }
    },
    {
      "cell_type": "markdown",
      "source": [
        "The third principle is “Justice”."
      ],
      "metadata": {
        "id": "zdr92Ie91kcy"
      }
    },
    {
      "cell_type": "markdown",
      "source": [
        "11. Describe in your own words what “Justice” means."
      ],
      "metadata": {
        "id": "CvyJe2qB1kZB"
      }
    },
    {
      "cell_type": "markdown",
      "source": [
        "Justice is about ensuring that the risks and benefits of the study are distributed."
      ],
      "metadata": {
        "id": "4zio-5OY1kIg"
      }
    },
    {
      "cell_type": "markdown",
      "source": [
        "12. To what extent do you think that the Screenomics project adheres to this principle?"
      ],
      "metadata": {
        "id": "pS0UyNrF2xlK"
      }
    },
    {
      "cell_type": "markdown",
      "source": [
        "There are two important aspects here. The first is that vulnerable people should be protected from researchers. From the paper, it is unclear whether any measures were taken to prevent this. Second, compensation is important. It is also now known whether participants were compensated based on the paper."
      ],
      "metadata": {
        "id": "Y7DB-dzy2xia"
      }
    },
    {
      "cell_type": "markdown",
      "source": [
        "13. Can you think of any suggestions on how to improve their project here?"
      ],
      "metadata": {
        "id": "BfJYLdQf2xfY"
      }
    },
    {
      "cell_type": "markdown",
      "source": [
        "A decent monetary compensation would make sense for the effort of installing an app and also running that app for the duration of the study. Vulnerable people is a more challenging topic, because it seems like the project did not make explicit in advance on what topics they would do research using the data, and it also looked like new projects keep emerging. So it is also hard to determine in advance vulnerable with respect to what?"
      ],
      "metadata": {
        "id": "4l_IoD1b2xcT"
      }
    },
    {
      "cell_type": "markdown",
      "source": [
        "The final principle is “Respect for law and public interest”."
      ],
      "metadata": {
        "id": "tqXKL-Vj2xZT"
      }
    },
    {
      "cell_type": "markdown",
      "source": [
        "14. Describe in your own words what “Respect for law and public interest” means."
      ],
      "metadata": {
        "id": "R7JditVh2xWZ"
      }
    },
    {
      "cell_type": "markdown",
      "source": [
        "This consists of compliance with law and also transparency-based accountability."
      ],
      "metadata": {
        "id": "D9JcGEEv2xTU"
      }
    },
    {
      "cell_type": "markdown",
      "source": [
        "15. To what extent do you think that the Screenomics project adheres to this principle?"
      ],
      "metadata": {
        "id": "6wJGOinL2xQd"
      }
    },
    {
      "cell_type": "markdown",
      "source": [
        "I cannot think of any legislation they are not complicit with. However, it seems like they come up with new research projects after the data has been collected, so they should keep their participants informed on these developments."
      ],
      "metadata": {
        "id": "NC4_oqxk2xNn"
      }
    },
    {
      "cell_type": "markdown",
      "source": [
        "16. Can you think of any suggestions on how to improve their project here?"
      ],
      "metadata": {
        "id": "v9C8TsD62xK-"
      }
    },
    {
      "cell_type": "markdown",
      "source": [
        "The app that is being used to make the screenshots could maybe also occasionally send updates the participants when their data is being used for certain studies. Or a generic project website can help with this as well.  "
      ],
      "metadata": {
        "id": "IbLw4cvG2xID"
      }
    },
    {
      "cell_type": "markdown",
      "source": [
        "17. What are the three parameters of contextual integrity?"
      ],
      "metadata": {
        "id": "_hj-OZho2xE3"
      }
    },
    {
      "cell_type": "markdown",
      "source": [
        "Actors, Attributes and Transmission principles."
      ],
      "metadata": {
        "id": "ayzXc0Me2xBj"
      }
    },
    {
      "cell_type": "markdown",
      "source": [
        "18. How do you expect the information of the Screenomics project to flow?"
      ],
      "metadata": {
        "id": "McQb3I9l2wuV"
      }
    },
    {
      "cell_type": "markdown",
      "source": [
        "All screenshots [attributes] can be accessed by a limited group of selected researchers [actors] for use of different research project to the oversight of the Screenomics team [transmission principles]."
      ],
      "metadata": {
        "id": "Rap31pqC3RJ-"
      }
    },
    {
      "cell_type": "markdown",
      "source": [
        "## Assignment 2\n",
        "\n",
        "As part of the first group assignment, you have filled in the [PRIDE](https://ferb.sites.uu.nl/wp-content/uploads/sites/432/2020/12/PRIDE-Questionnaire-for-approval-Single-Study.docx) form from the FETC. In this assignment, we reflect on how the principles and challenges discussed are represented in the PRIDE form."
      ],
      "metadata": {
        "id": "ixIx6Hdn3RG2"
      }
    },
    {
      "cell_type": "markdown",
      "source": [
        "1. Which elements of the form allow you to reflect on the principle “Respect for persons”?"
      ],
      "metadata": {
        "id": "5PonuN7u3RD-"
      }
    },
    {
      "cell_type": "markdown",
      "source": [
        "Under study details (II), questions are asked about whether the participants are old enough, mentally competent, etc.\n",
        "\n",
        "Also, questions about in and exclusion criteria of participants, time to think about participation, termination of participation and dependency on the researcher are asked under “Participants”.   "
      ],
      "metadata": {
        "id": "vmPPXK6E3RBH"
      }
    },
    {
      "cell_type": "markdown",
      "source": [
        "2. Which elements of the form allow you to reflect on the principle “Beneficence”?"
      ],
      "metadata": {
        "id": "iLLV4cY23Q-Q"
      }
    },
    {
      "cell_type": "markdown",
      "source": [
        "Under study details (II), the researcher is asked to compare the risks that can come from this study to risks in everyday life. Also, yes/no questions tick off many types of questions that can pose risks to the participants."
      ],
      "metadata": {
        "id": "dQM4-l3h3Q7Y"
      }
    },
    {
      "cell_type": "markdown",
      "source": [
        "3. Which elements of the form allow you to reflect on the principle “Justice”?"
      ],
      "metadata": {
        "id": "RUdPCWCf3Q4i"
      }
    },
    {
      "cell_type": "markdown",
      "source": [
        "Under “Participants” it is asked what the investment of the participants is and how they are being compensated for this, and whether the compensation is conditional."
      ],
      "metadata": {
        "id": "5vChAfMf3Q1i"
      }
    },
    {
      "cell_type": "markdown",
      "source": [
        "4. Which elements of the form allow you to reflect on the principle “Respect for law and public interest”?"
      ],
      "metadata": {
        "id": "Syxn4xyn3Qyz"
      }
    },
    {
      "cell_type": "markdown",
      "source": [
        "There is no question in the form explicitly focussing on this."
      ],
      "metadata": {
        "id": "WwAb7EZM3Qvz"
      }
    },
    {
      "cell_type": "markdown",
      "source": [
        "5. Which elements of the form allow you to reflect on “Informed consent”?"
      ],
      "metadata": {
        "id": "9pAAjbpv3Qs8"
      }
    },
    {
      "cell_type": "markdown",
      "source": [
        "Under study details (II) it is asked if participants provide active informed consent."
      ],
      "metadata": {
        "id": "sT1V4sry3QqF"
      }
    },
    {
      "cell_type": "markdown",
      "source": [
        "6. Which elements of the form allow you to reflect on “Understanding and managing informational risk”?"
      ],
      "metadata": {
        "id": "8eX7d9693QnF"
      }
    },
    {
      "cell_type": "markdown",
      "source": [
        "Under “Datamagement”, questions are asked about who is responsible for datamanagement, and who will have access to the data, and how data is being made available."
      ],
      "metadata": {
        "id": "YDLkhPAt3Qj9"
      }
    },
    {
      "cell_type": "markdown",
      "source": [
        "7. Which elements of the form allow you to reflect on “Privacy”?"
      ],
      "metadata": {
        "id": "VPdDju0f3QhH"
      }
    },
    {
      "cell_type": "markdown",
      "source": [
        "Under “Study details (I), there are questions about the use of existing data and if participants can be identified or re-identified, as well as whether it contains public behaviour or highly private information."
      ],
      "metadata": {
        "id": "Ou6jJucJ3QeI"
      }
    },
    {
      "cell_type": "markdown",
      "source": [
        "8. Which elements of the form allow you to reflect on “Making decisions in the face of uncertainty”?"
      ],
      "metadata": {
        "id": "dUhW79eO3QbX"
      }
    },
    {
      "cell_type": "markdown",
      "source": [
        "The power analysis is part of question 5 under “Participants”."
      ],
      "metadata": {
        "id": "SGhCBepY3QYn"
      }
    },
    {
      "cell_type": "markdown",
      "source": [
        "9. After you learned more about ethics this week, are there any changes you want to make to the answers that you provided in the PRIDE form submitted for your group assignment? If yes, what are those changes?"
      ],
      "metadata": {
        "id": "IvlAWt1j3QV5"
      }
    },
    {
      "cell_type": "markdown",
      "source": [],
      "metadata": {
        "id": "EuwJSXWQ3QTH"
      }
    },
    {
      "cell_type": "markdown",
      "source": [
        "## Assignment 3\n",
        "\n",
        "We have learned that data ethics also plays a role in the commercial domain. And that companies take measures are taken on the technological, individual and organizational level. We now explore what this means in practice at a large company such as L’oreal and we’ll dive in the information we can find online about this.\n",
        "\n",
        "Let’s explore the [code of ethics from L’oreal](https://www.loreal.com/-/media/project/loreal/brand-sites/corp/master/lcorp/2-group/governance-and-ethics/ethics-rework/code-of-ethics-2023/codeofethicseng.pdf?rev=765a100d8f904e0bbcf015ba95c1bdbe)."
      ],
      "metadata": {
        "id": "cD45fJ3O3QQP"
      }
    },
    {
      "cell_type": "markdown",
      "source": [
        "1. What are the ethical principles that companies can use on a technological level?"
      ],
      "metadata": {
        "id": "Jpl8Z8N23QNh"
      }
    },
    {
      "cell_type": "markdown",
      "source": [
        "Transparency, accountability, fairness and nondiscrimination."
      ],
      "metadata": {
        "id": "z5z8PSxk3QLL"
      }
    },
    {
      "cell_type": "markdown",
      "source": [
        "2. Has L’oreal formulated ethics principles on the technological level? What can you find?"
      ],
      "metadata": {
        "id": "vv_jhEJ_3QIG"
      }
    },
    {
      "cell_type": "markdown",
      "source": [
        "- Transparency is stated as one of their key design principles. They state they always need to be sincere and justify their actions. They also state to develop a culture of transparency, about ingredient use (which is probably the law). They also state that they are transparent in their science communication (also mention reproducibility here), and be transparent about their technology use. They explain how transparency and confidentiality are balanced.\n",
        "- Accountability is managed through the global ethics department and ethics correspondents who oversee what they call “Speak Up” investigations. A Speak Up seems to be a way to raise an ethical concern.\n",
        "- Fairness is mention with respect to the use of AI (p. 20), and also with respect to the selection criteria they use to select business partners. In addition, also when it comes to their HR policy.\n",
        "- Nondiscrimination is listed as one of  the human rights they are committed to respect. It is again mentioned in the context of consumers, the context of corruption within businesses and in HR.   "
      ],
      "metadata": {
        "id": "wd-lEVbn3QFO"
      }
    },
    {
      "cell_type": "markdown",
      "source": [
        "3. What standards aim to guide individual employees in the commercial domain regarding ethics?"
      ],
      "metadata": {
        "id": "mHJE2yRt3QCw"
      }
    },
    {
      "cell_type": "markdown",
      "source": [
        "Aspirational, advisory and disciplinary codes."
      ],
      "metadata": {
        "id": "Hf5UVroY3QAB"
      }
    },
    {
      "cell_type": "markdown",
      "source": [
        "4. Has L’oreal set up any of these codes? What can you find?"
      ],
      "metadata": {
        "id": "_aw6B2z23P9P"
      }
    },
    {
      "cell_type": "markdown",
      "source": [
        "None of these codes are mentioned explicitly, but it seems like “Speak Up” tries to cover this."
      ],
      "metadata": {
        "id": "klx3A4yD3P6S"
      }
    },
    {
      "cell_type": "markdown",
      "source": [
        "5. What innovations can a company do on an organizational level?"
      ],
      "metadata": {
        "id": "V4DvBMF_3P3E"
      }
    },
    {
      "cell_type": "markdown",
      "source": [
        "Setting up an ethics board, hire ethicists within teams, install ethics communities, or have enforcement mechanisms such as structural accountability, reporting requirements and audits of those reports."
      ],
      "metadata": {
        "id": "bewNfTdi3PgX"
      }
    },
    {
      "cell_type": "markdown",
      "source": [
        "6. Has L’oreal implemented any of these innovations?"
      ],
      "metadata": {
        "id": "e44luAIg4Wyc"
      }
    },
    {
      "cell_type": "markdown",
      "source": [
        "- Setting up an ethics board.  \n",
        "- Hire ethicists within design teams.  \n",
        "- Install ethics communities to monitor activities and advise on issues.  \n",
        "- Structural accountability within and beyond the firm.   \n",
        "- Reporting requirements.  \n",
        "- Auditing of reporting.   "
      ],
      "metadata": {
        "id": "XRChOQK74WtO"
      }
    },
    {
      "cell_type": "markdown",
      "source": [
        "7. What is your overall evaluation of the code of ethics of L’oreal?"
      ],
      "metadata": {
        "id": "P9oTo5kf4WlB"
      }
    }
  ]
}