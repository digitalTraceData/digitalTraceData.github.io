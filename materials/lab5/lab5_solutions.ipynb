{
 "cells": [
  {
   "cell_type": "markdown",
   "metadata": {
    "id": "VlBL8hRUjmRh"
   },
   "source": [
    "# Digital Trace Data - Lab 5: Digital Trace Data and AI\n",
    "\n",
    "In this week's lab, we will explore how to apply machine learning (ML) techniques to digital trace data, focusing on text data.\n",
    "\n",
    "This lab consists of four main parts:\n",
    "\n",
    "1. Examining power relations in the use of Machine Learning (ML) in society:\n",
    "    In this step, you will reflect on the benefits, biases and harms of the use of ML for predictive policing.\n",
    "2. Using a ML model to Label Text.\n",
    "    In this step, we will use a Natural Language Processing model (like chatGPT) to automatically label or categorize comments from Reddit. Transformer models are particularly powerful for understanding the context of text due to their ability to capture long-range dependencies between words. Specifically, you will:\n",
    "* Input digital trace text data into the transformer model: We will use pre-trained models that have been fine-tuned for specific tasks, such as sentiment analysis, topic categorization, or keyword extraction.\n",
    "* Generate predictions: The model will assign labels to the text based on its training. These labels will indicate hate (hate, not hate) or sentiment (positive, negative, neutral).\n",
    "3. Reflecting on the origin of the biases on that ML model \n",
    "4. Auditing the ML Model:\n",
    "    Auditing a machine learning model is crucial to ensuring that it is fair, transparent, and reliable. In this step, we will evaluate where the model perform better or worse depending on the gender of the user commentingo on Reddit.\n",
    "        \n",
    "By the end of the lab, you will have hands-on experience applying state-of-the-art AI models to digital trace data and conducting an  audit of their performance and fairness."
   ]
  },
  {
   "cell_type": "markdown",
   "metadata": {
    "id": "49e5620b"
   },
   "source": [
    "# PART 1: Examining power\n",
    "Predictive policing tools are increasingly used (including in the Netherlands). These systems are often trained on historical crime data and sometimes on personal data.* Note: The use of personal data for predictive policing has recently been banned in the EU.*\n",
    "\n",
    "\n",
    "First watch the video in the classroom. Spend ~10 minutes in the group discussion before plenary discussion.\n"
   ]
  },
  {
   "cell_type": "markdown",
   "metadata": {},
   "source": [
    "\n",
    "[![Predictive policing](https://img.youtube.com/vi/JkUrvZVbPeU/0.jpg)](https://www.youtube.com/watch?v=JkUrvZVbPeU)"
   ]
  },
  {
   "cell_type": "markdown",
   "metadata": {},
   "source": [
    "\n",
    "### 1.1. Why could be the ML models biased/unfair?\n",
    "* Sample bias: Is the training data representative, or does it mostly reflect over-policed communities?\n",
    "* Outcome/label bias: Are we predicting “crime” or “arrests”? Do these labels capture reality fairly?\n",
    "* Feature bias: Do variables (e.g., zip code, arrest history) act as proxies for race or class?\n",
    "* Pipeline bias: Are the preprocessing, model design, or evaluation choices introducing skew?\n",
    "* Application bias: How might the deployment of predictions reinforce existing inequalities?\n",
    "\n",
    "### 1.2. Who is involved in creating predictive policing algorithms?\n",
    "* Think about who is involved and their characteristics: police departments, governments, tech companies, citizens, and communities.\n",
    "\n",
    "### 1.3. What are the assumptions underlying predictive policing? Whose interests are prioritized matter?\n",
    "* Assumptions about the use of public money\n",
    "* Whose goals are prioritized (e.g., efficiency of policing, state control)?\n",
    "* Who might be overlooked or harmed (e.g., marginalized communities, people subject to surveillance)?\n",
    "\n",
    "### 1.4. Who benefits from predictive policing:\n",
    "* What potential benefits are claimed (crime prevention, resource allocation, efficiency)?\n",
    "* What harms or risks come with biased predictions (reinforcing racism, loss of trust, over-policing)?\n",
    "\n",
    "### 1.5. Do you think the benefits outweigh the biases, or not?"
   ]
  },
  {
   "cell_type": "markdown",
   "metadata": {
    "id": "b7fCrfz9URzn"
   },
   "source": [
    "Answer:\n",
    "\n",
    "1. Why could the ML models be biased/unfair?\n",
    "- Sample bias: Training data reflect where police patrolled more in the past → over-represents poor/minority neighborhoods.\n",
    "- Outcome/label bias: Systems predict arrests, not actual crime → equates “being arrested” with “being criminal.”\n",
    "- Feature bias: Features like postcode, prior arrests, or 112 calls act as proxies for race, class, or neighborhood stigma.\n",
    "- Pipeline bias: Choices in cleaning, weighting, and evaluation can systematically favor certain outcomes.\n",
    "- Application bias: More patrols → more arrests → more biased data → a feedback loop of over-policing.\n",
    "\n",
    "2. Who is involved in creating predictive policing algorithms?\n",
    "- Police departments: Provide crime and arrest data; seek efficiency and justification for resource allocation. Typically not the subjects of predictive policing.\n",
    "- Governments: Fund and legitimize projects; motivated by “public safety” agendas. Typically not the subjects of predictive policing.\n",
    "- Tech companies: Build and sell predictive systems; prioritize profit, market expansion, and reputation. Typically not the subjects of predictive policing.\n",
    "- Citizens and communities: Often not involved.\n",
    "\n",
    "3. What are the assumptions and whose interests are prioritized?\n",
    "- Assumptions:\n",
    "  - Historical data is a reliable proxy for future crime.\n",
    "  - Crime is best addressed through policing, not social programs.\n",
    "  \n",
    "- Prioritized interests:\n",
    "  - State control and police efficiency.\n",
    "  - Tech companies’ profits.\n",
    "\n",
    "- Overlooked:\n",
    "  - Root causes of crime (poverty, inequality).\n",
    "  - Civil liberties and trust of marginalized communities.\n",
    "\n",
    "4. Who benefits vs. who is harmed?\n",
    "\n",
    "- Claimed benefits:\n",
    "  - More efficient allocation of police resources.\n",
    "  - Possible deterrence of crime.\n",
    "  - “Objective,” data-driven policing.\n",
    "\n",
    "- Harms/risks:\n",
    "  - Reinforces systemic racism and class bias.\n",
    "  - Increased surveillance of poor and minority groups.\n",
    "  - Loss of privacy and autonomy.\n",
    "  - Public trust in police erodes.\n",
    "\n"
   ]
  },
  {
   "cell_type": "markdown",
   "metadata": {
    "id": "w1YVUR5imPc7"
   },
   "source": [
    "## Part 2: Labeling data - Example of Hate Speech"
   ]
  },
  {
   "cell_type": "markdown",
   "metadata": {
    "id": "_LPnJGs5jtkB"
   },
   "source": [
    "Hate speech is defined\n",
    "as a \"direct and serious attack on any protected category of people based on their\n",
    "race, ethnicity, national origin, religion, sex, gender, sexual orientation, disability\n",
    "or disease\" [[ref]](https://ojs.aaai.org/index.php/ICWSM/article/view/150410).\n",
    "\n",
    "In this part, we will analyze data from three subreddits and will try classifying their comments to check whether it is hate speech or not. The three subreddits are\n",
    "\n",
    "- *dsa*: A subreddit dedicated to discussions related to the Democratic Socialists of America (DSA)\n",
    "- *thenewright*: A subreddit centered around discussions of right-wing political ideologies\n",
    "- *statistics*: A subreddit for discussions and questions related to the field of statistics\n",
    "\n",
    "\n",
    "If you are interested in how we cleaned the data, this is [here](https://colab.research.google.com/github/digitalTraceData/digitalTraceData.github.io/blob/main/materials/lab5/lab5_clean_reddit_data.ipynb)\n",
    "\n",
    "First, download the csv files for the three subreddits from the link on the blackboard"
   ]
  },
  {
   "cell_type": "markdown",
   "metadata": {
    "id": "tspUiEZNnTh7"
   },
   "source": [
    "### 2.1 Open on of the csv files on your computer. Explain what the different variables (*author*, *body*, *controversiality*, *score*, and *created_utc*) mean? Which comment has the lowest/highest score?"
   ]
  },
  {
   "cell_type": "markdown",
   "metadata": {
    "id": "jYH0f9scnTBO"
   },
   "source": [
    "Let's first load the files from these subreddits into Python. To do so, as done in the previous weeks, upload the files to Colab and replace the placeholders below by the actual paths."
   ]
  },
  {
   "cell_type": "code",
   "execution_count": 1,
   "metadata": {
    "id": "wdFB4NiklTxM"
   },
   "outputs": [
    {
     "data": {
      "text/html": [
       "<div>\n",
       "<style scoped>\n",
       "    .dataframe tbody tr th:only-of-type {\n",
       "        vertical-align: middle;\n",
       "    }\n",
       "\n",
       "    .dataframe tbody tr th {\n",
       "        vertical-align: top;\n",
       "    }\n",
       "\n",
       "    .dataframe thead th {\n",
       "        text-align: right;\n",
       "    }\n",
       "</style>\n",
       "<table border=\"1\" class=\"dataframe\">\n",
       "  <thead>\n",
       "    <tr style=\"text-align: right;\">\n",
       "      <th></th>\n",
       "      <th>author</th>\n",
       "      <th>body</th>\n",
       "      <th>controversiality</th>\n",
       "      <th>score</th>\n",
       "      <th>created_utc</th>\n",
       "    </tr>\n",
       "  </thead>\n",
       "  <tbody>\n",
       "    <tr>\n",
       "      <th>0</th>\n",
       "      <td>kschromer90</td>\n",
       "      <td>Waaah he wanted the money I agreed to pay waaa...</td>\n",
       "      <td>0</td>\n",
       "      <td>-88</td>\n",
       "      <td>1.595534e+09</td>\n",
       "    </tr>\n",
       "    <tr>\n",
       "      <th>1</th>\n",
       "      <td>chicago-matt</td>\n",
       "      <td>She should be afraid because it’s clear she co...</td>\n",
       "      <td>0</td>\n",
       "      <td>-76</td>\n",
       "      <td>1.563545e+09</td>\n",
       "    </tr>\n",
       "    <tr>\n",
       "      <th>2</th>\n",
       "      <td>darbster29</td>\n",
       "      <td>Why do leftists hate people who have succeeded...</td>\n",
       "      <td>0</td>\n",
       "      <td>-69</td>\n",
       "      <td>1.548965e+09</td>\n",
       "    </tr>\n",
       "    <tr>\n",
       "      <th>3</th>\n",
       "      <td>HateVent</td>\n",
       "      <td>So many filthy little leeches in here who want...</td>\n",
       "      <td>0</td>\n",
       "      <td>-67</td>\n",
       "      <td>1.548984e+09</td>\n",
       "    </tr>\n",
       "    <tr>\n",
       "      <th>4</th>\n",
       "      <td>toxicbroforce</td>\n",
       "      <td>But I thought you people supported equal rights?</td>\n",
       "      <td>0</td>\n",
       "      <td>-66</td>\n",
       "      <td>1.595533e+09</td>\n",
       "    </tr>\n",
       "  </tbody>\n",
       "</table>\n",
       "</div>"
      ],
      "text/plain": [
       "          author                                               body  \\\n",
       "0    kschromer90  Waaah he wanted the money I agreed to pay waaa...   \n",
       "1   chicago-matt  She should be afraid because it’s clear she co...   \n",
       "2     darbster29  Why do leftists hate people who have succeeded...   \n",
       "3       HateVent  So many filthy little leeches in here who want...   \n",
       "4  toxicbroforce   But I thought you people supported equal rights?   \n",
       "\n",
       "   controversiality  score   created_utc  \n",
       "0                 0    -88  1.595534e+09  \n",
       "1                 0    -76  1.563545e+09  \n",
       "2                 0    -69  1.548965e+09  \n",
       "3                 0    -67  1.548984e+09  \n",
       "4                 0    -66  1.595533e+09  "
      ]
     },
     "execution_count": 1,
     "metadata": {},
     "output_type": "execute_result"
    }
   ],
   "source": [
    "import pandas as pd\n",
    "\n",
    "# Read the files\n",
    "dsa = pd.read_csv(\"dsa.csv.gz\", compression=\"gzip\")\n",
    "thenewright = pd.read_csv(\"thenewright.csv.gz\", compression=\"gzip\")\n",
    "statistics = pd.read_csv(\"statistics.csv.gz\", compression=\"gzip\")\n",
    "\n",
    "\n",
    "# Showing how the data looks like\n",
    "dsa.head()"
   ]
  },
  {
   "cell_type": "markdown",
   "metadata": {},
   "source": [
    "Answer:\n",
    "\n",
    "- *author*: Comment's author\n",
    "- *body*: Text of the comment\n",
    "- *controversiality*: Controversiality score (0 to 1)\n",
    "- *score*: original score by reddit (-449 to 1.47*10^9)\n",
    "- *created_utc*: Time & date of creation"
   ]
  },
  {
   "cell_type": "markdown",
   "metadata": {
    "id": "0qGizeIVs0ry"
   },
   "source": [
    "Next, we will use a machine learning model from [huggingface.co](https://huggingface.co/Hate-speech-CNERG/dehatebert-mono-english) to classify the content of the comments into hate-speech or non-hate-speech.\n",
    "\n",
    "The code below first loads the pre-trained classification model from [huggingface.co](https://huggingface.co/Hate-speech-CNERG/dehatebert-mono-english) and then applies it to a sample of the data of a specified size (`sample_size` argument). The model requires the comments to be at most 512 characters, so we first truncate comments to their first 512 characters. The model provides a label (HATE/NON_HATE) and a probability of the label. "
   ]
  },
  {
   "cell_type": "code",
   "execution_count": 25,
   "metadata": {
    "id": "aA8kPYtxuMl6"
   },
   "outputs": [],
   "source": [
    "from transformers import pipeline\n",
    "from transformers.utils import logging as hf_logging\n",
    "hf_logging.set_verbosity_error()  # suppress warning\n",
    "\n",
    "def _pick_prob(all_scores, wanted_label_lower):\n",
    "    # all_scores: list of dicts like [{\"label\": \"negative\", \"score\": 0.72}, ...]\n",
    "    for d in all_scores:\n",
    "        if d[\"label\"].lower().startswith(wanted_label_lower):\n",
    "            return float(d[\"score\"])\n",
    "    # fallback if labels are like LABEL_0, etc. (won't happen for Cardiff/CNERG)\n",
    "    return 0.0\n",
    "\n",
    "def classify_comment(pipe, comments, target=\"auto\"):\n",
    "    \"\"\"\n",
    "    Returns a probability in [0,1] suitable as a risk/negative score:\n",
    "      - For Cardiff sentiment -> P(negative)\n",
    "      - For hate-speech models -> P(HATE)\n",
    "    \"\"\"\n",
    "    # Let the tokenizer handle length; batch for speed\n",
    "    results = pipe(\n",
    "        comments,\n",
    "        top_k=None,\n",
    "        truncation=True,\n",
    "        padding=True,\n",
    "        max_length=512,\n",
    "        batch_size=32,\n",
    "    )\n",
    "\n",
    "    probs = []\n",
    "    for rs in results:\n",
    "        labels = [r[\"label\"].lower() for r in rs]\n",
    "        if target == \"auto\":\n",
    "            # heuristics: if model has \"negative\", use that; else look for \"hate\"\n",
    "            tgt = \"negative\" if \"negative\" in labels else \"hate\"\n",
    "        else:\n",
    "            tgt = target.lower()\n",
    "        probs.append(_pick_prob(rs, tgt))\n",
    "    return probs\n",
    "\n",
    "def label_data(\n",
    "    data,\n",
    "    sample_size=1000,\n",
    "    model_name=\"cardiffnlp/twitter-roberta-base-sentiment-latest\",\n",
    "    random_state=123,\n",
    "):\n",
    "    \n",
    "    pipe = pipeline(\"text-classification\", model=model_name, device=0)\n",
    "    print(pipe.model.config.id2label)\n",
    "\n",
    "    sample = data.sample(n=sample_size, replace=False, random_state=random_state).copy()\n",
    "    # Choose target automatically based on model labels\n",
    "    sample[\"hate_score\"] = classify_comment(pipe, list(sample[\"body\"]), target=\"auto\")\n",
    "\n",
    "    return sample\n"
   ]
  },
  {
   "cell_type": "markdown",
   "metadata": {
    "id": "5X2upYdxo9Ry"
   },
   "source": [
    "### 2.2 Apply the `label_data` function to the data from the three subreddits using the defaults.\n",
    "\n",
    "Name them `df_tnr_label`, `df_stats_label`, `df_dsa_label`.\n",
    "\n",
    "The code is written below, you could increase teh sample_size but it will take a long time to run.\n"
   ]
  },
  {
   "cell_type": "code",
   "execution_count": 8,
   "metadata": {
    "colab": {
     "base_uri": "https://localhost:8080/"
    },
    "id": "YrWaZAy3lmUR",
    "outputId": "f3f2d1d6-f119-42ff-e5d8-493589a8e363"
   },
   "outputs": [
    {
     "name": "stderr",
     "output_type": "stream",
     "text": [
      "Xet Storage is enabled for this repo, but the 'hf_xet' package is not installed. Falling back to regular HTTP download. For better performance, install the package with: `pip install huggingface_hub[hf_xet]` or `pip install hf_xet`\n",
      "Xet Storage is enabled for this repo, but the 'hf_xet' package is not installed. Falling back to regular HTTP download. For better performance, install the package with: `pip install huggingface_hub[hf_xet]` or `pip install hf_xet`\n",
      "Device set to use mps:0\n",
      "Device set to use mps:0\n",
      "Device set to use mps:0\n"
     ]
    }
   ],
   "source": [
    "# Labeling the data\n",
    "df_tnr_label = label_data(thenewright, model_name=\"Hate-speech-CNERG/dehatebert-mono-english\")\n",
    "df_stats_label = label_data(statistics, model_name=\"Hate-speech-CNERG/dehatebert-mono-english\")\n",
    "df_dsa_label = label_data(dsa, model_name=\"Hate-speech-CNERG/dehatebert-mono-english\")"
   ]
  },
  {
   "cell_type": "code",
   "execution_count": 8,
   "metadata": {},
   "outputs": [
    {
     "data": {
      "text/html": [
       "<div>\n",
       "<style scoped>\n",
       "    .dataframe tbody tr th:only-of-type {\n",
       "        vertical-align: middle;\n",
       "    }\n",
       "\n",
       "    .dataframe tbody tr th {\n",
       "        vertical-align: top;\n",
       "    }\n",
       "\n",
       "    .dataframe thead th {\n",
       "        text-align: right;\n",
       "    }\n",
       "</style>\n",
       "<table border=\"1\" class=\"dataframe\">\n",
       "  <thead>\n",
       "    <tr style=\"text-align: right;\">\n",
       "      <th></th>\n",
       "      <th>author</th>\n",
       "      <th>body</th>\n",
       "      <th>controversiality</th>\n",
       "      <th>score</th>\n",
       "      <th>created_utc</th>\n",
       "      <th>hate_score</th>\n",
       "    </tr>\n",
       "  </thead>\n",
       "  <tbody>\n",
       "    <tr>\n",
       "      <th>57718</th>\n",
       "      <td>Alantuktuk</td>\n",
       "      <td>What do you think about subsidizing coal plant...</td>\n",
       "      <td>0</td>\n",
       "      <td>1</td>\n",
       "      <td>1509673320</td>\n",
       "      <td>0.030362</td>\n",
       "    </tr>\n",
       "    <tr>\n",
       "      <th>51187</th>\n",
       "      <td>thebeardedlady0</td>\n",
       "      <td>What type of disability do you have?</td>\n",
       "      <td>0</td>\n",
       "      <td>1</td>\n",
       "      <td>1552846384</td>\n",
       "      <td>0.023545</td>\n",
       "    </tr>\n",
       "    <tr>\n",
       "      <th>89886</th>\n",
       "      <td>PancakesAndAss</td>\n",
       "      <td>Only two people post on this sub, and they jus...</td>\n",
       "      <td>0</td>\n",
       "      <td>2</td>\n",
       "      <td>1544042893</td>\n",
       "      <td>0.449177</td>\n",
       "    </tr>\n",
       "    <tr>\n",
       "      <th>113681</th>\n",
       "      <td>[deleted]</td>\n",
       "      <td>[removed]</td>\n",
       "      <td>0</td>\n",
       "      <td>6</td>\n",
       "      <td>1501724069</td>\n",
       "      <td>0.024507</td>\n",
       "    </tr>\n",
       "    <tr>\n",
       "      <th>51041</th>\n",
       "      <td>CompDuLac</td>\n",
       "      <td>What color are the women? Black and white are ...</td>\n",
       "      <td>0</td>\n",
       "      <td>1</td>\n",
       "      <td>1555278506</td>\n",
       "      <td>0.068654</td>\n",
       "    </tr>\n",
       "  </tbody>\n",
       "</table>\n",
       "</div>"
      ],
      "text/plain": [
       "                 author                                               body  \\\n",
       "57718        Alantuktuk  What do you think about subsidizing coal plant...   \n",
       "51187   thebeardedlady0               What type of disability do you have?   \n",
       "89886    PancakesAndAss  Only two people post on this sub, and they jus...   \n",
       "113681        [deleted]                                          [removed]   \n",
       "51041         CompDuLac  What color are the women? Black and white are ...   \n",
       "\n",
       "        controversiality  score  created_utc  hate_score  \n",
       "57718                  0      1   1509673320    0.030362  \n",
       "51187                  0      1   1552846384    0.023545  \n",
       "89886                  0      2   1544042893    0.449177  \n",
       "113681                 0      6   1501724069    0.024507  \n",
       "51041                  0      1   1555278506    0.068654  "
      ]
     },
     "execution_count": 8,
     "metadata": {},
     "output_type": "execute_result"
    }
   ],
   "source": [
    "# Showing how the labeled data looks like\n",
    "df_tnr_label.head()"
   ]
  },
  {
   "cell_type": "markdown",
   "metadata": {
    "id": "VFsFp3Z3lxb9"
   },
   "source": [
    "What is the comment with the highest hate score in each subreddit? (see code below for inspiration)"
   ]
  },
  {
   "cell_type": "markdown",
   "metadata": {
    "id": "nxDhhgw5lyLm"
   },
   "source": [
    "Answer:\n",
    "\n",
    "**Statistics**\n",
    "* 'You had me until Patriots. \\n\\nFuck the Pats, fuck Tom Brady, fuck Bill Belichick, go Mahomes',\n",
    "* 'Statisticians are too good to mingle with the philistines in Machine Learning, hey',\n",
    "* 'I really like the presentation, but I really want to slap to the idiot playing with the video camera.',\n",
    "\n",
    "**DSA**\n",
    "* 'Nah just rednecks who will never see a protest in their life are terrified. \\n\\nJust like they were terrified of Islamic extremists.',\n",
    "* 'Wow. This is truly disgusting. Equating the victims of a campaign of genocide with the perpetrators. Idc what you think of Hamas - they are the vanguard of the Resistance in Palestine; they are the ones the Palestinians have chosen to fight for their liberation. As such, they deserve our unqualified support. Otherwise you are \"both-sidesing\" genocide.',\n",
    "* 'Just blocked them. They’re all human filth so I’ll just keep convincing the people in my personal life to vot for Bernie instead. Thanks for the advice even though I knew this is what it would come to. My OCD makes it painful not to see new information',\n",
    "       \n",
    "**TNR**\n",
    "* 'Fuck that faggot fredo. \\n\\n-an Italian',\n",
    "* 'The one dude is now a professional builder or something, so yeah. This fat little lefty faggot is about 30-50 lbs overweight and living at home.',\n",
    "* \"Mexico deports illegal aliens, therefore, Mexicans are Nazis. The USA deports illegal aliens from Mexico, therefore Americans are Nazis. But wait, how can they be Nazis for deporting Nazis? Wouldn't America be less Nazi as a result of removing Nazis?\\n\\nDude's 'logic' isn't internally consistent, and it doesn't make any sense.\",\n"
   ]
  },
  {
   "cell_type": "code",
   "execution_count": 10,
   "metadata": {
    "colab": {
     "base_uri": "https://localhost:8080/"
    },
    "id": "gyewCgDPwM11",
    "outputId": "ba7de0bf-0963-46d0-a324-692eeea5fb04"
   },
   "outputs": [
    {
     "data": {
      "text/plain": [
       "array(['Fuck that faggot fredo. \\n\\n-an Italian',\n",
       "       'The one dude is now a professional builder or something, so yeah. This fat little lefty faggot is about 30-50 lbs overweight and living at home.',\n",
       "       \"Mexico deports illegal aliens, therefore, Mexicans are Nazis. The USA deports illegal aliens from Mexico, therefore Americans are Nazis. But wait, how can they be Nazis for deporting Nazis? Wouldn't America be less Nazi as a result of removing Nazis?\\n\\nDude's 'logic' isn't internally consistent, and it doesn't make any sense.\",\n",
       "       \"&gt;You don't downvote yet you just did it,\\n\\n[Nope. ](https://i.imgur.com/bJbAily.png) That's somebody else who thinks you're being a fag, too. I don't downvote because karma is something only faggots care about. That's why you care so kucn right now.\\n\\n&gt;Don't flatter yourself. It's apparent that any topic you can't defend is unimportant.\\n\\nImagine caring this much about the opinions of strangers on the internet. You should go outside.\",\n",
       "       \"Making up an argument that the other side has to make yourself appear right. Not my fault you're a retarded faggot\"],\n",
       "      dtype=object)"
      ]
     },
     "execution_count": 10,
     "metadata": {},
     "output_type": "execute_result"
    }
   ],
   "source": [
    "df_tnr_label.sort_values(by=\"hate_score\", ascending=False)[\"body\"].head().values"
   ]
  },
  {
   "cell_type": "markdown",
   "metadata": {
    "id": "oPa18JOlpN66"
   },
   "source": [
    "We can now analyze the provided hat_scores to the subreddits by plotting them.\n",
    "\n",
    "What do the distributions tell you abuot the amount of hate in those platforms?\n",
    "\n",
    "Answer: hate scores are the lowest in the Statistics subreddit with most of the density being close to zero. DSA and TheNewRight both have more density mass at higher hate scores but also the majority is low. TNR is slightly higher than DSA."
   ]
  },
  {
   "cell_type": "code",
   "execution_count": 12,
   "metadata": {
    "colab": {
     "base_uri": "https://localhost:8080/",
     "height": 468
    },
    "id": "INZqyWwivUrO",
    "outputId": "5ea59dd8-189e-490f-c5d2-b5877c004426"
   },
   "outputs": [
    {
     "data": {
      "text/plain": [
       "<matplotlib.legend.Legend at 0x16339e9c0>"
      ]
     },
     "execution_count": 12,
     "metadata": {},
     "output_type": "execute_result"
    },
    {
     "data": {
      "image/png": "[encoded data removed]",
      "text/plain": [
       "<Figure size 640x480 with 1 Axes>"
      ]
     },
     "metadata": {},
     "output_type": "display_data"
    }
   ],
   "source": [
    "import seaborn as sns\n",
    "import pylab as plt\n",
    "\n",
    "sns.kdeplot(df_dsa_label[\"hate_score\"], label=\"DSA\")\n",
    "sns.kdeplot(df_tnr_label[\"hate_score\"], label=\"TheNewRight\")\n",
    "sns.kdeplot(df_stats_label[\"hate_score\"], label=\"Statistics\")\n",
    "sns.despine()\n",
    "plt.legend()\n"
   ]
  },
  {
   "cell_type": "code",
   "execution_count": 26,
   "metadata": {
    "colab": {
     "base_uri": "https://localhost:8080/",
     "height": 449
    },
    "id": "XeiYJrafnA9l",
    "outputId": "6e1af2a0-68df-4796-89a3-6582f8309e45"
   },
   "outputs": [
    {
     "data": {
      "image/png": "[encoded data removed]",
      "text/plain": [
       "<Figure size 640x480 with 1 Axes>"
      ]
     },
     "metadata": {},
     "output_type": "display_data"
    }
   ],
   "source": [
    "# Convert 'created_utc' to datetime objects\n",
    "df_tnr_label[\"year\"] = pd.to_datetime(df_tnr_label[\"created_utc\"], unit=\"s\").dt.year\n",
    "df_stats_label[\"year\"] = pd.to_datetime(df_stats_label[\"created_utc\"], unit=\"s\").dt.year\n",
    "df_dsa_label[\"year\"] = pd.to_datetime(df_dsa_label[\"created_utc\"], unit=\"s\").dt.year\n",
    "\n",
    "# Plot average hate score over time by subreddit\n",
    "sns.lineplot(data=df_tnr_label, x=\"year\", y=\"hate_score\", label=\"TheNewRight\")\n",
    "sns.lineplot(data=df_stats_label, x=\"year\", y=\"hate_score\", label=\"Statistics\")\n",
    "sns.lineplot(data=df_dsa_label, x=\"year\", y=\"hate_score\", label=\"DSA\")\n",
    "\n",
    "plt.xlabel(\"Year\")\n",
    "plt.ylabel('Average Hate Score')\n",
    "plt.legend()\n",
    "sns.despine()\n",
    "plt.show()\n"
   ]
  },
  {
   "cell_type": "markdown",
   "metadata": {
    "id": "O6FlQnyHtaf-"
   },
   "source": [
    "### 2.3 What is the approximate share of hate speech per subreddit according to the model?"
   ]
  },
  {
   "cell_type": "markdown",
   "metadata": {
    "id": "WFsIiOiLthvf"
   },
   "source": [
    "Answer:\n",
    "\n",
    "- TNR: 12.3%\n",
    "- DSA: 9.5%\n",
    "- Stats: 3.8%\n",
    "\n"
   ]
  },
  {
   "cell_type": "markdown",
   "metadata": {
    "id": "ilIfU_ZMuPxJ"
   },
   "source": [
    "### 2.4 Can you find an example labeled as hate speech that is likely not hate speech?  What do you think went wrong?"
   ]
  },
  {
   "cell_type": "code",
   "execution_count": 27,
   "metadata": {
    "id": "XTc2Z0EgQwGh"
   },
   "outputs": [
    {
     "data": {
      "text/plain": [
       "'I agree, I think a lot of these people challenging actual leftists in Congress, be it in the Democratic primary or in the general election as a Republican, are doing it largely so that they can grift people to donate to them to stop these \"far-left extremists\".'"
      ]
     },
     "execution_count": 27,
     "metadata": {},
     "output_type": "execute_result"
    }
   ],
   "source": [
    "df_dsa_label.sort_values(by='hate_score', ascending=False)['body'].iloc[4]"
   ]
  },
  {
   "cell_type": "markdown",
   "metadata": {
    "id": "SH2FRgxOuUTr"
   },
   "source": [
    "Answer:\n",
    "\n",
    "For example: \"I agree, I think a lot of these people challenging actual leftists in Congress, be it in the Democratic primary or in the general election as a Republican, are doing it largely so that they can grift people to donate to them to stop these \"far-left extremists\".\"\n",
    "\n",
    "It may be classified as hate speech because of the word \"leftist\", which may be used in a derogatory manner in the training dataset."
   ]
  },
  {
   "cell_type": "markdown",
   "metadata": {
    "id": "wqjK7-BWQwGh"
   },
   "source": [
    "### 2.5 For each subreddit, what is the correlation between `score` (as calculated in Reddit) and `hate_score` (the probability of a comment being hate speech, as inferred from the ML model).\n"
   ]
  },
  {
   "cell_type": "code",
   "execution_count": 28,
   "metadata": {
    "id": "sPoJ8YqIQwGh"
   },
   "outputs": [
    {
     "name": "stdout",
     "output_type": "stream",
     "text": [
      "-0.01063763857744589\n",
      "0.05842160425911274\n",
      "-0.0046064412587192936\n"
     ]
    }
   ],
   "source": [
    "# Answer\n",
    "\n",
    "print(df_dsa_label['score'].corr(df_dsa_label['hate_score']))\n",
    "print(df_tnr_label['score'].corr(df_tnr_label['hate_score']))\n",
    "print(df_stats_label['score'].corr(df_stats_label['hate_score']))"
   ]
  },
  {
   "cell_type": "markdown",
   "metadata": {
    "id": "_DGfUKCntuRP"
   },
   "source": [
    "### 2.6 Now re-run the `label_data` function using [this](https://huggingface.co/cardiffnlp/twitter-roberta-base-sentiment-latest) sentiment model (Hint: You can do this by setting `model_name = \"cardiffnlp/twitter-roberta-base-sentiment-latest\"` in the `label_data` function). What are the most negative comments? What are the most negative subreddits?"
   ]
  },
  {
   "cell_type": "code",
   "execution_count": 9,
   "metadata": {
    "id": "T0yUDltolPfU"
   },
   "outputs": [
    {
     "name": "stderr",
     "output_type": "stream",
     "text": [
      "Some weights of the model checkpoint at cardiffnlp/twitter-roberta-base-sentiment-latest were not used when initializing RobertaForSequenceClassification: ['roberta.pooler.dense.bias', 'roberta.pooler.dense.weight']\n",
      "- This IS expected if you are initializing RobertaForSequenceClassification from the checkpoint of a model trained on another task or with another architecture (e.g. initializing a BertForSequenceClassification model from a BertForPreTraining model).\n",
      "- This IS NOT expected if you are initializing RobertaForSequenceClassification from the checkpoint of a model that you expect to be exactly identical (initializing a BertForSequenceClassification model from a BertForSequenceClassification model).\n",
      "Device set to use mps:0\n"
     ]
    },
    {
     "name": "stdout",
     "output_type": "stream",
     "text": [
      "{0: 'negative', 1: 'neutral', 2: 'positive'}\n"
     ]
    },
    {
     "name": "stderr",
     "output_type": "stream",
     "text": [
      "Some weights of the model checkpoint at cardiffnlp/twitter-roberta-base-sentiment-latest were not used when initializing RobertaForSequenceClassification: ['roberta.pooler.dense.bias', 'roberta.pooler.dense.weight']\n",
      "- This IS expected if you are initializing RobertaForSequenceClassification from the checkpoint of a model trained on another task or with another architecture (e.g. initializing a BertForSequenceClassification model from a BertForPreTraining model).\n",
      "- This IS NOT expected if you are initializing RobertaForSequenceClassification from the checkpoint of a model that you expect to be exactly identical (initializing a BertForSequenceClassification model from a BertForSequenceClassification model).\n",
      "Device set to use mps:0\n"
     ]
    },
    {
     "name": "stdout",
     "output_type": "stream",
     "text": [
      "{0: 'negative', 1: 'neutral', 2: 'positive'}\n"
     ]
    },
    {
     "name": "stderr",
     "output_type": "stream",
     "text": [
      "Some weights of the model checkpoint at cardiffnlp/twitter-roberta-base-sentiment-latest were not used when initializing RobertaForSequenceClassification: ['roberta.pooler.dense.bias', 'roberta.pooler.dense.weight']\n",
      "- This IS expected if you are initializing RobertaForSequenceClassification from the checkpoint of a model trained on another task or with another architecture (e.g. initializing a BertForSequenceClassification model from a BertForPreTraining model).\n",
      "- This IS NOT expected if you are initializing RobertaForSequenceClassification from the checkpoint of a model that you expect to be exactly identical (initializing a BertForSequenceClassification model from a BertForSequenceClassification model).\n",
      "Device set to use mps:0\n"
     ]
    },
    {
     "name": "stdout",
     "output_type": "stream",
     "text": [
      "{0: 'negative', 1: 'neutral', 2: 'positive'}\n"
     ]
    }
   ],
   "source": [
    "# Labeling the data (code to be completed)\n",
    "df_tnr_label_sent = label_data(thenewright, model_name=\"cardiffnlp/twitter-roberta-base-sentiment-latest\")\n",
    "df_dsa_label_sent = label_data(dsa, model_name=\"cardiffnlp/twitter-roberta-base-sentiment-latest\")\n",
    "df_stats_label_sent = label_data(statistics, model_name=\"cardiffnlp/twitter-roberta-base-sentiment-latest\")"
   ]
  },
  {
   "cell_type": "markdown",
   "metadata": {
    "id": "c-4ZG6bhuBEl"
   },
   "source": [
    "Answer:\n",
    "\n",
    "**TheNewRight**\n",
    "* 'FRY HER. She is perhaps the worst of them all because she COMPLETELY abrogated her duty as AG. Cankled scumbag.'\n",
    "* 'No its ridiculous at the airport even more ridiculous when its refugees. You soulless pieces of shit.'\n",
    "* 'That cretin is white as well, the fuck is wrong with these people? Has he ever tried taking a stroll in the hood with that stupid face, to see what his beloved poc do to dumb virtue signalers like him? '\n",
    "\n",
    "**DSA**\n",
    "* 'What a fucking coward fake pos u/magictheblathering is. Dude not only blocked me but sent the reddit suicide crisis to me after wishing for my death. Most sane “leftist”'\n",
    "* 'What a spineless, dishonest, embarrassing twist of a response. On the topic of a fucking genocide. You should be ashamed.'\n",
    "* 'you weird debate lord i do not give a shit about this stupid dsasubreddit, i care about the brown kids see dying every day. i didnt vote for him the first time either lmao'\n",
    "\n",
    "**Statistics**\n",
    "* \"UGH - don't take this or anything at this university!!!\"\n",
    "* 'Or put one of them in the sidebar? Reddit has a notoriously shitty search feature. '\n",
    "* 'Paywalls suck. Best of luck getting those articles, and mad respect for studying on the side!'\n",
    "\n",
    "**Average hate score for each subreddit**\n",
    "\n",
    "TheNewRight: 0.54\n",
    "DSA: 0.53\n",
    "Statistics: 0.36\n",
    "\n",
    "--> TNR is slightly more negative than DSA\n"
   ]
  },
  {
   "cell_type": "markdown",
   "metadata": {
    "id": "Gj8CUbRsQwGi"
   },
   "source": [
    "### 2.7 For each subreddit, what is the correlation between `score` (as calculated in Reddit) and `hate_score` (the probability of a comment being negative, as inferred from the ML model)"
   ]
  },
  {
   "cell_type": "code",
   "execution_count": 10,
   "metadata": {},
   "outputs": [
    {
     "name": "stdout",
     "output_type": "stream",
     "text": [
      "0.041798611836962374\n",
      "0.04821107767327788\n",
      "-0.04353142382389559\n"
     ]
    }
   ],
   "source": [
    "# Answer\n",
    "\n",
    "print(df_dsa_label_sent['score'].corr(df_dsa_label_sent['hate_score']))\n",
    "print(df_tnr_label_sent['score'].corr(df_tnr_label_sent['hate_score']))\n",
    "print(df_stats_label_sent['score'].corr(df_stats_label_sent['hate_score']))"
   ]
  },
  {
   "cell_type": "markdown",
   "metadata": {
    "id": "XTegvUVFQwGj"
   },
   "source": [
    "The correlation between sentiment score and hate score is quite low\n",
    "DSA: 4.2%\n",
    "TNR: 4.8%\n",
    "Statistics: -0.05%"
   ]
  },
  {
   "cell_type": "markdown",
   "metadata": {
    "id": "xmP8HjsKxiw_"
   },
   "source": [
    "## Part 3: Reflection on AI Biases"
   ]
  },
  {
   "cell_type": "markdown",
   "metadata": {
    "id": "RBmtJLhMx0vp"
   },
   "source": [
    "### Data Collection and Annotation Bias\n",
    "\n",
    "The hate speech model you used was trained using mostly data from Twitter and Stormfront (a neo-nazi forum) [[original source]](https://arxiv.org/pdf/2004.06465).\n",
    "\n"
   ]
  },
  {
   "cell_type": "markdown",
   "metadata": {
    "id": "-3GCo_s6yu_O"
   },
   "source": [
    "#### 3.1 Sample bias: to what extent is the data used in the training of the model representative of the Reddit data you are using? What are the potential implications for the analysis?"
   ]
  },
  {
   "cell_type": "markdown",
   "metadata": {
    "id": "4E72BlrByup7"
   },
   "source": [
    "Answer:\n",
    "\n",
    "The model was trained on Twitter and Stormfront data. This is most likely not representative of Reddit data, especially the Statistics (very nerdy) and DSA (left wing).\n",
    "\n",
    "The model will not be able to perform well for subpopulations that were not present in the training data. For example, it may overestimate the hate speech with terms used in Twitter/Stormfront in a derogatory context, such as \"lefties\"."
   ]
  },
  {
   "cell_type": "markdown",
   "metadata": {
    "id": "aXczh7ZsyulM"
   },
   "source": [
    "#### 3.2 How could outcome bias (label bias) be affecting this model? (remember that the model was trained using several datasets from different sources and annotated in different ways)."
   ]
  },
  {
   "cell_type": "markdown",
   "metadata": {
    "id": "HPqTjjXryt8s"
   },
   "source": [
    "Answer:\n",
    "\n",
    "Different datasets/papers use different definitions of hate speech. If the definition of hate speech is different for the data on Stormfront and the data on Twitter, this could create different meanings for the outcome variable (the label) for different subpopulations."
   ]
  },
  {
   "cell_type": "markdown",
   "metadata": {
    "id": "rkCzRXW5yty7"
   },
   "source": [
    "#### 3.3 If you use this model to label data and answer a research question, what type of measurment error would you be including?"
   ]
  },
  {
   "cell_type": "markdown",
   "metadata": {
    "id": "UGC1R43AythD"
   },
   "source": [
    "You will be introducing processing error."
   ]
  },
  {
   "cell_type": "markdown",
   "metadata": {
    "id": "C5lRC7p1GBzj"
   },
   "source": [
    "### Part 4: Auditing and correcting models:\n",
    "\n",
    "We have now added three new columns: `gender` (male/female/queer/neutral), `label_value` (the \"true\" label of hate) and `score` (the label of hate predicted by the previous model, where a score greater than 0.5 is considered hate). Assume the `gender` and `label_value` columns have no mistakes for the sake of the exercise.\n",
    "\n",
    "Download the data set `df_dsa_label_true.csv` with these columns from the link above and upload them into Colab. Then load it into Python with the code below:"
   ]
  },
  {
   "cell_type": "code",
   "execution_count": 12,
   "metadata": {
    "colab": {
     "base_uri": "https://localhost:8080/",
     "height": 206
    },
    "id": "5Gosi80DuiVD",
    "outputId": "b04088d5-5f51-41f6-98bb-d72e6a9bc6eb"
   },
   "outputs": [
    {
     "data": {
      "text/html": [
       "<div>\n",
       "<style scoped>\n",
       "    .dataframe tbody tr th:only-of-type {\n",
       "        vertical-align: middle;\n",
       "    }\n",
       "\n",
       "    .dataframe tbody tr th {\n",
       "        vertical-align: top;\n",
       "    }\n",
       "\n",
       "    .dataframe thead th {\n",
       "        text-align: right;\n",
       "    }\n",
       "</style>\n",
       "<table border=\"1\" class=\"dataframe\">\n",
       "  <thead>\n",
       "    <tr style=\"text-align: right;\">\n",
       "      <th></th>\n",
       "      <th>score</th>\n",
       "      <th>label_value</th>\n",
       "      <th>gender</th>\n",
       "      <th>text</th>\n",
       "    </tr>\n",
       "  </thead>\n",
       "  <tbody>\n",
       "    <tr>\n",
       "      <th>10760</th>\n",
       "      <td>False</td>\n",
       "      <td>False</td>\n",
       "      <td>other</td>\n",
       "      <td>Actually that is not a critique of UBI / GBI f...</td>\n",
       "    </tr>\n",
       "    <tr>\n",
       "      <th>33116</th>\n",
       "      <td>False</td>\n",
       "      <td>True</td>\n",
       "      <td>female</td>\n",
       "      <td>Suggest about what? This is just sensationaliz...</td>\n",
       "    </tr>\n",
       "    <tr>\n",
       "      <th>35607</th>\n",
       "      <td>False</td>\n",
       "      <td>False</td>\n",
       "      <td>other</td>\n",
       "      <td>Ignore the individual, look for the consequenc...</td>\n",
       "    </tr>\n",
       "    <tr>\n",
       "      <th>46232</th>\n",
       "      <td>False</td>\n",
       "      <td>False</td>\n",
       "      <td>other</td>\n",
       "      <td>Does anyone remember the last name of Mike the...</td>\n",
       "    </tr>\n",
       "    <tr>\n",
       "      <th>26892</th>\n",
       "      <td>False</td>\n",
       "      <td>False</td>\n",
       "      <td>male</td>\n",
       "      <td>and actually I don't even think it's in the gr...</td>\n",
       "    </tr>\n",
       "  </tbody>\n",
       "</table>\n",
       "</div>"
      ],
      "text/plain": [
       "       score  label_value  gender  \\\n",
       "10760  False        False   other   \n",
       "33116  False         True  female   \n",
       "35607  False        False   other   \n",
       "46232  False        False   other   \n",
       "26892  False        False    male   \n",
       "\n",
       "                                                    text  \n",
       "10760  Actually that is not a critique of UBI / GBI f...  \n",
       "33116  Suggest about what? This is just sensationaliz...  \n",
       "35607  Ignore the individual, look for the consequenc...  \n",
       "46232  Does anyone remember the last name of Mike the...  \n",
       "26892  and actually I don't even think it's in the gr...  "
      ]
     },
     "execution_count": 12,
     "metadata": {},
     "output_type": "execute_result"
    }
   ],
   "source": [
    "# Load artificially labelled dsa comments\n",
    "import pandas as pd\n",
    "df_dsa_label_true = pd.read_csv(\"df_dsa_label_true.csv.gz\", compression=\"gzip\",index_col=0)\n",
    "df_dsa_label_true.head()"
   ]
  },
  {
   "cell_type": "markdown",
   "metadata": {
    "id": "ZpOQoU4U588j"
   },
   "source": [
    "### 4.1 Based on the confusion matrix below (columns = predicted by algorithm; row = true values). Is the model good?\n",
    "\n",
    "Answer: Not really, quite a few comments were falsely labelled as non-hate-speech even though they are (in reality) hate speech\n",
    "\n"
   ]
  },
  {
   "cell_type": "code",
   "execution_count": 13,
   "metadata": {
    "colab": {
     "base_uri": "https://localhost:8080/",
     "height": 162
    },
    "id": "-9-E2qGV7DTu",
    "outputId": "e1546813-3ef8-450e-9cbe-c06cbd81929e"
   },
   "outputs": [
    {
     "name": "stdout",
     "output_type": "stream",
     "text": [
      "All groups\n"
     ]
    },
    {
     "data": {
      "text/html": [
       "<div>\n",
       "<style scoped>\n",
       "    .dataframe tbody tr th:only-of-type {\n",
       "        vertical-align: middle;\n",
       "    }\n",
       "\n",
       "    .dataframe tbody tr th {\n",
       "        vertical-align: top;\n",
       "    }\n",
       "\n",
       "    .dataframe thead th {\n",
       "        text-align: right;\n",
       "    }\n",
       "</style>\n",
       "<table border=\"1\" class=\"dataframe\">\n",
       "  <thead>\n",
       "    <tr style=\"text-align: right;\">\n",
       "      <th>score</th>\n",
       "      <th>False</th>\n",
       "      <th>True</th>\n",
       "    </tr>\n",
       "    <tr>\n",
       "      <th>label_value</th>\n",
       "      <th></th>\n",
       "      <th></th>\n",
       "    </tr>\n",
       "  </thead>\n",
       "  <tbody>\n",
       "    <tr>\n",
       "      <th>False</th>\n",
       "      <td>798</td>\n",
       "      <td>13</td>\n",
       "    </tr>\n",
       "    <tr>\n",
       "      <th>True</th>\n",
       "      <td>167</td>\n",
       "      <td>22</td>\n",
       "    </tr>\n",
       "  </tbody>\n",
       "</table>\n",
       "</div>"
      ],
      "text/plain": [
       "score        False  True \n",
       "label_value              \n",
       "False          798     13\n",
       "True           167     22"
      ]
     },
     "execution_count": 13,
     "metadata": {},
     "output_type": "execute_result"
    }
   ],
   "source": [
    "print(\"All groups\")\n",
    "pd.crosstab(df_dsa_label_true[\"label_value\"], df_dsa_label_true[\"score\"])\n"
   ]
  },
  {
   "cell_type": "markdown",
   "metadata": {
    "id": "Lnuu2QUK7F0X"
   },
   "source": [
    "### 4.2 Based on the confusion matrixes below per group\n",
    "* What group has a higher false positive rate (false positives / negatives)?\n",
    "\n",
    "*male* has the highest false-positive rate (0.019 = 3/(3+153)).\n",
    "\n",
    "* What group has a higher false negative rate (false negative / positives)?\n",
    "\n",
    "*female* has the highest false-negative rate (0.24 = 5/(5+16))."
   ]
  },
  {
   "cell_type": "code",
   "execution_count": 14,
   "metadata": {
    "colab": {
     "base_uri": "https://localhost:8080/",
     "height": 596
    },
    "id": "FA6DnTFX6AEy",
    "outputId": "ba67cf6b-5221-4aa6-ee02-9b3a25a47930"
   },
   "outputs": [
    {
     "name": "stdout",
     "output_type": "stream",
     "text": [
      "female\n"
     ]
    },
    {
     "data": {
      "text/html": [
       "<div>\n",
       "<style scoped>\n",
       "    .dataframe tbody tr th:only-of-type {\n",
       "        vertical-align: middle;\n",
       "    }\n",
       "\n",
       "    .dataframe tbody tr th {\n",
       "        vertical-align: top;\n",
       "    }\n",
       "\n",
       "    .dataframe thead th {\n",
       "        text-align: right;\n",
       "    }\n",
       "</style>\n",
       "<table border=\"1\" class=\"dataframe\">\n",
       "  <thead>\n",
       "    <tr style=\"text-align: right;\">\n",
       "      <th>score</th>\n",
       "      <th>False</th>\n",
       "    </tr>\n",
       "    <tr>\n",
       "      <th>label_value</th>\n",
       "      <th></th>\n",
       "    </tr>\n",
       "  </thead>\n",
       "  <tbody>\n",
       "    <tr>\n",
       "      <th>False</th>\n",
       "      <td>16</td>\n",
       "    </tr>\n",
       "    <tr>\n",
       "      <th>True</th>\n",
       "      <td>5</td>\n",
       "    </tr>\n",
       "  </tbody>\n",
       "</table>\n",
       "</div>"
      ],
      "text/plain": [
       "score        False\n",
       "label_value       \n",
       "False           16\n",
       "True             5"
      ]
     },
     "metadata": {},
     "output_type": "display_data"
    },
    {
     "name": "stdout",
     "output_type": "stream",
     "text": [
      "male\n"
     ]
    },
    {
     "data": {
      "text/html": [
       "<div>\n",
       "<style scoped>\n",
       "    .dataframe tbody tr th:only-of-type {\n",
       "        vertical-align: middle;\n",
       "    }\n",
       "\n",
       "    .dataframe tbody tr th {\n",
       "        vertical-align: top;\n",
       "    }\n",
       "\n",
       "    .dataframe thead th {\n",
       "        text-align: right;\n",
       "    }\n",
       "</style>\n",
       "<table border=\"1\" class=\"dataframe\">\n",
       "  <thead>\n",
       "    <tr style=\"text-align: right;\">\n",
       "      <th>score</th>\n",
       "      <th>False</th>\n",
       "      <th>True</th>\n",
       "    </tr>\n",
       "    <tr>\n",
       "      <th>label_value</th>\n",
       "      <th></th>\n",
       "      <th></th>\n",
       "    </tr>\n",
       "  </thead>\n",
       "  <tbody>\n",
       "    <tr>\n",
       "      <th>False</th>\n",
       "      <td>153</td>\n",
       "      <td>3</td>\n",
       "    </tr>\n",
       "    <tr>\n",
       "      <th>True</th>\n",
       "      <td>33</td>\n",
       "      <td>5</td>\n",
       "    </tr>\n",
       "  </tbody>\n",
       "</table>\n",
       "</div>"
      ],
      "text/plain": [
       "score        False  True \n",
       "label_value              \n",
       "False          153      3\n",
       "True            33      5"
      ]
     },
     "metadata": {},
     "output_type": "display_data"
    },
    {
     "name": "stdout",
     "output_type": "stream",
     "text": [
      "other\n"
     ]
    },
    {
     "data": {
      "text/html": [
       "<div>\n",
       "<style scoped>\n",
       "    .dataframe tbody tr th:only-of-type {\n",
       "        vertical-align: middle;\n",
       "    }\n",
       "\n",
       "    .dataframe tbody tr th {\n",
       "        vertical-align: top;\n",
       "    }\n",
       "\n",
       "    .dataframe thead th {\n",
       "        text-align: right;\n",
       "    }\n",
       "</style>\n",
       "<table border=\"1\" class=\"dataframe\">\n",
       "  <thead>\n",
       "    <tr style=\"text-align: right;\">\n",
       "      <th>score</th>\n",
       "      <th>False</th>\n",
       "      <th>True</th>\n",
       "    </tr>\n",
       "    <tr>\n",
       "      <th>label_value</th>\n",
       "      <th></th>\n",
       "      <th></th>\n",
       "    </tr>\n",
       "  </thead>\n",
       "  <tbody>\n",
       "    <tr>\n",
       "      <th>False</th>\n",
       "      <td>496</td>\n",
       "      <td>9</td>\n",
       "    </tr>\n",
       "    <tr>\n",
       "      <th>True</th>\n",
       "      <td>98</td>\n",
       "      <td>12</td>\n",
       "    </tr>\n",
       "  </tbody>\n",
       "</table>\n",
       "</div>"
      ],
      "text/plain": [
       "score        False  True \n",
       "label_value              \n",
       "False          496      9\n",
       "True            98     12"
      ]
     },
     "metadata": {},
     "output_type": "display_data"
    },
    {
     "name": "stdout",
     "output_type": "stream",
     "text": [
      "queer\n"
     ]
    },
    {
     "data": {
      "text/html": [
       "<div>\n",
       "<style scoped>\n",
       "    .dataframe tbody tr th:only-of-type {\n",
       "        vertical-align: middle;\n",
       "    }\n",
       "\n",
       "    .dataframe tbody tr th {\n",
       "        vertical-align: top;\n",
       "    }\n",
       "\n",
       "    .dataframe thead th {\n",
       "        text-align: right;\n",
       "    }\n",
       "</style>\n",
       "<table border=\"1\" class=\"dataframe\">\n",
       "  <thead>\n",
       "    <tr style=\"text-align: right;\">\n",
       "      <th>score</th>\n",
       "      <th>False</th>\n",
       "      <th>True</th>\n",
       "    </tr>\n",
       "    <tr>\n",
       "      <th>label_value</th>\n",
       "      <th></th>\n",
       "      <th></th>\n",
       "    </tr>\n",
       "  </thead>\n",
       "  <tbody>\n",
       "    <tr>\n",
       "      <th>False</th>\n",
       "      <td>133</td>\n",
       "      <td>1</td>\n",
       "    </tr>\n",
       "    <tr>\n",
       "      <th>True</th>\n",
       "      <td>31</td>\n",
       "      <td>5</td>\n",
       "    </tr>\n",
       "  </tbody>\n",
       "</table>\n",
       "</div>"
      ],
      "text/plain": [
       "score        False  True \n",
       "label_value              \n",
       "False          133      1\n",
       "True            31      5"
      ]
     },
     "metadata": {},
     "output_type": "display_data"
    }
   ],
   "source": [
    "for group, df_group in df_dsa_label_true.groupby(\"gender\"):\n",
    "  print(group)\n",
    "  display(pd.crosstab(df_group[\"label_value\"], df_group[\"score\"]))"
   ]
  },
  {
   "cell_type": "markdown",
   "metadata": {
    "id": "xXdWeUQb9VB6"
   },
   "source": [
    "Next, we can use the `fairlearn` package to audit the model. \n",
    "\n",
    "Here is an example of how to audit a model using several fairness metrics\n"
   ]
  },
  {
   "cell_type": "code",
   "execution_count": null,
   "metadata": {},
   "outputs": [],
   "source": [
    "!pip install fairlearn "
   ]
  },
  {
   "cell_type": "code",
   "execution_count": 21,
   "metadata": {},
   "outputs": [],
   "source": [
    "from sklearn.metrics import confusion_matrix\n",
    "from fairlearn.metrics import (\n",
    "    MetricFrame,\n",
    "    selection_rate,\n",
    "    true_positive_rate,\n",
    "    true_negative_rate,\n",
    "    false_positive_rate,\n",
    "    false_negative_rate\n",
    ")\n",
    "import pylab as plt\n",
    "\n",
    "# --- False discovery and omission rates ---\n",
    "def false_discovery_rate(y_true, y_pred):\n",
    "    tn, fp, fn, tp = confusion_matrix(y_true, y_pred).ravel()\n",
    "    return fp / (fp + tp) if (fp + tp) > 0 else 0.0\n",
    "\n",
    "def false_omission_rate(y_true, y_pred):\n",
    "    tn, fp, fn, tp = confusion_matrix(y_true, y_pred).ravel()\n",
    "    return fn / (fn + tn) if (fn + tn) > 0 else 0.0\n",
    "\n",
    " # we'll remove females since there are few cases and it complicates the interpretation, don't do it in real data!\n",
    "df = df_dsa_label_true.loc[df_dsa_label_true[\"gender\"] != \"female\"]\n",
    "\n",
    "# For an audit, we need the true labels, the sensitive attribute(s), and the predicted labels\n",
    "y_true = df[\"label_value\"]      # true labels (0/1)\n",
    "sensitive = df[\"gender\"]        # sensitive attribute\n",
    "y_pred = df[\"score\"]            # model predictions (0/1)\n",
    "\n",
    "# We also need some metrics \n",
    "metrics = {\n",
    "    \"Selection Rate\": selection_rate,         # P(ŷ = 1) \n",
    "\n",
    "    # Punitive example\n",
    "    \"FPR\": false_positive_rate,               # P(ŷ = 1 | y = 0) FP/not cirminal\n",
    "    \"FDR\": false_discovery_rate,              # P(y = 0 | ŷ = 1) FP/predicted criminal\n",
    "\n",
    "    # Assistive example\n",
    "    \"FNR\": false_negative_rate,               # P(ŷ = 0 | y = 1) FN / in need\n",
    "    \"FOR\": false_omission_rate,               # P(y = 1 | ŷ = 0) FN / predicted not in need\n",
    "    \"TPR (Recall)\": true_positive_rate,       # P(ŷ = 1 | y = 1) # TP / in need --> if resources are limited\n",
    "}\n"
   ]
  },
  {
   "cell_type": "code",
   "execution_count": 37,
   "metadata": {
    "colab": {
     "base_uri": "https://localhost:8080/",
     "height": 265
    },
    "id": "6WybtzPeys1j",
    "outputId": "7685741c-d1ad-4fc8-deba-a62e7f000701"
   },
   "outputs": [
    {
     "name": "stdout",
     "output_type": "stream",
     "text": [
      "Metrics by group:\n",
      "         Selection Rate       FPR       FDR       FNR       FOR  TPR (Recall)\n",
      "gender                                                                      \n",
      "male          0.041237  0.019231  0.375000  0.868421  0.177419      0.131579\n",
      "other         0.034146  0.017822  0.428571  0.890909  0.164983      0.109091\n",
      "queer         0.035294  0.007463  0.166667  0.861111  0.189024      0.138889 \n",
      "\n"
     ]
    },
    {
     "data": {
      "image/png": "[encoded data removed]",
      "text/plain": [
       "<Figure size 800x500 with 9 Axes>"
      ]
     },
     "metadata": {},
     "output_type": "display_data"
    }
   ],
   "source": [
    "\n",
    "# Set up the audit\n",
    "mf = MetricFrame(metrics=metrics, y_true=y_true, y_pred=y_pred, sensitive_features=sensitive)\n",
    "\n",
    "# Print the audit\n",
    "print(\"Metrics by group:\\n\", mf.by_group, \"\\n\")\n",
    "\n",
    "# quick bar charts (one per metric)\n",
    "mf.by_group.plot(\n",
    "    kind=\"barh\", subplots=True, layout=(3,3), figsize=(8,5), title=\"Fairness metrics by gender\", sharex=False, legend=False, \n",
    ")\n",
    "plt.tight_layout()"
   ]
  },
  {
   "cell_type": "markdown",
   "metadata": {
    "id": "65AfH5a_zSTX"
   },
   "source": [
    "### 4.3 Imagine you are using the ML model for an assistive intervention: you want to detect hate speech and offer extra holidays and mental health resources to those people. Which metric would you use to assess fairness? Is the model above  fair?\n",
    "\n",
    "Hint: see the [decision tree](https://www.datasciencepublicpolicy.org/our-work/tools-guides/aequitas/)."
   ]
  },
  {
   "cell_type": "markdown",
   "metadata": {
    "id": "02fhvtRZzhrv"
   },
   "source": [
    "Answer: The intervention is assisitive.\n",
    "\n",
    "The answer depends on your ability to provide mental health resources to people.\n",
    "* If you are able to intervene most people --> False negative rate parity  or False omission rate, depending if you focus on fairness among those in need (FNR) or among those that are denied need (FOR).\n",
    "* If you are able to intervene few people --> True positive rate parity (you don't want to give precious resources to people not in need)\n",
    "\n",
    "The model is relatively fair, exccially for FNR. For TPR there is a slight lower performance for gender \"other\""
   ]
  },
  {
   "cell_type": "markdown",
   "metadata": {
    "id": "z2tVe1TXzk1k"
   },
   "source": [
    "### 4.4 Imagine you are using the ML model for a punitive intervention: you want to detect hate speech and fine those people. Which metric would you use to assess fairness? Is the model above fair? \n",
    "\n",
    "Hint: see the [decision tree](https://www.datasciencepublicpolicy.org/our-work/tools-guides/aequitas/)."
   ]
  },
  {
   "cell_type": "markdown",
   "metadata": {},
   "source": [
    "*ADD ANSWER HERE*"
   ]
  },
  {
   "cell_type": "markdown",
   "metadata": {
    "id": "J1-v-ER5QwGm"
   },
   "source": [
    "Answer: The intervention is punitive.\n",
    "\n",
    "The answer is False positive rate parity or False discovery rate, depending if you focus on fairness among inocents (FPR) or among those punished (FDR).\n",
    "\n",
    "The model is not fair, for both the FPR and FDR \"queer\" and \"male\" and punished at a much higher rate than \"other\".\n"
   ]
  },
  {
   "cell_type": "markdown",
   "metadata": {
    "id": "wXMSpWHo15Mj"
   },
   "source": [
    "### 4.5. What information do you need to be able to correct your model? Do you have that information in your group project?\n",
    "*ADD YOUR ANSWER HERE*\n"
   ]
  },
  {
   "cell_type": "markdown",
   "metadata": {
    "id": "kNNN7o8aQwGm"
   },
   "source": [
    "Answer: You need the \"true data\" and the data on the sensitive attributes (e.g. gender, race). You likely do not have that information in your project.\n"
   ]
  },
  {
   "cell_type": "markdown",
   "metadata": {
    "id": "QB0RlGXQQwGm"
   },
   "source": [
    "### Are you still interested in how to audit and mitigate errors in models?\n",
    "Take a look at these resources:\n",
    "- https://fairlearn.org/\n",
    "- https://github.com/microsoft/responsible-ai-toolbox"
   ]
  }
 ],
 "metadata": {
  "accelerator": "GPU",
  "colab": {
   "gpuType": "T4",
   "provenance": []
  },
  "kernelspec": {
   "display_name": "Python [conda env:test3]",
   "language": "python",
   "name": "conda-env-test3-py"
  },
  "language_info": {
   "codemirror_mode": {
    "name": "ipython",
    "version": 3
   },
   "file_extension": ".py",
   "mimetype": "text/x-python",
   "name": "python",
   "nbconvert_exporter": "python",
   "pygments_lexer": "ipython3",
   "version": "3.12.3"
  }
 },
 "nbformat": 4,
 "nbformat_minor": 4
}
