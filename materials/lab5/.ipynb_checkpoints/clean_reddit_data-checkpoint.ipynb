{
  "cells": [
    {
      "cell_type": "markdown",
      "metadata": {
        "id": "uzpmZibclQCK"
      },
      "source": [
        "# Saving the Reddit Data"
      ]
    },
    {
      "cell_type": "markdown",
      "source": [
        "First, we load in the zst files that we got from the Torrent."
      ],
      "metadata": {
        "id": "UU_WlfMapVmn"
      }
    },
    {
      "cell_type": "code",
      "execution_count": null,
      "metadata": {
        "colab": {
          "base_uri": "https://localhost:8080/"
        },
        "id": "5RKM1hPbouPl",
        "outputId": "03fc53bd-3637-43f1-f6bd-be10ab914c19"
      },
      "outputs": [
        {
          "output_type": "stream",
          "name": "stderr",
          "text": [
            "Downloading...\n",
            "From: https://drive.google.com/uc?id=1s5RrA78XXEwq0X2oyUnoSCocnez7HaAL\n",
            "To: /content/dsa.zst\n",
            "100%|██████████| 8.64M/8.64M [00:00<00:00, 29.1MB/s]\n",
            "Downloading...\n",
            "From: https://drive.google.com/uc?id=1mOdseJhyoCe76mU3xnsSEjND7vkzg1ZY\n",
            "To: /content/thenewright.zst\n",
            "100%|██████████| 17.3M/17.3M [00:00<00:00, 86.8MB/s]\n",
            "Downloading...\n",
            "From: https://drive.google.com/uc?id=1ZvsSTim8nwKTMoxRljs6ANpFAJu9rlcv\n",
            "To: /content/statistics.zst\n",
            "100%|██████████| 77.4M/77.4M [00:00<00:00, 106MB/s]\n"
          ]
        }
      ],
      "source": [
        "import gdown\n",
        "import pandas as pd\n",
        "\n",
        "# List of Google Drive links\n",
        "google_drive_links = [\n",
        "    \"https://drive.google.com/file/d/1s5RrA78XXEwq0X2oyUnoSCocnez7HaAL/view?usp=share_link\",\n",
        "    \"https://drive.google.com/file/d/1mOdseJhyoCe76mU3xnsSEjND7vkzg1ZY/view?usp=share_link\",\n",
        "    \"https://drive.google.com/file/d/1ZvsSTim8nwKTMoxRljs6ANpFAJu9rlcv/view?usp=share_link\"\n",
        "]\n",
        "\n",
        "# List of subreddits\n",
        "subreddits = [\n",
        "    \"dsa\", \"thenewright\", \"statistics\"\n",
        "]\n",
        "\n",
        "for i in [0,1,2]:\n",
        "    # Extract file ID from link\n",
        "    file_id = google_drive_links[i].split(\"/\")[-2]\n",
        "\n",
        "    # Create download URL\n",
        "    download_url = f\"https://drive.google.com/uc?id={file_id}\"\n",
        "\n",
        "    # Specify output file name\n",
        "    output_file = subreddits[i] + \".zst\"\n",
        "\n",
        "    # Download the file\n",
        "    gdown.download(download_url, output_file, quiet=False)"
      ]
    },
    {
      "cell_type": "markdown",
      "source": [
        "Now, we specify a function to turn this zst file into a data frame we can analyse."
      ],
      "metadata": {
        "id": "1oubBYpHpdAH"
      }
    },
    {
      "cell_type": "code",
      "execution_count": null,
      "metadata": {
        "colab": {
          "base_uri": "https://localhost:8080/"
        },
        "id": "0S4gcFZSrNe7",
        "outputId": "d7ad401e-0acf-4c96-910b-0dd128b69309"
      },
      "outputs": [
        {
          "output_type": "stream",
          "name": "stdout",
          "text": [
            "Collecting zstandard\n",
            "  Downloading zstandard-0.23.0-cp310-cp310-manylinux_2_17_x86_64.manylinux2014_x86_64.whl.metadata (3.0 kB)\n",
            "Collecting ndjson\n",
            "  Downloading ndjson-0.3.1-py2.py3-none-any.whl.metadata (3.2 kB)\n",
            "Downloading zstandard-0.23.0-cp310-cp310-manylinux_2_17_x86_64.manylinux2014_x86_64.whl (5.4 MB)\n",
            "\u001b[2K   \u001b[90m━━━━━━━━━━━━━━━━━━━━━━━━━━━━━━━━━━━━━━━━\u001b[0m \u001b[32m5.4/5.4 MB\u001b[0m \u001b[31m35.0 MB/s\u001b[0m eta \u001b[36m0:00:00\u001b[0m\n",
            "\u001b[?25hDownloading ndjson-0.3.1-py2.py3-none-any.whl (5.3 kB)\n",
            "Installing collected packages: ndjson, zstandard\n",
            "Successfully installed ndjson-0.3.1 zstandard-0.23.0\n"
          ]
        }
      ],
      "source": [
        "!pip install zstandard ndjson\n",
        "import zstandard as zstd\n",
        "import ndjson\n",
        "\n",
        "def read_zst_file(file_path):\n",
        "    with open(file_path, \"rb\") as f:\n",
        "        dctx = zstd.ZstdDecompressor()\n",
        "        with dctx.stream_reader(f) as reader:\n",
        "            return reader.read()\n",
        "\n",
        "def read_ndjson_zst(file):\n",
        "    data = read_zst_file(file)\n",
        "    return ndjson.loads(data)\n",
        "\n",
        "def extract_fields(data, fields):\n",
        "    return [{field: item[field] for field in fields} for item in data]\n",
        "\n",
        "\n",
        "paths = [\"/content/\" + subreddit + \".zst\" for subreddit in subreddits]\n",
        "data_list = []\n",
        "\n",
        "for path in paths:\n",
        "    data = read_ndjson_zst(path)\n",
        "    data = extract_fields(data, [\"author\", \"body\", \"controversiality\", \"score\", \"created_utc\"])\n",
        "    data = pd.DataFrame(data)\n",
        "    data = data[data['body'] != '[deleted]']\n",
        "    data = data.sort_values(by=\"score\")\n",
        "\n",
        "    data_list.append(data)"
      ]
    },
    {
      "cell_type": "markdown",
      "source": [
        "Lastly, we can download the files as a compressed csv file"
      ],
      "metadata": {
        "id": "Ejeqs4TkpnTc"
      }
    },
    {
      "cell_type": "code",
      "execution_count": null,
      "metadata": {
        "colab": {
          "base_uri": "https://localhost:8080/",
          "height": 52
        },
        "id": "ChvoCV2tvIhV",
        "outputId": "9393ce95-6a45-4f58-8b33-bfdb115d1aaa"
      },
      "outputs": [
        {
          "output_type": "display_data",
          "data": {
            "text/plain": [
              "<IPython.core.display.Javascript object>"
            ],
            "application/javascript": [
              "\n",
              "    async function download(id, filename, size) {\n",
              "      if (!google.colab.kernel.accessAllowed) {\n",
              "        return;\n",
              "      }\n",
              "      const div = document.createElement('div');\n",
              "      const label = document.createElement('label');\n",
              "      label.textContent = `Downloading \"${filename}\": `;\n",
              "      div.appendChild(label);\n",
              "      const progress = document.createElement('progress');\n",
              "      progress.max = size;\n",
              "      div.appendChild(progress);\n",
              "      document.body.appendChild(div);\n",
              "\n",
              "      const buffers = [];\n",
              "      let downloaded = 0;\n",
              "\n",
              "      const channel = await google.colab.kernel.comms.open(id);\n",
              "      // Send a message to notify the kernel that we're ready.\n",
              "      channel.send({})\n",
              "\n",
              "      for await (const message of channel.messages) {\n",
              "        // Send a message to notify the kernel that we're ready.\n",
              "        channel.send({})\n",
              "        if (message.buffers) {\n",
              "          for (const buffer of message.buffers) {\n",
              "            buffers.push(buffer);\n",
              "            downloaded += buffer.byteLength;\n",
              "            progress.value = downloaded;\n",
              "          }\n",
              "        }\n",
              "      }\n",
              "      const blob = new Blob(buffers, {type: 'application/binary'});\n",
              "      const a = document.createElement('a');\n",
              "      a.href = window.URL.createObjectURL(blob);\n",
              "      a.download = filename;\n",
              "      div.appendChild(a);\n",
              "      a.click();\n",
              "      div.remove();\n",
              "    }\n",
              "  "
            ]
          },
          "metadata": {}
        },
        {
          "output_type": "display_data",
          "data": {
            "text/plain": [
              "<IPython.core.display.Javascript object>"
            ],
            "application/javascript": [
              "download(\"download_ba1f3ab8-4491-4dba-916b-7465876a3c04\", \"dsa.csv.gz\", 6151163)"
            ]
          },
          "metadata": {}
        },
        {
          "output_type": "display_data",
          "data": {
            "text/plain": [
              "<IPython.core.display.Javascript object>"
            ],
            "application/javascript": [
              "\n",
              "    async function download(id, filename, size) {\n",
              "      if (!google.colab.kernel.accessAllowed) {\n",
              "        return;\n",
              "      }\n",
              "      const div = document.createElement('div');\n",
              "      const label = document.createElement('label');\n",
              "      label.textContent = `Downloading \"${filename}\": `;\n",
              "      div.appendChild(label);\n",
              "      const progress = document.createElement('progress');\n",
              "      progress.max = size;\n",
              "      div.appendChild(progress);\n",
              "      document.body.appendChild(div);\n",
              "\n",
              "      const buffers = [];\n",
              "      let downloaded = 0;\n",
              "\n",
              "      const channel = await google.colab.kernel.comms.open(id);\n",
              "      // Send a message to notify the kernel that we're ready.\n",
              "      channel.send({})\n",
              "\n",
              "      for await (const message of channel.messages) {\n",
              "        // Send a message to notify the kernel that we're ready.\n",
              "        channel.send({})\n",
              "        if (message.buffers) {\n",
              "          for (const buffer of message.buffers) {\n",
              "            buffers.push(buffer);\n",
              "            downloaded += buffer.byteLength;\n",
              "            progress.value = downloaded;\n",
              "          }\n",
              "        }\n",
              "      }\n",
              "      const blob = new Blob(buffers, {type: 'application/binary'});\n",
              "      const a = document.createElement('a');\n",
              "      a.href = window.URL.createObjectURL(blob);\n",
              "      a.download = filename;\n",
              "      div.appendChild(a);\n",
              "      a.click();\n",
              "      div.remove();\n",
              "    }\n",
              "  "
            ]
          },
          "metadata": {}
        },
        {
          "output_type": "display_data",
          "data": {
            "text/plain": [
              "<IPython.core.display.Javascript object>"
            ],
            "application/javascript": [
              "download(\"download_44216be0-af3a-4ebd-b6e5-de360ec1bcd3\", \"thenewright.csv.gz\", 12605362)"
            ]
          },
          "metadata": {}
        },
        {
          "output_type": "display_data",
          "data": {
            "text/plain": [
              "<IPython.core.display.Javascript object>"
            ],
            "application/javascript": [
              "\n",
              "    async function download(id, filename, size) {\n",
              "      if (!google.colab.kernel.accessAllowed) {\n",
              "        return;\n",
              "      }\n",
              "      const div = document.createElement('div');\n",
              "      const label = document.createElement('label');\n",
              "      label.textContent = `Downloading \"${filename}\": `;\n",
              "      div.appendChild(label);\n",
              "      const progress = document.createElement('progress');\n",
              "      progress.max = size;\n",
              "      div.appendChild(progress);\n",
              "      document.body.appendChild(div);\n",
              "\n",
              "      const buffers = [];\n",
              "      let downloaded = 0;\n",
              "\n",
              "      const channel = await google.colab.kernel.comms.open(id);\n",
              "      // Send a message to notify the kernel that we're ready.\n",
              "      channel.send({})\n",
              "\n",
              "      for await (const message of channel.messages) {\n",
              "        // Send a message to notify the kernel that we're ready.\n",
              "        channel.send({})\n",
              "        if (message.buffers) {\n",
              "          for (const buffer of message.buffers) {\n",
              "            buffers.push(buffer);\n",
              "            downloaded += buffer.byteLength;\n",
              "            progress.value = downloaded;\n",
              "          }\n",
              "        }\n",
              "      }\n",
              "      const blob = new Blob(buffers, {type: 'application/binary'});\n",
              "      const a = document.createElement('a');\n",
              "      a.href = window.URL.createObjectURL(blob);\n",
              "      a.download = filename;\n",
              "      div.appendChild(a);\n",
              "      a.click();\n",
              "      div.remove();\n",
              "    }\n",
              "  "
            ]
          },
          "metadata": {}
        },
        {
          "output_type": "display_data",
          "data": {
            "text/plain": [
              "<IPython.core.display.Javascript object>"
            ],
            "application/javascript": [
              "download(\"download_111c1921-52c0-4d94-99bf-b00e80f6e6c2\", \"statistics.csv.gz\", 58058944)"
            ]
          },
          "metadata": {}
        }
      ],
      "source": [
        "from google.colab import files\n",
        "\n",
        "for i, data in enumerate(data_list):\n",
        "  filename = f\"{subreddits[i]}.csv.gz\"\n",
        "  data.to_csv(filename, index = False, compression='gzip')\n",
        "  files.download(filename)\n"
      ]
    }
  ],
  "metadata": {
    "colab": {
      "provenance": []
    },
    "kernelspec": {
      "display_name": "Python 3",
      "name": "python3"
    },
    "language_info": {
      "name": "python"
    }
  },
  "nbformat": 4,
  "nbformat_minor": 0
}