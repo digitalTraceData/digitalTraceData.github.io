{
  "nbformat": 4,
  "nbformat_minor": 0,
  "metadata": {
    "colab": {
      "provenance": [],
      "gpuType": "T4"
    },
    "kernelspec": {
      "name": "python3",
      "display_name": "Python 3"
    },
    "language_info": {
      "name": "python"
    },
    "accelerator": "GPU",
    "widgets": {
      "application/vnd.jupyter.widget-state+json": {
        "b49b1bf774c84251bff44c13ef0450b2": {
          "model_module": "@jupyter-widgets/controls",
          "model_name": "HBoxModel",
          "model_module_version": "1.5.0",
          "state": {
            "_dom_classes": [],
            "_model_module": "@jupyter-widgets/controls",
            "_model_module_version": "1.5.0",
            "_model_name": "HBoxModel",
            "_view_count": null,
            "_view_module": "@jupyter-widgets/controls",
            "_view_module_version": "1.5.0",
            "_view_name": "HBoxView",
            "box_style": "",
            "children": [
              "IPY_MODEL_64b4e1d7c73f47a393633321600ba820",
              "IPY_MODEL_045008b20cf64af4aa65d5e7bdc8f5b3",
              "IPY_MODEL_d82935a1ef1241b88a6efe08480f550b"
            ],
            "layout": "IPY_MODEL_54648af50d534859a3986673240ec135"
          }
        },
        "64b4e1d7c73f47a393633321600ba820": {
          "model_module": "@jupyter-widgets/controls",
          "model_name": "HTMLModel",
          "model_module_version": "1.5.0",
          "state": {
            "_dom_classes": [],
            "_model_module": "@jupyter-widgets/controls",
            "_model_module_version": "1.5.0",
            "_model_name": "HTMLModel",
            "_view_count": null,
            "_view_module": "@jupyter-widgets/controls",
            "_view_module_version": "1.5.0",
            "_view_name": "HTMLView",
            "description": "",
            "description_tooltip": null,
            "layout": "IPY_MODEL_352c32901dfa4ba49498fc4e823cc5da",
            "placeholder": "​",
            "style": "IPY_MODEL_106f1f19c6f04d93b52c367a0d27727c",
            "value": "config.json: 100%"
          }
        },
        "045008b20cf64af4aa65d5e7bdc8f5b3": {
          "model_module": "@jupyter-widgets/controls",
          "model_name": "FloatProgressModel",
          "model_module_version": "1.5.0",
          "state": {
            "_dom_classes": [],
            "_model_module": "@jupyter-widgets/controls",
            "_model_module_version": "1.5.0",
            "_model_name": "FloatProgressModel",
            "_view_count": null,
            "_view_module": "@jupyter-widgets/controls",
            "_view_module_version": "1.5.0",
            "_view_name": "ProgressView",
            "bar_style": "success",
            "description": "",
            "description_tooltip": null,
            "layout": "IPY_MODEL_e340c3dfdfe94c7fa5abc6ad57eaba10",
            "max": 1225,
            "min": 0,
            "orientation": "horizontal",
            "style": "IPY_MODEL_7a7dbcae3f2b42e0b7330f2fddbf934a",
            "value": 1225
          }
        },
        "d82935a1ef1241b88a6efe08480f550b": {
          "model_module": "@jupyter-widgets/controls",
          "model_name": "HTMLModel",
          "model_module_version": "1.5.0",
          "state": {
            "_dom_classes": [],
            "_model_module": "@jupyter-widgets/controls",
            "_model_module_version": "1.5.0",
            "_model_name": "HTMLModel",
            "_view_count": null,
            "_view_module": "@jupyter-widgets/controls",
            "_view_module_version": "1.5.0",
            "_view_name": "HTMLView",
            "description": "",
            "description_tooltip": null,
            "layout": "IPY_MODEL_d2fae02034e74066a2010e0a54ee01de",
            "placeholder": "​",
            "style": "IPY_MODEL_2881ecde0481453d85de3e4d9ef70f90",
            "value": " 1.23k/1.23k [00:00&lt;00:00, 97.6kB/s]"
          }
        },
        "54648af50d534859a3986673240ec135": {
          "model_module": "@jupyter-widgets/base",
          "model_name": "LayoutModel",
          "model_module_version": "1.2.0",
          "state": {
            "_model_module": "@jupyter-widgets/base",
            "_model_module_version": "1.2.0",
            "_model_name": "LayoutModel",
            "_view_count": null,
            "_view_module": "@jupyter-widgets/base",
            "_view_module_version": "1.2.0",
            "_view_name": "LayoutView",
            "align_content": null,
            "align_items": null,
            "align_self": null,
            "border": null,
            "bottom": null,
            "display": null,
            "flex": null,
            "flex_flow": null,
            "grid_area": null,
            "grid_auto_columns": null,
            "grid_auto_flow": null,
            "grid_auto_rows": null,
            "grid_column": null,
            "grid_gap": null,
            "grid_row": null,
            "grid_template_areas": null,
            "grid_template_columns": null,
            "grid_template_rows": null,
            "height": null,
            "justify_content": null,
            "justify_items": null,
            "left": null,
            "margin": null,
            "max_height": null,
            "max_width": null,
            "min_height": null,
            "min_width": null,
            "object_fit": null,
            "object_position": null,
            "order": null,
            "overflow": null,
            "overflow_x": null,
            "overflow_y": null,
            "padding": null,
            "right": null,
            "top": null,
            "visibility": null,
            "width": null
          }
        },
        "352c32901dfa4ba49498fc4e823cc5da": {
          "model_module": "@jupyter-widgets/base",
          "model_name": "LayoutModel",
          "model_module_version": "1.2.0",
          "state": {
            "_model_module": "@jupyter-widgets/base",
            "_model_module_version": "1.2.0",
            "_model_name": "LayoutModel",
            "_view_count": null,
            "_view_module": "@jupyter-widgets/base",
            "_view_module_version": "1.2.0",
            "_view_name": "LayoutView",
            "align_content": null,
            "align_items": null,
            "align_self": null,
            "border": null,
            "bottom": null,
            "display": null,
            "flex": null,
            "flex_flow": null,
            "grid_area": null,
            "grid_auto_columns": null,
            "grid_auto_flow": null,
            "grid_auto_rows": null,
            "grid_column": null,
            "grid_gap": null,
            "grid_row": null,
            "grid_template_areas": null,
            "grid_template_columns": null,
            "grid_template_rows": null,
            "height": null,
            "justify_content": null,
            "justify_items": null,
            "left": null,
            "margin": null,
            "max_height": null,
            "max_width": null,
            "min_height": null,
            "min_width": null,
            "object_fit": null,
            "object_position": null,
            "order": null,
            "overflow": null,
            "overflow_x": null,
            "overflow_y": null,
            "padding": null,
            "right": null,
            "top": null,
            "visibility": null,
            "width": null
          }
        },
        "106f1f19c6f04d93b52c367a0d27727c": {
          "model_module": "@jupyter-widgets/controls",
          "model_name": "DescriptionStyleModel",
          "model_module_version": "1.5.0",
          "state": {
            "_model_module": "@jupyter-widgets/controls",
            "_model_module_version": "1.5.0",
            "_model_name": "DescriptionStyleModel",
            "_view_count": null,
            "_view_module": "@jupyter-widgets/base",
            "_view_module_version": "1.2.0",
            "_view_name": "StyleView",
            "description_width": ""
          }
        },
        "e340c3dfdfe94c7fa5abc6ad57eaba10": {
          "model_module": "@jupyter-widgets/base",
          "model_name": "LayoutModel",
          "model_module_version": "1.2.0",
          "state": {
            "_model_module": "@jupyter-widgets/base",
            "_model_module_version": "1.2.0",
            "_model_name": "LayoutModel",
            "_view_count": null,
            "_view_module": "@jupyter-widgets/base",
            "_view_module_version": "1.2.0",
            "_view_name": "LayoutView",
            "align_content": null,
            "align_items": null,
            "align_self": null,
            "border": null,
            "bottom": null,
            "display": null,
            "flex": null,
            "flex_flow": null,
            "grid_area": null,
            "grid_auto_columns": null,
            "grid_auto_flow": null,
            "grid_auto_rows": null,
            "grid_column": null,
            "grid_gap": null,
            "grid_row": null,
            "grid_template_areas": null,
            "grid_template_columns": null,
            "grid_template_rows": null,
            "height": null,
            "justify_content": null,
            "justify_items": null,
            "left": null,
            "margin": null,
            "max_height": null,
            "max_width": null,
            "min_height": null,
            "min_width": null,
            "object_fit": null,
            "object_position": null,
            "order": null,
            "overflow": null,
            "overflow_x": null,
            "overflow_y": null,
            "padding": null,
            "right": null,
            "top": null,
            "visibility": null,
            "width": null
          }
        },
        "7a7dbcae3f2b42e0b7330f2fddbf934a": {
          "model_module": "@jupyter-widgets/controls",
          "model_name": "ProgressStyleModel",
          "model_module_version": "1.5.0",
          "state": {
            "_model_module": "@jupyter-widgets/controls",
            "_model_module_version": "1.5.0",
            "_model_name": "ProgressStyleModel",
            "_view_count": null,
            "_view_module": "@jupyter-widgets/base",
            "_view_module_version": "1.2.0",
            "_view_name": "StyleView",
            "bar_color": null,
            "description_width": ""
          }
        },
        "d2fae02034e74066a2010e0a54ee01de": {
          "model_module": "@jupyter-widgets/base",
          "model_name": "LayoutModel",
          "model_module_version": "1.2.0",
          "state": {
            "_model_module": "@jupyter-widgets/base",
            "_model_module_version": "1.2.0",
            "_model_name": "LayoutModel",
            "_view_count": null,
            "_view_module": "@jupyter-widgets/base",
            "_view_module_version": "1.2.0",
            "_view_name": "LayoutView",
            "align_content": null,
            "align_items": null,
            "align_self": null,
            "border": null,
            "bottom": null,
            "display": null,
            "flex": null,
            "flex_flow": null,
            "grid_area": null,
            "grid_auto_columns": null,
            "grid_auto_flow": null,
            "grid_auto_rows": null,
            "grid_column": null,
            "grid_gap": null,
            "grid_row": null,
            "grid_template_areas": null,
            "grid_template_columns": null,
            "grid_template_rows": null,
            "height": null,
            "justify_content": null,
            "justify_items": null,
            "left": null,
            "margin": null,
            "max_height": null,
            "max_width": null,
            "min_height": null,
            "min_width": null,
            "object_fit": null,
            "object_position": null,
            "order": null,
            "overflow": null,
            "overflow_x": null,
            "overflow_y": null,
            "padding": null,
            "right": null,
            "top": null,
            "visibility": null,
            "width": null
          }
        },
        "2881ecde0481453d85de3e4d9ef70f90": {
          "model_module": "@jupyter-widgets/controls",
          "model_name": "DescriptionStyleModel",
          "model_module_version": "1.5.0",
          "state": {
            "_model_module": "@jupyter-widgets/controls",
            "_model_module_version": "1.5.0",
            "_model_name": "DescriptionStyleModel",
            "_view_count": null,
            "_view_module": "@jupyter-widgets/base",
            "_view_module_version": "1.2.0",
            "_view_name": "StyleView",
            "description_width": ""
          }
        },
        "0b817a5cea904689ba65b5d1502b1c3a": {
          "model_module": "@jupyter-widgets/controls",
          "model_name": "HBoxModel",
          "model_module_version": "1.5.0",
          "state": {
            "_dom_classes": [],
            "_model_module": "@jupyter-widgets/controls",
            "_model_module_version": "1.5.0",
            "_model_name": "HBoxModel",
            "_view_count": null,
            "_view_module": "@jupyter-widgets/controls",
            "_view_module_version": "1.5.0",
            "_view_name": "HBoxView",
            "box_style": "",
            "children": [
              "IPY_MODEL_2238370710d246cbbdc8934dbed6bb84",
              "IPY_MODEL_28caa9c053f243b0974cb7cd357fd255",
              "IPY_MODEL_72582f17abe64dc39647a6bf44fbbcf7"
            ],
            "layout": "IPY_MODEL_023a4135b94a47a193c7eb94d9755813"
          }
        },
        "2238370710d246cbbdc8934dbed6bb84": {
          "model_module": "@jupyter-widgets/controls",
          "model_name": "HTMLModel",
          "model_module_version": "1.5.0",
          "state": {
            "_dom_classes": [],
            "_model_module": "@jupyter-widgets/controls",
            "_model_module_version": "1.5.0",
            "_model_name": "HTMLModel",
            "_view_count": null,
            "_view_module": "@jupyter-widgets/controls",
            "_view_module_version": "1.5.0",
            "_view_name": "HTMLView",
            "description": "",
            "description_tooltip": null,
            "layout": "IPY_MODEL_cc9d9176619e41b4bd2819827ccffd6f",
            "placeholder": "​",
            "style": "IPY_MODEL_cc2670096ba842e3bfafd5e2955abf6c",
            "value": "pytorch_model.bin: 100%"
          }
        },
        "28caa9c053f243b0974cb7cd357fd255": {
          "model_module": "@jupyter-widgets/controls",
          "model_name": "FloatProgressModel",
          "model_module_version": "1.5.0",
          "state": {
            "_dom_classes": [],
            "_model_module": "@jupyter-widgets/controls",
            "_model_module_version": "1.5.0",
            "_model_name": "FloatProgressModel",
            "_view_count": null,
            "_view_module": "@jupyter-widgets/controls",
            "_view_module_version": "1.5.0",
            "_view_name": "ProgressView",
            "bar_style": "success",
            "description": "",
            "description_tooltip": null,
            "layout": "IPY_MODEL_3369c4768c66417e9a6cf2ba451b3c4b",
            "max": 669482093,
            "min": 0,
            "orientation": "horizontal",
            "style": "IPY_MODEL_c69eb6b3f1c14475ab14a987d1ce2a45",
            "value": 669482093
          }
        },
        "72582f17abe64dc39647a6bf44fbbcf7": {
          "model_module": "@jupyter-widgets/controls",
          "model_name": "HTMLModel",
          "model_module_version": "1.5.0",
          "state": {
            "_dom_classes": [],
            "_model_module": "@jupyter-widgets/controls",
            "_model_module_version": "1.5.0",
            "_model_name": "HTMLModel",
            "_view_count": null,
            "_view_module": "@jupyter-widgets/controls",
            "_view_module_version": "1.5.0",
            "_view_name": "HTMLView",
            "description": "",
            "description_tooltip": null,
            "layout": "IPY_MODEL_915d6f32a63648f98b3070910c646c61",
            "placeholder": "​",
            "style": "IPY_MODEL_9069b1cd0cab40c5985c141778049a7b",
            "value": " 669M/669M [00:10&lt;00:00, 142MB/s]"
          }
        },
        "023a4135b94a47a193c7eb94d9755813": {
          "model_module": "@jupyter-widgets/base",
          "model_name": "LayoutModel",
          "model_module_version": "1.2.0",
          "state": {
            "_model_module": "@jupyter-widgets/base",
            "_model_module_version": "1.2.0",
            "_model_name": "LayoutModel",
            "_view_count": null,
            "_view_module": "@jupyter-widgets/base",
            "_view_module_version": "1.2.0",
            "_view_name": "LayoutView",
            "align_content": null,
            "align_items": null,
            "align_self": null,
            "border": null,
            "bottom": null,
            "display": null,
            "flex": null,
            "flex_flow": null,
            "grid_area": null,
            "grid_auto_columns": null,
            "grid_auto_flow": null,
            "grid_auto_rows": null,
            "grid_column": null,
            "grid_gap": null,
            "grid_row": null,
            "grid_template_areas": null,
            "grid_template_columns": null,
            "grid_template_rows": null,
            "height": null,
            "justify_content": null,
            "justify_items": null,
            "left": null,
            "margin": null,
            "max_height": null,
            "max_width": null,
            "min_height": null,
            "min_width": null,
            "object_fit": null,
            "object_position": null,
            "order": null,
            "overflow": null,
            "overflow_x": null,
            "overflow_y": null,
            "padding": null,
            "right": null,
            "top": null,
            "visibility": null,
            "width": null
          }
        },
        "cc9d9176619e41b4bd2819827ccffd6f": {
          "model_module": "@jupyter-widgets/base",
          "model_name": "LayoutModel",
          "model_module_version": "1.2.0",
          "state": {
            "_model_module": "@jupyter-widgets/base",
            "_model_module_version": "1.2.0",
            "_model_name": "LayoutModel",
            "_view_count": null,
            "_view_module": "@jupyter-widgets/base",
            "_view_module_version": "1.2.0",
            "_view_name": "LayoutView",
            "align_content": null,
            "align_items": null,
            "align_self": null,
            "border": null,
            "bottom": null,
            "display": null,
            "flex": null,
            "flex_flow": null,
            "grid_area": null,
            "grid_auto_columns": null,
            "grid_auto_flow": null,
            "grid_auto_rows": null,
            "grid_column": null,
            "grid_gap": null,
            "grid_row": null,
            "grid_template_areas": null,
            "grid_template_columns": null,
            "grid_template_rows": null,
            "height": null,
            "justify_content": null,
            "justify_items": null,
            "left": null,
            "margin": null,
            "max_height": null,
            "max_width": null,
            "min_height": null,
            "min_width": null,
            "object_fit": null,
            "object_position": null,
            "order": null,
            "overflow": null,
            "overflow_x": null,
            "overflow_y": null,
            "padding": null,
            "right": null,
            "top": null,
            "visibility": null,
            "width": null
          }
        },
        "cc2670096ba842e3bfafd5e2955abf6c": {
          "model_module": "@jupyter-widgets/controls",
          "model_name": "DescriptionStyleModel",
          "model_module_version": "1.5.0",
          "state": {
            "_model_module": "@jupyter-widgets/controls",
            "_model_module_version": "1.5.0",
            "_model_name": "DescriptionStyleModel",
            "_view_count": null,
            "_view_module": "@jupyter-widgets/base",
            "_view_module_version": "1.2.0",
            "_view_name": "StyleView",
            "description_width": ""
          }
        },
        "3369c4768c66417e9a6cf2ba451b3c4b": {
          "model_module": "@jupyter-widgets/base",
          "model_name": "LayoutModel",
          "model_module_version": "1.2.0",
          "state": {
            "_model_module": "@jupyter-widgets/base",
            "_model_module_version": "1.2.0",
            "_model_name": "LayoutModel",
            "_view_count": null,
            "_view_module": "@jupyter-widgets/base",
            "_view_module_version": "1.2.0",
            "_view_name": "LayoutView",
            "align_content": null,
            "align_items": null,
            "align_self": null,
            "border": null,
            "bottom": null,
            "display": null,
            "flex": null,
            "flex_flow": null,
            "grid_area": null,
            "grid_auto_columns": null,
            "grid_auto_flow": null,
            "grid_auto_rows": null,
            "grid_column": null,
            "grid_gap": null,
            "grid_row": null,
            "grid_template_areas": null,
            "grid_template_columns": null,
            "grid_template_rows": null,
            "height": null,
            "justify_content": null,
            "justify_items": null,
            "left": null,
            "margin": null,
            "max_height": null,
            "max_width": null,
            "min_height": null,
            "min_width": null,
            "object_fit": null,
            "object_position": null,
            "order": null,
            "overflow": null,
            "overflow_x": null,
            "overflow_y": null,
            "padding": null,
            "right": null,
            "top": null,
            "visibility": null,
            "width": null
          }
        },
        "c69eb6b3f1c14475ab14a987d1ce2a45": {
          "model_module": "@jupyter-widgets/controls",
          "model_name": "ProgressStyleModel",
          "model_module_version": "1.5.0",
          "state": {
            "_model_module": "@jupyter-widgets/controls",
            "_model_module_version": "1.5.0",
            "_model_name": "ProgressStyleModel",
            "_view_count": null,
            "_view_module": "@jupyter-widgets/base",
            "_view_module_version": "1.2.0",
            "_view_name": "StyleView",
            "bar_color": null,
            "description_width": ""
          }
        },
        "915d6f32a63648f98b3070910c646c61": {
          "model_module": "@jupyter-widgets/base",
          "model_name": "LayoutModel",
          "model_module_version": "1.2.0",
          "state": {
            "_model_module": "@jupyter-widgets/base",
            "_model_module_version": "1.2.0",
            "_model_name": "LayoutModel",
            "_view_count": null,
            "_view_module": "@jupyter-widgets/base",
            "_view_module_version": "1.2.0",
            "_view_name": "LayoutView",
            "align_content": null,
            "align_items": null,
            "align_self": null,
            "border": null,
            "bottom": null,
            "display": null,
            "flex": null,
            "flex_flow": null,
            "grid_area": null,
            "grid_auto_columns": null,
            "grid_auto_flow": null,
            "grid_auto_rows": null,
            "grid_column": null,
            "grid_gap": null,
            "grid_row": null,
            "grid_template_areas": null,
            "grid_template_columns": null,
            "grid_template_rows": null,
            "height": null,
            "justify_content": null,
            "justify_items": null,
            "left": null,
            "margin": null,
            "max_height": null,
            "max_width": null,
            "min_height": null,
            "min_width": null,
            "object_fit": null,
            "object_position": null,
            "order": null,
            "overflow": null,
            "overflow_x": null,
            "overflow_y": null,
            "padding": null,
            "right": null,
            "top": null,
            "visibility": null,
            "width": null
          }
        },
        "9069b1cd0cab40c5985c141778049a7b": {
          "model_module": "@jupyter-widgets/controls",
          "model_name": "DescriptionStyleModel",
          "model_module_version": "1.5.0",
          "state": {
            "_model_module": "@jupyter-widgets/controls",
            "_model_module_version": "1.5.0",
            "_model_name": "DescriptionStyleModel",
            "_view_count": null,
            "_view_module": "@jupyter-widgets/base",
            "_view_module_version": "1.2.0",
            "_view_name": "StyleView",
            "description_width": ""
          }
        },
        "67870014460242edb4502540a2c9a857": {
          "model_module": "@jupyter-widgets/controls",
          "model_name": "HBoxModel",
          "model_module_version": "1.5.0",
          "state": {
            "_dom_classes": [],
            "_model_module": "@jupyter-widgets/controls",
            "_model_module_version": "1.5.0",
            "_model_name": "HBoxModel",
            "_view_count": null,
            "_view_module": "@jupyter-widgets/controls",
            "_view_module_version": "1.5.0",
            "_view_name": "HBoxView",
            "box_style": "",
            "children": [
              "IPY_MODEL_0a0eabdedad74072870083427caa1fb8",
              "IPY_MODEL_db75150220a34943807273030ac8366a",
              "IPY_MODEL_a82970d3b1b546fa8f63b62f49b7ddab"
            ],
            "layout": "IPY_MODEL_6a51f7b501f94b21901bf1d5cc9086f0"
          }
        },
        "0a0eabdedad74072870083427caa1fb8": {
          "model_module": "@jupyter-widgets/controls",
          "model_name": "HTMLModel",
          "model_module_version": "1.5.0",
          "state": {
            "_dom_classes": [],
            "_model_module": "@jupyter-widgets/controls",
            "_model_module_version": "1.5.0",
            "_model_name": "HTMLModel",
            "_view_count": null,
            "_view_module": "@jupyter-widgets/controls",
            "_view_module_version": "1.5.0",
            "_view_name": "HTMLView",
            "description": "",
            "description_tooltip": null,
            "layout": "IPY_MODEL_8f98607b0fe64c2492271654c5741159",
            "placeholder": "​",
            "style": "IPY_MODEL_7deb8065187249248b52784ddfe967b7",
            "value": "tokenizer_config.json: 100%"
          }
        },
        "db75150220a34943807273030ac8366a": {
          "model_module": "@jupyter-widgets/controls",
          "model_name": "FloatProgressModel",
          "model_module_version": "1.5.0",
          "state": {
            "_dom_classes": [],
            "_model_module": "@jupyter-widgets/controls",
            "_model_module_version": "1.5.0",
            "_model_name": "FloatProgressModel",
            "_view_count": null,
            "_view_module": "@jupyter-widgets/controls",
            "_view_module_version": "1.5.0",
            "_view_name": "ProgressView",
            "bar_style": "success",
            "description": "",
            "description_tooltip": null,
            "layout": "IPY_MODEL_80ea12956b124cc4ac8af3b2cf68d2c4",
            "max": 152,
            "min": 0,
            "orientation": "horizontal",
            "style": "IPY_MODEL_50c54a848a5e416f80558abad250532a",
            "value": 152
          }
        },
        "a82970d3b1b546fa8f63b62f49b7ddab": {
          "model_module": "@jupyter-widgets/controls",
          "model_name": "HTMLModel",
          "model_module_version": "1.5.0",
          "state": {
            "_dom_classes": [],
            "_model_module": "@jupyter-widgets/controls",
            "_model_module_version": "1.5.0",
            "_model_name": "HTMLModel",
            "_view_count": null,
            "_view_module": "@jupyter-widgets/controls",
            "_view_module_version": "1.5.0",
            "_view_name": "HTMLView",
            "description": "",
            "description_tooltip": null,
            "layout": "IPY_MODEL_8f09b697c40f4b2d8ed3f78f7afb7a74",
            "placeholder": "​",
            "style": "IPY_MODEL_10a2e1090a864d10b9d9172047bc038a",
            "value": " 152/152 [00:00&lt;00:00, 4.64kB/s]"
          }
        },
        "6a51f7b501f94b21901bf1d5cc9086f0": {
          "model_module": "@jupyter-widgets/base",
          "model_name": "LayoutModel",
          "model_module_version": "1.2.0",
          "state": {
            "_model_module": "@jupyter-widgets/base",
            "_model_module_version": "1.2.0",
            "_model_name": "LayoutModel",
            "_view_count": null,
            "_view_module": "@jupyter-widgets/base",
            "_view_module_version": "1.2.0",
            "_view_name": "LayoutView",
            "align_content": null,
            "align_items": null,
            "align_self": null,
            "border": null,
            "bottom": null,
            "display": null,
            "flex": null,
            "flex_flow": null,
            "grid_area": null,
            "grid_auto_columns": null,
            "grid_auto_flow": null,
            "grid_auto_rows": null,
            "grid_column": null,
            "grid_gap": null,
            "grid_row": null,
            "grid_template_areas": null,
            "grid_template_columns": null,
            "grid_template_rows": null,
            "height": null,
            "justify_content": null,
            "justify_items": null,
            "left": null,
            "margin": null,
            "max_height": null,
            "max_width": null,
            "min_height": null,
            "min_width": null,
            "object_fit": null,
            "object_position": null,
            "order": null,
            "overflow": null,
            "overflow_x": null,
            "overflow_y": null,
            "padding": null,
            "right": null,
            "top": null,
            "visibility": null,
            "width": null
          }
        },
        "8f98607b0fe64c2492271654c5741159": {
          "model_module": "@jupyter-widgets/base",
          "model_name": "LayoutModel",
          "model_module_version": "1.2.0",
          "state": {
            "_model_module": "@jupyter-widgets/base",
            "_model_module_version": "1.2.0",
            "_model_name": "LayoutModel",
            "_view_count": null,
            "_view_module": "@jupyter-widgets/base",
            "_view_module_version": "1.2.0",
            "_view_name": "LayoutView",
            "align_content": null,
            "align_items": null,
            "align_self": null,
            "border": null,
            "bottom": null,
            "display": null,
            "flex": null,
            "flex_flow": null,
            "grid_area": null,
            "grid_auto_columns": null,
            "grid_auto_flow": null,
            "grid_auto_rows": null,
            "grid_column": null,
            "grid_gap": null,
            "grid_row": null,
            "grid_template_areas": null,
            "grid_template_columns": null,
            "grid_template_rows": null,
            "height": null,
            "justify_content": null,
            "justify_items": null,
            "left": null,
            "margin": null,
            "max_height": null,
            "max_width": null,
            "min_height": null,
            "min_width": null,
            "object_fit": null,
            "object_position": null,
            "order": null,
            "overflow": null,
            "overflow_x": null,
            "overflow_y": null,
            "padding": null,
            "right": null,
            "top": null,
            "visibility": null,
            "width": null
          }
        },
        "7deb8065187249248b52784ddfe967b7": {
          "model_module": "@jupyter-widgets/controls",
          "model_name": "DescriptionStyleModel",
          "model_module_version": "1.5.0",
          "state": {
            "_model_module": "@jupyter-widgets/controls",
            "_model_module_version": "1.5.0",
            "_model_name": "DescriptionStyleModel",
            "_view_count": null,
            "_view_module": "@jupyter-widgets/base",
            "_view_module_version": "1.2.0",
            "_view_name": "StyleView",
            "description_width": ""
          }
        },
        "80ea12956b124cc4ac8af3b2cf68d2c4": {
          "model_module": "@jupyter-widgets/base",
          "model_name": "LayoutModel",
          "model_module_version": "1.2.0",
          "state": {
            "_model_module": "@jupyter-widgets/base",
            "_model_module_version": "1.2.0",
            "_model_name": "LayoutModel",
            "_view_count": null,
            "_view_module": "@jupyter-widgets/base",
            "_view_module_version": "1.2.0",
            "_view_name": "LayoutView",
            "align_content": null,
            "align_items": null,
            "align_self": null,
            "border": null,
            "bottom": null,
            "display": null,
            "flex": null,
            "flex_flow": null,
            "grid_area": null,
            "grid_auto_columns": null,
            "grid_auto_flow": null,
            "grid_auto_rows": null,
            "grid_column": null,
            "grid_gap": null,
            "grid_row": null,
            "grid_template_areas": null,
            "grid_template_columns": null,
            "grid_template_rows": null,
            "height": null,
            "justify_content": null,
            "justify_items": null,
            "left": null,
            "margin": null,
            "max_height": null,
            "max_width": null,
            "min_height": null,
            "min_width": null,
            "object_fit": null,
            "object_position": null,
            "order": null,
            "overflow": null,
            "overflow_x": null,
            "overflow_y": null,
            "padding": null,
            "right": null,
            "top": null,
            "visibility": null,
            "width": null
          }
        },
        "50c54a848a5e416f80558abad250532a": {
          "model_module": "@jupyter-widgets/controls",
          "model_name": "ProgressStyleModel",
          "model_module_version": "1.5.0",
          "state": {
            "_model_module": "@jupyter-widgets/controls",
            "_model_module_version": "1.5.0",
            "_model_name": "ProgressStyleModel",
            "_view_count": null,
            "_view_module": "@jupyter-widgets/base",
            "_view_module_version": "1.2.0",
            "_view_name": "StyleView",
            "bar_color": null,
            "description_width": ""
          }
        },
        "8f09b697c40f4b2d8ed3f78f7afb7a74": {
          "model_module": "@jupyter-widgets/base",
          "model_name": "LayoutModel",
          "model_module_version": "1.2.0",
          "state": {
            "_model_module": "@jupyter-widgets/base",
            "_model_module_version": "1.2.0",
            "_model_name": "LayoutModel",
            "_view_count": null,
            "_view_module": "@jupyter-widgets/base",
            "_view_module_version": "1.2.0",
            "_view_name": "LayoutView",
            "align_content": null,
            "align_items": null,
            "align_self": null,
            "border": null,
            "bottom": null,
            "display": null,
            "flex": null,
            "flex_flow": null,
            "grid_area": null,
            "grid_auto_columns": null,
            "grid_auto_flow": null,
            "grid_auto_rows": null,
            "grid_column": null,
            "grid_gap": null,
            "grid_row": null,
            "grid_template_areas": null,
            "grid_template_columns": null,
            "grid_template_rows": null,
            "height": null,
            "justify_content": null,
            "justify_items": null,
            "left": null,
            "margin": null,
            "max_height": null,
            "max_width": null,
            "min_height": null,
            "min_width": null,
            "object_fit": null,
            "object_position": null,
            "order": null,
            "overflow": null,
            "overflow_x": null,
            "overflow_y": null,
            "padding": null,
            "right": null,
            "top": null,
            "visibility": null,
            "width": null
          }
        },
        "10a2e1090a864d10b9d9172047bc038a": {
          "model_module": "@jupyter-widgets/controls",
          "model_name": "DescriptionStyleModel",
          "model_module_version": "1.5.0",
          "state": {
            "_model_module": "@jupyter-widgets/controls",
            "_model_module_version": "1.5.0",
            "_model_name": "DescriptionStyleModel",
            "_view_count": null,
            "_view_module": "@jupyter-widgets/base",
            "_view_module_version": "1.2.0",
            "_view_name": "StyleView",
            "description_width": ""
          }
        },
        "2f3188f81da647929239beaa563463da": {
          "model_module": "@jupyter-widgets/controls",
          "model_name": "HBoxModel",
          "model_module_version": "1.5.0",
          "state": {
            "_dom_classes": [],
            "_model_module": "@jupyter-widgets/controls",
            "_model_module_version": "1.5.0",
            "_model_name": "HBoxModel",
            "_view_count": null,
            "_view_module": "@jupyter-widgets/controls",
            "_view_module_version": "1.5.0",
            "_view_name": "HBoxView",
            "box_style": "",
            "children": [
              "IPY_MODEL_ba7b2d241df74677b32e77e22a2d00c6",
              "IPY_MODEL_e6c2f40984dc44d696b0f0729ceffc6f",
              "IPY_MODEL_6de57011fc5649c5b81e33d7e4160538"
            ],
            "layout": "IPY_MODEL_74ddf579c96941038810666bf17f2e83"
          }
        },
        "ba7b2d241df74677b32e77e22a2d00c6": {
          "model_module": "@jupyter-widgets/controls",
          "model_name": "HTMLModel",
          "model_module_version": "1.5.0",
          "state": {
            "_dom_classes": [],
            "_model_module": "@jupyter-widgets/controls",
            "_model_module_version": "1.5.0",
            "_model_name": "HTMLModel",
            "_view_count": null,
            "_view_module": "@jupyter-widgets/controls",
            "_view_module_version": "1.5.0",
            "_view_name": "HTMLView",
            "description": "",
            "description_tooltip": null,
            "layout": "IPY_MODEL_d5b3ce37ea574d37bae2e62cddf53b27",
            "placeholder": "​",
            "style": "IPY_MODEL_e817efa20ce541cd87f2edd80d137719",
            "value": "vocab.txt: 100%"
          }
        },
        "e6c2f40984dc44d696b0f0729ceffc6f": {
          "model_module": "@jupyter-widgets/controls",
          "model_name": "FloatProgressModel",
          "model_module_version": "1.5.0",
          "state": {
            "_dom_classes": [],
            "_model_module": "@jupyter-widgets/controls",
            "_model_module_version": "1.5.0",
            "_model_name": "FloatProgressModel",
            "_view_count": null,
            "_view_module": "@jupyter-widgets/controls",
            "_view_module_version": "1.5.0",
            "_view_name": "ProgressView",
            "bar_style": "success",
            "description": "",
            "description_tooltip": null,
            "layout": "IPY_MODEL_0044cf2130b148c18d0f2f6050409723",
            "max": 871891,
            "min": 0,
            "orientation": "horizontal",
            "style": "IPY_MODEL_f2bbe5ec29b04d22be51b01559866bc5",
            "value": 871891
          }
        },
        "6de57011fc5649c5b81e33d7e4160538": {
          "model_module": "@jupyter-widgets/controls",
          "model_name": "HTMLModel",
          "model_module_version": "1.5.0",
          "state": {
            "_dom_classes": [],
            "_model_module": "@jupyter-widgets/controls",
            "_model_module_version": "1.5.0",
            "_model_name": "HTMLModel",
            "_view_count": null,
            "_view_module": "@jupyter-widgets/controls",
            "_view_module_version": "1.5.0",
            "_view_name": "HTMLView",
            "description": "",
            "description_tooltip": null,
            "layout": "IPY_MODEL_4aa7eb971f8c47ab853cafa7459971fd",
            "placeholder": "​",
            "style": "IPY_MODEL_e54b33cd1d4b4ee8afbd4554dc58d780",
            "value": " 872k/872k [00:00&lt;00:00, 4.62MB/s]"
          }
        },
        "74ddf579c96941038810666bf17f2e83": {
          "model_module": "@jupyter-widgets/base",
          "model_name": "LayoutModel",
          "model_module_version": "1.2.0",
          "state": {
            "_model_module": "@jupyter-widgets/base",
            "_model_module_version": "1.2.0",
            "_model_name": "LayoutModel",
            "_view_count": null,
            "_view_module": "@jupyter-widgets/base",
            "_view_module_version": "1.2.0",
            "_view_name": "LayoutView",
            "align_content": null,
            "align_items": null,
            "align_self": null,
            "border": null,
            "bottom": null,
            "display": null,
            "flex": null,
            "flex_flow": null,
            "grid_area": null,
            "grid_auto_columns": null,
            "grid_auto_flow": null,
            "grid_auto_rows": null,
            "grid_column": null,
            "grid_gap": null,
            "grid_row": null,
            "grid_template_areas": null,
            "grid_template_columns": null,
            "grid_template_rows": null,
            "height": null,
            "justify_content": null,
            "justify_items": null,
            "left": null,
            "margin": null,
            "max_height": null,
            "max_width": null,
            "min_height": null,
            "min_width": null,
            "object_fit": null,
            "object_position": null,
            "order": null,
            "overflow": null,
            "overflow_x": null,
            "overflow_y": null,
            "padding": null,
            "right": null,
            "top": null,
            "visibility": null,
            "width": null
          }
        },
        "d5b3ce37ea574d37bae2e62cddf53b27": {
          "model_module": "@jupyter-widgets/base",
          "model_name": "LayoutModel",
          "model_module_version": "1.2.0",
          "state": {
            "_model_module": "@jupyter-widgets/base",
            "_model_module_version": "1.2.0",
            "_model_name": "LayoutModel",
            "_view_count": null,
            "_view_module": "@jupyter-widgets/base",
            "_view_module_version": "1.2.0",
            "_view_name": "LayoutView",
            "align_content": null,
            "align_items": null,
            "align_self": null,
            "border": null,
            "bottom": null,
            "display": null,
            "flex": null,
            "flex_flow": null,
            "grid_area": null,
            "grid_auto_columns": null,
            "grid_auto_flow": null,
            "grid_auto_rows": null,
            "grid_column": null,
            "grid_gap": null,
            "grid_row": null,
            "grid_template_areas": null,
            "grid_template_columns": null,
            "grid_template_rows": null,
            "height": null,
            "justify_content": null,
            "justify_items": null,
            "left": null,
            "margin": null,
            "max_height": null,
            "max_width": null,
            "min_height": null,
            "min_width": null,
            "object_fit": null,
            "object_position": null,
            "order": null,
            "overflow": null,
            "overflow_x": null,
            "overflow_y": null,
            "padding": null,
            "right": null,
            "top": null,
            "visibility": null,
            "width": null
          }
        },
        "e817efa20ce541cd87f2edd80d137719": {
          "model_module": "@jupyter-widgets/controls",
          "model_name": "DescriptionStyleModel",
          "model_module_version": "1.5.0",
          "state": {
            "_model_module": "@jupyter-widgets/controls",
            "_model_module_version": "1.5.0",
            "_model_name": "DescriptionStyleModel",
            "_view_count": null,
            "_view_module": "@jupyter-widgets/base",
            "_view_module_version": "1.2.0",
            "_view_name": "StyleView",
            "description_width": ""
          }
        },
        "0044cf2130b148c18d0f2f6050409723": {
          "model_module": "@jupyter-widgets/base",
          "model_name": "LayoutModel",
          "model_module_version": "1.2.0",
          "state": {
            "_model_module": "@jupyter-widgets/base",
            "_model_module_version": "1.2.0",
            "_model_name": "LayoutModel",
            "_view_count": null,
            "_view_module": "@jupyter-widgets/base",
            "_view_module_version": "1.2.0",
            "_view_name": "LayoutView",
            "align_content": null,
            "align_items": null,
            "align_self": null,
            "border": null,
            "bottom": null,
            "display": null,
            "flex": null,
            "flex_flow": null,
            "grid_area": null,
            "grid_auto_columns": null,
            "grid_auto_flow": null,
            "grid_auto_rows": null,
            "grid_column": null,
            "grid_gap": null,
            "grid_row": null,
            "grid_template_areas": null,
            "grid_template_columns": null,
            "grid_template_rows": null,
            "height": null,
            "justify_content": null,
            "justify_items": null,
            "left": null,
            "margin": null,
            "max_height": null,
            "max_width": null,
            "min_height": null,
            "min_width": null,
            "object_fit": null,
            "object_position": null,
            "order": null,
            "overflow": null,
            "overflow_x": null,
            "overflow_y": null,
            "padding": null,
            "right": null,
            "top": null,
            "visibility": null,
            "width": null
          }
        },
        "f2bbe5ec29b04d22be51b01559866bc5": {
          "model_module": "@jupyter-widgets/controls",
          "model_name": "ProgressStyleModel",
          "model_module_version": "1.5.0",
          "state": {
            "_model_module": "@jupyter-widgets/controls",
            "_model_module_version": "1.5.0",
            "_model_name": "ProgressStyleModel",
            "_view_count": null,
            "_view_module": "@jupyter-widgets/base",
            "_view_module_version": "1.2.0",
            "_view_name": "StyleView",
            "bar_color": null,
            "description_width": ""
          }
        },
        "4aa7eb971f8c47ab853cafa7459971fd": {
          "model_module": "@jupyter-widgets/base",
          "model_name": "LayoutModel",
          "model_module_version": "1.2.0",
          "state": {
            "_model_module": "@jupyter-widgets/base",
            "_model_module_version": "1.2.0",
            "_model_name": "LayoutModel",
            "_view_count": null,
            "_view_module": "@jupyter-widgets/base",
            "_view_module_version": "1.2.0",
            "_view_name": "LayoutView",
            "align_content": null,
            "align_items": null,
            "align_self": null,
            "border": null,
            "bottom": null,
            "display": null,
            "flex": null,
            "flex_flow": null,
            "grid_area": null,
            "grid_auto_columns": null,
            "grid_auto_flow": null,
            "grid_auto_rows": null,
            "grid_column": null,
            "grid_gap": null,
            "grid_row": null,
            "grid_template_areas": null,
            "grid_template_columns": null,
            "grid_template_rows": null,
            "height": null,
            "justify_content": null,
            "justify_items": null,
            "left": null,
            "margin": null,
            "max_height": null,
            "max_width": null,
            "min_height": null,
            "min_width": null,
            "object_fit": null,
            "object_position": null,
            "order": null,
            "overflow": null,
            "overflow_x": null,
            "overflow_y": null,
            "padding": null,
            "right": null,
            "top": null,
            "visibility": null,
            "width": null
          }
        },
        "e54b33cd1d4b4ee8afbd4554dc58d780": {
          "model_module": "@jupyter-widgets/controls",
          "model_name": "DescriptionStyleModel",
          "model_module_version": "1.5.0",
          "state": {
            "_model_module": "@jupyter-widgets/controls",
            "_model_module_version": "1.5.0",
            "_model_name": "DescriptionStyleModel",
            "_view_count": null,
            "_view_module": "@jupyter-widgets/base",
            "_view_module_version": "1.2.0",
            "_view_name": "StyleView",
            "description_width": ""
          }
        },
        "2070c43510dc43b8b6f5034e00375083": {
          "model_module": "@jupyter-widgets/controls",
          "model_name": "HBoxModel",
          "model_module_version": "1.5.0",
          "state": {
            "_dom_classes": [],
            "_model_module": "@jupyter-widgets/controls",
            "_model_module_version": "1.5.0",
            "_model_name": "HBoxModel",
            "_view_count": null,
            "_view_module": "@jupyter-widgets/controls",
            "_view_module_version": "1.5.0",
            "_view_name": "HBoxView",
            "box_style": "",
            "children": [
              "IPY_MODEL_c70799f25ec648da9e2a67c6affc9227",
              "IPY_MODEL_e8e532513c74463bab63766ea17e1b5b",
              "IPY_MODEL_ce17469412f2404893daecc75cc50f7c"
            ],
            "layout": "IPY_MODEL_c348bd170456469f92516b851553f524"
          }
        },
        "c70799f25ec648da9e2a67c6affc9227": {
          "model_module": "@jupyter-widgets/controls",
          "model_name": "HTMLModel",
          "model_module_version": "1.5.0",
          "state": {
            "_dom_classes": [],
            "_model_module": "@jupyter-widgets/controls",
            "_model_module_version": "1.5.0",
            "_model_name": "HTMLModel",
            "_view_count": null,
            "_view_module": "@jupyter-widgets/controls",
            "_view_module_version": "1.5.0",
            "_view_name": "HTMLView",
            "description": "",
            "description_tooltip": null,
            "layout": "IPY_MODEL_b3ecdc253c194d998d08eec509cbc137",
            "placeholder": "​",
            "style": "IPY_MODEL_a624ea3a5cf645ffb992d7c620b8181a",
            "value": "special_tokens_map.json: 100%"
          }
        },
        "e8e532513c74463bab63766ea17e1b5b": {
          "model_module": "@jupyter-widgets/controls",
          "model_name": "FloatProgressModel",
          "model_module_version": "1.5.0",
          "state": {
            "_dom_classes": [],
            "_model_module": "@jupyter-widgets/controls",
            "_model_module_version": "1.5.0",
            "_model_name": "FloatProgressModel",
            "_view_count": null,
            "_view_module": "@jupyter-widgets/controls",
            "_view_module_version": "1.5.0",
            "_view_name": "ProgressView",
            "bar_style": "success",
            "description": "",
            "description_tooltip": null,
            "layout": "IPY_MODEL_c05480c439d3410ba917ed0911c664e0",
            "max": 112,
            "min": 0,
            "orientation": "horizontal",
            "style": "IPY_MODEL_04be4f840d4542e58afa9dc68c761ae6",
            "value": 112
          }
        },
        "ce17469412f2404893daecc75cc50f7c": {
          "model_module": "@jupyter-widgets/controls",
          "model_name": "HTMLModel",
          "model_module_version": "1.5.0",
          "state": {
            "_dom_classes": [],
            "_model_module": "@jupyter-widgets/controls",
            "_model_module_version": "1.5.0",
            "_model_name": "HTMLModel",
            "_view_count": null,
            "_view_module": "@jupyter-widgets/controls",
            "_view_module_version": "1.5.0",
            "_view_name": "HTMLView",
            "description": "",
            "description_tooltip": null,
            "layout": "IPY_MODEL_636e5bac0afa44c199f4aa18a4e9c3af",
            "placeholder": "​",
            "style": "IPY_MODEL_5b4ccfaa056c4ecda9c4bef88a246c82",
            "value": " 112/112 [00:00&lt;00:00, 5.12kB/s]"
          }
        },
        "c348bd170456469f92516b851553f524": {
          "model_module": "@jupyter-widgets/base",
          "model_name": "LayoutModel",
          "model_module_version": "1.2.0",
          "state": {
            "_model_module": "@jupyter-widgets/base",
            "_model_module_version": "1.2.0",
            "_model_name": "LayoutModel",
            "_view_count": null,
            "_view_module": "@jupyter-widgets/base",
            "_view_module_version": "1.2.0",
            "_view_name": "LayoutView",
            "align_content": null,
            "align_items": null,
            "align_self": null,
            "border": null,
            "bottom": null,
            "display": null,
            "flex": null,
            "flex_flow": null,
            "grid_area": null,
            "grid_auto_columns": null,
            "grid_auto_flow": null,
            "grid_auto_rows": null,
            "grid_column": null,
            "grid_gap": null,
            "grid_row": null,
            "grid_template_areas": null,
            "grid_template_columns": null,
            "grid_template_rows": null,
            "height": null,
            "justify_content": null,
            "justify_items": null,
            "left": null,
            "margin": null,
            "max_height": null,
            "max_width": null,
            "min_height": null,
            "min_width": null,
            "object_fit": null,
            "object_position": null,
            "order": null,
            "overflow": null,
            "overflow_x": null,
            "overflow_y": null,
            "padding": null,
            "right": null,
            "top": null,
            "visibility": null,
            "width": null
          }
        },
        "b3ecdc253c194d998d08eec509cbc137": {
          "model_module": "@jupyter-widgets/base",
          "model_name": "LayoutModel",
          "model_module_version": "1.2.0",
          "state": {
            "_model_module": "@jupyter-widgets/base",
            "_model_module_version": "1.2.0",
            "_model_name": "LayoutModel",
            "_view_count": null,
            "_view_module": "@jupyter-widgets/base",
            "_view_module_version": "1.2.0",
            "_view_name": "LayoutView",
            "align_content": null,
            "align_items": null,
            "align_self": null,
            "border": null,
            "bottom": null,
            "display": null,
            "flex": null,
            "flex_flow": null,
            "grid_area": null,
            "grid_auto_columns": null,
            "grid_auto_flow": null,
            "grid_auto_rows": null,
            "grid_column": null,
            "grid_gap": null,
            "grid_row": null,
            "grid_template_areas": null,
            "grid_template_columns": null,
            "grid_template_rows": null,
            "height": null,
            "justify_content": null,
            "justify_items": null,
            "left": null,
            "margin": null,
            "max_height": null,
            "max_width": null,
            "min_height": null,
            "min_width": null,
            "object_fit": null,
            "object_position": null,
            "order": null,
            "overflow": null,
            "overflow_x": null,
            "overflow_y": null,
            "padding": null,
            "right": null,
            "top": null,
            "visibility": null,
            "width": null
          }
        },
        "a624ea3a5cf645ffb992d7c620b8181a": {
          "model_module": "@jupyter-widgets/controls",
          "model_name": "DescriptionStyleModel",
          "model_module_version": "1.5.0",
          "state": {
            "_model_module": "@jupyter-widgets/controls",
            "_model_module_version": "1.5.0",
            "_model_name": "DescriptionStyleModel",
            "_view_count": null,
            "_view_module": "@jupyter-widgets/base",
            "_view_module_version": "1.2.0",
            "_view_name": "StyleView",
            "description_width": ""
          }
        },
        "c05480c439d3410ba917ed0911c664e0": {
          "model_module": "@jupyter-widgets/base",
          "model_name": "LayoutModel",
          "model_module_version": "1.2.0",
          "state": {
            "_model_module": "@jupyter-widgets/base",
            "_model_module_version": "1.2.0",
            "_model_name": "LayoutModel",
            "_view_count": null,
            "_view_module": "@jupyter-widgets/base",
            "_view_module_version": "1.2.0",
            "_view_name": "LayoutView",
            "align_content": null,
            "align_items": null,
            "align_self": null,
            "border": null,
            "bottom": null,
            "display": null,
            "flex": null,
            "flex_flow": null,
            "grid_area": null,
            "grid_auto_columns": null,
            "grid_auto_flow": null,
            "grid_auto_rows": null,
            "grid_column": null,
            "grid_gap": null,
            "grid_row": null,
            "grid_template_areas": null,
            "grid_template_columns": null,
            "grid_template_rows": null,
            "height": null,
            "justify_content": null,
            "justify_items": null,
            "left": null,
            "margin": null,
            "max_height": null,
            "max_width": null,
            "min_height": null,
            "min_width": null,
            "object_fit": null,
            "object_position": null,
            "order": null,
            "overflow": null,
            "overflow_x": null,
            "overflow_y": null,
            "padding": null,
            "right": null,
            "top": null,
            "visibility": null,
            "width": null
          }
        },
        "04be4f840d4542e58afa9dc68c761ae6": {
          "model_module": "@jupyter-widgets/controls",
          "model_name": "ProgressStyleModel",
          "model_module_version": "1.5.0",
          "state": {
            "_model_module": "@jupyter-widgets/controls",
            "_model_module_version": "1.5.0",
            "_model_name": "ProgressStyleModel",
            "_view_count": null,
            "_view_module": "@jupyter-widgets/base",
            "_view_module_version": "1.2.0",
            "_view_name": "StyleView",
            "bar_color": null,
            "description_width": ""
          }
        },
        "636e5bac0afa44c199f4aa18a4e9c3af": {
          "model_module": "@jupyter-widgets/base",
          "model_name": "LayoutModel",
          "model_module_version": "1.2.0",
          "state": {
            "_model_module": "@jupyter-widgets/base",
            "_model_module_version": "1.2.0",
            "_model_name": "LayoutModel",
            "_view_count": null,
            "_view_module": "@jupyter-widgets/base",
            "_view_module_version": "1.2.0",
            "_view_name": "LayoutView",
            "align_content": null,
            "align_items": null,
            "align_self": null,
            "border": null,
            "bottom": null,
            "display": null,
            "flex": null,
            "flex_flow": null,
            "grid_area": null,
            "grid_auto_columns": null,
            "grid_auto_flow": null,
            "grid_auto_rows": null,
            "grid_column": null,
            "grid_gap": null,
            "grid_row": null,
            "grid_template_areas": null,
            "grid_template_columns": null,
            "grid_template_rows": null,
            "height": null,
            "justify_content": null,
            "justify_items": null,
            "left": null,
            "margin": null,
            "max_height": null,
            "max_width": null,
            "min_height": null,
            "min_width": null,
            "object_fit": null,
            "object_position": null,
            "order": null,
            "overflow": null,
            "overflow_x": null,
            "overflow_y": null,
            "padding": null,
            "right": null,
            "top": null,
            "visibility": null,
            "width": null
          }
        },
        "5b4ccfaa056c4ecda9c4bef88a246c82": {
          "model_module": "@jupyter-widgets/controls",
          "model_name": "DescriptionStyleModel",
          "model_module_version": "1.5.0",
          "state": {
            "_model_module": "@jupyter-widgets/controls",
            "_model_module_version": "1.5.0",
            "_model_name": "DescriptionStyleModel",
            "_view_count": null,
            "_view_module": "@jupyter-widgets/base",
            "_view_module_version": "1.2.0",
            "_view_name": "StyleView",
            "description_width": ""
          }
        }
      }
    }
  },
  "cells": [
    {
      "cell_type": "markdown",
      "source": [
        "# Digital Trace Data - Lab 5: Digital Trace Data and AI\n",
        "\n",
        "In this week's lab we will:\n",
        "* Use a ML model to label text\n",
        "* Audit a ML model"
      ],
      "metadata": {
        "id": "VlBL8hRUjmRh"
      }
    },
    {
      "cell_type": "markdown",
      "source": [],
      "metadata": {
        "id": "tbvsOYFUh9Xh"
      }
    },
    {
      "cell_type": "markdown",
      "source": [],
      "metadata": {
        "id": "0aWufkoVh9v_"
      }
    },
    {
      "cell_type": "code",
      "source": [],
      "metadata": {
        "id": "ddmGqk5kh5Yv"
      },
      "execution_count": null,
      "outputs": []
    },
    {
      "cell_type": "markdown",
      "source": [
        "## Part 1: Labeling data - Example of Hate Speech"
      ],
      "metadata": {
        "id": "w1YVUR5imPc7"
      }
    },
    {
      "cell_type": "markdown",
      "source": [
        "Hate speech is defined\n",
        "as a \"direct and serious attack on any protected category of people based on their\n",
        "race, ethnicity, national origin, religion, sex, gender, sexual orientation, disability\n",
        "or disease\" [[ref]](https://ojs.aaai.org/index.php/ICWSM/article/view/150410).\n",
        "\n",
        "In this part, we will analyze data from three subreddits and will try classifying their comments to check whether it is hate speech or not. The three subreddits are\n",
        "\n",
        "- *dsa*: A subreddit dedicated to discussions related to the Democratic Socialists of America (DSA)\n",
        "- *thenewright*: A subreddit centered around discussions of right-wing political ideologies\n",
        "- *statistics*: A subreddit for discussions and questions related to the field of statistics\n",
        "\n",
        "First, download the csv files for the three subreddits from the link on the blackboard"
      ],
      "metadata": {
        "id": "_LPnJGs5jtkB"
      }
    },
    {
      "cell_type": "markdown",
      "source": [
        "### 1.1 Open the csv file on your computer. Explain what the different variables (*author*, *body*, *controversiality*, *score*, and *created_utc*) mean? Which one is the comment with the lowest/highest score?"
      ],
      "metadata": {
        "id": "tspUiEZNnTh7"
      }
    },
    {
      "cell_type": "markdown",
      "source": [
        "*ADD YOUR ANSWER HERE*"
      ],
      "metadata": {
        "id": "uiPJaPAFoGes"
      }
    },
    {
      "cell_type": "markdown",
      "source": [
        "Let's first load the files from these subreddits into Python. To do so, as done in the previous weeks, upload the files to Colab and replace the placeholders below by the actual paths."
      ],
      "metadata": {
        "id": "jYH0f9scnTBO"
      }
    },
    {
      "cell_type": "code",
      "source": [
        "import pandas as pd\n",
        "\n",
        "dsa = pd.read_csv(\"PATH_dsa\", compression=\"gzip\")\n",
        "thenewright = pd.read_csv(\"PATH_thenewright\", compression=\"gzip\")\n",
        "statistics = pd.read_csv(\"PATH_statistics\", compression=\"gzip\")\n",
        "\n",
        "# Showing how the data looks like\n",
        "dsa.head()"
      ],
      "metadata": {
        "id": "wdFB4NiklTxM"
      },
      "execution_count": null,
      "outputs": []
    },
    {
      "cell_type": "markdown",
      "source": [
        "Next, we will use a machine learning model from [huggingface.co](https://huggingface.co/Hate-speech-CNERG/dehatebert-mono-english) to classify the content of the comments into hate-speech or non-hate-speech.\n",
        "\n",
        "The code below first loads the pre-trained classification model from [huggingface.co](https://huggingface.co/Hate-speech-CNERG/dehatebert-mono-english) and then applies it to a sample of the data of a specified size (`sample_size` argument). The model requires the comments to be at most 512 characters, so we first truncate comments to their first 512 characters. The model provides a label (HATE/NON_HATE) and a probability of the label. We reverse the probability for the label NON_HATE so higher scores mean higher levels of hate."
      ],
      "metadata": {
        "id": "0qGizeIVs0ry"
      }
    },
    {
      "cell_type": "code",
      "source": [
        "from transformers import pipeline\n",
        "\n",
        "# Create function to classify comments\n",
        "def classify_comment(pipe, comments):\n",
        "    # Truncate comments to first 512 characters to avoid error\n",
        "    truncated_comments = [comment[:512] for comment in comments]\n",
        "    results = pipe(truncated_comments)  # Process comments as a batch\n",
        "\n",
        "\n",
        "    return [result[\"score\"] if   result[\"label\"] in {\"HATE\", \"negative\"}\n",
        "                            else 1-result['score']\n",
        "            for result in results]  # Extract labels\n",
        "\n",
        "def label_data(data, sample_size=1000, model_name=\"Hate-speech-CNERG/dehatebert-mono-english\", random_state=123, classify_comment=classify_comment):\n",
        "  \"\"\"\n",
        "  Classifies comments in a DataFrame using a specified model.\n",
        "  \"\"\"\n",
        "  # Load text classification pipeline with a model for hate speech detection\n",
        "  pipe = pipeline(\"text-classification\", model=model_name, device=0)\n",
        "\n",
        "  # Draw a sample from non-deleted comments\n",
        "  sample_data = data.sample(n=sample_size, replace=False, random_state=random_state)\n",
        "\n",
        "  # Apply the classifier to the sampled comments\n",
        "  sample_data['hate_score'] = classify_comment(pipe, sample_data['body'])\n",
        "\n",
        "  return sample_data"
      ],
      "metadata": {
        "id": "aA8kPYtxuMl6"
      },
      "execution_count": null,
      "outputs": []
    },
    {
      "cell_type": "markdown",
      "source": [
        "### 1.2 Apply the `label_data` function to the data from the three subreddits using the defaults.\n",
        "\n",
        "Name them `df_tnr_label`, `df_stats_label`, `df_dsa_label`.\n",
        "\n",
        "The code is written below, you could increase teh sample_size but it will take a long time to run.\n"
      ],
      "metadata": {
        "id": "5X2upYdxo9Ry"
      }
    },
    {
      "cell_type": "code",
      "source": [
        "# Labeling the data\n",
        "df_tnr_label = label_data(thenewright, model_name=\"Hate-speech-CNERG/dehatebert-mono-english\")\n",
        "df_stats_label = label_data(statistics, model_name=\"Hate-speech-CNERG/dehatebert-mono-english\")\n",
        "df_dsa_label = label_data(dsa, model_name=\"Hate-speech-CNERG/dehatebert-mono-english\")"
      ],
      "metadata": {
        "colab": {
          "base_uri": "https://localhost:8080/",
          "height": 411,
          "referenced_widgets": [
            "b49b1bf774c84251bff44c13ef0450b2",
            "64b4e1d7c73f47a393633321600ba820",
            "045008b20cf64af4aa65d5e7bdc8f5b3",
            "d82935a1ef1241b88a6efe08480f550b",
            "54648af50d534859a3986673240ec135",
            "352c32901dfa4ba49498fc4e823cc5da",
            "106f1f19c6f04d93b52c367a0d27727c",
            "e340c3dfdfe94c7fa5abc6ad57eaba10",
            "7a7dbcae3f2b42e0b7330f2fddbf934a",
            "d2fae02034e74066a2010e0a54ee01de",
            "2881ecde0481453d85de3e4d9ef70f90",
            "0b817a5cea904689ba65b5d1502b1c3a",
            "2238370710d246cbbdc8934dbed6bb84",
            "28caa9c053f243b0974cb7cd357fd255",
            "72582f17abe64dc39647a6bf44fbbcf7",
            "023a4135b94a47a193c7eb94d9755813",
            "cc9d9176619e41b4bd2819827ccffd6f",
            "cc2670096ba842e3bfafd5e2955abf6c",
            "3369c4768c66417e9a6cf2ba451b3c4b",
            "c69eb6b3f1c14475ab14a987d1ce2a45",
            "915d6f32a63648f98b3070910c646c61",
            "9069b1cd0cab40c5985c141778049a7b",
            "67870014460242edb4502540a2c9a857",
            "0a0eabdedad74072870083427caa1fb8",
            "db75150220a34943807273030ac8366a",
            "a82970d3b1b546fa8f63b62f49b7ddab",
            "6a51f7b501f94b21901bf1d5cc9086f0",
            "8f98607b0fe64c2492271654c5741159",
            "7deb8065187249248b52784ddfe967b7",
            "80ea12956b124cc4ac8af3b2cf68d2c4",
            "50c54a848a5e416f80558abad250532a",
            "8f09b697c40f4b2d8ed3f78f7afb7a74",
            "10a2e1090a864d10b9d9172047bc038a",
            "2f3188f81da647929239beaa563463da",
            "ba7b2d241df74677b32e77e22a2d00c6",
            "e6c2f40984dc44d696b0f0729ceffc6f",
            "6de57011fc5649c5b81e33d7e4160538",
            "74ddf579c96941038810666bf17f2e83",
            "d5b3ce37ea574d37bae2e62cddf53b27",
            "e817efa20ce541cd87f2edd80d137719",
            "0044cf2130b148c18d0f2f6050409723",
            "f2bbe5ec29b04d22be51b01559866bc5",
            "4aa7eb971f8c47ab853cafa7459971fd",
            "e54b33cd1d4b4ee8afbd4554dc58d780",
            "2070c43510dc43b8b6f5034e00375083",
            "c70799f25ec648da9e2a67c6affc9227",
            "e8e532513c74463bab63766ea17e1b5b",
            "ce17469412f2404893daecc75cc50f7c",
            "c348bd170456469f92516b851553f524",
            "b3ecdc253c194d998d08eec509cbc137",
            "a624ea3a5cf645ffb992d7c620b8181a",
            "c05480c439d3410ba917ed0911c664e0",
            "04be4f840d4542e58afa9dc68c761ae6",
            "636e5bac0afa44c199f4aa18a4e9c3af",
            "5b4ccfaa056c4ecda9c4bef88a246c82"
          ]
        },
        "id": "YrWaZAy3lmUR",
        "outputId": "0c2c343b-0a59-4d81-ead5-193bb5174c17"
      },
      "execution_count": null,
      "outputs": [
        {
          "output_type": "stream",
          "name": "stderr",
          "text": [
            "/usr/local/lib/python3.10/dist-packages/huggingface_hub/utils/_token.py:89: UserWarning: \n",
            "The secret `HF_TOKEN` does not exist in your Colab secrets.\n",
            "To authenticate with the Hugging Face Hub, create a token in your settings tab (https://huggingface.co/settings/tokens), set it as secret in your Google Colab and restart your session.\n",
            "You will be able to reuse this secret in all of your notebooks.\n",
            "Please note that authentication is recommended but still optional to access public models or datasets.\n",
            "  warnings.warn(\n"
          ]
        },
        {
          "output_type": "display_data",
          "data": {
            "text/plain": [
              "config.json:   0%|          | 0.00/1.23k [00:00<?, ?B/s]"
            ],
            "application/vnd.jupyter.widget-view+json": {
              "version_major": 2,
              "version_minor": 0,
              "model_id": "b49b1bf774c84251bff44c13ef0450b2"
            }
          },
          "metadata": {}
        },
        {
          "output_type": "display_data",
          "data": {
            "text/plain": [
              "pytorch_model.bin:   0%|          | 0.00/669M [00:00<?, ?B/s]"
            ],
            "application/vnd.jupyter.widget-view+json": {
              "version_major": 2,
              "version_minor": 0,
              "model_id": "0b817a5cea904689ba65b5d1502b1c3a"
            }
          },
          "metadata": {}
        },
        {
          "output_type": "display_data",
          "data": {
            "text/plain": [
              "tokenizer_config.json:   0%|          | 0.00/152 [00:00<?, ?B/s]"
            ],
            "application/vnd.jupyter.widget-view+json": {
              "version_major": 2,
              "version_minor": 0,
              "model_id": "67870014460242edb4502540a2c9a857"
            }
          },
          "metadata": {}
        },
        {
          "output_type": "display_data",
          "data": {
            "text/plain": [
              "vocab.txt:   0%|          | 0.00/872k [00:00<?, ?B/s]"
            ],
            "application/vnd.jupyter.widget-view+json": {
              "version_major": 2,
              "version_minor": 0,
              "model_id": "2f3188f81da647929239beaa563463da"
            }
          },
          "metadata": {}
        },
        {
          "output_type": "display_data",
          "data": {
            "text/plain": [
              "special_tokens_map.json:   0%|          | 0.00/112 [00:00<?, ?B/s]"
            ],
            "application/vnd.jupyter.widget-view+json": {
              "version_major": 2,
              "version_minor": 0,
              "model_id": "2070c43510dc43b8b6f5034e00375083"
            }
          },
          "metadata": {}
        },
        {
          "output_type": "stream",
          "name": "stderr",
          "text": [
            "/usr/local/lib/python3.10/dist-packages/transformers/tokenization_utils_base.py:1601: FutureWarning: `clean_up_tokenization_spaces` was not set. It will be set to `True` by default. This behavior will be depracted in transformers v4.45, and will be then set to `False` by default. For more details check this issue: https://github.com/huggingface/transformers/issues/31884\n",
            "  warnings.warn(\n",
            "/usr/local/lib/python3.10/dist-packages/transformers/tokenization_utils_base.py:1601: FutureWarning: `clean_up_tokenization_spaces` was not set. It will be set to `True` by default. This behavior will be depracted in transformers v4.45, and will be then set to `False` by default. For more details check this issue: https://github.com/huggingface/transformers/issues/31884\n",
            "  warnings.warn(\n",
            "/usr/local/lib/python3.10/dist-packages/transformers/tokenization_utils_base.py:1601: FutureWarning: `clean_up_tokenization_spaces` was not set. It will be set to `True` by default. This behavior will be depracted in transformers v4.45, and will be then set to `False` by default. For more details check this issue: https://github.com/huggingface/transformers/issues/31884\n",
            "  warnings.warn(\n"
          ]
        }
      ]
    },
    {
      "cell_type": "code",
      "source": [
        "# Showing how the labeled data looks like\n",
        "df_tnr_label.head()"
      ],
      "metadata": {
        "id": "Swi6f4dAlnFu"
      },
      "execution_count": null,
      "outputs": []
    },
    {
      "cell_type": "markdown",
      "source": [
        "What is the comment with the highest hate score in each subreddit? (see code below for inspiration)"
      ],
      "metadata": {
        "id": "VFsFp3Z3lxb9"
      }
    },
    {
      "cell_type": "markdown",
      "source": [
        "*ADD YOUR ANSWER HERE*"
      ],
      "metadata": {
        "id": "nxDhhgw5lyLm"
      }
    },
    {
      "cell_type": "code",
      "source": [
        "df_tnr_label.sort_values(by=\"hate_score\", ascending=False)[\"body\"].head().values"
      ],
      "metadata": {
        "colab": {
          "base_uri": "https://localhost:8080/"
        },
        "id": "gyewCgDPwM11",
        "outputId": "456c2cc8-0a6b-4a1a-913c-3896a2d1f16d"
      },
      "execution_count": null,
      "outputs": [
        {
          "output_type": "execute_result",
          "data": {
            "text/plain": [
              "array(['Fuck that faggot fredo. \\n\\n-an Italian',\n",
              "       'The one dude is now a professional builder or something, so yeah. This fat little lefty faggot is about 30-50 lbs overweight and living at home.',\n",
              "       \"Mexico deports illegal aliens, therefore, Mexicans are Nazis. The USA deports illegal aliens from Mexico, therefore Americans are Nazis. But wait, how can they be Nazis for deporting Nazis? Wouldn't America be less Nazi as a result of removing Nazis?\\n\\nDude's 'logic' isn't internally consistent, and it doesn't make any sense.\",\n",
              "       \"&gt;You don't downvote yet you just did it,\\n\\n[Nope. ](https://i.imgur.com/bJbAily.png) That's somebody else who thinks you're being a fag, too. I don't downvote because karma is something only faggots care about. That's why you care so kucn right now.\\n\\n&gt;Don't flatter yourself. It's apparent that any topic you can't defend is unimportant.\\n\\nImagine caring this much about the opinions of strangers on the internet. You should go outside.\",\n",
              "       \"Making up an argument that the other side has to make yourself appear right. Not my fault you're a retarded faggot\"],\n",
              "      dtype=object)"
            ]
          },
          "metadata": {},
          "execution_count": 7
        }
      ]
    },
    {
      "cell_type": "markdown",
      "source": [
        "We can now analyze the provided hat_scores to the subreddits by plotting them."
      ],
      "metadata": {
        "id": "oPa18JOlpN66"
      }
    },
    {
      "cell_type": "code",
      "source": [
        "import seaborn as sns\n",
        "import pylab as plt\n",
        "\n",
        "sns.kdeplot(df_dsa_label[\"hate_score\"], label=\"DSA\")\n",
        "sns.kdeplot(df_tnr_label[\"hate_score\"], label=\"TheNewRight\")\n",
        "sns.kdeplot(df_stats_label[\"hate_score\"], label=\"Statistics\")\n",
        "plt.legend()\n"
      ],
      "metadata": {
        "colab": {
          "base_uri": "https://localhost:8080/",
          "height": 468
        },
        "id": "INZqyWwivUrO",
        "outputId": "afa58c0a-0721-4e9c-dffd-d09c6bc3d76f"
      },
      "execution_count": null,
      "outputs": [
        {
          "output_type": "execute_result",
          "data": {
            "text/plain": [
              "<matplotlib.legend.Legend at 0x7a45acab9e40>"
            ]
          },
          "metadata": {},
          "execution_count": 8
        },
        {
          "output_type": "display_data",
          "data": {
            "text/plain": [
              "<Figure size 640x480 with 1 Axes>"
            ],
            "image/png": "[encoded data removed]"
          },
          "metadata": {}
        }
      ]
    },
    {
      "cell_type": "code",
      "source": [
        "# Group each subreddit's data by year and calculate mean hate score.\n",
        "tnr_avg_hate = df_tnr_label.groupby(pd.Grouper(key=\"created_utc\", freq=\"Y\"))[\"hate_score\"].mean()\n",
        "stats_avg_hate = df_stats_label.groupby(pd.Grouper(key=\"created_utc\", freq=\"Y\"))[\"hate_score\"].mean()\n",
        "dsa_avg_hate = df_dsa_label.groupby(pd.Grouper(key=\"created_utc\", freq=\"Y\"))[\"hate_score\"].mean()\n",
        "\n",
        "# Plot average hate score over time by subreddit\n",
        "plt.plot(tnr_avg_hate.index, tnr_avg_hate.values, label=\"TheNewRight\")\n",
        "plt.plot(stats_avg_hate.index, stats_avg_hate.values, label=\"Statistics\")\n",
        "plt.plot(dsa_avg_hate.index, dsa_avg_hate.values, label=\"DSA\")\n",
        "\n",
        "plt.xlabel(\"Year\")\n",
        "plt.ylabel('Average Hate Score')\n",
        "plt.legend()\n",
        "plt.show()\n"
      ],
      "metadata": {
        "colab": {
          "base_uri": "https://localhost:8080/",
          "height": 576
        },
        "id": "XeiYJrafnA9l",
        "outputId": "b11ffed0-6070-498e-d768-d06b6aade6d0"
      },
      "execution_count": null,
      "outputs": [
        {
          "output_type": "stream",
          "name": "stderr",
          "text": [
            "<ipython-input-15-21301348967e>:2: FutureWarning: 'Y' is deprecated and will be removed in a future version, please use 'YE' instead.\n",
            "  tnr_avg_hate = df_tnr_label.groupby(pd.Grouper(key=\"created_utc\", freq=\"Y\"))[\"hate_score\"].mean()\n",
            "<ipython-input-15-21301348967e>:3: FutureWarning: 'Y' is deprecated and will be removed in a future version, please use 'YE' instead.\n",
            "  stats_avg_hate = df_stats_label.groupby(pd.Grouper(key=\"created_utc\", freq=\"Y\"))[\"hate_score\"].mean()\n",
            "<ipython-input-15-21301348967e>:4: FutureWarning: 'Y' is deprecated and will be removed in a future version, please use 'YE' instead.\n",
            "  dsa_avg_hate = df_dsa_label.groupby(pd.Grouper(key=\"created_utc\", freq=\"Y\"))[\"hate_score\"].mean()\n"
          ]
        },
        {
          "output_type": "display_data",
          "data": {
            "text/plain": [
              "<Figure size 640x480 with 1 Axes>"
            ],
            "image/png": "[encoded data removed]"
          },
          "metadata": {}
        }
      ]
    },
    {
      "cell_type": "markdown",
      "source": [
        "### 1.3 What is the share of hate speech per subreddit according to the model?"
      ],
      "metadata": {
        "id": "O6FlQnyHtaf-"
      }
    },
    {
      "cell_type": "markdown",
      "source": [
        "*ADD YOUR ANSWER HERE*"
      ],
      "metadata": {
        "id": "WFsIiOiLthvf"
      }
    },
    {
      "cell_type": "markdown",
      "source": [
        "### 1.4 Can you find an example labeled as hate speech that is likely not hate speech?  What do you think went wrong?"
      ],
      "metadata": {
        "id": "ilIfU_ZMuPxJ"
      }
    },
    {
      "cell_type": "markdown",
      "source": [
        "*ADD YOUR ANSWER HERE*"
      ],
      "metadata": {
        "id": "SH2FRgxOuUTr"
      }
    },
    {
      "cell_type": "markdown",
      "source": [
        "### 1.5 Now re-run the `label_data` function using [this](https://huggingface.co/cardiffnlp/twitter-roberta-base-sentiment-latest) sentiment model (Hint: You can do this by setting `model = \"cardiffnlp/twitter-roberta-base-sentiment-latest\"` in the `label_data` function). What are the most negative comments? What are the most negative subreddits?"
      ],
      "metadata": {
        "id": "_DGfUKCntuRP"
      }
    },
    {
      "cell_type": "code",
      "source": [
        "# ADD YOUR ANSWER HERE"
      ],
      "metadata": {
        "id": "T0yUDltolPfU"
      },
      "execution_count": null,
      "outputs": []
    },
    {
      "cell_type": "markdown",
      "source": [
        "*ADD YOUR ANSWER HERE*"
      ],
      "metadata": {
        "id": "c-4ZG6bhuBEl"
      }
    },
    {
      "cell_type": "markdown",
      "source": [
        "*italicized text*## Part 2: Reflection on AI Biases"
      ],
      "metadata": {
        "id": "xmP8HjsKxiw_"
      }
    },
    {
      "cell_type": "markdown",
      "source": [
        "### Data Collection and Annotation Bias\n",
        "\n",
        "The hate speech model you used was trained using mostly data from Twitter and Stormfront (a neo-nazi forum) [[ref]](https://arxiv.org/pdf/2004.06465).\n",
        "\n"
      ],
      "metadata": {
        "id": "RBmtJLhMx0vp"
      }
    },
    {
      "cell_type": "markdown",
      "source": [
        "#### 2.1 Sample bias: to what extent is the data used in the training of the model representative of the Reddit data you are using? What are the potential implications?"
      ],
      "metadata": {
        "id": "-3GCo_s6yu_O"
      }
    },
    {
      "cell_type": "markdown",
      "source": [
        "*ADD YOUR ANSWER HERE*"
      ],
      "metadata": {
        "id": "4E72BlrByup7"
      }
    },
    {
      "cell_type": "markdown",
      "source": [
        "#### 2.2 How could outcome bias be affecting this model? (remember that the model was trained using several datasets from different sources and annotated in different ways)."
      ],
      "metadata": {
        "id": "aXczh7ZsyulM"
      }
    },
    {
      "cell_type": "markdown",
      "source": [
        "*ADD YOUR ANSWER HERE*"
      ],
      "metadata": {
        "id": "HPqTjjXryt8s"
      }
    },
    {
      "cell_type": "markdown",
      "source": [],
      "metadata": {
        "id": "r3HwNHwTw_t1"
      }
    },
    {
      "cell_type": "markdown",
      "source": [
        "#### 2.3 If you use this model to label data and answer a research question, what type of measurment error would you be including?"
      ],
      "metadata": {
        "id": "rkCzRXW5yty7"
      }
    },
    {
      "cell_type": "markdown",
      "source": [
        "*ADD YOUR ANSWER HERE*"
      ],
      "metadata": {
        "id": "UGC1R43AythD"
      }
    },
    {
      "cell_type": "markdown",
      "source": [
        "### Part 3: Auditing and correcting models:\n",
        "\n",
        "We have now added three new columns: `gender` (male/female/queer/neutral), `label_value` (the \"true\" label of hate) and `score` (the label of hate predicted by the previous model, where a score greater than 0.5 is considered hate). Assume the `gender` and `label_value` columns have no mistakes for the sake of the exercise.\n",
        "\n",
        "Download the data set `df_dsa_label_true.csv` with these columns from the link above and upload them into Colab. Then load it into Python with the code below:"
      ],
      "metadata": {
        "id": "C5lRC7p1GBzj"
      }
    },
    {
      "cell_type": "code",
      "source": [
        "# Load artificially labelled dsa comments\n",
        "df_dsa_label = pd.read_csv(\"df_dsa_label_true.csv\", index_col=0)\n",
        "df_dsa_label.head()"
      ],
      "metadata": {
        "id": "5Gosi80DuiVD",
        "colab": {
          "base_uri": "https://localhost:8080/",
          "height": 223
        },
        "outputId": "dc22fe1f-8084-41e9-c537-c89f19794703"
      },
      "execution_count": null,
      "outputs": [
        {
          "output_type": "execute_result",
          "data": {
            "text/plain": [
              "   score  label_value   gender  \\\n",
              "0      1            1    queer   \n",
              "1      1            0   female   \n",
              "2      1            0    queer   \n",
              "3      1            1  neutral   \n",
              "4      1            1     male   \n",
              "\n",
              "                                                text  \n",
              "0  Actually that is not a critique of UBI / GBI f...  \n",
              "1  Suggest about what? This is just sensationaliz...  \n",
              "2  Ignore the individual, look for the consequenc...  \n",
              "3  Does anyone remember the last name of Mike the...  \n",
              "4  and actually I don't even think it's in the gr...  "
            ],
            "text/html": [
              "\n",
              "  <div id=\"df-f4ccee82-857e-466f-8b7d-04994d56fe70\" class=\"colab-df-container\">\n",
              "    <div>\n",
              "<style scoped>\n",
              "    .dataframe tbody tr th:only-of-type {\n",
              "        vertical-align: middle;\n",
              "    }\n",
              "\n",
              "    .dataframe tbody tr th {\n",
              "        vertical-align: top;\n",
              "    }\n",
              "\n",
              "    .dataframe thead th {\n",
              "        text-align: right;\n",
              "    }\n",
              "</style>\n",
              "<table border=\"1\" class=\"dataframe\">\n",
              "  <thead>\n",
              "    <tr style=\"text-align: right;\">\n",
              "      <th></th>\n",
              "      <th>score</th>\n",
              "      <th>label_value</th>\n",
              "      <th>gender</th>\n",
              "      <th>text</th>\n",
              "    </tr>\n",
              "  </thead>\n",
              "  <tbody>\n",
              "    <tr>\n",
              "      <th>0</th>\n",
              "      <td>1</td>\n",
              "      <td>1</td>\n",
              "      <td>queer</td>\n",
              "      <td>Actually that is not a critique of UBI / GBI f...</td>\n",
              "    </tr>\n",
              "    <tr>\n",
              "      <th>1</th>\n",
              "      <td>1</td>\n",
              "      <td>0</td>\n",
              "      <td>female</td>\n",
              "      <td>Suggest about what? This is just sensationaliz...</td>\n",
              "    </tr>\n",
              "    <tr>\n",
              "      <th>2</th>\n",
              "      <td>1</td>\n",
              "      <td>0</td>\n",
              "      <td>queer</td>\n",
              "      <td>Ignore the individual, look for the consequenc...</td>\n",
              "    </tr>\n",
              "    <tr>\n",
              "      <th>3</th>\n",
              "      <td>1</td>\n",
              "      <td>1</td>\n",
              "      <td>neutral</td>\n",
              "      <td>Does anyone remember the last name of Mike the...</td>\n",
              "    </tr>\n",
              "    <tr>\n",
              "      <th>4</th>\n",
              "      <td>1</td>\n",
              "      <td>1</td>\n",
              "      <td>male</td>\n",
              "      <td>and actually I don't even think it's in the gr...</td>\n",
              "    </tr>\n",
              "  </tbody>\n",
              "</table>\n",
              "</div>\n",
              "    <div class=\"colab-df-buttons\">\n",
              "\n",
              "  <div class=\"colab-df-container\">\n",
              "    <button class=\"colab-df-convert\" onclick=\"convertToInteractive('df-f4ccee82-857e-466f-8b7d-04994d56fe70')\"\n",
              "            title=\"Convert this dataframe to an interactive table.\"\n",
              "            style=\"display:none;\">\n",
              "\n",
              "  <svg xmlns=\"http://www.w3.org/2000/svg\" height=\"24px\" viewBox=\"0 -960 960 960\">\n",
              "    <path d=\"M120-120v-720h720v720H120Zm60-500h600v-160H180v160Zm220 220h160v-160H400v160Zm0 220h160v-160H400v160ZM180-400h160v-160H180v160Zm440 0h160v-160H620v160ZM180-180h160v-160H180v160Zm440 0h160v-160H620v160Z\"/>\n",
              "  </svg>\n",
              "    </button>\n",
              "\n",
              "  <style>\n",
              "    .colab-df-container {\n",
              "      display:flex;\n",
              "      gap: 12px;\n",
              "    }\n",
              "\n",
              "    .colab-df-convert {\n",
              "      background-color: #E8F0FE;\n",
              "      border: none;\n",
              "      border-radius: 50%;\n",
              "      cursor: pointer;\n",
              "      display: none;\n",
              "      fill: #1967D2;\n",
              "      height: 32px;\n",
              "      padding: 0 0 0 0;\n",
              "      width: 32px;\n",
              "    }\n",
              "\n",
              "    .colab-df-convert:hover {\n",
              "      background-color: #E2EBFA;\n",
              "      box-shadow: 0px 1px 2px rgba(60, 64, 67, 0.3), 0px 1px 3px 1px rgba(60, 64, 67, 0.15);\n",
              "      fill: #174EA6;\n",
              "    }\n",
              "\n",
              "    .colab-df-buttons div {\n",
              "      margin-bottom: 4px;\n",
              "    }\n",
              "\n",
              "    [theme=dark] .colab-df-convert {\n",
              "      background-color: #3B4455;\n",
              "      fill: #D2E3FC;\n",
              "    }\n",
              "\n",
              "    [theme=dark] .colab-df-convert:hover {\n",
              "      background-color: #434B5C;\n",
              "      box-shadow: 0px 1px 3px 1px rgba(0, 0, 0, 0.15);\n",
              "      filter: drop-shadow(0px 1px 2px rgba(0, 0, 0, 0.3));\n",
              "      fill: #FFFFFF;\n",
              "    }\n",
              "  </style>\n",
              "\n",
              "    <script>\n",
              "      const buttonEl =\n",
              "        document.querySelector('#df-f4ccee82-857e-466f-8b7d-04994d56fe70 button.colab-df-convert');\n",
              "      buttonEl.style.display =\n",
              "        google.colab.kernel.accessAllowed ? 'block' : 'none';\n",
              "\n",
              "      async function convertToInteractive(key) {\n",
              "        const element = document.querySelector('#df-f4ccee82-857e-466f-8b7d-04994d56fe70');\n",
              "        const dataTable =\n",
              "          await google.colab.kernel.invokeFunction('convertToInteractive',\n",
              "                                                    [key], {});\n",
              "        if (!dataTable) return;\n",
              "\n",
              "        const docLinkHtml = 'Like what you see? Visit the ' +\n",
              "          '<a target=\"_blank\" href=https://colab.research.google.com/notebooks/data_table.ipynb>data table notebook</a>'\n",
              "          + ' to learn more about interactive tables.';\n",
              "        element.innerHTML = '';\n",
              "        dataTable['output_type'] = 'display_data';\n",
              "        await google.colab.output.renderOutput(dataTable, element);\n",
              "        const docLink = document.createElement('div');\n",
              "        docLink.innerHTML = docLinkHtml;\n",
              "        element.appendChild(docLink);\n",
              "      }\n",
              "    </script>\n",
              "  </div>\n",
              "\n",
              "\n",
              "<div id=\"df-0a8585b0-893b-484a-9b74-ef77ab4dcb91\">\n",
              "  <button class=\"colab-df-quickchart\" onclick=\"quickchart('df-0a8585b0-893b-484a-9b74-ef77ab4dcb91')\"\n",
              "            title=\"Suggest charts\"\n",
              "            style=\"display:none;\">\n",
              "\n",
              "<svg xmlns=\"http://www.w3.org/2000/svg\" height=\"24px\"viewBox=\"0 0 24 24\"\n",
              "     width=\"24px\">\n",
              "    <g>\n",
              "        <path d=\"M19 3H5c-1.1 0-2 .9-2 2v14c0 1.1.9 2 2 2h14c1.1 0 2-.9 2-2V5c0-1.1-.9-2-2-2zM9 17H7v-7h2v7zm4 0h-2V7h2v10zm4 0h-2v-4h2v4z\"/>\n",
              "    </g>\n",
              "</svg>\n",
              "  </button>\n",
              "\n",
              "<style>\n",
              "  .colab-df-quickchart {\n",
              "      --bg-color: #E8F0FE;\n",
              "      --fill-color: #1967D2;\n",
              "      --hover-bg-color: #E2EBFA;\n",
              "      --hover-fill-color: #174EA6;\n",
              "      --disabled-fill-color: #AAA;\n",
              "      --disabled-bg-color: #DDD;\n",
              "  }\n",
              "\n",
              "  [theme=dark] .colab-df-quickchart {\n",
              "      --bg-color: #3B4455;\n",
              "      --fill-color: #D2E3FC;\n",
              "      --hover-bg-color: #434B5C;\n",
              "      --hover-fill-color: #FFFFFF;\n",
              "      --disabled-bg-color: #3B4455;\n",
              "      --disabled-fill-color: #666;\n",
              "  }\n",
              "\n",
              "  .colab-df-quickchart {\n",
              "    background-color: var(--bg-color);\n",
              "    border: none;\n",
              "    border-radius: 50%;\n",
              "    cursor: pointer;\n",
              "    display: none;\n",
              "    fill: var(--fill-color);\n",
              "    height: 32px;\n",
              "    padding: 0;\n",
              "    width: 32px;\n",
              "  }\n",
              "\n",
              "  .colab-df-quickchart:hover {\n",
              "    background-color: var(--hover-bg-color);\n",
              "    box-shadow: 0 1px 2px rgba(60, 64, 67, 0.3), 0 1px 3px 1px rgba(60, 64, 67, 0.15);\n",
              "    fill: var(--button-hover-fill-color);\n",
              "  }\n",
              "\n",
              "  .colab-df-quickchart-complete:disabled,\n",
              "  .colab-df-quickchart-complete:disabled:hover {\n",
              "    background-color: var(--disabled-bg-color);\n",
              "    fill: var(--disabled-fill-color);\n",
              "    box-shadow: none;\n",
              "  }\n",
              "\n",
              "  .colab-df-spinner {\n",
              "    border: 2px solid var(--fill-color);\n",
              "    border-color: transparent;\n",
              "    border-bottom-color: var(--fill-color);\n",
              "    animation:\n",
              "      spin 1s steps(1) infinite;\n",
              "  }\n",
              "\n",
              "  @keyframes spin {\n",
              "    0% {\n",
              "      border-color: transparent;\n",
              "      border-bottom-color: var(--fill-color);\n",
              "      border-left-color: var(--fill-color);\n",
              "    }\n",
              "    20% {\n",
              "      border-color: transparent;\n",
              "      border-left-color: var(--fill-color);\n",
              "      border-top-color: var(--fill-color);\n",
              "    }\n",
              "    30% {\n",
              "      border-color: transparent;\n",
              "      border-left-color: var(--fill-color);\n",
              "      border-top-color: var(--fill-color);\n",
              "      border-right-color: var(--fill-color);\n",
              "    }\n",
              "    40% {\n",
              "      border-color: transparent;\n",
              "      border-right-color: var(--fill-color);\n",
              "      border-top-color: var(--fill-color);\n",
              "    }\n",
              "    60% {\n",
              "      border-color: transparent;\n",
              "      border-right-color: var(--fill-color);\n",
              "    }\n",
              "    80% {\n",
              "      border-color: transparent;\n",
              "      border-right-color: var(--fill-color);\n",
              "      border-bottom-color: var(--fill-color);\n",
              "    }\n",
              "    90% {\n",
              "      border-color: transparent;\n",
              "      border-bottom-color: var(--fill-color);\n",
              "    }\n",
              "  }\n",
              "</style>\n",
              "\n",
              "  <script>\n",
              "    async function quickchart(key) {\n",
              "      const quickchartButtonEl =\n",
              "        document.querySelector('#' + key + ' button');\n",
              "      quickchartButtonEl.disabled = true;  // To prevent multiple clicks.\n",
              "      quickchartButtonEl.classList.add('colab-df-spinner');\n",
              "      try {\n",
              "        const charts = await google.colab.kernel.invokeFunction(\n",
              "            'suggestCharts', [key], {});\n",
              "      } catch (error) {\n",
              "        console.error('Error during call to suggestCharts:', error);\n",
              "      }\n",
              "      quickchartButtonEl.classList.remove('colab-df-spinner');\n",
              "      quickchartButtonEl.classList.add('colab-df-quickchart-complete');\n",
              "    }\n",
              "    (() => {\n",
              "      let quickchartButtonEl =\n",
              "        document.querySelector('#df-0a8585b0-893b-484a-9b74-ef77ab4dcb91 button');\n",
              "      quickchartButtonEl.style.display =\n",
              "        google.colab.kernel.accessAllowed ? 'block' : 'none';\n",
              "    })();\n",
              "  </script>\n",
              "</div>\n",
              "\n",
              "    </div>\n",
              "  </div>\n"
            ],
            "application/vnd.google.colaboratory.intrinsic+json": {
              "type": "dataframe",
              "variable_name": "df_dsa_label",
              "summary": "{\n  \"name\": \"df_dsa_label\",\n  \"rows\": 1000,\n  \"fields\": [\n    {\n      \"column\": \"score\",\n      \"properties\": {\n        \"dtype\": \"number\",\n        \"std\": 0,\n        \"min\": 0,\n        \"max\": 1,\n        \"num_unique_values\": 2,\n        \"samples\": [\n          0,\n          1\n        ],\n        \"semantic_type\": \"\",\n        \"description\": \"\"\n      }\n    },\n    {\n      \"column\": \"label_value\",\n      \"properties\": {\n        \"dtype\": \"number\",\n        \"std\": 0,\n        \"min\": 0,\n        \"max\": 1,\n        \"num_unique_values\": 2,\n        \"samples\": [\n          0,\n          1\n        ],\n        \"semantic_type\": \"\",\n        \"description\": \"\"\n      }\n    },\n    {\n      \"column\": \"gender\",\n      \"properties\": {\n        \"dtype\": \"category\",\n        \"num_unique_values\": 4,\n        \"samples\": [\n          \"female\",\n          \"male\"\n        ],\n        \"semantic_type\": \"\",\n        \"description\": \"\"\n      }\n    },\n    {\n      \"column\": \"text\",\n      \"properties\": {\n        \"dtype\": \"string\",\n        \"num_unique_values\": 965,\n        \"samples\": [\n          \"Great example of national leadership choosing a relationship with the Democrats and short term political convenience over socialist politics and solidarity with the international working class\",\n          \"California 2020 Election \\n\\n[Register to Vote](http://registertovote.ca.gov/) \\n\\n[Primary Election](http://www.sos.ca.gov/elections/voter-registration/vote-mail/#apply): March 3, 2020 \\n\\n[General Election](http://www.sos.ca.gov/elections/voter-registration/vote-mail/#apply): November 3, 2020\"\n        ],\n        \"semantic_type\": \"\",\n        \"description\": \"\"\n      }\n    }\n  ]\n}"
            }
          },
          "metadata": {},
          "execution_count": 3
        }
      ]
    },
    {
      "cell_type": "markdown",
      "source": [
        "Next, we can use the `aequitas` package to audit the model. First read what `aequitas` does [on their website](https://www.datasciencepublicpolicy.org/our-work/tools-guides/aequitas/)"
      ],
      "metadata": {
        "id": "xXdWeUQb9VB6"
      }
    },
    {
      "cell_type": "code",
      "source": [
        "!pip install aequitas &> /dev/null # install aequitas\n",
        "from aequitas.audit import Audit # load it"
      ],
      "metadata": {
        "id": "vuTgsqqgyl22"
      },
      "execution_count": null,
      "outputs": []
    },
    {
      "cell_type": "code",
      "source": [
        "# Convert gender to categorical\n",
        "df_dsa_label['gender'] = pd.Categorical(df_dsa_label['gender']).astype(str) # change data type of gender variable for Audit function\n",
        "\n",
        "# Audit model\n",
        "audit = Audit(df_dsa_label.drop(columns=[\"text\"]), label_column=\"label_value\") # run audit function\n",
        "audit.audit()\n"
      ],
      "metadata": {
        "id": "LCvlINNq39nW"
      },
      "execution_count": null,
      "outputs": []
    },
    {
      "cell_type": "markdown",
      "source": [
        "Here is an example of how to audit a model using \"FPR\" (predictive equality) as a measure of bias"
      ],
      "metadata": {
        "id": "ombhqFeMzEO3"
      }
    },
    {
      "cell_type": "code",
      "source": [
        "metrics = ['fpr','fdr',\"tpr\", \"fnr\", \"pprev\"] # specify metrics\n",
        "\n",
        "disparity_tolerance = 1.25 # specify tolerance thresholds\n",
        "audit.summary_plot(metrics=metrics, fairness_threshold=disparity_tolerance) # plot metrics with specified thresholds"
      ],
      "metadata": {
        "colab": {
          "base_uri": "https://localhost:8080/",
          "height": 594
        },
        "id": "6WybtzPeys1j",
        "outputId": "d75730a0-20c9-455a-b480-748004fbd24a"
      },
      "execution_count": null,
      "outputs": [
        {
          "output_type": "execute_result",
          "data": {
            "text/html": [
              "\n",
              "<style>\n",
              "  #altair-viz-867fa61cddaf4fec950314ad66ae05c2.vega-embed {\n",
              "    width: 100%;\n",
              "    display: flex;\n",
              "  }\n",
              "\n",
              "  #altair-viz-867fa61cddaf4fec950314ad66ae05c2.vega-embed details,\n",
              "  #altair-viz-867fa61cddaf4fec950314ad66ae05c2.vega-embed details summary {\n",
              "    position: relative;\n",
              "  }\n",
              "</style>\n",
              "<div id=\"altair-viz-867fa61cddaf4fec950314ad66ae05c2\"></div>\n",
              "<script type=\"text/javascript\">\n",
              "  var VEGA_DEBUG = (typeof VEGA_DEBUG == \"undefined\") ? {} : VEGA_DEBUG;\n",
              "  (function(spec, embedOpt){\n",
              "    let outputDiv = document.currentScript.previousElementSibling;\n",
              "    if (outputDiv.id !== \"altair-viz-867fa61cddaf4fec950314ad66ae05c2\") {\n",
              "      outputDiv = document.getElementById(\"altair-viz-867fa61cddaf4fec950314ad66ae05c2\");\n",
              "    }\n",
              "    const paths = {\n",
              "      \"vega\": \"https://cdn.jsdelivr.net/npm/vega@5?noext\",\n",
              "      \"vega-lib\": \"https://cdn.jsdelivr.net/npm/vega-lib?noext\",\n",
              "      \"vega-lite\": \"https://cdn.jsdelivr.net/npm/vega-lite@5.20.1?noext\",\n",
              "      \"vega-embed\": \"https://cdn.jsdelivr.net/npm/vega-embed@6?noext\",\n",
              "    };\n",
              "\n",
              "    function maybeLoadScript(lib, version) {\n",
              "      var key = `${lib.replace(\"-\", \"\")}_version`;\n",
              "      return (VEGA_DEBUG[key] == version) ?\n",
              "        Promise.resolve(paths[lib]) :\n",
              "        new Promise(function(resolve, reject) {\n",
              "          var s = document.createElement('script');\n",
              "          document.getElementsByTagName(\"head\")[0].appendChild(s);\n",
              "          s.async = true;\n",
              "          s.onload = () => {\n",
              "            VEGA_DEBUG[key] = version;\n",
              "            return resolve(paths[lib]);\n",
              "          };\n",
              "          s.onerror = () => reject(`Error loading script: ${paths[lib]}`);\n",
              "          s.src = paths[lib];\n",
              "        });\n",
              "    }\n",
              "\n",
              "    function showError(err) {\n",
              "      outputDiv.innerHTML = `<div class=\"error\" style=\"color:red;\">${err}</div>`;\n",
              "      throw err;\n",
              "    }\n",
              "\n",
              "    function displayChart(vegaEmbed) {\n",
              "      vegaEmbed(outputDiv, spec, embedOpt)\n",
              "        .catch(err => showError(`Javascript Error: ${err.message}<br>This usually means there's a typo in your chart specification. See the javascript console for the full traceback.`));\n",
              "    }\n",
              "\n",
              "    if(typeof define === \"function\" && define.amd) {\n",
              "      requirejs.config({paths});\n",
              "      require([\"vega-embed\"], displayChart, err => showError(`Error loading script: ${err.message}`));\n",
              "    } else {\n",
              "      maybeLoadScript(\"vega\", \"5\")\n",
              "        .then(() => maybeLoadScript(\"vega-lite\", \"5.20.1\"))\n",
              "        .then(() => maybeLoadScript(\"vega-embed\", \"6\"))\n",
              "        .catch(showError)\n",
              "        .then(() => displayChart(vegaEmbed));\n",
              "    }\n",
              "  })({\"config\": {\"view\": {\"continuousWidth\": 300, \"continuousHeight\": 300, \"strokeWidth\": 0}, \"legend\": {\"labelColor\": \"rgb(102, 111, 137)\", \"labelFont\": \"Roboto, Arial, sans-serif\", \"labelFontSize\": 12, \"rowPadding\": 4, \"symbolSize\": 40, \"titleBaseline\": \"top\", \"titleColor\": \"rgb(25, 39, 78)\", \"titleFont\": \"Roboto, Arial, sans-serif\", \"titleFontSize\": 12, \"titleFontWeight\": \"bold\", \"titlePadding\": 8}}, \"vconcat\": [{\"hconcat\": [{\"vconcat\": [{\"mark\": {\"type\": \"text\", \"align\": \"center\", \"baseline\": \"middle\", \"color\": \"rgb(25, 39, 78)\", \"font\": \"Roboto, Arial, sans-serif\", \"fontWeight\": \"bold\", \"size\": 14}, \"encoding\": {\"text\": {\"value\": \"\"}}, \"height\": 70.5, \"width\": 32.0}, {\"layer\": [{\"mark\": {\"type\": \"text\", \"align\": \"center\", \"baseline\": \"middle\", \"color\": \"rgb(25, 39, 78)\", \"font\": \"Roboto, Arial, sans-serif\", \"fontWeight\": \"bold\", \"size\": 14}, \"encoding\": {\"text\": {\"value\": \"PREDICTIVE EQUALITY\"}, \"y\": {\"axis\": {\"domain\": false, \"grid\": false, \"labels\": false, \"ticks\": false, \"title\": null}, \"field\": \"y_position\", \"scale\": {\"domain\": [3, 1]}, \"type\": \"quantitative\"}}, \"transform\": [{\"calculate\": \"1.2\", \"as\": \"y_position\"}]}, {\"mark\": {\"type\": \"text\", \"align\": \"center\", \"baseline\": \"middle\", \"color\": \"rgb(102, 111, 137)\", \"font\": \"Roboto, Arial, sans-serif\", \"size\": 12}, \"encoding\": {\"text\": {\"value\": \"Groups\"}, \"y\": {\"axis\": {\"domain\": false, \"grid\": false, \"labels\": false, \"ticks\": false, \"title\": null}, \"field\": \"y_position\", \"scale\": {\"domain\": [3, 1]}, \"type\": \"quantitative\"}}, \"transform\": [{\"calculate\": \"2\", \"as\": \"y_position\"}]}, {\"mark\": {\"type\": \"text\", \"align\": \"center\", \"baseline\": \"middle\", \"color\": \"rgb(102, 111, 137)\", \"font\": \"Roboto, Arial, sans-serif\", \"size\": 12}, \"encoding\": {\"text\": {\"value\": \"% Pop.\"}, \"y\": {\"axis\": {\"domain\": false, \"grid\": false, \"labels\": false, \"ticks\": false, \"title\": null}, \"field\": \"y_position\", \"scale\": {\"domain\": [3, 1]}, \"type\": \"quantitative\"}}, \"transform\": [{\"calculate\": \"2.7\", \"as\": \"y_position\"}]}], \"height\": 61.1, \"width\": 32.0}, {\"layer\": [{\"mark\": {\"type\": \"text\", \"align\": \"center\", \"baseline\": \"middle\", \"color\": \"rgb(25, 39, 78)\", \"font\": \"Roboto, Arial, sans-serif\", \"fontWeight\": \"bold\", \"size\": 14}, \"encoding\": {\"text\": {\"value\": \"FDR\"}, \"y\": {\"axis\": {\"domain\": false, \"grid\": false, \"labels\": false, \"ticks\": false, \"title\": null}, \"field\": \"y_position\", \"scale\": {\"domain\": [3, 1]}, \"type\": \"quantitative\"}}, \"transform\": [{\"calculate\": \"1.2\", \"as\": \"y_position\"}]}, {\"mark\": {\"type\": \"text\", \"align\": \"center\", \"baseline\": \"middle\", \"color\": \"rgb(102, 111, 137)\", \"font\": \"Roboto, Arial, sans-serif\", \"size\": 12}, \"encoding\": {\"text\": {\"value\": \"Groups\"}, \"y\": {\"axis\": {\"domain\": false, \"grid\": false, \"labels\": false, \"ticks\": false, \"title\": null}, \"field\": \"y_position\", \"scale\": {\"domain\": [3, 1]}, \"type\": \"quantitative\"}}, \"transform\": [{\"calculate\": \"2\", \"as\": \"y_position\"}]}, {\"mark\": {\"type\": \"text\", \"align\": \"center\", \"baseline\": \"middle\", \"color\": \"rgb(102, 111, 137)\", \"font\": \"Roboto, Arial, sans-serif\", \"size\": 12}, \"encoding\": {\"text\": {\"value\": \"% Pop.\"}, \"y\": {\"axis\": {\"domain\": false, \"grid\": false, \"labels\": false, \"ticks\": false, \"title\": null}, \"field\": \"y_position\", \"scale\": {\"domain\": [3, 1]}, \"type\": \"quantitative\"}}, \"transform\": [{\"calculate\": \"2.7\", \"as\": \"y_position\"}]}], \"height\": 61.1, \"width\": 32.0}, {\"layer\": [{\"mark\": {\"type\": \"text\", \"align\": \"center\", \"baseline\": \"middle\", \"color\": \"rgb(25, 39, 78)\", \"font\": \"Roboto, Arial, sans-serif\", \"fontWeight\": \"bold\", \"size\": 14}, \"encoding\": {\"text\": {\"value\": \"EQUAL OPPORTUNITY\"}, \"y\": {\"axis\": {\"domain\": false, \"grid\": false, \"labels\": false, \"ticks\": false, \"title\": null}, \"field\": \"y_position\", \"scale\": {\"domain\": [3, 1]}, \"type\": \"quantitative\"}}, \"transform\": [{\"calculate\": \"1.2\", \"as\": \"y_position\"}]}, {\"mark\": {\"type\": \"text\", \"align\": \"center\", \"baseline\": \"middle\", \"color\": \"rgb(102, 111, 137)\", \"font\": \"Roboto, Arial, sans-serif\", \"size\": 12}, \"encoding\": {\"text\": {\"value\": \"Groups\"}, \"y\": {\"axis\": {\"domain\": false, \"grid\": false, \"labels\": false, \"ticks\": false, \"title\": null}, \"field\": \"y_position\", \"scale\": {\"domain\": [3, 1]}, \"type\": \"quantitative\"}}, \"transform\": [{\"calculate\": \"2\", \"as\": \"y_position\"}]}, {\"mark\": {\"type\": \"text\", \"align\": \"center\", \"baseline\": \"middle\", \"color\": \"rgb(102, 111, 137)\", \"font\": \"Roboto, Arial, sans-serif\", \"size\": 12}, \"encoding\": {\"text\": {\"value\": \"% Pop.\"}, \"y\": {\"axis\": {\"domain\": false, \"grid\": false, \"labels\": false, \"ticks\": false, \"title\": null}, \"field\": \"y_position\", \"scale\": {\"domain\": [3, 1]}, \"type\": \"quantitative\"}}, \"transform\": [{\"calculate\": \"2.7\", \"as\": \"y_position\"}]}], \"height\": 61.1, \"width\": 32.0}, {\"layer\": [{\"mark\": {\"type\": \"text\", \"align\": \"center\", \"baseline\": \"middle\", \"color\": \"rgb(25, 39, 78)\", \"font\": \"Roboto, Arial, sans-serif\", \"fontWeight\": \"bold\", \"size\": 14}, \"encoding\": {\"text\": {\"value\": \"FNR\"}, \"y\": {\"axis\": {\"domain\": false, \"grid\": false, \"labels\": false, \"ticks\": false, \"title\": null}, \"field\": \"y_position\", \"scale\": {\"domain\": [3, 1]}, \"type\": \"quantitative\"}}, \"transform\": [{\"calculate\": \"1.2\", \"as\": \"y_position\"}]}, {\"mark\": {\"type\": \"text\", \"align\": \"center\", \"baseline\": \"middle\", \"color\": \"rgb(102, 111, 137)\", \"font\": \"Roboto, Arial, sans-serif\", \"size\": 12}, \"encoding\": {\"text\": {\"value\": \"Groups\"}, \"y\": {\"axis\": {\"domain\": false, \"grid\": false, \"labels\": false, \"ticks\": false, \"title\": null}, \"field\": \"y_position\", \"scale\": {\"domain\": [3, 1]}, \"type\": \"quantitative\"}}, \"transform\": [{\"calculate\": \"2\", \"as\": \"y_position\"}]}, {\"mark\": {\"type\": \"text\", \"align\": \"center\", \"baseline\": \"middle\", \"color\": \"rgb(102, 111, 137)\", \"font\": \"Roboto, Arial, sans-serif\", \"size\": 12}, \"encoding\": {\"text\": {\"value\": \"% Pop.\"}, \"y\": {\"axis\": {\"domain\": false, \"grid\": false, \"labels\": false, \"ticks\": false, \"title\": null}, \"field\": \"y_position\", \"scale\": {\"domain\": [3, 1]}, \"type\": \"quantitative\"}}, \"transform\": [{\"calculate\": \"2.7\", \"as\": \"y_position\"}]}], \"height\": 61.1, \"width\": 32.0}, {\"layer\": [{\"mark\": {\"type\": \"text\", \"align\": \"center\", \"baseline\": \"middle\", \"color\": \"rgb(25, 39, 78)\", \"font\": \"Roboto, Arial, sans-serif\", \"fontWeight\": \"bold\", \"size\": 14}, \"encoding\": {\"text\": {\"value\": \"DEMOGRAPHIC PARITY\"}, \"y\": {\"axis\": {\"domain\": false, \"grid\": false, \"labels\": false, \"ticks\": false, \"title\": null}, \"field\": \"y_position\", \"scale\": {\"domain\": [3, 1]}, \"type\": \"quantitative\"}}, \"transform\": [{\"calculate\": \"1.2\", \"as\": \"y_position\"}]}, {\"mark\": {\"type\": \"text\", \"align\": \"center\", \"baseline\": \"middle\", \"color\": \"rgb(102, 111, 137)\", \"font\": \"Roboto, Arial, sans-serif\", \"size\": 12}, \"encoding\": {\"text\": {\"value\": \"Groups\"}, \"y\": {\"axis\": {\"domain\": false, \"grid\": false, \"labels\": false, \"ticks\": false, \"title\": null}, \"field\": \"y_position\", \"scale\": {\"domain\": [3, 1]}, \"type\": \"quantitative\"}}, \"transform\": [{\"calculate\": \"2\", \"as\": \"y_position\"}]}, {\"mark\": {\"type\": \"text\", \"align\": \"center\", \"baseline\": \"middle\", \"color\": \"rgb(102, 111, 137)\", \"font\": \"Roboto, Arial, sans-serif\", \"size\": 12}, \"encoding\": {\"text\": {\"value\": \"% Pop.\"}, \"y\": {\"axis\": {\"domain\": false, \"grid\": false, \"labels\": false, \"ticks\": false, \"title\": null}, \"field\": \"y_position\", \"scale\": {\"domain\": [3, 1]}, \"type\": \"quantitative\"}}, \"transform\": [{\"calculate\": \"2.7\", \"as\": \"y_position\"}]}], \"height\": 61.1, \"width\": 32.0}], \"bounds\": \"flush\", \"data\": {\"name\": \"data-de84bc8c822dac0bd3b12b0342548471\"}, \"spacing\": 18.8}, {\"hconcat\": [{\"vconcat\": [{\"data\": {\"name\": \"data-de84bc8c822dac0bd3b12b0342548471\"}, \"mark\": {\"type\": \"text\", \"align\": \"center\", \"baseline\": \"middle\", \"color\": \"rgb(25, 39, 78)\", \"font\": \"Roboto, Arial, sans-serif\", \"fontWeight\": \"bold\", \"size\": 14}, \"encoding\": {\"text\": {\"value\": \"Gender\"}}, \"height\": 70.5, \"width\": 240.0}, {\"layer\": [{\"data\": {\"name\": \"data-9bcb10b75dc494b69ff88af9b90db2a8\"}, \"mark\": {\"type\": \"text\", \"align\": \"center\", \"baseline\": \"middle\", \"font\": \"Roboto, Arial, sans-serif\", \"fontWeight\": \"bold\", \"size\": 20}, \"encoding\": {\"color\": {\"field\": \"parity_result\", \"legend\": {\"offset\": 0, \"padding\": 20, \"title\": \"Parity Test\"}, \"scale\": {\"domain\": [\"Reference\", \"Pass\", \"Fail\"], \"range\": [\"rgb(102, 111, 137)\", \"rgb(0, 163, 158)\", \"rgb(211, 47, 47)\"]}, \"type\": \"ordinal\"}, \"text\": {\"value\": \"PASS\"}, \"y\": {\"axis\": {\"domain\": false, \"grid\": false, \"labels\": false, \"ticks\": false, \"title\": null}, \"field\": \"y_position\", \"scale\": {\"domain\": [3, 1]}, \"type\": \"quantitative\"}}, \"transform\": [{\"calculate\": \"1\", \"as\": \"y_position\"}]}, {\"data\": {\"name\": \"data-7ba8d7b1121fa59cd02e2ff77b39e3c5\"}, \"mark\": {\"type\": \"bar\", \"size\": 6, \"stroke\": \"white\"}, \"encoding\": {\"color\": {\"field\": \"fpr_parity_result\", \"legend\": null, \"scale\": {\"domain\": [\"Reference\", \"Pass\", \"Fail\"], \"range\": [\"rgb(102, 111, 137)\", \"rgb(0, 163, 158)\", \"rgb(211, 47, 47)\"]}, \"type\": \"ordinal\"}, \"tooltip\": [{\"field\": \"fpr_parity_result\", \"title\": \"Parity\", \"type\": \"nominal\"}, {\"field\": \"tooltip_group_size\", \"title\": \"Size\", \"type\": \"nominal\"}, {\"field\": \"tooltip_groups_name_size\", \"title\": \"Groups\", \"type\": \"nominal\"}], \"x\": {\"aggregate\": \"sum\", \"axis\": {\"domain\": false, \"grid\": false, \"labels\": false, \"ticks\": false, \"title\": null}, \"field\": \"group_size\", \"stack\": \"normalize\", \"type\": \"quantitative\"}, \"y\": {\"axis\": {\"domain\": false, \"grid\": false, \"labels\": false, \"ticks\": false, \"title\": null}, \"field\": \"y_position\", \"scale\": {\"domain\": [3, 1]}, \"type\": \"quantitative\"}}, \"transform\": [{\"calculate\": \"2.8\", \"as\": \"y_position\"}]}, {\"data\": {\"name\": \"data-4fcbe53b0d905d3c389866933d77bd05\"}, \"mark\": {\"type\": \"circle\", \"opacity\": 1}, \"encoding\": {\"color\": {\"field\": \"fpr_parity_result\", \"legend\": null, \"scale\": {\"domain\": [\"Reference\", \"Pass\", \"Fail\"], \"range\": [\"rgb(102, 111, 137)\", \"rgb(0, 163, 158)\", \"rgb(211, 47, 47)\"]}, \"type\": \"ordinal\"}, \"size\": {\"value\": 250}, \"tooltip\": [{\"field\": \"attribute_value\", \"title\": \"Group\", \"type\": \"nominal\"}, {\"field\": \"tooltip_group_size\", \"title\": \"Group Size\", \"type\": \"nominal\"}, {\"field\": \"tooltip_parity_test_explanation_fpr\", \"title\": \"Parity Test\", \"type\": \"nominal\"}, {\"field\": \"tooltip_disparity_explanation_fpr\", \"title\": \"Disparity\", \"type\": \"nominal\"}, {\"field\": \"fpr\", \"format\": \".2f\", \"title\": \"FPR\", \"type\": \"quantitative\"}], \"x\": {\"axis\": {\"domain\": false, \"grid\": false, \"labels\": false, \"ticks\": false, \"title\": null}, \"field\": \"fpr_disparity_rank\", \"scale\": {\"domain\": [-4, 4], \"nice\": false}, \"type\": \"quantitative\"}, \"y\": {\"axis\": {\"domain\": false, \"grid\": false, \"labels\": false, \"ticks\": false, \"title\": null}, \"field\": \"y_position\", \"scale\": {\"domain\": [3, 1]}, \"type\": \"quantitative\"}}, \"transform\": [{\"calculate\": \"2\", \"as\": \"y_position\"}]}], \"height\": 61.1, \"resolve\": {\"scale\": {\"x\": \"independent\"}}, \"width\": 240.0}, {\"layer\": [{\"data\": {\"name\": \"data-9bcb10b75dc494b69ff88af9b90db2a8\"}, \"mark\": {\"type\": \"text\", \"align\": \"center\", \"baseline\": \"middle\", \"font\": \"Roboto, Arial, sans-serif\", \"fontWeight\": \"bold\", \"size\": 20}, \"encoding\": {\"color\": {\"field\": \"parity_result\", \"legend\": {\"offset\": 0, \"padding\": 20, \"title\": \"Parity Test\"}, \"scale\": {\"domain\": [\"Reference\", \"Pass\", \"Fail\"], \"range\": [\"rgb(102, 111, 137)\", \"rgb(0, 163, 158)\", \"rgb(211, 47, 47)\"]}, \"type\": \"ordinal\"}, \"text\": {\"value\": \"PASS\"}, \"y\": {\"axis\": {\"domain\": false, \"grid\": false, \"labels\": false, \"ticks\": false, \"title\": null}, \"field\": \"y_position\", \"scale\": {\"domain\": [3, 1]}, \"type\": \"quantitative\"}}, \"transform\": [{\"calculate\": \"1\", \"as\": \"y_position\"}]}, {\"data\": {\"name\": \"data-c442f6d828a59c73e1c321173f070490\"}, \"mark\": {\"type\": \"bar\", \"size\": 6, \"stroke\": \"white\"}, \"encoding\": {\"color\": {\"field\": \"fdr_parity_result\", \"legend\": null, \"scale\": {\"domain\": [\"Reference\", \"Pass\", \"Fail\"], \"range\": [\"rgb(102, 111, 137)\", \"rgb(0, 163, 158)\", \"rgb(211, 47, 47)\"]}, \"type\": \"ordinal\"}, \"tooltip\": [{\"field\": \"fdr_parity_result\", \"title\": \"Parity\", \"type\": \"nominal\"}, {\"field\": \"tooltip_group_size\", \"title\": \"Size\", \"type\": \"nominal\"}, {\"field\": \"tooltip_groups_name_size\", \"title\": \"Groups\", \"type\": \"nominal\"}], \"x\": {\"aggregate\": \"sum\", \"axis\": {\"domain\": false, \"grid\": false, \"labels\": false, \"ticks\": false, \"title\": null}, \"field\": \"group_size\", \"stack\": \"normalize\", \"type\": \"quantitative\"}, \"y\": {\"axis\": {\"domain\": false, \"grid\": false, \"labels\": false, \"ticks\": false, \"title\": null}, \"field\": \"y_position\", \"scale\": {\"domain\": [3, 1]}, \"type\": \"quantitative\"}}, \"transform\": [{\"calculate\": \"2.8\", \"as\": \"y_position\"}]}, {\"data\": {\"name\": \"data-4fcbe53b0d905d3c389866933d77bd05\"}, \"mark\": {\"type\": \"circle\", \"opacity\": 1}, \"encoding\": {\"color\": {\"field\": \"fdr_parity_result\", \"legend\": null, \"scale\": {\"domain\": [\"Reference\", \"Pass\", \"Fail\"], \"range\": [\"rgb(102, 111, 137)\", \"rgb(0, 163, 158)\", \"rgb(211, 47, 47)\"]}, \"type\": \"ordinal\"}, \"size\": {\"value\": 250}, \"tooltip\": [{\"field\": \"attribute_value\", \"title\": \"Group\", \"type\": \"nominal\"}, {\"field\": \"tooltip_group_size\", \"title\": \"Group Size\", \"type\": \"nominal\"}, {\"field\": \"tooltip_parity_test_explanation_fdr\", \"title\": \"Parity Test\", \"type\": \"nominal\"}, {\"field\": \"tooltip_disparity_explanation_fdr\", \"title\": \"Disparity\", \"type\": \"nominal\"}, {\"field\": \"fdr\", \"format\": \".2f\", \"title\": \"FDR\", \"type\": \"quantitative\"}], \"x\": {\"axis\": {\"domain\": false, \"grid\": false, \"labels\": false, \"ticks\": false, \"title\": null}, \"field\": \"fdr_disparity_rank\", \"scale\": {\"domain\": [-4, 4], \"nice\": false}, \"type\": \"quantitative\"}, \"y\": {\"axis\": {\"domain\": false, \"grid\": false, \"labels\": false, \"ticks\": false, \"title\": null}, \"field\": \"y_position\", \"scale\": {\"domain\": [3, 1]}, \"type\": \"quantitative\"}}, \"transform\": [{\"calculate\": \"2\", \"as\": \"y_position\"}]}], \"height\": 61.1, \"resolve\": {\"scale\": {\"x\": \"independent\"}}, \"width\": 240.0}, {\"layer\": [{\"data\": {\"name\": \"data-9bcb10b75dc494b69ff88af9b90db2a8\"}, \"mark\": {\"type\": \"text\", \"align\": \"center\", \"baseline\": \"middle\", \"font\": \"Roboto, Arial, sans-serif\", \"fontWeight\": \"bold\", \"size\": 20}, \"encoding\": {\"color\": {\"field\": \"parity_result\", \"legend\": {\"offset\": 0, \"padding\": 20, \"title\": \"Parity Test\"}, \"scale\": {\"domain\": [\"Reference\", \"Pass\", \"Fail\"], \"range\": [\"rgb(102, 111, 137)\", \"rgb(0, 163, 158)\", \"rgb(211, 47, 47)\"]}, \"type\": \"ordinal\"}, \"text\": {\"value\": \"PASS\"}, \"y\": {\"axis\": {\"domain\": false, \"grid\": false, \"labels\": false, \"ticks\": false, \"title\": null}, \"field\": \"y_position\", \"scale\": {\"domain\": [3, 1]}, \"type\": \"quantitative\"}}, \"transform\": [{\"calculate\": \"1\", \"as\": \"y_position\"}]}, {\"data\": {\"name\": \"data-d8309d7d10826004529085646ecb6b5f\"}, \"mark\": {\"type\": \"bar\", \"size\": 6, \"stroke\": \"white\"}, \"encoding\": {\"color\": {\"field\": \"tpr_parity_result\", \"legend\": null, \"scale\": {\"domain\": [\"Reference\", \"Pass\", \"Fail\"], \"range\": [\"rgb(102, 111, 137)\", \"rgb(0, 163, 158)\", \"rgb(211, 47, 47)\"]}, \"type\": \"ordinal\"}, \"tooltip\": [{\"field\": \"tpr_parity_result\", \"title\": \"Parity\", \"type\": \"nominal\"}, {\"field\": \"tooltip_group_size\", \"title\": \"Size\", \"type\": \"nominal\"}, {\"field\": \"tooltip_groups_name_size\", \"title\": \"Groups\", \"type\": \"nominal\"}], \"x\": {\"aggregate\": \"sum\", \"axis\": {\"domain\": false, \"grid\": false, \"labels\": false, \"ticks\": false, \"title\": null}, \"field\": \"group_size\", \"stack\": \"normalize\", \"type\": \"quantitative\"}, \"y\": {\"axis\": {\"domain\": false, \"grid\": false, \"labels\": false, \"ticks\": false, \"title\": null}, \"field\": \"y_position\", \"scale\": {\"domain\": [3, 1]}, \"type\": \"quantitative\"}}, \"transform\": [{\"calculate\": \"2.8\", \"as\": \"y_position\"}]}, {\"data\": {\"name\": \"data-4fcbe53b0d905d3c389866933d77bd05\"}, \"mark\": {\"type\": \"circle\", \"opacity\": 1}, \"encoding\": {\"color\": {\"field\": \"tpr_parity_result\", \"legend\": null, \"scale\": {\"domain\": [\"Reference\", \"Pass\", \"Fail\"], \"range\": [\"rgb(102, 111, 137)\", \"rgb(0, 163, 158)\", \"rgb(211, 47, 47)\"]}, \"type\": \"ordinal\"}, \"size\": {\"value\": 250}, \"tooltip\": [{\"field\": \"attribute_value\", \"title\": \"Group\", \"type\": \"nominal\"}, {\"field\": \"tooltip_group_size\", \"title\": \"Group Size\", \"type\": \"nominal\"}, {\"field\": \"tooltip_parity_test_explanation_tpr\", \"title\": \"Parity Test\", \"type\": \"nominal\"}, {\"field\": \"tooltip_disparity_explanation_tpr\", \"title\": \"Disparity\", \"type\": \"nominal\"}, {\"field\": \"tpr\", \"format\": \".2f\", \"title\": \"TPR\", \"type\": \"quantitative\"}], \"x\": {\"axis\": {\"domain\": false, \"grid\": false, \"labels\": false, \"ticks\": false, \"title\": null}, \"field\": \"tpr_disparity_rank\", \"scale\": {\"domain\": [-4, 4], \"nice\": false}, \"type\": \"quantitative\"}, \"y\": {\"axis\": {\"domain\": false, \"grid\": false, \"labels\": false, \"ticks\": false, \"title\": null}, \"field\": \"y_position\", \"scale\": {\"domain\": [3, 1]}, \"type\": \"quantitative\"}}, \"transform\": [{\"calculate\": \"2\", \"as\": \"y_position\"}]}], \"height\": 61.1, \"resolve\": {\"scale\": {\"x\": \"independent\"}}, \"width\": 240.0}, {\"layer\": [{\"data\": {\"name\": \"data-78651e6cada553b412db642131edf322\"}, \"mark\": {\"type\": \"text\", \"align\": \"center\", \"baseline\": \"middle\", \"font\": \"Roboto, Arial, sans-serif\", \"fontWeight\": \"bold\", \"size\": 20}, \"encoding\": {\"color\": {\"field\": \"parity_result\", \"legend\": {\"offset\": 0, \"padding\": 20, \"title\": \"Parity Test\"}, \"scale\": {\"domain\": [\"Reference\", \"Pass\", \"Fail\"], \"range\": [\"rgb(102, 111, 137)\", \"rgb(0, 163, 158)\", \"rgb(211, 47, 47)\"]}, \"type\": \"ordinal\"}, \"text\": {\"value\": \"FAIL\"}, \"y\": {\"axis\": {\"domain\": false, \"grid\": false, \"labels\": false, \"ticks\": false, \"title\": null}, \"field\": \"y_position\", \"scale\": {\"domain\": [3, 1]}, \"type\": \"quantitative\"}}, \"transform\": [{\"calculate\": \"1\", \"as\": \"y_position\"}]}, {\"data\": {\"name\": \"data-c2f8c30cffcc28bab3c37a86c9ef24e5\"}, \"mark\": {\"type\": \"bar\", \"size\": 6, \"stroke\": \"white\"}, \"encoding\": {\"color\": {\"field\": \"fnr_parity_result\", \"legend\": null, \"scale\": {\"domain\": [\"Reference\", \"Pass\", \"Fail\"], \"range\": [\"rgb(102, 111, 137)\", \"rgb(0, 163, 158)\", \"rgb(211, 47, 47)\"]}, \"type\": \"ordinal\"}, \"tooltip\": [{\"field\": \"fnr_parity_result\", \"title\": \"Parity\", \"type\": \"nominal\"}, {\"field\": \"tooltip_group_size\", \"title\": \"Size\", \"type\": \"nominal\"}, {\"field\": \"tooltip_groups_name_size\", \"title\": \"Groups\", \"type\": \"nominal\"}], \"x\": {\"aggregate\": \"sum\", \"axis\": {\"domain\": false, \"grid\": false, \"labels\": false, \"ticks\": false, \"title\": null}, \"field\": \"group_size\", \"stack\": \"normalize\", \"type\": \"quantitative\"}, \"y\": {\"axis\": {\"domain\": false, \"grid\": false, \"labels\": false, \"ticks\": false, \"title\": null}, \"field\": \"y_position\", \"scale\": {\"domain\": [3, 1]}, \"type\": \"quantitative\"}}, \"transform\": [{\"calculate\": \"2.8\", \"as\": \"y_position\"}]}, {\"data\": {\"name\": \"data-4fcbe53b0d905d3c389866933d77bd05\"}, \"mark\": {\"type\": \"circle\", \"opacity\": 1}, \"encoding\": {\"color\": {\"field\": \"fnr_parity_result\", \"legend\": null, \"scale\": {\"domain\": [\"Reference\", \"Pass\", \"Fail\"], \"range\": [\"rgb(102, 111, 137)\", \"rgb(0, 163, 158)\", \"rgb(211, 47, 47)\"]}, \"type\": \"ordinal\"}, \"size\": {\"value\": 250}, \"tooltip\": [{\"field\": \"attribute_value\", \"title\": \"Group\", \"type\": \"nominal\"}, {\"field\": \"tooltip_group_size\", \"title\": \"Group Size\", \"type\": \"nominal\"}, {\"field\": \"tooltip_parity_test_explanation_fnr\", \"title\": \"Parity Test\", \"type\": \"nominal\"}, {\"field\": \"tooltip_disparity_explanation_fnr\", \"title\": \"Disparity\", \"type\": \"nominal\"}, {\"field\": \"fnr\", \"format\": \".2f\", \"title\": \"FNR\", \"type\": \"quantitative\"}], \"x\": {\"axis\": {\"domain\": false, \"grid\": false, \"labels\": false, \"ticks\": false, \"title\": null}, \"field\": \"fnr_disparity_rank\", \"scale\": {\"domain\": [-4, 4], \"nice\": false}, \"type\": \"quantitative\"}, \"y\": {\"axis\": {\"domain\": false, \"grid\": false, \"labels\": false, \"ticks\": false, \"title\": null}, \"field\": \"y_position\", \"scale\": {\"domain\": [3, 1]}, \"type\": \"quantitative\"}}, \"transform\": [{\"calculate\": \"2\", \"as\": \"y_position\"}]}], \"height\": 61.1, \"resolve\": {\"scale\": {\"x\": \"independent\"}}, \"width\": 240.0}, {\"layer\": [{\"data\": {\"name\": \"data-9bcb10b75dc494b69ff88af9b90db2a8\"}, \"mark\": {\"type\": \"text\", \"align\": \"center\", \"baseline\": \"middle\", \"font\": \"Roboto, Arial, sans-serif\", \"fontWeight\": \"bold\", \"size\": 20}, \"encoding\": {\"color\": {\"field\": \"parity_result\", \"legend\": {\"offset\": 0, \"padding\": 20, \"title\": \"Parity Test\"}, \"scale\": {\"domain\": [\"Reference\", \"Pass\", \"Fail\"], \"range\": [\"rgb(102, 111, 137)\", \"rgb(0, 163, 158)\", \"rgb(211, 47, 47)\"]}, \"type\": \"ordinal\"}, \"text\": {\"value\": \"PASS\"}, \"y\": {\"axis\": {\"domain\": false, \"grid\": false, \"labels\": false, \"ticks\": false, \"title\": null}, \"field\": \"y_position\", \"scale\": {\"domain\": [3, 1]}, \"type\": \"quantitative\"}}, \"transform\": [{\"calculate\": \"1\", \"as\": \"y_position\"}]}, {\"data\": {\"name\": \"data-1a94b79b2c416c181cd3c4a75e625d4a\"}, \"mark\": {\"type\": \"bar\", \"size\": 6, \"stroke\": \"white\"}, \"encoding\": {\"color\": {\"field\": \"pprev_parity_result\", \"legend\": null, \"scale\": {\"domain\": [\"Reference\", \"Pass\", \"Fail\"], \"range\": [\"rgb(102, 111, 137)\", \"rgb(0, 163, 158)\", \"rgb(211, 47, 47)\"]}, \"type\": \"ordinal\"}, \"tooltip\": [{\"field\": \"pprev_parity_result\", \"title\": \"Parity\", \"type\": \"nominal\"}, {\"field\": \"tooltip_group_size\", \"title\": \"Size\", \"type\": \"nominal\"}, {\"field\": \"tooltip_groups_name_size\", \"title\": \"Groups\", \"type\": \"nominal\"}], \"x\": {\"aggregate\": \"sum\", \"axis\": {\"domain\": false, \"grid\": false, \"labels\": false, \"ticks\": false, \"title\": null}, \"field\": \"group_size\", \"stack\": \"normalize\", \"type\": \"quantitative\"}, \"y\": {\"axis\": {\"domain\": false, \"grid\": false, \"labels\": false, \"ticks\": false, \"title\": null}, \"field\": \"y_position\", \"scale\": {\"domain\": [3, 1]}, \"type\": \"quantitative\"}}, \"transform\": [{\"calculate\": \"2.8\", \"as\": \"y_position\"}]}, {\"data\": {\"name\": \"data-4fcbe53b0d905d3c389866933d77bd05\"}, \"mark\": {\"type\": \"circle\", \"opacity\": 1}, \"encoding\": {\"color\": {\"field\": \"pprev_parity_result\", \"legend\": null, \"scale\": {\"domain\": [\"Reference\", \"Pass\", \"Fail\"], \"range\": [\"rgb(102, 111, 137)\", \"rgb(0, 163, 158)\", \"rgb(211, 47, 47)\"]}, \"type\": \"ordinal\"}, \"size\": {\"value\": 250}, \"tooltip\": [{\"field\": \"attribute_value\", \"title\": \"Group\", \"type\": \"nominal\"}, {\"field\": \"tooltip_group_size\", \"title\": \"Group Size\", \"type\": \"nominal\"}, {\"field\": \"tooltip_parity_test_explanation_pprev\", \"title\": \"Parity Test\", \"type\": \"nominal\"}, {\"field\": \"tooltip_disparity_explanation_pprev\", \"title\": \"Disparity\", \"type\": \"nominal\"}, {\"field\": \"pprev\", \"format\": \".2f\", \"title\": \"PPREV\", \"type\": \"quantitative\"}], \"x\": {\"axis\": {\"domain\": false, \"grid\": false, \"labels\": false, \"ticks\": false, \"title\": null}, \"field\": \"pprev_disparity_rank\", \"scale\": {\"domain\": [-4, 4], \"nice\": false}, \"type\": \"quantitative\"}, \"y\": {\"axis\": {\"domain\": false, \"grid\": false, \"labels\": false, \"ticks\": false, \"title\": null}, \"field\": \"y_position\", \"scale\": {\"domain\": [3, 1]}, \"type\": \"quantitative\"}}, \"transform\": [{\"calculate\": \"2\", \"as\": \"y_position\"}]}], \"height\": 61.1, \"resolve\": {\"scale\": {\"x\": \"independent\"}}, \"width\": 240.0}], \"bounds\": \"flush\", \"spacing\": 18.8}], \"bounds\": \"flush\", \"spacing\": 288.0}], \"bounds\": \"flush\", \"spacing\": 80.0}, {\"layer\": [{\"mark\": {\"type\": \"text\", \"align\": \"left\", \"baseline\": \"top\", \"fill\": \"rgb(102, 111, 137)\", \"font\": \"Roboto, Arial, sans-serif\", \"fontSize\": 12, \"fontWeight\": \"normal\"}, \"encoding\": {\"text\": {\"value\": \"For a group to pass the parity test its disparity to the reference group cannot exceed the fairness threshold (1.25).\"}, \"x\": {\"value\": 24.0}, \"y\": {\"value\": 0}}}, {\"mark\": {\"type\": \"text\", \"align\": \"left\", \"baseline\": \"top\", \"fill\": \"rgb(102, 111, 137)\", \"font\": \"Roboto, Arial, sans-serif\", \"fontSize\": 12, \"fontWeight\": \"normal\"}, \"encoding\": {\"text\": {\"value\": \"An attribute passes the parity test for a given metric if all its groups pass the test.\"}, \"x\": {\"value\": 24.0}, \"y\": {\"value\": 15.0}}}], \"data\": {\"name\": \"data-de84bc8c822dac0bd3b12b0342548471\"}}], \"padding\": 15, \"usermeta\": {\"embedOptions\": {\"scaleFactor\": 5, \"downloadFileName\": \"summary_chart\"}}, \"$schema\": \"https://vega.github.io/schema/vega-lite/v5.20.1.json\", \"datasets\": {\"data-de84bc8c822dac0bd3b12b0342548471\": [{\"a\": 1, \"b\": 0}, {\"a\": 1, \"b\": 0}], \"data-9bcb10b75dc494b69ff88af9b90db2a8\": [{\"parity_result\": \"Pass\"}], \"data-7ba8d7b1121fa59cd02e2ff77b39e3c5\": [{\"fpr_parity_result\": \"Pass\", \"attribute_name\": \"gender\", \"total_entities\": 1000, \"group_size\": 731, \"tooltip_groups_name_size\": \"female (245), neutral (245), queer (241)\", \"tooltip_group_size\": \"731 (73.10%)\"}, {\"fpr_parity_result\": \"Reference\", \"attribute_name\": \"gender\", \"total_entities\": 1000, \"group_size\": 269, \"tooltip_groups_name_size\": \"male (269)\", \"tooltip_group_size\": \"269 (26.90%)\"}], \"data-4fcbe53b0d905d3c389866933d77bd05\": [{\"attribute_name\": \"gender\", \"attribute_value\": \"female\", \"group_size\": 245, \"total_entities\": 1000, \"ref_group_value\": \"male\", \"fpr\": 0.967741935483871, \"fdr\": 0.5042016806722689, \"tpr\": 0.9752066115702479, \"fnr\": 0.024793388429752067, \"pprev\": 0.9714285714285714, \"fpr_disparity\": 1.005251312828207, \"fdr_disparity\": 1.0084033613445378, \"tpr_disparity\": 1.0205650586200268, \"fnr_disparity\": 0.5578512396694215, \"pprev_disparity\": 1.0128460686600222, \"fpr_disparity_scaled\": 0.005251312828207011, \"fpr_parity_result\": \"Pass\", \"tooltip_parity_test_explanation_fpr\": \"Pass. Below fairness threshold of 1.25\", \"tooltip_disparity_explanation_fpr\": \"1.01 times larger FPR than the reference group\", \"tooltip_group_size\": \"245 (24.50%)\", \"fpr_disparity_rank\": 1.0, \"group_size_formatted\": \"245\", \"tooltip_groups_name_size\": \"female (245)\", \"fdr_disparity_scaled\": 0.008403361344537785, \"fdr_parity_result\": \"Pass\", \"tooltip_parity_test_explanation_fdr\": \"Pass. Below fairness threshold of 1.25\", \"tooltip_disparity_explanation_fdr\": \"1.01 times larger FDR than the reference group\", \"fdr_disparity_rank\": 1.0, \"tpr_disparity_scaled\": 0.020565058620026777, \"tpr_parity_result\": \"Pass\", \"tooltip_parity_test_explanation_tpr\": \"Pass. Below fairness threshold of 1.25\", \"tooltip_disparity_explanation_tpr\": \"1.02 times larger TPR than the reference group\", \"tpr_disparity_rank\": 3.0, \"fnr_disparity_scaled\": -0.7925925925925925, \"fnr_parity_result\": \"Fail\", \"tooltip_parity_test_explanation_fnr\": \"Fail. Above fairness threshold of 1.25\", \"tooltip_disparity_explanation_fnr\": \"1.79 times smaller FNR than the reference group\", \"fnr_disparity_rank\": -3.0, \"pprev_disparity_scaled\": 0.012846068660022247, \"pprev_parity_result\": \"Pass\", \"tooltip_parity_test_explanation_pprev\": \"Pass. Below fairness threshold of 1.25\", \"tooltip_disparity_explanation_pprev\": \"1.01 times larger PPREV than the reference group\", \"pprev_disparity_rank\": 1.0}, {\"attribute_name\": \"gender\", \"attribute_value\": \"male\", \"group_size\": 269, \"total_entities\": 1000, \"ref_group_value\": \"male\", \"fpr\": 0.9626865671641791, \"fdr\": 0.5, \"tpr\": 0.9555555555555556, \"fnr\": 0.044444444444444446, \"pprev\": 0.9591078066914498, \"fpr_disparity\": 1.0, \"fdr_disparity\": 1.0, \"tpr_disparity\": 1.0, \"fnr_disparity\": 1.0, \"pprev_disparity\": 1.0, \"fpr_disparity_scaled\": 0.0, \"fpr_parity_result\": \"Reference\", \"tooltip_parity_test_explanation_fpr\": \"Reference group\", \"tooltip_disparity_explanation_fpr\": \"Reference group\", \"tooltip_group_size\": \"269 (26.90%)\", \"fpr_disparity_rank\": 0.0, \"group_size_formatted\": \"269\", \"tooltip_groups_name_size\": \"male (269)\", \"fdr_disparity_scaled\": 0.0, \"fdr_parity_result\": \"Reference\", \"tooltip_parity_test_explanation_fdr\": \"Reference group\", \"tooltip_disparity_explanation_fdr\": \"Reference group\", \"fdr_disparity_rank\": 0.0, \"tpr_disparity_scaled\": 0.0, \"tpr_parity_result\": \"Reference\", \"tooltip_parity_test_explanation_tpr\": \"Reference group\", \"tooltip_disparity_explanation_tpr\": \"Reference group\", \"tpr_disparity_rank\": 0.0, \"fnr_disparity_scaled\": 0.0, \"fnr_parity_result\": \"Reference\", \"tooltip_parity_test_explanation_fnr\": \"Reference group\", \"tooltip_disparity_explanation_fnr\": \"Reference group\", \"fnr_disparity_rank\": 0.0, \"pprev_disparity_scaled\": 0.0, \"pprev_parity_result\": \"Reference\", \"tooltip_parity_test_explanation_pprev\": \"Reference group\", \"tooltip_disparity_explanation_pprev\": \"Reference group\", \"pprev_disparity_rank\": 0.0}, {\"attribute_name\": \"gender\", \"attribute_value\": \"neutral\", \"group_size\": 245, \"total_entities\": 1000, \"ref_group_value\": \"male\", \"fpr\": 0.9777777777777777, \"fdr\": 0.5523012552301255, \"tpr\": 0.9727272727272728, \"fnr\": 0.02727272727272727, \"pprev\": 0.9755102040816327, \"fpr_disparity\": 1.0156761412575366, \"fdr_disparity\": 1.104602510460251, \"tpr_disparity\": 1.017970401691332, \"fnr_disparity\": 0.6136363636363635, \"pprev_disparity\": 1.0171017244106946, \"fpr_disparity_scaled\": 0.01567614125753658, \"fpr_parity_result\": \"Pass\", \"tooltip_parity_test_explanation_fpr\": \"Pass. Below fairness threshold of 1.25\", \"tooltip_disparity_explanation_fpr\": \"1.02 times larger FPR than the reference group\", \"tooltip_group_size\": \"245 (24.50%)\", \"fpr_disparity_rank\": 2.0, \"group_size_formatted\": \"245\", \"tooltip_groups_name_size\": \"neutral (245)\", \"fdr_disparity_scaled\": 0.10460251046025104, \"fdr_parity_result\": \"Pass\", \"tooltip_parity_test_explanation_fdr\": \"Pass. Below fairness threshold of 1.25\", \"tooltip_disparity_explanation_fdr\": \"1.10 times larger FDR than the reference group\", \"fdr_disparity_rank\": 3.0, \"tpr_disparity_scaled\": 0.017970401691332016, \"tpr_parity_result\": \"Pass\", \"tooltip_parity_test_explanation_tpr\": \"Pass. Below fairness threshold of 1.25\", \"tooltip_disparity_explanation_tpr\": \"1.02 times larger TPR than the reference group\", \"tpr_disparity_rank\": 1.0, \"fnr_disparity_scaled\": -0.62962962962963, \"fnr_parity_result\": \"Fail\", \"tooltip_parity_test_explanation_fnr\": \"Fail. Above fairness threshold of 1.25\", \"tooltip_disparity_explanation_fnr\": \"1.63 times smaller FNR than the reference group\", \"fnr_disparity_rank\": -1.0, \"pprev_disparity_scaled\": 0.017101724410694574, \"pprev_parity_result\": \"Pass\", \"tooltip_parity_test_explanation_pprev\": \"Pass. Below fairness threshold of 1.25\", \"tooltip_disparity_explanation_pprev\": \"1.02 times larger PPREV than the reference group\", \"pprev_disparity_rank\": 2.0}, {\"attribute_name\": \"gender\", \"attribute_value\": \"queer\", \"group_size\": 241, \"total_entities\": 1000, \"ref_group_value\": \"male\", \"fpr\": 0.9375, \"fdr\": 0.5217391304347826, \"tpr\": 0.9734513274336283, \"fnr\": 0.02654867256637168, \"pprev\": 0.9543568464730291, \"fpr_disparity\": 0.9738372093023255, \"fdr_disparity\": 1.0434782608695652, \"tpr_disparity\": 1.0187281333607738, \"fnr_disparity\": 0.5973451327433628, \"pprev_disparity\": 0.9950464794621893, \"fpr_disparity_scaled\": -0.02686567164179099, \"fpr_parity_result\": \"Pass\", \"tooltip_parity_test_explanation_fpr\": \"Pass. Below fairness threshold of 1.25\", \"tooltip_disparity_explanation_fpr\": \"1.03 times smaller FPR than the reference group\", \"tooltip_group_size\": \"241 (24.10%)\", \"fpr_disparity_rank\": -1.0, \"group_size_formatted\": \"241\", \"tooltip_groups_name_size\": \"queer (241)\", \"fdr_disparity_scaled\": 0.04347826086956519, \"fdr_parity_result\": \"Pass\", \"tooltip_parity_test_explanation_fdr\": \"Pass. Below fairness threshold of 1.25\", \"tooltip_disparity_explanation_fdr\": \"1.04 times larger FDR than the reference group\", \"fdr_disparity_rank\": 2.0, \"tpr_disparity_scaled\": 0.018728133360773835, \"tpr_parity_result\": \"Pass\", \"tooltip_parity_test_explanation_tpr\": \"Pass. Below fairness threshold of 1.25\", \"tooltip_disparity_explanation_tpr\": \"1.02 times larger TPR than the reference group\", \"tpr_disparity_rank\": 2.0, \"fnr_disparity_scaled\": -0.6740740740740743, \"fnr_parity_result\": \"Fail\", \"tooltip_parity_test_explanation_fnr\": \"Fail. Above fairness threshold of 1.25\", \"tooltip_disparity_explanation_fnr\": \"1.67 times smaller FNR than the reference group\", \"fnr_disparity_rank\": -2.0, \"pprev_disparity_scaled\": -0.0049781800549537625, \"pprev_parity_result\": \"Pass\", \"tooltip_parity_test_explanation_pprev\": \"Pass. Below fairness threshold of 1.25\", \"tooltip_disparity_explanation_pprev\": \"1.00 times smaller PPREV than the reference group\", \"pprev_disparity_rank\": -1.0}], \"data-c442f6d828a59c73e1c321173f070490\": [{\"fdr_parity_result\": \"Pass\", \"attribute_name\": \"gender\", \"total_entities\": 1000, \"group_size\": 731, \"tooltip_groups_name_size\": \"female (245), neutral (245), queer (241)\", \"tooltip_group_size\": \"731 (73.10%)\"}, {\"fdr_parity_result\": \"Reference\", \"attribute_name\": \"gender\", \"total_entities\": 1000, \"group_size\": 269, \"tooltip_groups_name_size\": \"male (269)\", \"tooltip_group_size\": \"269 (26.90%)\"}], \"data-d8309d7d10826004529085646ecb6b5f\": [{\"tpr_parity_result\": \"Pass\", \"attribute_name\": \"gender\", \"total_entities\": 1000, \"group_size\": 731, \"tooltip_groups_name_size\": \"female (245), neutral (245), queer (241)\", \"tooltip_group_size\": \"731 (73.10%)\"}, {\"tpr_parity_result\": \"Reference\", \"attribute_name\": \"gender\", \"total_entities\": 1000, \"group_size\": 269, \"tooltip_groups_name_size\": \"male (269)\", \"tooltip_group_size\": \"269 (26.90%)\"}], \"data-78651e6cada553b412db642131edf322\": [{\"parity_result\": \"Fail\"}], \"data-c2f8c30cffcc28bab3c37a86c9ef24e5\": [{\"fnr_parity_result\": \"Fail\", \"attribute_name\": \"gender\", \"total_entities\": 1000, \"group_size\": 731, \"tooltip_groups_name_size\": \"female (245), neutral (245), queer (241)\", \"tooltip_group_size\": \"731 (73.10%)\"}, {\"fnr_parity_result\": \"Reference\", \"attribute_name\": \"gender\", \"total_entities\": 1000, \"group_size\": 269, \"tooltip_groups_name_size\": \"male (269)\", \"tooltip_group_size\": \"269 (26.90%)\"}], \"data-1a94b79b2c416c181cd3c4a75e625d4a\": [{\"pprev_parity_result\": \"Pass\", \"attribute_name\": \"gender\", \"total_entities\": 1000, \"group_size\": 731, \"tooltip_groups_name_size\": \"female (245), neutral (245), queer (241)\", \"tooltip_group_size\": \"731 (73.10%)\"}, {\"pprev_parity_result\": \"Reference\", \"attribute_name\": \"gender\", \"total_entities\": 1000, \"group_size\": 269, \"tooltip_groups_name_size\": \"male (269)\", \"tooltip_group_size\": \"269 (26.90%)\"}]}}, {\"mode\": \"vega-lite\"});\n",
              "</script>"
            ],
            "text/plain": [
              "alt.VConcatChart(...)"
            ]
          },
          "metadata": {},
          "execution_count": 5
        }
      ]
    },
    {
      "cell_type": "code",
      "source": [
        "audit.disparity_plot(attribute=\"gender\", metrics=[\"fnr\"])"
      ],
      "metadata": {
        "colab": {
          "base_uri": "https://localhost:8080/",
          "height": 354
        },
        "id": "behsCTPb1Qwk",
        "outputId": "61026e9f-960b-4ff4-9ec8-59020a1e3118"
      },
      "execution_count": null,
      "outputs": [
        {
          "output_type": "execute_result",
          "data": {
            "text/html": [
              "\n",
              "<style>\n",
              "  #altair-viz-b1c7e70ee14148fe9264bb6cfc1123cb.vega-embed {\n",
              "    width: 100%;\n",
              "    display: flex;\n",
              "  }\n",
              "\n",
              "  #altair-viz-b1c7e70ee14148fe9264bb6cfc1123cb.vega-embed details,\n",
              "  #altair-viz-b1c7e70ee14148fe9264bb6cfc1123cb.vega-embed details summary {\n",
              "    position: relative;\n",
              "  }\n",
              "</style>\n",
              "<div id=\"altair-viz-b1c7e70ee14148fe9264bb6cfc1123cb\"></div>\n",
              "<script type=\"text/javascript\">\n",
              "  var VEGA_DEBUG = (typeof VEGA_DEBUG == \"undefined\") ? {} : VEGA_DEBUG;\n",
              "  (function(spec, embedOpt){\n",
              "    let outputDiv = document.currentScript.previousElementSibling;\n",
              "    if (outputDiv.id !== \"altair-viz-b1c7e70ee14148fe9264bb6cfc1123cb\") {\n",
              "      outputDiv = document.getElementById(\"altair-viz-b1c7e70ee14148fe9264bb6cfc1123cb\");\n",
              "    }\n",
              "    const paths = {\n",
              "      \"vega\": \"https://cdn.jsdelivr.net/npm/vega@5?noext\",\n",
              "      \"vega-lib\": \"https://cdn.jsdelivr.net/npm/vega-lib?noext\",\n",
              "      \"vega-lite\": \"https://cdn.jsdelivr.net/npm/vega-lite@5.20.1?noext\",\n",
              "      \"vega-embed\": \"https://cdn.jsdelivr.net/npm/vega-embed@6?noext\",\n",
              "    };\n",
              "\n",
              "    function maybeLoadScript(lib, version) {\n",
              "      var key = `${lib.replace(\"-\", \"\")}_version`;\n",
              "      return (VEGA_DEBUG[key] == version) ?\n",
              "        Promise.resolve(paths[lib]) :\n",
              "        new Promise(function(resolve, reject) {\n",
              "          var s = document.createElement('script');\n",
              "          document.getElementsByTagName(\"head\")[0].appendChild(s);\n",
              "          s.async = true;\n",
              "          s.onload = () => {\n",
              "            VEGA_DEBUG[key] = version;\n",
              "            return resolve(paths[lib]);\n",
              "          };\n",
              "          s.onerror = () => reject(`Error loading script: ${paths[lib]}`);\n",
              "          s.src = paths[lib];\n",
              "        });\n",
              "    }\n",
              "\n",
              "    function showError(err) {\n",
              "      outputDiv.innerHTML = `<div class=\"error\" style=\"color:red;\">${err}</div>`;\n",
              "      throw err;\n",
              "    }\n",
              "\n",
              "    function displayChart(vegaEmbed) {\n",
              "      vegaEmbed(outputDiv, spec, embedOpt)\n",
              "        .catch(err => showError(`Javascript Error: ${err.message}<br>This usually means there's a typo in your chart specification. See the javascript console for the full traceback.`));\n",
              "    }\n",
              "\n",
              "    if(typeof define === \"function\" && define.amd) {\n",
              "      requirejs.config({paths});\n",
              "      require([\"vega-embed\"], displayChart, err => showError(`Error loading script: ${err.message}`));\n",
              "    } else {\n",
              "      maybeLoadScript(\"vega\", \"5\")\n",
              "        .then(() => maybeLoadScript(\"vega-lite\", \"5.20.1\"))\n",
              "        .then(() => maybeLoadScript(\"vega-embed\", \"6\"))\n",
              "        .catch(showError)\n",
              "        .then(() => displayChart(vegaEmbed));\n",
              "    }\n",
              "  })({\"config\": {\"view\": {\"continuousWidth\": 300, \"continuousHeight\": 300, \"strokeWidth\": 0}, \"axisLeft\": {\"labelColor\": \"rgb(102, 111, 137)\", \"labelFont\": \"Roboto, Arial, sans-serif\", \"labelFontSize\": 16}, \"title\": {\"anchor\": \"start\", \"color\": \"rgb(25, 39, 78)\", \"font\": \"Roboto, Arial, sans-serif\", \"fontSize\": 20, \"fontWeight\": \"bold\", \"offset\": 20}}, \"layer\": [{\"data\": {\"name\": \"data-aafb1ff76d456be5032461b79d2e0b38\"}, \"mark\": {\"type\": \"rule\", \"stroke\": \"rgb(102, 111, 137)\", \"strokeWidth\": 1.25, \"tooltip\": null}, \"encoding\": {\"x\": {\"field\": \"x\", \"scale\": {\"domain\": [-2, 2], \"range\": [40.0, 760.0]}, \"type\": \"quantitative\"}, \"x2\": {\"field\": \"x2\"}, \"y\": {\"axis\": {\"domain\": false, \"labelAngle\": 0, \"labelPadding\": -30, \"orient\": \"left\", \"ticks\": false, \"title\": null}, \"field\": \"metric\", \"scale\": {\"domain\": [\"FNR\"], \"range\": [30, 225.0]}, \"type\": \"nominal\"}}}, {\"data\": {\"name\": \"data-de84bc8c822dac0bd3b12b0342548471\"}, \"mark\": {\"type\": \"rule\", \"stroke\": \"rgb(102, 111, 137)\", \"strokeDash\": [5, 5], \"strokeWidth\": 1}, \"encoding\": {\"tooltip\": {\"value\": \"male [REF]\"}, \"x\": {\"value\": 400.0}, \"y\": {\"value\": 20.833333333333336}, \"y2\": {\"value\": 229.16666666666666}}}, {\"data\": {\"name\": \"data-5301160e2632d994a912fb62c574b38d\"}, \"mark\": {\"type\": \"text\", \"align\": \"center\", \"color\": \"rgb(102, 111, 137)\", \"font\": \"Roboto, Arial, sans-serif\", \"fontSize\": 12, \"fontWeight\": \"normal\", \"tooltip\": null}, \"encoding\": {\"text\": {\"field\": \"label\", \"type\": \"nominal\"}, \"x\": {\"field\": \"value\", \"scale\": {\"domain\": [-2, 2], \"range\": [40.0, 760.0]}, \"type\": \"quantitative\"}, \"y\": {\"value\": 17.5}}}, {\"layer\": [{\"mark\": {\"type\": \"text\", \"align\": \"left\", \"fill\": \"rgb(102, 111, 137)\", \"font\": \"Roboto, Arial, sans-serif\", \"fontSize\": 12, \"fontWeight\": \"normal\", \"tooltip\": null}, \"encoding\": {\"text\": {\"value\": \"Times Smaller\"}, \"x\": {\"value\": 40.0}, \"y\": {\"value\": 7.5}}}, {\"mark\": {\"type\": \"text\", \"align\": \"right\", \"fill\": \"rgb(102, 111, 137)\", \"font\": \"Roboto, Arial, sans-serif\", \"fontSize\": 12, \"fontWeight\": \"normal\", \"tooltip\": null}, \"encoding\": {\"text\": {\"value\": \"Times Larger\"}, \"x\": {\"value\": 760.0}, \"y\": {\"value\": 7.5}}}, {\"mark\": {\"type\": \"text\", \"align\": \"center\", \"fill\": \"rgb(102, 111, 137)\", \"font\": \"Roboto, Arial, sans-serif\", \"fontSize\": 12, \"fontWeight\": \"normal\", \"tooltip\": null}, \"encoding\": {\"text\": {\"value\": \"Equal\"}, \"x\": {\"value\": 400.0}, \"y\": {\"value\": 7.5}}}], \"data\": {\"name\": \"data-de84bc8c822dac0bd3b12b0342548471\"}}, {\"layer\": [{\"mark\": {\"type\": \"rule\", \"opacity\": 0.8, \"stroke\": \"rgb(211, 47, 47)\", \"strokeWidth\": 1.25, \"tooltip\": null}, \"encoding\": {\"x\": {\"field\": \"min\", \"scale\": {\"domain\": [-2, 2], \"range\": [40.0, 760.0]}, \"type\": \"quantitative\"}, \"y\": {\"value\": 25.0}, \"y2\": {\"value\": 225.0}}}, {\"mark\": {\"type\": \"rule\", \"opacity\": 0.8, \"stroke\": \"rgb(211, 47, 47)\", \"strokeWidth\": 1.25, \"tooltip\": null}, \"encoding\": {\"x\": {\"field\": \"max\", \"scale\": {\"domain\": [-2, 2], \"range\": [40.0, 760.0]}, \"type\": \"quantitative\"}, \"y\": {\"value\": 25.0}, \"y2\": {\"value\": 225.0}}}, {\"layer\": [{\"mark\": {\"type\": \"rect\", \"fill\": \"rgb(211, 47, 47)\", \"opacity\": 0.1, \"tooltip\": null}, \"encoding\": {\"x\": {\"field\": \"min\", \"scale\": {\"domain\": [-2, 2], \"range\": [40.0, 760.0]}, \"type\": \"quantitative\"}, \"x2\": {\"field\": \"lower_end\"}, \"y\": {\"value\": 25.0}, \"y2\": {\"value\": 225.0}}}, {\"mark\": {\"type\": \"rect\", \"fill\": \"rgb(211, 47, 47)\", \"opacity\": 0.1, \"tooltip\": null}, \"encoding\": {\"x\": {\"field\": \"max\", \"scale\": {\"domain\": [-2, 2], \"range\": [40.0, 760.0]}, \"type\": \"quantitative\"}, \"x2\": {\"field\": \"upper_end\"}, \"y\": {\"value\": 25.0}, \"y2\": {\"value\": 225.0}}}]}, {\"layer\": [{\"mark\": {\"type\": \"text\", \"align\": \"left\", \"baseline\": \"top\", \"fill\": \"rgb(211, 47, 47)\", \"font\": \"Roboto, Arial, sans-serif\", \"fontSize\": 12, \"fontWeight\": \"normal\", \"tooltip\": null}, \"encoding\": {\"text\": {\"value\": \"The metric value for any group should not be 1.25 (or more) times smaller or larger than that of the reference group male.\"}, \"x\": {\"value\": 0}, \"y\": {\"value\": 233.33333333333334}}}], \"data\": {\"name\": \"data-de84bc8c822dac0bd3b12b0342548471\"}}], \"data\": {\"name\": \"data-f6c9b01b2d2ca106ef2a532bc000e3e1\"}}, {\"layer\": [{\"data\": {\"name\": \"empty\"}, \"mark\": {\"type\": \"circle\"}}, {\"data\": {\"name\": \"data-cd0fd262c9b884e6a866c4cdc436a5b8\"}, \"mark\": {\"type\": \"circle\", \"cursor\": \"pointer\", \"opacity\": 0.2}, \"encoding\": {\"color\": {\"condition\": {\"param\": \"param_1\", \"empty\": true, \"field\": \"attribute_value\", \"legend\": null, \"scale\": {\"domain\": [\"male\", \"female\", \"neutral\", \"queer\"], \"range\": [\"rgb(102, 111, 137)\", \"rgb(76, 136, 238)\", \"rgb(254, 97, 0)\", \"rgb(220, 38, 127)\", \"rgb(255, 176, 0)\", \"rgb(150, 95, 230)\"]}, \"type\": \"nominal\"}, \"value\": \"rgb(225, 226, 231)\"}, \"size\": {\"field\": \"group_size\", \"legend\": null, \"scale\": {\"domain\": [0, 322.8], \"range\": [0, 7853.981633974483]}, \"type\": \"quantitative\"}, \"tooltip\": [{\"field\": \"attribute_value\", \"title\": \"Group\", \"type\": \"nominal\"}, {\"field\": \"tooltip_group_size\", \"title\": \"Group Size\", \"type\": \"nominal\"}, {\"field\": \"tooltip_disparity_explanation_fnr\", \"title\": \"Disparity\", \"type\": \"nominal\"}, {\"field\": \"fnr\", \"format\": \".2f\", \"title\": \"FNR\", \"type\": \"quantitative\"}], \"x\": {\"axis\": {\"domain\": false, \"gridColor\": \"rgb(225, 226, 231)\", \"labels\": false, \"ticks\": false, \"title\": null, \"values\": [1, 2, -2, -1]}, \"field\": \"fnr_disparity_scaled\", \"scale\": {\"domain\": [-2, 2], \"range\": [40.0, 760.0]}, \"type\": \"quantitative\"}, \"y\": {\"axis\": {\"domain\": false, \"grid\": false, \"labels\": false, \"ticks\": false, \"title\": null}, \"field\": \"metric_variable\", \"scale\": {\"domain\": [\"FNR\"], \"range\": [30, 225.0]}, \"type\": \"nominal\"}}, \"name\": \"view_2\", \"transform\": [{\"calculate\": \"'FNR'\", \"as\": \"metric_variable\"}]}, {\"layer\": [{\"data\": {\"name\": \"empty\"}, \"mark\": {\"type\": \"point\"}}, {\"data\": {\"name\": \"data-cd0fd262c9b884e6a866c4cdc436a5b8\"}, \"mark\": {\"type\": \"point\", \"cursor\": \"pointer\", \"filled\": true, \"size\": 60}, \"encoding\": {\"color\": {\"condition\": {\"param\": \"param_1\", \"empty\": true, \"field\": \"attribute_value\", \"legend\": null, \"scale\": {\"domain\": [\"male\", \"female\", \"neutral\", \"queer\"], \"range\": [\"rgb(102, 111, 137)\", \"rgb(76, 136, 238)\", \"rgb(254, 97, 0)\", \"rgb(220, 38, 127)\", \"rgb(255, 176, 0)\", \"rgb(150, 95, 230)\"]}, \"type\": \"nominal\"}, \"value\": \"rgb(225, 226, 231)\"}, \"shape\": {\"field\": \"attribute_value\", \"legend\": null, \"scale\": {\"domain\": [\"male\", \"female\", \"neutral\", \"queer\"], \"range\": [\"cross\", \"circle\", \"circle\", \"circle\"]}, \"type\": \"nominal\"}, \"tooltip\": [{\"field\": \"attribute_value\", \"title\": \"Group\", \"type\": \"nominal\"}, {\"field\": \"tooltip_group_size\", \"title\": \"Group Size\", \"type\": \"nominal\"}, {\"field\": \"tooltip_disparity_explanation_fnr\", \"title\": \"Disparity\", \"type\": \"nominal\"}, {\"field\": \"fnr\", \"format\": \".2f\", \"title\": \"FNR\", \"type\": \"quantitative\"}], \"x\": {\"axis\": {\"domain\": false, \"gridColor\": \"rgb(225, 226, 231)\", \"labels\": false, \"ticks\": false, \"title\": null, \"values\": [1, 2, -2, -1]}, \"field\": \"fnr_disparity_scaled\", \"scale\": {\"domain\": [-2, 2], \"range\": [40.0, 760.0]}, \"type\": \"quantitative\"}, \"y\": {\"axis\": {\"domain\": false, \"grid\": false, \"labels\": false, \"ticks\": false, \"title\": null}, \"field\": \"metric_variable\", \"scale\": {\"domain\": [\"FNR\"], \"range\": [30, 225.0]}, \"type\": \"nominal\"}}, \"name\": \"view_1\", \"transform\": [{\"calculate\": \"'FNR'\", \"as\": \"metric_variable\"}]}]}]}, {\"layer\": [{\"mark\": {\"type\": \"point\", \"cursor\": \"pointer\", \"filled\": true, \"opacity\": 1, \"size\": 40}, \"encoding\": {\"color\": {\"condition\": {\"param\": \"param_1\", \"empty\": true, \"field\": \"attribute_value\", \"legend\": null, \"scale\": {\"domain\": [\"male\", \"female\", \"neutral\", \"queer\"], \"range\": [\"rgb(102, 111, 137)\", \"rgb(76, 136, 238)\", \"rgb(254, 97, 0)\", \"rgb(220, 38, 127)\", \"rgb(255, 176, 0)\", \"rgb(150, 95, 230)\"]}, \"type\": \"nominal\"}, \"value\": \"rgb(225, 226, 231)\"}, \"shape\": {\"field\": \"attribute_value\", \"legend\": null, \"scale\": {\"domain\": [\"male\", \"female\", \"neutral\", \"queer\"], \"range\": [\"cross\", \"circle\", \"circle\", \"circle\"]}, \"type\": \"nominal\"}, \"x\": {\"value\": 807.5682482323056}, \"y\": {\"axis\": {\"domain\": false, \"grid\": false, \"labels\": false, \"ticks\": false, \"title\": null}, \"field\": \"attribute_value\", \"scale\": {\"domain\": [\"male\", \"female\", \"neutral\", \"queer\"], \"range\": [54, 118]}, \"type\": \"nominal\"}}, \"name\": \"view_3\"}, {\"mark\": {\"type\": \"text\", \"align\": \"left\", \"baseline\": \"middle\", \"cursor\": \"pointer\", \"font\": \"Roboto, Arial, sans-serif\", \"fontSize\": 12, \"fontWeight\": \"normal\"}, \"encoding\": {\"color\": {\"condition\": {\"param\": \"param_1\", \"empty\": true, \"field\": \"attribute_value\", \"legend\": null, \"scale\": {\"domain\": [\"male\", \"female\", \"neutral\", \"queer\"], \"range\": [\"rgb(102, 111, 137)\", \"rgb(76, 136, 238)\", \"rgb(254, 97, 0)\", \"rgb(220, 38, 127)\", \"rgb(255, 176, 0)\", \"rgb(150, 95, 230)\"]}, \"type\": \"nominal\"}, \"value\": \"rgb(225, 226, 231)\"}, \"text\": {\"field\": \"label\", \"type\": \"nominal\"}, \"x\": {\"value\": 818.1364964646111}, \"y\": {\"axis\": {\"domain\": false, \"grid\": false, \"labels\": false, \"ticks\": false, \"title\": null}, \"field\": \"attribute_value\", \"scale\": {\"domain\": [\"male\", \"female\", \"neutral\", \"queer\"], \"range\": [54, 118]}, \"type\": \"nominal\"}}, \"name\": \"view_4\"}, {\"data\": {\"name\": \"data-de84bc8c822dac0bd3b12b0342548471\"}, \"mark\": {\"type\": \"text\", \"align\": \"left\", \"baseline\": \"top\", \"color\": \"rgb(25, 39, 78)\", \"font\": \"Roboto, Arial, sans-serif\", \"fontSize\": 12, \"fontWeight\": \"bold\"}, \"encoding\": {\"text\": {\"value\": \"(click to highlight)\"}, \"x\": {\"value\": 800}, \"y\": {\"value\": 34}}}, {\"data\": {\"name\": \"data-de84bc8c822dac0bd3b12b0342548471\"}, \"mark\": {\"type\": \"text\", \"align\": \"left\", \"baseline\": \"top\", \"color\": \"rgb(25, 39, 78)\", \"font\": \"Roboto, Arial, sans-serif\", \"fontSize\": 12, \"fontWeight\": \"bold\"}, \"encoding\": {\"text\": {\"value\": \"Groups\"}, \"x\": {\"value\": 800}, \"y\": {\"value\": 20}}}], \"data\": {\"name\": \"data-1aae14bcd3e628387f00075bcd85b9c1\"}}], \"height\": 250, \"padding\": {\"top\": 15, \"bottom\": 7.0, \"left\": 15, \"right\": 15}, \"params\": [{\"name\": \"param_3\", \"select\": {\"type\": \"point\", \"fields\": [\"attribute_value\"]}, \"views\": [\"view_2\"]}, {\"name\": \"param_2\", \"select\": {\"type\": \"point\", \"fields\": [\"attribute_value\"]}, \"views\": [\"view_1\"]}, {\"name\": \"param_1\", \"select\": {\"type\": \"point\", \"fields\": [\"attribute_value\"]}, \"views\": [\"view_3\"]}, {\"name\": \"param_4\", \"select\": {\"type\": \"point\", \"fields\": [\"attribute_value\"]}, \"views\": [\"view_4\"]}], \"resolve\": {\"scale\": {\"size\": \"independent\", \"y\": \"independent\"}}, \"title\": \"Disparities on Gender\", \"usermeta\": {\"embedOptions\": {\"scaleFactor\": 5, \"downloadFileName\": \"disparity_chart\"}}, \"width\": 800, \"$schema\": \"https://vega.github.io/schema/vega-lite/v5.20.1.json\", \"datasets\": {\"data-aafb1ff76d456be5032461b79d2e0b38\": [{\"metric\": \"FNR\", \"x\": -2, \"x2\": 2}], \"data-de84bc8c822dac0bd3b12b0342548471\": [{\"a\": 1, \"b\": 0}, {\"a\": 1, \"b\": 0}], \"data-5301160e2632d994a912fb62c574b38d\": [{\"value\": 1, \"label\": 2}, {\"value\": 2, \"label\": 3}, {\"value\": -2, \"label\": 3}, {\"value\": -1, \"label\": 2}, {\"value\": 0, \"label\": \"=\"}], \"data-f6c9b01b2d2ca106ef2a532bc000e3e1\": [{\"min\": -0.25, \"max\": 0.25, \"lower_end\": -2, \"upper_end\": 2}], \"empty\": [{}], \"data-cd0fd262c9b884e6a866c4cdc436a5b8\": [{\"attribute_name\": \"gender\", \"attribute_value\": \"female\", \"group_size\": 245, \"total_entities\": 1000, \"fnr\": 0.024793388429752067, \"fnr_disparity\": 0.5578512396694215, \"fnr_disparity_scaled\": -0.7925925925925925, \"tooltip_group_size\": \"245 (24.50%)\", \"tooltip_disparity_explanation_fnr\": \"1.79 times smaller FNR than the reference group\"}, {\"attribute_name\": \"gender\", \"attribute_value\": \"male\", \"group_size\": 269, \"total_entities\": 1000, \"fnr\": 0.044444444444444446, \"fnr_disparity\": 1.0, \"fnr_disparity_scaled\": 0.0, \"tooltip_group_size\": \"269 (26.90%)\", \"tooltip_disparity_explanation_fnr\": \"Reference group\"}, {\"attribute_name\": \"gender\", \"attribute_value\": \"neutral\", \"group_size\": 245, \"total_entities\": 1000, \"fnr\": 0.02727272727272727, \"fnr_disparity\": 0.6136363636363635, \"fnr_disparity_scaled\": -0.62962962962963, \"tooltip_group_size\": \"245 (24.50%)\", \"tooltip_disparity_explanation_fnr\": \"1.63 times smaller FNR than the reference group\"}, {\"attribute_name\": \"gender\", \"attribute_value\": \"queer\", \"group_size\": 241, \"total_entities\": 1000, \"fnr\": 0.02654867256637168, \"fnr_disparity\": 0.5973451327433628, \"fnr_disparity_scaled\": -0.6740740740740743, \"tooltip_group_size\": \"241 (24.10%)\", \"tooltip_disparity_explanation_fnr\": \"1.67 times smaller FNR than the reference group\"}], \"data-1aae14bcd3e628387f00075bcd85b9c1\": [{\"attribute_value\": \"male\", \"label\": \"male [REF]\"}, {\"attribute_value\": \"female\", \"label\": \"female\"}, {\"attribute_value\": \"neutral\", \"label\": \"neutral\"}, {\"attribute_value\": \"queer\", \"label\": \"queer\"}]}}, {\"mode\": \"vega-lite\"});\n",
              "</script>"
            ],
            "text/plain": [
              "alt.LayerChart(...)"
            ]
          },
          "metadata": {},
          "execution_count": 6
        }
      ]
    },
    {
      "cell_type": "markdown",
      "source": [
        "### 3.1 Imagine you are using the ML model for an assistive intervention: you want to detect hate speech and offer extra help to those people. . Which metric would you use to assess fairness?"
      ],
      "metadata": {
        "id": "65AfH5a_zSTX"
      }
    },
    {
      "cell_type": "markdown",
      "source": [
        "*ADD ANSWER HERE*"
      ],
      "metadata": {
        "id": "02fhvtRZzhrv"
      }
    },
    {
      "cell_type": "markdown",
      "source": [
        "\n",
        "\n",
        "### 3.2 Imagine you are using the ML model for a punitive intervention: you want to detect hate speech and fine those people. Which metric would you use to assess fairness?"
      ],
      "metadata": {
        "id": "z2tVe1TXzk1k"
      }
    },
    {
      "cell_type": "markdown",
      "source": [
        "*ADD ANSWER HERE*"
      ],
      "metadata": {
        "id": "ZzY6fgn2zpkK"
      }
    },
    {
      "cell_type": "markdown",
      "source": [
        "### 3.3. What information do you need to be able to correct your model? Do you have that information in your group project?\n",
        "*ADD YOUR ANSWER HERE*\n",
        "\n",
        "\n",
        "### 3.4. If you would use the results of your. What could be the consequences of having used a biased model?\n"
      ],
      "metadata": {
        "id": "wXMSpWHo15Mj"
      }
    },
    {
      "cell_type": "markdown",
      "source": [
        "\n",
        "Take a look at how to reduce model bias using [`DefaultExperiment`](https://github.com/dssg/aequitas?tab=readme-ov-file#-quickstart-on-experimenting-with-bias-reduction-fair-ml-methods)\n",
        "                \n",
        "                                     \n",
        "### 3.5 What does `DefaultExperiment` allow you to do? (in your own words)\n",
        "\n",
        "*ADD YOUR ANSWER HERE*\n",
        "\n",
        "\n",
        "\n",
        "### 3.6. To correct the hate speech model, which of the [following methods](https://github.com/dssg/aequitas?tab=readme-ov-file#fair-ml-methods) could you use? why?\n",
        "\n",
        "*ADD YOUR ANSWER HERE*               \n",
        "\n",
        "\n",
        "\n"
      ],
      "metadata": {
        "id": "UZrIPqta3Bg5"
      }
    }
  ]
}