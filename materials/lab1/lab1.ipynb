{
  "cells": [
    {
      "cell_type": "markdown",
      "source": [
        "# Lab 1: Introduction to Digital Trace Data\n",
        "\n",
        "Welcome to the first lab. The labs will help you solidify the concepts you've learned in the lectures, analyze digital trace data, and think about the opportunities and challenges associated with digital trace data.\n",
        "\n",
        "So stay tuned if you are interested in, for example, what data is collected when using platforms like ChatGPT, how to retrieve and analyze TikTok or Instagram data, and what we can learn about society from Whatsapp data.\n",
        "\n",
        "The labs will be written in Python (but don't worry, we __not__ expect you to know or learn Python) and published as .ipynb files (Jupyter notebooks) that you can easily open via Google Colab.\n",
        "\n",
        "These files consist of multiple cells containing text or code. You can edit an existing cell by double-clicking it. You can insert text by clicking the \"+ Text\" button in the top left corner and add code by clicking the \"+ Code\" button. To add your answers, simply double-click on the cell that says \"*ADD YOUR ANSWERS HERE*\".\n",
        "\n",
        "FIRST STEP OF ALL PRACTICALS: Click on File -> Save a copy in Drive. Work on that file!.\n",
        "\n",
        "You will need to submit the labs as a PDF by 17:00 the following Monday. This can be done directly from Colab (File -> Print --> PDF), or you can copy the answers into a Word document and export it as a PDF."
      ],
      "metadata": {
        "id": "sV3OddT9hn2n"
      },
      "id": "sV3OddT9hn2n"
    },
    {
      "cell_type": "markdown",
      "id": "c6cd3a8b-d4c8-4b88-8a37-d0efd155d941",
      "metadata": {
        "id": "c6cd3a8b-d4c8-4b88-8a37-d0efd155d941"
      },
      "source": [
        "## Part 1: Request a data download package (DDP) from a social media, you will use it in the next lab.\n",
        "\n",
        "Next week you will work with your own DDP. To prepare for it, please request the DDP of chatGPT, Youtube, or Instagram.\n",
        "- Youtube (Google): https://support.google.com/accounts/answer/3024190?hl=en\n",
        "- chatGPT: https://help.openai.com/en/articles/7260999-how-do-i-export-my-chatgpt-history-and-data\n",
        "- Instagram: https://accountscenter.instagram.com/info_and_permissions/\n",
        "\n",
        "Your request will take some hours/days to be processed. Once it's available you will be able to download a ZIP file. Please do so before the second lab."
      ]
    },
    {
      "cell_type": "markdown",
      "source": [
        "---"
      ],
      "metadata": {
        "id": "Y1Nr7Ud6nEaC"
      },
      "id": "Y1Nr7Ud6nEaC"
    },
    {
      "cell_type": "markdown",
      "id": "2f3b02b6-3d6f-49bf-a4bf-47ff21f331ad",
      "metadata": {
        "id": "2f3b02b6-3d6f-49bf-a4bf-47ff21f331ad"
      },
      "source": [
        "## Part 2. Type of file formats\n",
        "\n",
        "You have likely encountered that data can be stored in many different type of file formats. These are some of the most common ways to store DTD:\n",
        "\n",
        "- HTML (HyperText Markup Language) and CSS (Cascading Style Sheets): HTML is like the skeleton of a website, and CSS is what makes it pretty by adding styles and colors.\n",
        "\n",
        "- XML (eXtensible Markup Language): A format to communicate data. It allows different programs talk to each other by sharing data in a way they all understand.\n",
        "\n",
        "- JSON (JavaScript Object Notation: This is a simple way to keep info that both humans and computers can easily read.\n",
        "\n",
        "- Spreadsheets (e.g. Excel files, CSV or TSV). CSV or TSV are basic spreadsheets stored in a plain text file. Each line is a row, and values in each row are separated by commas (CSV) or tabs (TSV). It's simple and works well for lists of things like names or numbers.\n",
        "\n",
        "- PDF (Portable Document Format).\n",
        "\n",
        "- Databases: Different types of databases can keep different types of information. They have some perks, like you can retrieve and write data continiously and easily.\n",
        "\n",
        "- Geographical information: e.g. .geojson\n",
        "\n",
        "- Multimedia: Images (png/jpg/gif), Video (e.g. mp4), Audio (e.g. mp3)\n",
        "\n",
        "\n",
        "\n",
        "In general, we divide data into structured and unstructured data. Structured data is often stored in spreadsheets (or databases) and is easier to analyze. Unstructured data is more diverse, can be stored using many different file formats, and is harder to analyze.\n",
        "\n",
        "![https://www.youtube.com/watch?app=desktop&v=sf2S6ZI9BD0](https://digitaltracedata.github.io/materials/lab1/stru_unstr.png)"
      ]
    },
    {
      "cell_type": "markdown",
      "source": [
        "### 2.1 You can find a simple example of an HTML file [here](https://gist.githubusercontent.com/thatisuday/be3e05400fed2c0749a8818e0f44f57a/raw/91a25f3ed09e1df8160183a489b9b1db53269758/index.html). Note that it is a tree structure, where sections are delimited between `<TAG>` and `</TAG>`.\n",
        "\n",
        "- What are the two main parts within the HTLM file?\n",
        "- What does `<div>`, `<h1>` and `<p>` signal?\n",
        "- What does the line `<link rel=\"stylesheet\" href=\"./style.css\"/>` do?\n",
        "- What does the line `<script src=\"./main.js\"></script>` do?\n",
        "\n"
      ],
      "metadata": {
        "id": "_ZR6r45_guQR"
      },
      "id": "_ZR6r45_guQR"
    },
    {
      "cell_type": "markdown",
      "source": [
        "*ADD YOUR ANSWERS HERE*"
      ],
      "metadata": {
        "id": "mgDGjujHhMmB"
      },
      "id": "mgDGjujHhMmB"
    },
    {
      "cell_type": "markdown",
      "source": [
        "### 2.2 Through [this link](https://gist.githubusercontent.com/13protons/3441183/raw/68ac9a15d84e1cfaa313c8b59e4bcc16bfae842d/XML%2520Example) you can find an example of a simple XML file. What do you notice when comparing it to the HTML file above?"
      ],
      "metadata": {
        "id": "uS7sYUGDiCIK"
      },
      "id": "uS7sYUGDiCIK"
    },
    {
      "cell_type": "markdown",
      "source": [
        "*ADD YOUR ANSWERS HERE*"
      ],
      "metadata": {
        "id": "K-Mpvj1QiSuw"
      },
      "id": "K-Mpvj1QiSuw"
    },
    {
      "cell_type": "markdown",
      "id": "0fa1264e-4166-45ab-8c0b-4b9ac399e8ab",
      "metadata": {
        "id": "0fa1264e-4166-45ab-8c0b-4b9ac399e8ab"
      },
      "source": [
        "### 2.3 Open [this geojson file](https://raw.githubusercontent.com/blackmad/neighborhoods/master/utrecht.geojson). By clicking on the link it will open on the browser.\n",
        "- Briefly skim its structure. What data does it contain?\n",
        "- Download the file to your computer (Ctrl/Cmd + S). Then go to [geojson.io](https://geojson.io) and upload the geojson file you just downloaded by clicking on \"Open\". What data is encoded in the file?\n"
      ]
    },
    {
      "cell_type": "markdown",
      "source": [
        "*ADD YOUR ANSWERS HERE*"
      ],
      "metadata": {
        "id": "GQtDJqSKhg_x"
      },
      "id": "GQtDJqSKhg_x"
    },
    {
      "cell_type": "markdown",
      "source": [
        "# 2.4 For Jonathan: Add two examples of a JSON file and ask students how is information structured (i.g., in a nested tree of key->values). Then read in python a json file and show how to extract specific values.\n",
        "\n",
        "# 2.5 For Jonathan: Add example CSV file and ask students to explain how is the information structured.\n",
        "\n",
        "### 2.6 Which of the file formats that you just explored above represent structured and unstructured data?\n"
      ],
      "metadata": {
        "id": "SByWimNNhkrO"
      },
      "id": "SByWimNNhkrO"
    },
    {
      "cell_type": "markdown",
      "source": [
        "---"
      ],
      "metadata": {
        "id": "qciTh9jBxqWV"
      },
      "id": "qciTh9jBxqWV"
    },
    {
      "cell_type": "markdown",
      "id": "2ba0d6fd-6c80-408a-a13f-dca23933906c",
      "metadata": {
        "id": "2ba0d6fd-6c80-408a-a13f-dca23933906c"
      },
      "source": [
        "## Part 3: How is digital trace data different from data you have worked before?\n",
        "\n",
        "\n",
        "_Just as the invention of the telescope revolutionized the study of the heavens, so too by rendering the unmeasurable measurable, the technological revolution in mobile, Web, and Internet communications has the potential to revolutionize our understanding of ourselves and how we interact…. Three hundred years after Alexander Pope argued that the proper study of mankind should lie not in the heavens but in ourselves, we have finally found our telescope. Let the revolution begin._\n",
        "\n",
        "\n",
        "\n",
        "Watts DJ. 2011. Everything Is Obvious: How Common Sense Fails Us. New York: Crown Business\n"
      ]
    },
    {
      "cell_type": "markdown",
      "id": "f6903fba-9e24-41e9-9217-2d7425ee24d7",
      "metadata": {
        "id": "f6903fba-9e24-41e9-9217-2d7425ee24d7"
      },
      "source": [
        "### 3.1 Download the data from [this](https://digitaltracedata.github.io/materials/lab1/ddp_twitter_soda.zip) link and open it in your computer.\n",
        "\n",
        "Today you are going to be working with a non-personal account from Twitter.\n",
        "\n",
        "This the digital trace data corresponding to the ODISSEI Social Data Science Twitter account. We removed some files with sensitive information (private messages, authentification keys). We barely use the account, so most of the files are empty.\n",
        "\n"
      ]
    },
    {
      "cell_type": "markdown",
      "id": "7845ea0b-49b7-4802-9aa7-b6928fde2f4d",
      "metadata": {
        "id": "7845ea0b-49b7-4802-9aa7-b6928fde2f4d"
      },
      "source": [
        "### 3.2 Explore manually the files in the DDP. The Twitter data is stored in the `data` folder. The `assets` folder provides some formatting to the file `Your archive.html`. Let's use only the `data` folder.\n",
        "- How many folders/files does the DDP have? (roughly)\n",
        "- What is the format of the files included?\n",
        "- Which one is the largest file?\n",
        "\n"
      ]
    },
    {
      "cell_type": "markdown",
      "source": [
        "*ADD YOUR ANSWERS HERE*"
      ],
      "metadata": {
        "id": "HtV5H8FinuQy"
      },
      "id": "HtV5H8FinuQy"
    },
    {
      "cell_type": "markdown",
      "id": "c8327e07-1de4-4ce8-b63f-a938726be62f",
      "metadata": {
        "id": "c8327e07-1de4-4ce8-b63f-a938726be62f"
      },
      "source": [
        "### 3.3 Open the file `data/README.txt` in a file editor and take a quick look. - How is Twitter recommending you to explore the DDP?\n",
        "- In what file format is the majority of the data stored?\n",
        "- The README provides explanations on each file. What is stored in the files `ad-engagements.js`, `personalization.js` and `tweets.js`\n",
        "- Open those files in your computer, write something you learned about the twitter account (ODISSEI_SoDa) by looking at those files.\n",
        "\n",
        "\n",
        "*ADD YOUR ANSWERS HERE*"
      ]
    },
    {
      "cell_type": "markdown",
      "source": [
        "### 3.4 Now open the file `Your archive.html` in your browser and explore the data by clicking on the different menu options in the left.\n",
        "- What type of data is generated by the user?\n",
        "- What type of data is generated by Twitter automatically?\n",
        "\n",
        "*ADD YOUR ANSWERS HERE*"
      ],
      "metadata": {
        "id": "dl-QRLJP2aL1"
      },
      "id": "dl-QRLJP2aL1"
    },
    {
      "cell_type": "markdown",
      "id": "16e80672-8611-46c8-8ee8-b8fa5899fc85",
      "metadata": {
        "id": "16e80672-8611-46c8-8ee8-b8fa5899fc85"
      },
      "source": [
        "### 3.5 Can you identify other people in the data?\n",
        "\n",
        "*ADD YOUR ANSWERS HERE*"
      ]
    },
    {
      "cell_type": "markdown",
      "id": "137f8c71-f188-448b-abd5-ef6f4155eb72",
      "metadata": {
        "id": "137f8c71-f188-448b-abd5-ef6f4155eb72"
      },
      "source": [
        "### 3.6 Imagine you would be able to collect the DDP of thousands of students at Utrecht University. Come up with a research question that could be answered with such data.\n",
        "\n",
        "*ADD YOUR ANSWERS HERE*\n",
        "\n"
      ]
    },
    {
      "cell_type": "markdown",
      "id": "5a0fadab-1aba-4d09-ba7d-bf0bbfaf7960",
      "metadata": {
        "id": "5a0fadab-1aba-4d09-ba7d-bf0bbfaf7960"
      },
      "source": [
        "## Part 4: Typical data processing workflow\n",
        "\n",
        "You have seen in the previous exercises that most DTD is unstructured. In the following sections, we guide you through a typical data processing workflow (in Python).\n",
        "\n",
        "The workflow takes the `tweets.js` file, and analyzes the relationships between the precesnce of media (images/videos) in a tweet, and the likelihood that the tweet is retweeted or liked."
      ]
    },
    {
      "cell_type": "markdown",
      "id": "9e13f068-3802-4c3d-b885-b3d195105b94",
      "metadata": {
        "id": "9e13f068-3802-4c3d-b885-b3d195105b94"
      },
      "source": [
        "### 4.1 Data download\n",
        "\n",
        "The first step is to download the data (the `tweets.js` file), and read the JSON file as a dictionary in Python.\n",
        "\n",
        "When was the second tweet created? (check the output of the code)\n",
        "\n",
        "*ADD YOUR ANSWERS HERE*"
      ]
    },
    {
      "cell_type": "code",
      "execution_count": 9,
      "id": "131c040f-1ddc-45b8-8b7f-05731199a9b6",
      "metadata": {
        "colab": {
          "base_uri": "https://localhost:8080/"
        },
        "id": "131c040f-1ddc-45b8-8b7f-05731199a9b6",
        "outputId": "9cff86ca-60d3-4f67-dd50-3ebc9d78e9f9"
      },
      "outputs": [
        {
          "output_type": "stream",
          "name": "stderr",
          "text": [
            "Downloading...\n",
            "From: https://digitaltracedata.github.io/materials/lab1/tweets.js\n",
            "To: /content/tweets.js\n",
            "185kB [00:00, 85.9MB/s]                    \n"
          ]
        },
        {
          "output_type": "execute_result",
          "data": {
            "text/plain": [
              "{'tweet': {'edit_info': {'initial': {'editTweetIds': ['1755896746222174634'],\n",
              "    'editableUntil': '2024-02-09T11:09:41.000Z',\n",
              "    'editsRemaining': '5',\n",
              "    'isEditEligible': False}},\n",
              "  'retweeted': False,\n",
              "  'source': '<a href=\"https://mobile.twitter.com\" rel=\"nofollow\">Twitter Web App</a>',\n",
              "  'entities': {'user_mentions': [],\n",
              "   'urls': [{'url': 'https://t.co/t8QadKrTwl',\n",
              "     'expanded_url': 'https://fair.odissei-soda.nl/',\n",
              "     'display_url': 'fair.odissei-soda.nl',\n",
              "     'indices': ['233', '256']}],\n",
              "   'symbols': [],\n",
              "   'media': [{'expanded_url': 'https://twitter.com/ODISSEI_SoDa/status/1755896746222174634/photo/1',\n",
              "     'indices': ['257', '280'],\n",
              "     'url': 'https://t.co/JATxBoBen0',\n",
              "     'media_url': 'http://pbs.twimg.com/media/GF4wlRAWYAAw9J1.jpg',\n",
              "     'id_str': '1755894321499234304',\n",
              "     'id': '1755894321499234304',\n",
              "     'media_url_https': 'https://pbs.twimg.com/media/GF4wlRAWYAAw9J1.jpg',\n",
              "     'sizes': {'large': {'w': '1682', 'h': '722', 'resize': 'fit'},\n",
              "      'medium': {'w': '1200', 'h': '515', 'resize': 'fit'},\n",
              "      'small': {'w': '680', 'h': '292', 'resize': 'fit'},\n",
              "      'thumb': {'w': '150', 'h': '150', 'resize': 'crop'}},\n",
              "     'type': 'photo',\n",
              "     'display_url': 'pic.twitter.com/JATxBoBen0'}],\n",
              "   'hashtags': []},\n",
              "  'display_text_range': ['0', '280'],\n",
              "  'favorite_count': '5',\n",
              "  'id_str': '1755896746222174634',\n",
              "  'truncated': False,\n",
              "  'retweet_count': '2',\n",
              "  'id': '1755896746222174634',\n",
              "  'possibly_sensitive': False,\n",
              "  'created_at': 'Fri Feb 09 10:09:41 +0000 2024',\n",
              "  'favorited': False,\n",
              "  'full_text': '✨ We have a shiny new FAIR projects dashboard!\\n\\n🔎💻 Check the links to the Github repos for all our projects, by topics, and including info on the adherence to FAIR principles (licenses, contact info, availability of description…) \\n\\n🔗https://t.co/t8QadKrTwl https://t.co/JATxBoBen0',\n",
              "  'lang': 'en',\n",
              "  'extended_entities': {'media': [{'expanded_url': 'https://twitter.com/ODISSEI_SoDa/status/1755896746222174634/photo/1',\n",
              "     'indices': ['257', '280'],\n",
              "     'url': 'https://t.co/JATxBoBen0',\n",
              "     'media_url': 'http://pbs.twimg.com/media/GF4wlRAWYAAw9J1.jpg',\n",
              "     'id_str': '1755894321499234304',\n",
              "     'id': '1755894321499234304',\n",
              "     'media_url_https': 'https://pbs.twimg.com/media/GF4wlRAWYAAw9J1.jpg',\n",
              "     'sizes': {'large': {'w': '1682', 'h': '722', 'resize': 'fit'},\n",
              "      'medium': {'w': '1200', 'h': '515', 'resize': 'fit'},\n",
              "      'small': {'w': '680', 'h': '292', 'resize': 'fit'},\n",
              "      'thumb': {'w': '150', 'h': '150', 'resize': 'crop'}},\n",
              "     'type': 'photo',\n",
              "     'display_url': 'pic.twitter.com/JATxBoBen0'}]}}}"
            ]
          },
          "metadata": {},
          "execution_count": 9
        }
      ],
      "source": [
        "import json\n",
        "import pandas as pd\n",
        "import gdown\n",
        "\n",
        "# URL where the file is located (feel free to open it in the broswer too)\n",
        "download_url = \"https://digitaltracedata.github.io/materials/lab1/tweets.js\"\n",
        "\n",
        "# Download the file using the google download library\n",
        "output_file = \"tweets.js\"  # specify the desired output file name\n",
        "gdown.download(download_url, output_file, quiet=False)\n",
        "\n",
        "\n",
        "def read_twitter_json(file_name):\n",
        "    \"\"\"\n",
        "    Read JSON file and returns a json object\n",
        "    Adapted from: https://github.com/vrruiz/tweet-js/blob/master/tweet-js.py\n",
        "    \"\"\"\n",
        "\n",
        "    # Read the file\n",
        "    with open(file_name, \"r\") as tweets_file:\n",
        "        tweets_lines = tweets_file.readlines()\n",
        "    # Replace header\n",
        "    tweets_lines[0] = tweets_lines[0].replace('window.YTD.tweets.part0 = ', '')\n",
        "    # Convert list back to text\n",
        "    tweets_data = ''.join(tweets_lines)\n",
        "    # Parse JSON twitter data\n",
        "    tweets_js = json.loads(tweets_data)\n",
        "\n",
        "    return tweets_js\n",
        "\n",
        "tweets = read_twitter_json(output_file)\n",
        "\n",
        "# Print the second tweet\n",
        "tweets[1]"
      ]
    },
    {
      "cell_type": "code",
      "source": [
        "# Find how many times the second tweet was favorited\n",
        "tweets[1][\"tweet\"][\"favorite_count\"]"
      ],
      "metadata": {
        "colab": {
          "base_uri": "https://localhost:8080/",
          "height": 56
        },
        "id": "Org-mEyCB8uk",
        "outputId": "05c7199e-87a4-498e-ac4b-20ee85af09c9"
      },
      "id": "Org-mEyCB8uk",
      "execution_count": 10,
      "outputs": [
        {
          "output_type": "execute_result",
          "data": {
            "text/plain": [
              "'5'"
            ],
            "application/vnd.google.colaboratory.intrinsic+json": {
              "type": "string"
            }
          },
          "metadata": {},
          "execution_count": 10
        }
      ]
    },
    {
      "cell_type": "markdown",
      "source": [
        "### 4.2 Converting data to a spreadsheet\n",
        "\n",
        "Most of the analysis tools available require spreadsheets (tables). We will convert our tweet data (unstructured) to a spreadsheet (structured).\n",
        "\n",
        "The rows will be the tweets, ahd the columns the time when the tweet was posted, the text of the tweet, and the number of retweets and likes."
      ],
      "metadata": {
        "id": "64i94d-PCugA"
      },
      "id": "64i94d-PCugA"
    },
    {
      "cell_type": "code",
      "execution_count": 12,
      "id": "9c019780-472b-4091-abe5-eb0ef5dea788",
      "metadata": {
        "id": "9c019780-472b-4091-abe5-eb0ef5dea788",
        "outputId": "2e02862a-e9a9-4d17-b931-68e16f3343db",
        "colab": {
          "base_uri": "https://localhost:8080/",
          "height": 350
        }
      },
      "outputs": [
        {
          "output_type": "stream",
          "name": "stderr",
          "text": [
            "<ipython-input-12-da5894e6c267>:23: UserWarning: Could not infer format, so each element will be parsed individually, falling back to `dateutil`. To ensure parsing is consistent and as-expected, please specify a format.\n",
            "  df[\"time\"] = pd.to_datetime(df[\"time\"])\n"
          ]
        },
        {
          "output_type": "execute_result",
          "data": {
            "text/plain": [
              "   has_url  has_media  rt_count  like_count  \\\n",
              "0     True      False       0.0         0.0   \n",
              "1     True       True       2.0         5.0   \n",
              "2    False      False       0.0         0.0   \n",
              "3    False      False       0.0         0.0   \n",
              "4    False      False       0.0         1.0   \n",
              "\n",
              "                                                text  \\\n",
              "0  The dashboard is based on earlier work by the ...   \n",
              "1  ✨ We have a shiny new FAIR projects dashboard!...   \n",
              "2  RT @ODISSEI_nl: What's more: in this programme...   \n",
              "3  RT @ODISSEI_nl: 🥁The applications for SICSS-OD...   \n",
              "4  📚 In the post, we guide you through:\\n\\n🔧 How ...   \n",
              "\n",
              "                       time   hour_day  \n",
              "0 2024-02-09 10:09:42+00:00  10.150000  \n",
              "1 2024-02-09 10:09:41+00:00  10.150000  \n",
              "2 2024-01-23 14:50:01+00:00  14.833333  \n",
              "3 2024-01-23 14:49:52+00:00  14.816667  \n",
              "4 2024-01-22 09:42:17+00:00   9.700000  "
            ],
            "text/html": [
              "\n",
              "  <div id=\"df-d0de4246-4c97-4e9d-ba42-8e9682772ad3\" class=\"colab-df-container\">\n",
              "    <div>\n",
              "<style scoped>\n",
              "    .dataframe tbody tr th:only-of-type {\n",
              "        vertical-align: middle;\n",
              "    }\n",
              "\n",
              "    .dataframe tbody tr th {\n",
              "        vertical-align: top;\n",
              "    }\n",
              "\n",
              "    .dataframe thead th {\n",
              "        text-align: right;\n",
              "    }\n",
              "</style>\n",
              "<table border=\"1\" class=\"dataframe\">\n",
              "  <thead>\n",
              "    <tr style=\"text-align: right;\">\n",
              "      <th></th>\n",
              "      <th>has_url</th>\n",
              "      <th>has_media</th>\n",
              "      <th>rt_count</th>\n",
              "      <th>like_count</th>\n",
              "      <th>text</th>\n",
              "      <th>time</th>\n",
              "      <th>hour_day</th>\n",
              "    </tr>\n",
              "  </thead>\n",
              "  <tbody>\n",
              "    <tr>\n",
              "      <th>0</th>\n",
              "      <td>True</td>\n",
              "      <td>False</td>\n",
              "      <td>0.0</td>\n",
              "      <td>0.0</td>\n",
              "      <td>The dashboard is based on earlier work by the ...</td>\n",
              "      <td>2024-02-09 10:09:42+00:00</td>\n",
              "      <td>10.150000</td>\n",
              "    </tr>\n",
              "    <tr>\n",
              "      <th>1</th>\n",
              "      <td>True</td>\n",
              "      <td>True</td>\n",
              "      <td>2.0</td>\n",
              "      <td>5.0</td>\n",
              "      <td>✨ We have a shiny new FAIR projects dashboard!...</td>\n",
              "      <td>2024-02-09 10:09:41+00:00</td>\n",
              "      <td>10.150000</td>\n",
              "    </tr>\n",
              "    <tr>\n",
              "      <th>2</th>\n",
              "      <td>False</td>\n",
              "      <td>False</td>\n",
              "      <td>0.0</td>\n",
              "      <td>0.0</td>\n",
              "      <td>RT @ODISSEI_nl: What's more: in this programme...</td>\n",
              "      <td>2024-01-23 14:50:01+00:00</td>\n",
              "      <td>14.833333</td>\n",
              "    </tr>\n",
              "    <tr>\n",
              "      <th>3</th>\n",
              "      <td>False</td>\n",
              "      <td>False</td>\n",
              "      <td>0.0</td>\n",
              "      <td>0.0</td>\n",
              "      <td>RT @ODISSEI_nl: 🥁The applications for SICSS-OD...</td>\n",
              "      <td>2024-01-23 14:49:52+00:00</td>\n",
              "      <td>14.816667</td>\n",
              "    </tr>\n",
              "    <tr>\n",
              "      <th>4</th>\n",
              "      <td>False</td>\n",
              "      <td>False</td>\n",
              "      <td>0.0</td>\n",
              "      <td>1.0</td>\n",
              "      <td>📚 In the post, we guide you through:\\n\\n🔧 How ...</td>\n",
              "      <td>2024-01-22 09:42:17+00:00</td>\n",
              "      <td>9.700000</td>\n",
              "    </tr>\n",
              "  </tbody>\n",
              "</table>\n",
              "</div>\n",
              "    <div class=\"colab-df-buttons\">\n",
              "\n",
              "  <div class=\"colab-df-container\">\n",
              "    <button class=\"colab-df-convert\" onclick=\"convertToInteractive('df-d0de4246-4c97-4e9d-ba42-8e9682772ad3')\"\n",
              "            title=\"Convert this dataframe to an interactive table.\"\n",
              "            style=\"display:none;\">\n",
              "\n",
              "  <svg xmlns=\"http://www.w3.org/2000/svg\" height=\"24px\" viewBox=\"0 -960 960 960\">\n",
              "    <path d=\"M120-120v-720h720v720H120Zm60-500h600v-160H180v160Zm220 220h160v-160H400v160Zm0 220h160v-160H400v160ZM180-400h160v-160H180v160Zm440 0h160v-160H620v160ZM180-180h160v-160H180v160Zm440 0h160v-160H620v160Z\"/>\n",
              "  </svg>\n",
              "    </button>\n",
              "\n",
              "  <style>\n",
              "    .colab-df-container {\n",
              "      display:flex;\n",
              "      gap: 12px;\n",
              "    }\n",
              "\n",
              "    .colab-df-convert {\n",
              "      background-color: #E8F0FE;\n",
              "      border: none;\n",
              "      border-radius: 50%;\n",
              "      cursor: pointer;\n",
              "      display: none;\n",
              "      fill: #1967D2;\n",
              "      height: 32px;\n",
              "      padding: 0 0 0 0;\n",
              "      width: 32px;\n",
              "    }\n",
              "\n",
              "    .colab-df-convert:hover {\n",
              "      background-color: #E2EBFA;\n",
              "      box-shadow: 0px 1px 2px rgba(60, 64, 67, 0.3), 0px 1px 3px 1px rgba(60, 64, 67, 0.15);\n",
              "      fill: #174EA6;\n",
              "    }\n",
              "\n",
              "    .colab-df-buttons div {\n",
              "      margin-bottom: 4px;\n",
              "    }\n",
              "\n",
              "    [theme=dark] .colab-df-convert {\n",
              "      background-color: #3B4455;\n",
              "      fill: #D2E3FC;\n",
              "    }\n",
              "\n",
              "    [theme=dark] .colab-df-convert:hover {\n",
              "      background-color: #434B5C;\n",
              "      box-shadow: 0px 1px 3px 1px rgba(0, 0, 0, 0.15);\n",
              "      filter: drop-shadow(0px 1px 2px rgba(0, 0, 0, 0.3));\n",
              "      fill: #FFFFFF;\n",
              "    }\n",
              "  </style>\n",
              "\n",
              "    <script>\n",
              "      const buttonEl =\n",
              "        document.querySelector('#df-d0de4246-4c97-4e9d-ba42-8e9682772ad3 button.colab-df-convert');\n",
              "      buttonEl.style.display =\n",
              "        google.colab.kernel.accessAllowed ? 'block' : 'none';\n",
              "\n",
              "      async function convertToInteractive(key) {\n",
              "        const element = document.querySelector('#df-d0de4246-4c97-4e9d-ba42-8e9682772ad3');\n",
              "        const dataTable =\n",
              "          await google.colab.kernel.invokeFunction('convertToInteractive',\n",
              "                                                    [key], {});\n",
              "        if (!dataTable) return;\n",
              "\n",
              "        const docLinkHtml = 'Like what you see? Visit the ' +\n",
              "          '<a target=\"_blank\" href=https://colab.research.google.com/notebooks/data_table.ipynb>data table notebook</a>'\n",
              "          + ' to learn more about interactive tables.';\n",
              "        element.innerHTML = '';\n",
              "        dataTable['output_type'] = 'display_data';\n",
              "        await google.colab.output.renderOutput(dataTable, element);\n",
              "        const docLink = document.createElement('div');\n",
              "        docLink.innerHTML = docLinkHtml;\n",
              "        element.appendChild(docLink);\n",
              "      }\n",
              "    </script>\n",
              "  </div>\n",
              "\n",
              "\n",
              "<div id=\"df-81e29b15-a864-47b8-a888-90c34c931266\">\n",
              "  <button class=\"colab-df-quickchart\" onclick=\"quickchart('df-81e29b15-a864-47b8-a888-90c34c931266')\"\n",
              "            title=\"Suggest charts\"\n",
              "            style=\"display:none;\">\n",
              "\n",
              "<svg xmlns=\"http://www.w3.org/2000/svg\" height=\"24px\"viewBox=\"0 0 24 24\"\n",
              "     width=\"24px\">\n",
              "    <g>\n",
              "        <path d=\"M19 3H5c-1.1 0-2 .9-2 2v14c0 1.1.9 2 2 2h14c1.1 0 2-.9 2-2V5c0-1.1-.9-2-2-2zM9 17H7v-7h2v7zm4 0h-2V7h2v10zm4 0h-2v-4h2v4z\"/>\n",
              "    </g>\n",
              "</svg>\n",
              "  </button>\n",
              "\n",
              "<style>\n",
              "  .colab-df-quickchart {\n",
              "      --bg-color: #E8F0FE;\n",
              "      --fill-color: #1967D2;\n",
              "      --hover-bg-color: #E2EBFA;\n",
              "      --hover-fill-color: #174EA6;\n",
              "      --disabled-fill-color: #AAA;\n",
              "      --disabled-bg-color: #DDD;\n",
              "  }\n",
              "\n",
              "  [theme=dark] .colab-df-quickchart {\n",
              "      --bg-color: #3B4455;\n",
              "      --fill-color: #D2E3FC;\n",
              "      --hover-bg-color: #434B5C;\n",
              "      --hover-fill-color: #FFFFFF;\n",
              "      --disabled-bg-color: #3B4455;\n",
              "      --disabled-fill-color: #666;\n",
              "  }\n",
              "\n",
              "  .colab-df-quickchart {\n",
              "    background-color: var(--bg-color);\n",
              "    border: none;\n",
              "    border-radius: 50%;\n",
              "    cursor: pointer;\n",
              "    display: none;\n",
              "    fill: var(--fill-color);\n",
              "    height: 32px;\n",
              "    padding: 0;\n",
              "    width: 32px;\n",
              "  }\n",
              "\n",
              "  .colab-df-quickchart:hover {\n",
              "    background-color: var(--hover-bg-color);\n",
              "    box-shadow: 0 1px 2px rgba(60, 64, 67, 0.3), 0 1px 3px 1px rgba(60, 64, 67, 0.15);\n",
              "    fill: var(--button-hover-fill-color);\n",
              "  }\n",
              "\n",
              "  .colab-df-quickchart-complete:disabled,\n",
              "  .colab-df-quickchart-complete:disabled:hover {\n",
              "    background-color: var(--disabled-bg-color);\n",
              "    fill: var(--disabled-fill-color);\n",
              "    box-shadow: none;\n",
              "  }\n",
              "\n",
              "  .colab-df-spinner {\n",
              "    border: 2px solid var(--fill-color);\n",
              "    border-color: transparent;\n",
              "    border-bottom-color: var(--fill-color);\n",
              "    animation:\n",
              "      spin 1s steps(1) infinite;\n",
              "  }\n",
              "\n",
              "  @keyframes spin {\n",
              "    0% {\n",
              "      border-color: transparent;\n",
              "      border-bottom-color: var(--fill-color);\n",
              "      border-left-color: var(--fill-color);\n",
              "    }\n",
              "    20% {\n",
              "      border-color: transparent;\n",
              "      border-left-color: var(--fill-color);\n",
              "      border-top-color: var(--fill-color);\n",
              "    }\n",
              "    30% {\n",
              "      border-color: transparent;\n",
              "      border-left-color: var(--fill-color);\n",
              "      border-top-color: var(--fill-color);\n",
              "      border-right-color: var(--fill-color);\n",
              "    }\n",
              "    40% {\n",
              "      border-color: transparent;\n",
              "      border-right-color: var(--fill-color);\n",
              "      border-top-color: var(--fill-color);\n",
              "    }\n",
              "    60% {\n",
              "      border-color: transparent;\n",
              "      border-right-color: var(--fill-color);\n",
              "    }\n",
              "    80% {\n",
              "      border-color: transparent;\n",
              "      border-right-color: var(--fill-color);\n",
              "      border-bottom-color: var(--fill-color);\n",
              "    }\n",
              "    90% {\n",
              "      border-color: transparent;\n",
              "      border-bottom-color: var(--fill-color);\n",
              "    }\n",
              "  }\n",
              "</style>\n",
              "\n",
              "  <script>\n",
              "    async function quickchart(key) {\n",
              "      const quickchartButtonEl =\n",
              "        document.querySelector('#' + key + ' button');\n",
              "      quickchartButtonEl.disabled = true;  // To prevent multiple clicks.\n",
              "      quickchartButtonEl.classList.add('colab-df-spinner');\n",
              "      try {\n",
              "        const charts = await google.colab.kernel.invokeFunction(\n",
              "            'suggestCharts', [key], {});\n",
              "      } catch (error) {\n",
              "        console.error('Error during call to suggestCharts:', error);\n",
              "      }\n",
              "      quickchartButtonEl.classList.remove('colab-df-spinner');\n",
              "      quickchartButtonEl.classList.add('colab-df-quickchart-complete');\n",
              "    }\n",
              "    (() => {\n",
              "      let quickchartButtonEl =\n",
              "        document.querySelector('#df-81e29b15-a864-47b8-a888-90c34c931266 button');\n",
              "      quickchartButtonEl.style.display =\n",
              "        google.colab.kernel.accessAllowed ? 'block' : 'none';\n",
              "    })();\n",
              "  </script>\n",
              "</div>\n",
              "\n",
              "    </div>\n",
              "  </div>\n"
            ],
            "application/vnd.google.colaboratory.intrinsic+json": {
              "type": "dataframe",
              "variable_name": "df",
              "summary": "{\n  \"name\": \"df\",\n  \"rows\": 97,\n  \"fields\": [\n    {\n      \"column\": \"has_url\",\n      \"properties\": {\n        \"dtype\": \"boolean\",\n        \"num_unique_values\": 2,\n        \"samples\": [\n          false,\n          true\n        ],\n        \"semantic_type\": \"\",\n        \"description\": \"\"\n      }\n    },\n    {\n      \"column\": \"has_media\",\n      \"properties\": {\n        \"dtype\": \"boolean\",\n        \"num_unique_values\": 2,\n        \"samples\": [\n          true,\n          false\n        ],\n        \"semantic_type\": \"\",\n        \"description\": \"\"\n      }\n    },\n    {\n      \"column\": \"rt_count\",\n      \"properties\": {\n        \"dtype\": \"number\",\n        \"std\": 3.078895292135033,\n        \"min\": 0.0,\n        \"max\": 18.0,\n        \"num_unique_values\": 13,\n        \"samples\": [\n          14.0,\n          18.0\n        ],\n        \"semantic_type\": \"\",\n        \"description\": \"\"\n      }\n    },\n    {\n      \"column\": \"like_count\",\n      \"properties\": {\n        \"dtype\": \"number\",\n        \"std\": 3.110058783325298,\n        \"min\": 0.0,\n        \"max\": 16.0,\n        \"num_unique_values\": 13,\n        \"samples\": [\n          16.0,\n          8.0\n        ],\n        \"semantic_type\": \"\",\n        \"description\": \"\"\n      }\n    },\n    {\n      \"column\": \"text\",\n      \"properties\": {\n        \"dtype\": \"string\",\n        \"num_unique_values\": 97,\n        \"samples\": [\n          \"If you want to know more about this, you can also come to our monthly data drop-in, tomorrow at 16:00 on Teams. \\n\\nYou can find the teams link on our website https://t.co/7I5piCUnDC https://t.co/RYvn6aLPY6\",\n          \"\\ud83e\\udde9 Additionally, we discuss some challenges that arose in writing a script that converts WhatsApp data into an analyzable data format; how to preserve research subjects' privacy or how to request and obtain explicit subject's consent.\"\n        ],\n        \"semantic_type\": \"\",\n        \"description\": \"\"\n      }\n    },\n    {\n      \"column\": \"time\",\n      \"properties\": {\n        \"dtype\": \"date\",\n        \"min\": \"2021-10-21 12:47:27+00:00\",\n        \"max\": \"2024-02-09 10:09:42+00:00\",\n        \"num_unique_values\": 80,\n        \"samples\": [\n          \"2023-09-14 13:50:45+00:00\",\n          \"2024-02-09 10:09:42+00:00\"\n        ],\n        \"semantic_type\": \"\",\n        \"description\": \"\"\n      }\n    },\n    {\n      \"column\": \"hour_day\",\n      \"properties\": {\n        \"dtype\": \"number\",\n        \"std\": 2.479179553231113,\n        \"min\": 7.3,\n        \"max\": 21.916666666666668,\n        \"num_unique_values\": 58,\n        \"samples\": [\n          10.15,\n          9.516666666666667\n        ],\n        \"semantic_type\": \"\",\n        \"description\": \"\"\n      }\n    }\n  ]\n}"
            }
          },
          "metadata": {},
          "execution_count": 12
        }
      ],
      "source": [
        "def extract_info(tweet):\n",
        "    # Count if we linked to a url\n",
        "    url_count = len(tweet[\"entities\"][\"urls\"]) > 0\n",
        "\n",
        "    # Do we share a photo\n",
        "    media_ = \"media\" in tweet[\"entities\"]\n",
        "\n",
        "    data_save = [url_count, media_]\n",
        "\n",
        "    # Other info\n",
        "    return [url_count, media_, tweet.get(\"retweet_count\"), tweet.get(\"favorite_count\"), tweet.get(\"full_text\"), tweet.get(\"created_at\")]\n",
        "\n",
        "def create_table(tweets):\n",
        "    all_info = []\n",
        "    for tweet in tweets:\n",
        "        tweet_info = extract_info(tweet[\"tweet\"])\n",
        "        all_info.append(tweet_info)\n",
        "\n",
        "    # Conver to table\n",
        "    df = pd.DataFrame(all_info, columns=[\"has_url\", \"has_media\", \"rt_count\", \"like_count\", \"text\", \"time\"])\n",
        "    df[\"rt_count\"] = df[\"rt_count\"].astype(float)\n",
        "    df[\"like_count\"] = df[\"like_count\"].astype(float)\n",
        "    df[\"time\"] = pd.to_datetime(df[\"time\"])\n",
        "    df[\"hour_day\"] = df[\"time\"].dt.hour + df[\"time\"].dt.minute/60\n",
        "\n",
        "    return df\n",
        "\n",
        "\n",
        "df = create_table(tweets)\n",
        "df.head()"
      ]
    },
    {
      "cell_type": "markdown",
      "id": "65c9ae18-bb0f-43c7-9f16-944068b88700",
      "metadata": {
        "id": "65c9ae18-bb0f-43c7-9f16-944068b88700"
      },
      "source": [
        "### 4.2 Summary statistics\n",
        "\n",
        "The first step in a data workflow is to explore the data. First, we will take a look at the summary statistics of the data using the `describe` function. This function returns various statistics, such as the mean, standard deviation, the median and other quantiles.\n",
        "\n",
        "Answer the following questions:\n",
        "- What is the average hour when this Twitter account tweets?\n",
        "- What is the maximum number of retweets it got?\n",
        "\n",
        "*ADD YOUR ANSWERS HERE*\n",
        "\n"
      ]
    },
    {
      "cell_type": "code",
      "execution_count": null,
      "id": "bae07812-a451-43c7-ac4e-ea6cb2da04b4",
      "metadata": {
        "id": "bae07812-a451-43c7-ac4e-ea6cb2da04b4",
        "outputId": "98be510f-8485-4672-cf1e-1c3aede088bc",
        "colab": {
          "base_uri": "https://localhost:8080/",
          "height": 297
        }
      },
      "outputs": [
        {
          "output_type": "execute_result",
          "data": {
            "text/plain": [
              "        rt_count  like_count   hour_day\n",
              "count  97.000000   97.000000  97.000000\n",
              "mean    1.546392    1.742268  11.789175\n",
              "std     3.078895    3.110059   2.479180\n",
              "min     0.000000    0.000000   7.300000\n",
              "25%     0.000000    0.000000   9.950000\n",
              "50%     0.000000    0.000000  11.850000\n",
              "75%     2.000000    2.000000  13.833333\n",
              "max    18.000000   16.000000  21.916667"
            ],
            "text/html": [
              "\n",
              "  <div id=\"df-990e757d-9685-4580-a30f-d7429ebaed27\" class=\"colab-df-container\">\n",
              "    <div>\n",
              "<style scoped>\n",
              "    .dataframe tbody tr th:only-of-type {\n",
              "        vertical-align: middle;\n",
              "    }\n",
              "\n",
              "    .dataframe tbody tr th {\n",
              "        vertical-align: top;\n",
              "    }\n",
              "\n",
              "    .dataframe thead th {\n",
              "        text-align: right;\n",
              "    }\n",
              "</style>\n",
              "<table border=\"1\" class=\"dataframe\">\n",
              "  <thead>\n",
              "    <tr style=\"text-align: right;\">\n",
              "      <th></th>\n",
              "      <th>rt_count</th>\n",
              "      <th>like_count</th>\n",
              "      <th>hour_day</th>\n",
              "    </tr>\n",
              "  </thead>\n",
              "  <tbody>\n",
              "    <tr>\n",
              "      <th>count</th>\n",
              "      <td>97.000000</td>\n",
              "      <td>97.000000</td>\n",
              "      <td>97.000000</td>\n",
              "    </tr>\n",
              "    <tr>\n",
              "      <th>mean</th>\n",
              "      <td>1.546392</td>\n",
              "      <td>1.742268</td>\n",
              "      <td>11.789175</td>\n",
              "    </tr>\n",
              "    <tr>\n",
              "      <th>std</th>\n",
              "      <td>3.078895</td>\n",
              "      <td>3.110059</td>\n",
              "      <td>2.479180</td>\n",
              "    </tr>\n",
              "    <tr>\n",
              "      <th>min</th>\n",
              "      <td>0.000000</td>\n",
              "      <td>0.000000</td>\n",
              "      <td>7.300000</td>\n",
              "    </tr>\n",
              "    <tr>\n",
              "      <th>25%</th>\n",
              "      <td>0.000000</td>\n",
              "      <td>0.000000</td>\n",
              "      <td>9.950000</td>\n",
              "    </tr>\n",
              "    <tr>\n",
              "      <th>50%</th>\n",
              "      <td>0.000000</td>\n",
              "      <td>0.000000</td>\n",
              "      <td>11.850000</td>\n",
              "    </tr>\n",
              "    <tr>\n",
              "      <th>75%</th>\n",
              "      <td>2.000000</td>\n",
              "      <td>2.000000</td>\n",
              "      <td>13.833333</td>\n",
              "    </tr>\n",
              "    <tr>\n",
              "      <th>max</th>\n",
              "      <td>18.000000</td>\n",
              "      <td>16.000000</td>\n",
              "      <td>21.916667</td>\n",
              "    </tr>\n",
              "  </tbody>\n",
              "</table>\n",
              "</div>\n",
              "    <div class=\"colab-df-buttons\">\n",
              "\n",
              "  <div class=\"colab-df-container\">\n",
              "    <button class=\"colab-df-convert\" onclick=\"convertToInteractive('df-990e757d-9685-4580-a30f-d7429ebaed27')\"\n",
              "            title=\"Convert this dataframe to an interactive table.\"\n",
              "            style=\"display:none;\">\n",
              "\n",
              "  <svg xmlns=\"http://www.w3.org/2000/svg\" height=\"24px\" viewBox=\"0 -960 960 960\">\n",
              "    <path d=\"M120-120v-720h720v720H120Zm60-500h600v-160H180v160Zm220 220h160v-160H400v160Zm0 220h160v-160H400v160ZM180-400h160v-160H180v160Zm440 0h160v-160H620v160ZM180-180h160v-160H180v160Zm440 0h160v-160H620v160Z\"/>\n",
              "  </svg>\n",
              "    </button>\n",
              "\n",
              "  <style>\n",
              "    .colab-df-container {\n",
              "      display:flex;\n",
              "      gap: 12px;\n",
              "    }\n",
              "\n",
              "    .colab-df-convert {\n",
              "      background-color: #E8F0FE;\n",
              "      border: none;\n",
              "      border-radius: 50%;\n",
              "      cursor: pointer;\n",
              "      display: none;\n",
              "      fill: #1967D2;\n",
              "      height: 32px;\n",
              "      padding: 0 0 0 0;\n",
              "      width: 32px;\n",
              "    }\n",
              "\n",
              "    .colab-df-convert:hover {\n",
              "      background-color: #E2EBFA;\n",
              "      box-shadow: 0px 1px 2px rgba(60, 64, 67, 0.3), 0px 1px 3px 1px rgba(60, 64, 67, 0.15);\n",
              "      fill: #174EA6;\n",
              "    }\n",
              "\n",
              "    .colab-df-buttons div {\n",
              "      margin-bottom: 4px;\n",
              "    }\n",
              "\n",
              "    [theme=dark] .colab-df-convert {\n",
              "      background-color: #3B4455;\n",
              "      fill: #D2E3FC;\n",
              "    }\n",
              "\n",
              "    [theme=dark] .colab-df-convert:hover {\n",
              "      background-color: #434B5C;\n",
              "      box-shadow: 0px 1px 3px 1px rgba(0, 0, 0, 0.15);\n",
              "      filter: drop-shadow(0px 1px 2px rgba(0, 0, 0, 0.3));\n",
              "      fill: #FFFFFF;\n",
              "    }\n",
              "  </style>\n",
              "\n",
              "    <script>\n",
              "      const buttonEl =\n",
              "        document.querySelector('#df-990e757d-9685-4580-a30f-d7429ebaed27 button.colab-df-convert');\n",
              "      buttonEl.style.display =\n",
              "        google.colab.kernel.accessAllowed ? 'block' : 'none';\n",
              "\n",
              "      async function convertToInteractive(key) {\n",
              "        const element = document.querySelector('#df-990e757d-9685-4580-a30f-d7429ebaed27');\n",
              "        const dataTable =\n",
              "          await google.colab.kernel.invokeFunction('convertToInteractive',\n",
              "                                                    [key], {});\n",
              "        if (!dataTable) return;\n",
              "\n",
              "        const docLinkHtml = 'Like what you see? Visit the ' +\n",
              "          '<a target=\"_blank\" href=https://colab.research.google.com/notebooks/data_table.ipynb>data table notebook</a>'\n",
              "          + ' to learn more about interactive tables.';\n",
              "        element.innerHTML = '';\n",
              "        dataTable['output_type'] = 'display_data';\n",
              "        await google.colab.output.renderOutput(dataTable, element);\n",
              "        const docLink = document.createElement('div');\n",
              "        docLink.innerHTML = docLinkHtml;\n",
              "        element.appendChild(docLink);\n",
              "      }\n",
              "    </script>\n",
              "  </div>\n",
              "\n",
              "\n",
              "<div id=\"df-6e8f7f4b-74fd-4d83-bd08-a0d007ed48dd\">\n",
              "  <button class=\"colab-df-quickchart\" onclick=\"quickchart('df-6e8f7f4b-74fd-4d83-bd08-a0d007ed48dd')\"\n",
              "            title=\"Suggest charts\"\n",
              "            style=\"display:none;\">\n",
              "\n",
              "<svg xmlns=\"http://www.w3.org/2000/svg\" height=\"24px\"viewBox=\"0 0 24 24\"\n",
              "     width=\"24px\">\n",
              "    <g>\n",
              "        <path d=\"M19 3H5c-1.1 0-2 .9-2 2v14c0 1.1.9 2 2 2h14c1.1 0 2-.9 2-2V5c0-1.1-.9-2-2-2zM9 17H7v-7h2v7zm4 0h-2V7h2v10zm4 0h-2v-4h2v4z\"/>\n",
              "    </g>\n",
              "</svg>\n",
              "  </button>\n",
              "\n",
              "<style>\n",
              "  .colab-df-quickchart {\n",
              "      --bg-color: #E8F0FE;\n",
              "      --fill-color: #1967D2;\n",
              "      --hover-bg-color: #E2EBFA;\n",
              "      --hover-fill-color: #174EA6;\n",
              "      --disabled-fill-color: #AAA;\n",
              "      --disabled-bg-color: #DDD;\n",
              "  }\n",
              "\n",
              "  [theme=dark] .colab-df-quickchart {\n",
              "      --bg-color: #3B4455;\n",
              "      --fill-color: #D2E3FC;\n",
              "      --hover-bg-color: #434B5C;\n",
              "      --hover-fill-color: #FFFFFF;\n",
              "      --disabled-bg-color: #3B4455;\n",
              "      --disabled-fill-color: #666;\n",
              "  }\n",
              "\n",
              "  .colab-df-quickchart {\n",
              "    background-color: var(--bg-color);\n",
              "    border: none;\n",
              "    border-radius: 50%;\n",
              "    cursor: pointer;\n",
              "    display: none;\n",
              "    fill: var(--fill-color);\n",
              "    height: 32px;\n",
              "    padding: 0;\n",
              "    width: 32px;\n",
              "  }\n",
              "\n",
              "  .colab-df-quickchart:hover {\n",
              "    background-color: var(--hover-bg-color);\n",
              "    box-shadow: 0 1px 2px rgba(60, 64, 67, 0.3), 0 1px 3px 1px rgba(60, 64, 67, 0.15);\n",
              "    fill: var(--button-hover-fill-color);\n",
              "  }\n",
              "\n",
              "  .colab-df-quickchart-complete:disabled,\n",
              "  .colab-df-quickchart-complete:disabled:hover {\n",
              "    background-color: var(--disabled-bg-color);\n",
              "    fill: var(--disabled-fill-color);\n",
              "    box-shadow: none;\n",
              "  }\n",
              "\n",
              "  .colab-df-spinner {\n",
              "    border: 2px solid var(--fill-color);\n",
              "    border-color: transparent;\n",
              "    border-bottom-color: var(--fill-color);\n",
              "    animation:\n",
              "      spin 1s steps(1) infinite;\n",
              "  }\n",
              "\n",
              "  @keyframes spin {\n",
              "    0% {\n",
              "      border-color: transparent;\n",
              "      border-bottom-color: var(--fill-color);\n",
              "      border-left-color: var(--fill-color);\n",
              "    }\n",
              "    20% {\n",
              "      border-color: transparent;\n",
              "      border-left-color: var(--fill-color);\n",
              "      border-top-color: var(--fill-color);\n",
              "    }\n",
              "    30% {\n",
              "      border-color: transparent;\n",
              "      border-left-color: var(--fill-color);\n",
              "      border-top-color: var(--fill-color);\n",
              "      border-right-color: var(--fill-color);\n",
              "    }\n",
              "    40% {\n",
              "      border-color: transparent;\n",
              "      border-right-color: var(--fill-color);\n",
              "      border-top-color: var(--fill-color);\n",
              "    }\n",
              "    60% {\n",
              "      border-color: transparent;\n",
              "      border-right-color: var(--fill-color);\n",
              "    }\n",
              "    80% {\n",
              "      border-color: transparent;\n",
              "      border-right-color: var(--fill-color);\n",
              "      border-bottom-color: var(--fill-color);\n",
              "    }\n",
              "    90% {\n",
              "      border-color: transparent;\n",
              "      border-bottom-color: var(--fill-color);\n",
              "    }\n",
              "  }\n",
              "</style>\n",
              "\n",
              "  <script>\n",
              "    async function quickchart(key) {\n",
              "      const quickchartButtonEl =\n",
              "        document.querySelector('#' + key + ' button');\n",
              "      quickchartButtonEl.disabled = true;  // To prevent multiple clicks.\n",
              "      quickchartButtonEl.classList.add('colab-df-spinner');\n",
              "      try {\n",
              "        const charts = await google.colab.kernel.invokeFunction(\n",
              "            'suggestCharts', [key], {});\n",
              "      } catch (error) {\n",
              "        console.error('Error during call to suggestCharts:', error);\n",
              "      }\n",
              "      quickchartButtonEl.classList.remove('colab-df-spinner');\n",
              "      quickchartButtonEl.classList.add('colab-df-quickchart-complete');\n",
              "    }\n",
              "    (() => {\n",
              "      let quickchartButtonEl =\n",
              "        document.querySelector('#df-6e8f7f4b-74fd-4d83-bd08-a0d007ed48dd button');\n",
              "      quickchartButtonEl.style.display =\n",
              "        google.colab.kernel.accessAllowed ? 'block' : 'none';\n",
              "    })();\n",
              "  </script>\n",
              "</div>\n",
              "\n",
              "    </div>\n",
              "  </div>\n"
            ],
            "application/vnd.google.colaboratory.intrinsic+json": {
              "type": "dataframe",
              "summary": "{\n  \"name\": \"df\",\n  \"rows\": 8,\n  \"fields\": [\n    {\n      \"column\": \"rt_count\",\n      \"properties\": {\n        \"dtype\": \"number\",\n        \"std\": 33.59375392110816,\n        \"min\": 0.0,\n        \"max\": 97.0,\n        \"num_unique_values\": 6,\n        \"samples\": [\n          97.0,\n          1.5463917525773196,\n          18.0\n        ],\n        \"semantic_type\": \"\",\n        \"description\": \"\"\n      }\n    },\n    {\n      \"column\": \"like_count\",\n      \"properties\": {\n        \"dtype\": \"number\",\n        \"std\": 33.564725175835456,\n        \"min\": 0.0,\n        \"max\": 97.0,\n        \"num_unique_values\": 6,\n        \"samples\": [\n          97.0,\n          1.7422680412371134,\n          16.0\n        ],\n        \"semantic_type\": \"\",\n        \"description\": \"\"\n      }\n    },\n    {\n      \"column\": \"hour_day\",\n      \"properties\": {\n        \"dtype\": \"number\",\n        \"std\": 30.801989756550594,\n        \"min\": 2.479179553231113,\n        \"max\": 97.0,\n        \"num_unique_values\": 8,\n        \"samples\": [\n          11.78917525773196,\n          11.85,\n          97.0\n        ],\n        \"semantic_type\": \"\",\n        \"description\": \"\"\n      }\n    }\n  ]\n}"
            }
          },
          "metadata": {},
          "execution_count": 4
        }
      ],
      "source": [
        "# Describe characteristis\n",
        "df.describe()"
      ]
    },
    {
      "cell_type": "markdown",
      "source": [
        "### 4.3 Distributions\n",
        "\n",
        "Let's look at the distribution of the times when the tweets are posted (below). For example, there are 10 tweets posted between 8 and 9am.\n",
        "\n",
        "Why do you think the distribution of tweets posted look like it does?\n",
        "\n",
        "*ADD YOUR ANSWERS HERE*"
      ],
      "metadata": {
        "id": "Jq1MYiy7D5Ls"
      },
      "id": "Jq1MYiy7D5Ls"
    },
    {
      "cell_type": "code",
      "source": [
        "import seaborn as sns\n",
        "sns.displot(df[\"hour_day\"], bins=range(8,23), aspect=1.6, lw=0.1)"
      ],
      "metadata": {
        "colab": {
          "base_uri": "https://localhost:8080/",
          "height": 545
        },
        "id": "zXVVGLkpDzUu",
        "outputId": "bb9bc39a-7471-419a-e8c3-6119b6419bfd"
      },
      "id": "zXVVGLkpDzUu",
      "execution_count": 19,
      "outputs": [
        {
          "output_type": "execute_result",
          "data": {
            "text/plain": [
              "<seaborn.axisgrid.FacetGrid at 0x7e444b506ec0>"
            ]
          },
          "metadata": {},
          "execution_count": 19
        },
        {
          "output_type": "display_data",
          "data": {
            "text/plain": [
              "<Figure size 800x500 with 1 Axes>"
            ],
            "image/png": "[encoded data removed]"
          },
          "metadata": {}
        }
      ]
    },
    {
      "cell_type": "markdown",
      "source": [
        "### 4.4 Counting and associations"
      ],
      "metadata": {
        "id": "9R3MNkdJEamh"
      },
      "id": "9R3MNkdJEamh"
    },
    {
      "cell_type": "markdown",
      "source": [
        "Next, we can analyze how the variables *rt_count* and *has_media* are related. To do that, we can create a crosstable dividing the formerly continuous variable *rt_count* into the categories *0* and *1 or more*.\n",
        "\n",
        "- Is there a relationship between having media (images/videos) in the tweet, and the tweet being retweeted more often?\n",
        "- Is there a relationship between having a url in the tweet, and the tweet being retweeted more often? (for this change `has_media` to `has_url`).\n",
        "\n",
        "*ADD YOUR ANSWERS HERE*"
      ],
      "metadata": {
        "id": "UcRtDpa0F6oN"
      },
      "id": "UcRtDpa0F6oN"
    },
    {
      "cell_type": "code",
      "execution_count": null,
      "id": "64d6783c-2256-4b85-94ab-11c15e412d91",
      "metadata": {
        "id": "64d6783c-2256-4b85-94ab-11c15e412d91",
        "outputId": "9fee6ec0-8340-4ae5-bb59-b9b333ac1d14"
      },
      "outputs": [
        {
          "data": {
            "text/html": [
              "<div>\n",
              "<style scoped>\n",
              "    .dataframe tbody tr th:only-of-type {\n",
              "        vertical-align: middle;\n",
              "    }\n",
              "\n",
              "    .dataframe tbody tr th {\n",
              "        vertical-align: top;\n",
              "    }\n",
              "\n",
              "    .dataframe thead th {\n",
              "        text-align: right;\n",
              "    }\n",
              "</style>\n",
              "<table border=\"1\" class=\"dataframe\">\n",
              "  <thead>\n",
              "    <tr style=\"text-align: right;\">\n",
              "      <th>has_media</th>\n",
              "      <th>False</th>\n",
              "      <th>True</th>\n",
              "    </tr>\n",
              "    <tr>\n",
              "      <th>rt_count</th>\n",
              "      <th></th>\n",
              "      <th></th>\n",
              "    </tr>\n",
              "  </thead>\n",
              "  <tbody>\n",
              "    <tr>\n",
              "      <th>False</th>\n",
              "      <td>59</td>\n",
              "      <td>3</td>\n",
              "    </tr>\n",
              "    <tr>\n",
              "      <th>True</th>\n",
              "      <td>27</td>\n",
              "      <td>8</td>\n",
              "    </tr>\n",
              "  </tbody>\n",
              "</table>\n",
              "</div>"
            ],
            "text/plain": [
              "has_media  False  True \n",
              "rt_count               \n",
              "False         59      3\n",
              "True          27      8"
            ]
          },
          "execution_count": 4,
          "metadata": {},
          "output_type": "execute_result"
        }
      ],
      "source": [
        "# Association\n",
        "pd.crosstab(df[\"rt_count\"]>0, df[\"has_media\"])"
      ]
    },
    {
      "cell_type": "markdown",
      "source": [
        "Finally, let's see if there is a relationship between the hour when the tweet is posted (`hour_day`) and the number of rewtweets (`rt_count`).\n",
        "\n",
        "Do you see any relationship?\n",
        "\n",
        "*ADD YOUR ANSWERS HERE*"
      ],
      "metadata": {
        "id": "aaF_uhEYGl71"
      },
      "id": "aaF_uhEYGl71"
    },
    {
      "cell_type": "code",
      "execution_count": null,
      "id": "7bdaccc9-9276-46b9-9aa1-fbe761e22f62",
      "metadata": {
        "id": "7bdaccc9-9276-46b9-9aa1-fbe761e22f62",
        "outputId": "776bb7c1-0f50-4a0e-cc03-9469c9fc4fb6",
        "colab": {
          "base_uri": "https://localhost:8080/",
          "height": 467
        }
      },
      "outputs": [
        {
          "output_type": "execute_result",
          "data": {
            "text/plain": [
              "<Axes: xlabel='hour_day', ylabel='rt_count'>"
            ]
          },
          "metadata": {},
          "execution_count": 9
        },
        {
          "output_type": "display_data",
          "data": {
            "text/plain": [
              "<Figure size 640x480 with 1 Axes>"
            ],
            "image/png": "[encoded data removed]"
          },
          "metadata": {}
        }
      ],
      "source": [
        "import seaborn as sns\n",
        "sns.regplot(x=\"hour_day\", y=\"rt_count\", data=df.loc[df[\"rt_count\"]>0], lowess=True)"
      ]
    },
    {
      "cell_type": "markdown",
      "source": [
        "### 4.5 Finally, redo the last plot using the number of likes instead of the number of retweets. (Hint: Use the same code as above, but change `rt_count` to the abbreviation used for likes, `like_count`).\n",
        "\n",
        "Is there any difference between the hour of the day and the number of likes the tweet reflects?\n",
        "\n",
        "*ADD YOUR ANSWERS HERE*"
      ],
      "metadata": {
        "id": "np-dzeVvGyLD"
      },
      "id": "np-dzeVvGyLD"
    },
    {
      "cell_type": "code",
      "source": [],
      "metadata": {
        "id": "I-0bPgj8Glpa"
      },
      "id": "I-0bPgj8Glpa",
      "execution_count": null,
      "outputs": []
    },
    {
      "cell_type": "markdown",
      "source": [
        "## Part 5 (home): Questions on Paper\n",
        "\n",
        "Skim through the paper *Social capital I: measurement and associations with economic mobility* (Chetty et al., 2022) (linked [here](https://www.nature.com/articles/s41586-022-04996-4)). You don't have to focus too much on the results and implications of the paper, but rather on the type of data it draws upon.\n",
        "\n",
        "Reflect on the 8 characteristics of digital trace data that were discussed in the lecture by answering the following questions about the data used in the paper:\n",
        "\n",
        "- Is it ready made or custom made?\n",
        "- What is the size?\n",
        "- Is the data always on?\n",
        "- Do you think measuring social capital using Facebook data would be accurate for young people? and for old people? Why or why not?\n",
        "- Is the data drifting?\n",
        "- Is this data algorithmically confounded?\n",
        "- Is it sensitive data? What opportunities for harm may be there if the data is leaked?\n",
        "- Is the data accessible for other researchers?\n"
      ],
      "metadata": {
        "id": "4PusasHgt3bC"
      },
      "id": "4PusasHgt3bC"
    },
    {
      "cell_type": "markdown",
      "source": [
        "*ADD YOUR ANSWERS HERE*"
      ],
      "metadata": {
        "id": "BZ36PzlMGZmD"
      },
      "id": "BZ36PzlMGZmD"
    }
  ],
  "metadata": {
    "kernelspec": {
      "display_name": "Python [conda env:st]",
      "language": "python",
      "name": "conda-env-st-py"
    },
    "language_info": {
      "codemirror_mode": {
        "name": "ipython",
        "version": 3
      },
      "file_extension": ".py",
      "mimetype": "text/x-python",
      "name": "python",
      "nbconvert_exporter": "python",
      "pygments_lexer": "ipython3",
      "version": "3.10.12"
    },
    "colab": {
      "provenance": []
    }
  },
  "nbformat": 4,
  "nbformat_minor": 5
}