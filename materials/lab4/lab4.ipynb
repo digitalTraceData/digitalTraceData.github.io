{
  "cells": [
    {
      "cell_type": "markdown",
      "id": "sV3OddT9hn2n",
      "metadata": {
        "id": "sV3OddT9hn2n"
      },
      "source": [
        "# Digital trace data – Lab 4: Errors and designed big data"
      ]
    },
    {
      "cell_type": "markdown",
      "id": "P3gmOB6QpEL2",
      "metadata": {
        "id": "P3gmOB6QpEL2"
      },
      "source": [
        "In this lab, we will work with a study in which members from the LISS panel were invited to donate data from their WhatsApp account as well as data from one WhatsApp group chat.\n",
        "\n",
        "In this lab, we will learn more about the LISS panel, explore both the representation and measurement errors present in this dataset, and learn how to apply ‘amplified asking’ approaches on this dataset that combines survey and big data sources.  "
      ]
    },
    {
      "cell_type": "markdown",
      "id": "RMXhhpQiI6PV",
      "metadata": {
        "id": "RMXhhpQiI6PV"
      },
      "source": [
        "## Part 1: The LISS Data\n",
        "\n",
        "In in this lab, we will work with data from the LISS panel. The LISS panel is a representative sample in the Netherlands, managed by Centerdata at Tilburg University. It consists of 5,000 households and approximately 7,500 individuals aged 16 and older, recruited through a probability sample from the population register by Statistics Netherlands. You can visit their [website](https://statements.centerdata.nl/liss-panel-data-statement) and explore the various aspects of the panel. This information will be needed to answer the following questions.\n",
        "\n"
      ]
    },
    {
      "cell_type": "markdown",
      "id": "s_1_kbUZUYi3",
      "metadata": {
        "id": "s_1_kbUZUYi3"
      },
      "source": [
        "### 1.1 What distinguishes the LISS Panel from other online panels according to the website?"
      ]
    },
    {
      "cell_type": "markdown",
      "id": "6XB7oCnsx3P2",
      "metadata": {
        "id": "6XB7oCnsx3P2"
      },
      "source": [
        "*Add you answer here*"
      ]
    },
    {
      "cell_type": "markdown",
      "id": "__P_h1bry3ep",
      "metadata": {
        "id": "__P_h1bry3ep"
      },
      "source": [
        "### 1.2 What are the potential advantages and disadvantages of the participation method used by the LISS panel compared to self-registration methods used by other panels?"
      ]
    },
    {
      "cell_type": "markdown",
      "id": "BP9vVlqjzPHJ",
      "metadata": {
        "id": "BP9vVlqjzPHJ"
      },
      "source": [
        "*Add you answer here*"
      ]
    },
    {
      "cell_type": "markdown",
      "id": "Kha2g3LPzCP-",
      "metadata": {
        "id": "Kha2g3LPzCP-"
      },
      "source": [
        "### 1.3 What is the focus of the LISS Core Study, and how often is it conducted?\n"
      ]
    },
    {
      "cell_type": "markdown",
      "id": "IcX6L07izHFm",
      "metadata": {
        "id": "IcX6L07izHFm"
      },
      "source": [
        "*Add you answer here*"
      ]
    },
    {
      "cell_type": "markdown",
      "id": "pE3MSbQQzflk",
      "metadata": {
        "id": "pE3MSbQQzflk"
      },
      "source": [
        "## Part 2: Loading the data\n",
        "\n",
        "We will work with a combined dataset that comes from a study conducted in the LISS panel in 2023. Here, members of the LISS panel filled in a questionnaire. Next, they were invited to donate parts of their WhatsApp account data as well as data from one WhatsApp group chat.  "
      ]
    },
    {
      "cell_type": "markdown",
      "id": "97200bab",
      "metadata": {
        "id": "97200bab"
      },
      "source": [
        "### 2.1. Before you can work with the LISS data, you need to fill in [this form](https://liss.statements.centerdata.nl/). Read the form carefully before signing. What do you think is the reason why everyone who uses data from the LISS panel needs to fill in this form?"
      ]
    },
    {
      "cell_type": "markdown",
      "id": "a31ef865",
      "metadata": {
        "id": "a31ef865"
      },
      "source": [
        "*Add you answer here*"
      ]
    },
    {
      "cell_type": "code",
      "execution_count": 2,
      "id": "Tm9-97SC9zEg",
      "metadata": {
        "id": "Tm9-97SC9zEg"
      },
      "outputs": [],
      "source": [
        "# Reading in the data\n",
        "import pandas as pd\n",
        "\n",
        "url = \"https://raw.githubusercontent.com/digitalTraceData/digitalTraceData.github.io/refs/heads/main/materials/lab4/data_lab4.csv\"\n",
        "data = pd.read_csv(url)"
      ]
    },
    {
      "cell_type": "markdown",
      "id": "UdeGNLwvI_U7",
      "metadata": {
        "id": "UdeGNLwvI_U7"
      },
      "source": [
        "\n",
        "### Codebook\n",
        "\n",
        "The dataset contains the following variables:\n",
        "\n",
        "1. **consent**: Willingness to share data (Yes/No)\n",
        "2. **did_donate_account**: Was data actually donated (Yes/No)\n",
        "3. **sex**: Respondent's sex (Male, Female, Other)\n",
        "4. **age**: Respondent's age\n",
        "5. **education**: Respondent's education level\n",
        "   - primary education (Primary Education)\n",
        "   - vmbo (Preparatory Secondary Vocational Education)\n",
        "   - mbo (Secondary Vocational Education)\n",
        "   - havo/vwo (Senior General Secondary Education/Pre-University Education)\n",
        "   - hbo (University of Applied Sciences)\n",
        "   - wo (University Education)\n",
        "6. **groups_don**: Number of WhatsApp groups retrieved from donated data\n",
        "7. **groups_quest**: Number of WhatsApp groups stated in the survey\n",
        "\n",
        "In addition, the dataset contains all individuals who opened and started with filling in the questionnaire."
      ]
    },
    {
      "cell_type": "markdown",
      "id": "75e688e5",
      "metadata": {
        "id": "75e688e5"
      },
      "source": [
        "## Part 3: Representation issues"
      ]
    },
    {
      "cell_type": "markdown",
      "id": "b769fd5d",
      "metadata": {
        "id": "b769fd5d"
      },
      "source": [
        "We now explore what representation issues might be present in this dataset. We follow the Total Survey Error Framework by Groves et al. (2009), and dive into some more specific issues related to data donation when relevant."
      ]
    },
    {
      "cell_type": "markdown",
      "id": "b6d0f188",
      "metadata": {
        "id": "b6d0f188"
      },
      "source": [
        "### Coverage error"
      ]
    },
    {
      "cell_type": "markdown",
      "id": "c33cb10a",
      "metadata": {
        "id": "c33cb10a"
      },
      "source": [
        "We start on the top of the representation side of the TE framework with “Coverage error”."
      ]
    },
    {
      "cell_type": "markdown",
      "id": "42a20128",
      "metadata": {
        "id": "42a20128"
      },
      "source": [
        "#### 3.1. What is Coverage error?"
      ]
    },
    {
      "cell_type": "markdown",
      "id": "bde14ccc",
      "metadata": {
        "id": "bde14ccc"
      },
      "source": [
        "*Add you answer here*"
      ]
    },
    {
      "cell_type": "markdown",
      "id": "a49895d8",
      "metadata": {
        "id": "a49895d8"
      },
      "source": [
        "Since the dataset we have here does not contain any information about the target population, we cannot draw any conclusions about coverage error. However, we can use information from the LISS panel to get a better understanding of how they select their participants."
      ]
    },
    {
      "cell_type": "markdown",
      "id": "0c89d55c",
      "metadata": {
        "id": "0c89d55c"
      },
      "source": [
        "#### 3.2. How does the LISS panel select their participants?"
      ]
    },
    {
      "cell_type": "markdown",
      "id": "6232e1b6",
      "metadata": {
        "id": "6232e1b6"
      },
      "source": [
        "*Add you answer here*"
      ]
    },
    {
      "cell_type": "markdown",
      "id": "c2c4e9ca",
      "metadata": {
        "id": "c2c4e9ca"
      },
      "source": [
        "#### 3.3. What type of coverage error can you expect in the LISS panel because of this selection approach?"
      ]
    },
    {
      "cell_type": "markdown",
      "id": "7e885e8d",
      "metadata": {
        "id": "7e885e8d"
      },
      "source": [
        "*Add you answer here*"
      ]
    },
    {
      "cell_type": "markdown",
      "id": "119707a6",
      "metadata": {
        "id": "119707a6"
      },
      "source": [
        "### Sampling error"
      ]
    },
    {
      "cell_type": "markdown",
      "id": "63779b68",
      "metadata": {
        "id": "63779b68"
      },
      "source": [
        "#### 3.4. What is sampling error?"
      ]
    },
    {
      "cell_type": "markdown",
      "id": "9640c20c",
      "metadata": {
        "id": "9640c20c"
      },
      "source": [
        "*Add you answer here*"
      ]
    },
    {
      "cell_type": "markdown",
      "id": "3079e816",
      "metadata": {
        "id": "3079e816"
      },
      "source": [
        "#### 3.5. Why can’t we investigate sampling error using this dataset? Is this a problem?"
      ]
    },
    {
      "cell_type": "markdown",
      "id": "bb80be0b",
      "metadata": {
        "id": "bb80be0b"
      },
      "source": [
        "*Add you answer here*"
      ]
    },
    {
      "cell_type": "markdown",
      "id": "9c960571",
      "metadata": {
        "id": "9c960571"
      },
      "source": [
        "### Nonresponse error"
      ]
    },
    {
      "cell_type": "markdown",
      "id": "49a70cf6",
      "metadata": {
        "id": "49a70cf6"
      },
      "source": [
        "Now we get to the interesting part, nonresponse error. Within the dataset, we can see that we have different levels of nonresponse for different elements within the dataset. We will dive into these differences in more detail.\n",
        "\n",
        "For this study, 4800 people were invited."
      ]
    },
    {
      "cell_type": "markdown",
      "id": "b00cb37d",
      "metadata": {
        "id": "b00cb37d"
      },
      "source": [
        "#### 3.6. For how many people was at least a response to one question in this study recorded? To see how many rows this dataset contains, we can use the shape function to see the dimensions of the dataset."
      ]
    },
    {
      "cell_type": "code",
      "execution_count": 3,
      "id": "G_M7AUabO3-g",
      "metadata": {
        "colab": {
          "base_uri": "https://localhost:8080/"
        },
        "id": "G_M7AUabO3-g",
        "outputId": "3cbdc4fa-9f81-47d3-e316-50776dff8b35"
      },
      "outputs": [
        {
          "output_type": "stream",
          "name": "stdout",
          "text": [
            "(3598, 7)\n"
          ]
        }
      ],
      "source": [
        "print(data.shape)"
      ]
    },
    {
      "cell_type": "markdown",
      "id": "2p0g_T88PUJb",
      "metadata": {
        "id": "2p0g_T88PUJb"
      },
      "source": [
        "*Add you answer here*"
      ]
    },
    {
      "cell_type": "markdown",
      "id": "vjLUwPyrGlqf",
      "metadata": {
        "id": "vjLUwPyrGlqf"
      },
      "source": [
        "#### 3.7. What is the percentage of the nonresponse here?"
      ]
    },
    {
      "cell_type": "code",
      "execution_count": 4,
      "id": "54xqTDUEG7OM",
      "metadata": {
        "colab": {
          "base_uri": "https://localhost:8080/"
        },
        "id": "54xqTDUEG7OM",
        "outputId": "a97d6a09-cc3e-46f6-891d-31147fc0643b"
      },
      "outputs": [
        {
          "output_type": "stream",
          "name": "stdout",
          "text": [
            "25.04166666666666\n"
          ]
        }
      ],
      "source": [
        "print((1-(len(data) / 4800)) * 100)"
      ]
    },
    {
      "cell_type": "markdown",
      "id": "75be0691",
      "metadata": {
        "id": "75be0691"
      },
      "source": [
        "*Add you answer here*"
      ]
    },
    {
      "cell_type": "markdown",
      "id": "d6269c3f",
      "metadata": {
        "id": "d6269c3f"
      },
      "source": [
        "Now that we are investigating our set with respondents, we can investigate how representative this set is with respect to the target population on various background characteristics. We consider sex, age and level of education, and we can compare the observed sample with statistics we can find on the CBS website."
      ]
    },
    {
      "cell_type": "markdown",
      "id": "defe67cc",
      "metadata": {
        "id": "defe67cc"
      },
      "source": [
        "#### 3.8. Compare the distribution of Sex in the dataset with the Dutch population. Do they differ? In what way?"
      ]
    },
    {
      "cell_type": "markdown",
      "id": "44N6vAJQrGSg",
      "metadata": {
        "id": "44N6vAJQrGSg"
      },
      "source": [
        "We now explore how the distrubtion of \"Sex\" looks like in the sample."
      ]
    },
    {
      "cell_type": "code",
      "execution_count": 6,
      "id": "j17vR8ZpQos9",
      "metadata": {
        "colab": {
          "base_uri": "https://localhost:8080/"
        },
        "id": "j17vR8ZpQos9",
        "outputId": "47302244-bdc9-485e-d1d7-e11b2d798d88"
      },
      "outputs": [
        {
          "output_type": "stream",
          "name": "stdout",
          "text": [
            "sex\n",
            "female    1878\n",
            "male      1716\n",
            "other        4\n",
            "Name: count, dtype: int64\n"
          ]
        }
      ],
      "source": [
        "print(data[\"sex\"].value_counts())"
      ]
    },
    {
      "cell_type": "code",
      "execution_count": 9,
      "id": "U8cGvb-__egG",
      "metadata": {
        "colab": {
          "base_uri": "https://localhost:8080/",
          "height": 502
        },
        "id": "U8cGvb-__egG",
        "outputId": "12817b09-cd02-485c-d324-a5f87ee53906"
      },
      "outputs": [
        {
          "output_type": "display_data",
          "data": {
            "text/plain": [
              "<Figure size 640x480 with 1 Axes>"
            ],
            "image/png": "[encoded data removed]"
          },
          "metadata": {}
        }
      ],
      "source": [
        "import seaborn as sns\n",
        "import matplotlib.pyplot as plt\n",
        "\n",
        "# get sex counts\n",
        "sex_counts = data[\"sex\"].value_counts()\n",
        "\n",
        "# Create Bar Plot\n",
        "sex_counts.plot(kind=\"bar\")\n",
        "plt.title(\"Number of participants per level of Sex\")\n",
        "plt.xlabel(\"Sex\")\n",
        "plt.ylabel(\"Count\")\n",
        "plt.xticks(rotation=45)\n",
        "plt.show()"
      ]
    },
    {
      "cell_type": "markdown",
      "id": "2tR-AFBlqEOw",
      "metadata": {
        "id": "2tR-AFBlqEOw"
      },
      "source": [
        "*Add you answer here*"
      ]
    },
    {
      "cell_type": "markdown",
      "id": "71b9a3f8",
      "metadata": {
        "id": "71b9a3f8"
      },
      "source": [
        "#### 3.9. Compare the distribution of Age in the dataset with the Dutch population. Do they differ? In what way?"
      ]
    },
    {
      "cell_type": "markdown",
      "id": "RYUYP-uwxyOX",
      "metadata": {
        "id": "RYUYP-uwxyOX"
      },
      "source": [
        "We now explore how the distrubtion of \"Age\" differs between the group of people who donated their WhatsApp data and the group who did not. We do this by first creating a density plot."
      ]
    },
    {
      "cell_type": "code",
      "execution_count": 10,
      "id": "IAC7-5jB_AAu",
      "metadata": {
        "colab": {
          "base_uri": "https://localhost:8080/",
          "height": 507
        },
        "id": "IAC7-5jB_AAu",
        "outputId": "b0ba7ab6-552c-48b7-b9a9-e4c8579b9df3"
      },
      "outputs": [
        {
          "output_type": "stream",
          "name": "stderr",
          "text": [
            "/tmp/ipython-input-10-1345681806.py:8: UserWarning: No artists with labels found to put in legend.  Note that artists whose label start with an underscore are ignored when legend() is called with no argument.\n",
            "  plt.legend()\n"
          ]
        },
        {
          "output_type": "display_data",
          "data": {
            "text/plain": [
              "<Figure size 640x480 with 1 Axes>"
            ],
            "image/png": "[encoded data removed]"
          },
          "metadata": {}
        }
      ],
      "source": [
        "# Density plot for age\n",
        "sns.kdeplot(data[\"age\"], fill=True)\n",
        "\n",
        "# Add titles and labels\n",
        "plt.title(\"Density Plot of Age\")\n",
        "plt.xlabel(\"Age\")\n",
        "plt.ylabel(\"Density\")\n",
        "plt.legend()\n",
        "\n",
        "# Show the plot\n",
        "plt.show()"
      ]
    },
    {
      "cell_type": "markdown",
      "id": "TY5_5cRkwDgM",
      "metadata": {
        "id": "TY5_5cRkwDgM"
      },
      "source": [
        "*Add you answer here*"
      ]
    },
    {
      "cell_type": "markdown",
      "id": "0f935004",
      "metadata": {
        "id": "0f935004"
      },
      "source": [
        "#### 3.10. Compare the distribution of \"Education\" in the dataset with the Dutch population. Do they differ? In what way?"
      ]
    },
    {
      "cell_type": "markdown",
      "id": "FmH5aDW02QQS",
      "metadata": {
        "id": "FmH5aDW02QQS"
      },
      "source": [
        "We now explore how the distrubtion of \"Education\" looks like in the sample. We do this by first creating a histogram."
      ]
    },
    {
      "cell_type": "code",
      "execution_count": 11,
      "id": "Vq4DMIKM9FPM",
      "metadata": {
        "colab": {
          "base_uri": "https://localhost:8080/",
          "height": 558
        },
        "id": "Vq4DMIKM9FPM",
        "outputId": "8f870f6a-dd4c-4c35-853d-ab164b3e7b1e"
      },
      "outputs": [
        {
          "output_type": "display_data",
          "data": {
            "text/plain": [
              "<Figure size 640x480 with 1 Axes>"
            ],
            "image/png": "[encoded data removed]"
          },
          "metadata": {}
        }
      ],
      "source": [
        "# get education counts for individuals who did vs. did not donate\n",
        "education_counts = data[\"education\"].value_counts()\n",
        "\n",
        "# Create Bar Plots for both\n",
        "education_counts.plot(kind=\"bar\")\n",
        "plt.title(\"Levels of Education\")\n",
        "plt.xlabel(\"Education Level\")\n",
        "plt.ylabel(\"Count\")\n",
        "plt.xticks(rotation=45)\n",
        "plt.show()"
      ]
    },
    {
      "cell_type": "markdown",
      "id": "69c2f75b",
      "metadata": {
        "id": "69c2f75b"
      },
      "source": [
        "*Add you answer here*"
      ]
    },
    {
      "cell_type": "markdown",
      "id": "b9131e89",
      "metadata": {
        "id": "b9131e89"
      },
      "source": [
        "We now go back into the issue of nonresponse itself. If we dive into this dataset in more detail, we quickly see that the nonresponse is higher in specific parts of the data, especially the donated data."
      ]
    },
    {
      "cell_type": "markdown",
      "id": "b8560ff1",
      "metadata": {
        "id": "b8560ff1"
      },
      "source": [
        "#### 3.11. How many people donated their WhatsApp account data?"
      ]
    },
    {
      "cell_type": "code",
      "execution_count": 21,
      "id": "-3x16-U3Nxkm",
      "metadata": {
        "colab": {
          "base_uri": "https://localhost:8080/"
        },
        "id": "-3x16-U3Nxkm",
        "outputId": "44c03bab-dcaa-44f4-d606-6aa0b6eaa637"
      },
      "outputs": [
        {
          "output_type": "stream",
          "name": "stdout",
          "text": [
            "did_donate_account\n",
            "No     3249\n",
            "Yes     349\n",
            "Name: count, dtype: int64\n"
          ]
        }
      ],
      "source": [
        "print(data[\"did_donate_account\"].value_counts())"
      ]
    },
    {
      "cell_type": "markdown",
      "source": [
        "*Add you answer here*"
      ],
      "metadata": {
        "id": "Rrpv853Imb1t"
      },
      "id": "Rrpv853Imb1t"
    },
    {
      "cell_type": "markdown",
      "id": "e16c954d",
      "metadata": {
        "id": "e16c954d"
      },
      "source": [
        "#### 3.12. What is the response percentage for the donation part of the observed sample?"
      ]
    },
    {
      "cell_type": "code",
      "execution_count": 22,
      "id": "c230044a",
      "metadata": {
        "colab": {
          "base_uri": "https://localhost:8080/"
        },
        "id": "c230044a",
        "outputId": "996181ab-0271-43ce-86e2-b05ce1b561f7"
      },
      "outputs": [
        {
          "output_type": "stream",
          "name": "stdout",
          "text": [
            "9.699833240689273\n"
          ]
        }
      ],
      "source": [
        "print(data[\"did_donate_account\"].value_counts()[\"Yes\"] / len(data) * 100)"
      ]
    },
    {
      "cell_type": "markdown",
      "source": [
        "*Add you answer here*"
      ],
      "metadata": {
        "id": "qMLng39epRMx"
      },
      "id": "qMLng39epRMx"
    },
    {
      "cell_type": "markdown",
      "id": "eff08346",
      "metadata": {
        "id": "eff08346"
      },
      "source": [
        "There is more information available in this dataset to help us understand the mechanisms behind the nonresponse for this data donation part specifically. Before people started the data donation process, they were asked if they were willing to participate in the data donation part of the study."
      ]
    },
    {
      "cell_type": "markdown",
      "id": "cdbdc850",
      "metadata": {
        "id": "cdbdc850"
      },
      "source": [
        "#### 3.13. What can be reasons why people are not willing to donate their WhatsApp data?"
      ]
    },
    {
      "cell_type": "markdown",
      "id": "807e595e",
      "metadata": {
        "id": "807e595e"
      },
      "source": [
        "*Add you answer here*\n"
      ]
    },
    {
      "cell_type": "markdown",
      "id": "d644009f",
      "metadata": {
        "id": "d644009f"
      },
      "source": [
        "#### 3.14. How many people were willing to donate their WhatsApp data?"
      ]
    },
    {
      "cell_type": "code",
      "execution_count": null,
      "id": "UCK7f-i7PwUa",
      "metadata": {
        "colab": {
          "base_uri": "https://localhost:8080/"
        },
        "id": "UCK7f-i7PwUa",
        "outputId": "5bac0e8b-42fa-4835-cf5c-758b2a291c13"
      },
      "outputs": [
        {
          "name": "stdout",
          "output_type": "stream",
          "text": [
            "no     2669\n",
            "yes     929\n",
            "Name: consent, dtype: int64\n"
          ]
        }
      ],
      "source": [
        "print(data[\"consent\"].value_counts())"
      ]
    },
    {
      "cell_type": "markdown",
      "id": "UBXFFxJ5Py9c",
      "metadata": {
        "id": "UBXFFxJ5Py9c"
      },
      "source": [
        "*Add you answer here*"
      ]
    },
    {
      "cell_type": "markdown",
      "id": "5cab2900",
      "metadata": {
        "id": "5cab2900"
      },
      "source": [
        "#### 3.15. How man people indicated that they were willing to donate their WhatsApp data but did not donate in the end?"
      ]
    },
    {
      "cell_type": "code",
      "execution_count": null,
      "id": "d6d800a1",
      "metadata": {
        "id": "d6d800a1",
        "outputId": "726e6fe0-a9c0-4fa5-d435-0eb42c55dae9"
      },
      "outputs": [
        {
          "name": "stdout",
          "output_type": "stream",
          "text": [
            "did_donate_account    No  Yes\n",
            "consent                      \n",
            "no                  2669    0\n",
            "yes                  580  349\n"
          ]
        }
      ],
      "source": [
        "print(pd.crosstab(data[\"consent\"], data[\"did_donate_account\"]))"
      ]
    },
    {
      "cell_type": "markdown",
      "source": [
        "*Add you answer here*"
      ],
      "metadata": {
        "id": "S3qwMX4DnNMO"
      },
      "id": "S3qwMX4DnNMO"
    },
    {
      "cell_type": "markdown",
      "id": "38bca12e",
      "metadata": {
        "id": "38bca12e"
      },
      "source": [
        "#### 3.16. What can be reasons by these people did not donate their data in the end?"
      ]
    },
    {
      "cell_type": "markdown",
      "id": "2dfbc3d5",
      "metadata": {
        "id": "2dfbc3d5"
      },
      "source": [
        "*Add you answer here*\n"
      ]
    },
    {
      "cell_type": "markdown",
      "id": "04ce78d5",
      "metadata": {
        "id": "04ce78d5"
      },
      "source": [
        "We now investigate how the group of people who donated their WhatsApp data potentially differ from the group who did not donate their data with respect to the background characteristics we investigated earlier: sex, age and level of education."
      ]
    },
    {
      "cell_type": "markdown",
      "id": "50a4fbce",
      "metadata": {
        "id": "50a4fbce"
      },
      "source": [
        "#### 3.17. Is the distribution of Sex similar between the group that donated their WhatsApp data and the group who did not donate? Of not, in what way are they different?"
      ]
    },
    {
      "cell_type": "code",
      "execution_count": null,
      "metadata": {
        "colab": {
          "base_uri": "https://localhost:8080/"
        },
        "outputId": "00528492-fed8-4073-ab17-ea5685ced579",
        "id": "QoONSPATeE1k"
      },
      "outputs": [
        {
          "name": "stdout",
          "output_type": "stream",
          "text": [
            "did_donate_account    No  Yes\n",
            "sex                          \n",
            "female              1702  176\n",
            "male                1544  172\n",
            "other                  3    1\n"
          ]
        }
      ],
      "source": [
        "print(pd.crosstab(data[\"sex\"], data[\"did_donate_account\"]))"
      ],
      "id": "QoONSPATeE1k"
    },
    {
      "cell_type": "code",
      "execution_count": null,
      "metadata": {
        "colab": {
          "base_uri": "https://localhost:8080/",
          "height": 987
        },
        "outputId": "428e52e6-dffd-402a-e81c-5463f33266ee",
        "id": "V82wyOB1eE1k"
      },
      "outputs": [
        {
          "data": {
            "image/png": "[encoded data removed]",
            "text/plain": [
              "<Figure size 432x288 with 1 Axes>"
            ]
          },
          "metadata": {
            "needs_background": "light"
          },
          "output_type": "display_data"
        },
        {
          "data": {
            "image/png": "[encoded data removed]",
            "text/plain": [
              "<Figure size 432x288 with 1 Axes>"
            ]
          },
          "metadata": {
            "needs_background": "light"
          },
          "output_type": "display_data"
        }
      ],
      "source": [
        "# get sex counts for individuals who did vs. did not donate\n",
        "sex_counts_nodon = data[\"sex\"][data[\"did_donate_account\"] == \"No\"].value_counts()\n",
        "sex_counts_don = data[\"sex\"][data[\"did_donate_account\"] == \"Yes\"].value_counts()\n",
        "\n",
        "# Create Bar Plots\n",
        "sex_counts_nodon.plot(kind=\"bar\")\n",
        "plt.title(\"Did Not Donate: Levels of Sex\")\n",
        "plt.xlabel(\"Sex\")\n",
        "plt.ylabel(\"Count\")\n",
        "plt.xticks(rotation=45)\n",
        "plt.show()\n",
        "\n",
        "sex_counts_don.plot(kind=\"bar\")\n",
        "plt.title(\"Did Donate: Levels of Sex\")\n",
        "plt.xlabel(\"Sex\")\n",
        "plt.ylabel(\"Count\")\n",
        "plt.xticks(rotation=45)\n",
        "plt.show()"
      ],
      "id": "V82wyOB1eE1k"
    },
    {
      "cell_type": "markdown",
      "id": "IDDTgHttsAKv",
      "metadata": {
        "id": "IDDTgHttsAKv"
      },
      "source": [
        "*Add you answer here*"
      ]
    },
    {
      "cell_type": "markdown",
      "id": "28c2de0f",
      "metadata": {
        "id": "28c2de0f"
      },
      "source": [
        "#### 3.18. Can you think of a difference between these two groups with respect to Sex?"
      ]
    },
    {
      "cell_type": "markdown",
      "id": "fa44d0e6",
      "metadata": {
        "id": "fa44d0e6"
      },
      "source": [
        "*Add you answer here*"
      ]
    },
    {
      "cell_type": "markdown",
      "id": "b1708ae0",
      "metadata": {
        "id": "b1708ae0"
      },
      "source": [
        "#### 3.19. Is the distribution of Age similar between the group that donated their WhatsApp data and the group who did not donate? If not, in what way are they different?"
      ]
    },
    {
      "cell_type": "code",
      "execution_count": null,
      "metadata": {
        "colab": {
          "base_uri": "https://localhost:8080/",
          "height": 472
        },
        "outputId": "3cef180f-5279-4153-8d80-dac85d911673",
        "id": "YNfN3MpreE1l"
      },
      "outputs": [
        {
          "data": {
            "image/png": "[encoded data removed]",
            "text/plain": [
              "<Figure size 432x288 with 1 Axes>"
            ]
          },
          "metadata": {
            "needs_background": "light"
          },
          "output_type": "display_data"
        }
      ],
      "source": [
        "# Density plot for those who did not donate\n",
        "sns.kdeplot(data[\"age\"][data[\"did_donate_account\"] == \"No\"], label=\"Did Not Donate\", fill=True)\n",
        "\n",
        "# Density plot for those who did donate\n",
        "sns.kdeplot(data[\"age\"][data[\"did_donate_account\"] == \"Yes\"], label=\"Did Donate\", fill=True)\n",
        "\n",
        "# Add titles and labels\n",
        "plt.title(\"Density Plot of Age by Donation Status\")\n",
        "plt.xlabel(\"Age\")\n",
        "plt.ylabel(\"Density\")\n",
        "plt.legend()\n",
        "\n",
        "# Show the plot\n",
        "plt.show()"
      ],
      "id": "YNfN3MpreE1l"
    },
    {
      "cell_type": "markdown",
      "id": "pPnqxV4TykoN",
      "metadata": {
        "id": "pPnqxV4TykoN"
      },
      "source": [
        "*Add you answer here*"
      ]
    },
    {
      "cell_type": "markdown",
      "id": "74f41f05",
      "metadata": {
        "id": "74f41f05"
      },
      "source": [
        "#### 3.20. Can you think of a reason for this difference between donated and not donated with respect to \"Age\"?"
      ]
    },
    {
      "cell_type": "markdown",
      "id": "0dce6ffc",
      "metadata": {
        "id": "0dce6ffc"
      },
      "source": [
        "*Add you answer here*"
      ]
    },
    {
      "cell_type": "markdown",
      "id": "a6f506d6",
      "metadata": {
        "id": "a6f506d6"
      },
      "source": [
        "#### 3.20. Is the distribution of level of education similar between the group that donated their WhatsApp data and the group who did not donate? If not, in what way are they different?"
      ]
    },
    {
      "cell_type": "code",
      "execution_count": null,
      "metadata": {
        "colab": {
          "base_uri": "https://localhost:8080/",
          "height": 1000
        },
        "outputId": "e0731b94-fff2-4fa1-a45e-6e6bc9cb1034",
        "id": "Sx00YGJVeE1l"
      },
      "outputs": [
        {
          "data": {
            "image/png": "[encoded data removed]",
            "text/plain": [
              "<Figure size 432x288 with 1 Axes>"
            ]
          },
          "metadata": {
            "needs_background": "light"
          },
          "output_type": "display_data"
        },
        {
          "data": {
            "image/png": "[encoded data removed]",
            "text/plain": [
              "<Figure size 432x288 with 1 Axes>"
            ]
          },
          "metadata": {
            "needs_background": "light"
          },
          "output_type": "display_data"
        }
      ],
      "source": [
        "# get education counts for individuals who did vs. did not donate\n",
        "education_counts_nodon = data[\"education\"][data[\"did_donate_account\"] == \"No\"].value_counts()\n",
        "education_counts_don = data[\"education\"][data[\"did_donate_account\"] == \"Yes\"].value_counts()\n",
        "\n",
        "# Create Bar Plots for both\n",
        "education_counts_nodon.plot(kind=\"bar\")\n",
        "plt.title(\"Did Not Donate: Levels of Education\")\n",
        "plt.xlabel(\"Education Level\")\n",
        "plt.ylabel(\"Count\")\n",
        "plt.xticks(rotation=45)\n",
        "plt.show()\n",
        "\n",
        "education_counts_don.plot(kind=\"bar\")\n",
        "plt.title(\"Did Donate: Levels of Education\")\n",
        "plt.xlabel(\"Education Level\")\n",
        "plt.ylabel(\"Count\")\n",
        "plt.xticks(rotation=45)\n",
        "plt.show()"
      ],
      "id": "Sx00YGJVeE1l"
    },
    {
      "cell_type": "markdown",
      "id": "LUVRNO0D2fnV",
      "metadata": {
        "id": "LUVRNO0D2fnV"
      },
      "source": [
        "*Add you answer here*"
      ]
    },
    {
      "cell_type": "markdown",
      "id": "9a1fea5b",
      "metadata": {
        "id": "9a1fea5b"
      },
      "source": [
        "#### 3.21. Can you think of a reason for this difference between donated and not donated with respect to \"Education\"?"
      ]
    },
    {
      "cell_type": "markdown",
      "id": "a95d56ae",
      "metadata": {
        "id": "a95d56ae"
      },
      "source": [
        "*Add you answer here*"
      ]
    },
    {
      "cell_type": "markdown",
      "id": "73395407",
      "metadata": {
        "id": "73395407"
      },
      "source": [
        "## Part 4: Measurement issues"
      ]
    },
    {
      "cell_type": "markdown",
      "id": "fb8984a1",
      "metadata": {
        "id": "fb8984a1"
      },
      "source": [
        "We now also explore what measurement issues might be present in this dataset. We continue to follow the Total Survey Error Framework by Groves et al. (2009), and dive into specific issues related to data donation when relevant.\n",
        "\n",
        "### Validity\n",
        "\n",
        "We start on the top of the measurement side of the TE framework with “Validity”."
      ]
    },
    {
      "cell_type": "markdown",
      "id": "ba81dc4d",
      "metadata": {
        "id": "ba81dc4d"
      },
      "source": [
        "#### 4.1. What is validity?"
      ]
    },
    {
      "cell_type": "markdown",
      "id": "e9ff4e60",
      "metadata": {
        "id": "e9ff4e60"
      },
      "source": [
        "*Add you answer here*"
      ]
    },
    {
      "cell_type": "markdown",
      "id": "fdfca6a8",
      "metadata": {
        "id": "fdfca6a8"
      },
      "source": [
        "Now consider that we are interested in measuring social connectivity, we would like to understand how socially connected or embedded someone is within different communities, such as family, work, hobbies or their local environment. As an indicator for social connectivity, we use the number of WhatsApp group someone is a member of.\n",
        "\n",
        "#### 4.2. How does what we want to measure differ from what we are actually measuring?"
      ]
    },
    {
      "cell_type": "markdown",
      "id": "01021fdc",
      "metadata": {
        "id": "01021fdc"
      },
      "source": [
        "*Add you answer here*"
      ]
    },
    {
      "cell_type": "markdown",
      "id": "f2a5a7c2",
      "metadata": {
        "id": "f2a5a7c2"
      },
      "source": [
        "### Measurement error"
      ]
    },
    {
      "cell_type": "markdown",
      "id": "0e263b8b",
      "metadata": {
        "id": "0e263b8b"
      },
      "source": [
        "#### 4.3.  What is measurement error?"
      ]
    },
    {
      "cell_type": "markdown",
      "id": "da2baf9e",
      "metadata": {
        "id": "da2baf9e"
      },
      "source": [
        "*Add you answer here*"
      ]
    },
    {
      "cell_type": "markdown",
      "id": "b968d75b",
      "metadata": {
        "id": "b968d75b"
      },
      "source": [
        "#### 4.4. We can obtain the number of WhatsApp groups a person is a member of in two different ways. The first way is by asking this in a survey (self-report). The second way is by extracting this number through data donation of the WhatsApp account. What can be reasons why these two numbers differ? Which of the two do you consider to be more reliable when considering what we are interested in for this study."
      ]
    },
    {
      "cell_type": "markdown",
      "id": "187565b7",
      "metadata": {
        "id": "187565b7"
      },
      "source": [
        "*Add you answer here*\n"
      ]
    },
    {
      "cell_type": "markdown",
      "id": "71131087",
      "metadata": {
        "id": "71131087"
      },
      "source": [
        "We now explore how the distribution of donated number of groups compares to the distribution of the self-reported number of groups\n",
        "\n",
        "#### 4.5. How does the distribution of the donated number of groups differ from the self-reported number of groups?"
      ]
    },
    {
      "cell_type": "code",
      "execution_count": null,
      "id": "lTlVcu4rJepD",
      "metadata": {
        "colab": {
          "base_uri": "https://localhost:8080/",
          "height": 628
        },
        "id": "lTlVcu4rJepD",
        "outputId": "6b0ffed1-573e-41b1-bbcf-262f273adb20"
      },
      "outputs": [
        {
          "name": "stdout",
          "output_type": "stream",
          "text": [
            "count    2831.00000\n",
            "mean       10.45461\n",
            "std        17.44062\n",
            "min         0.00000\n",
            "25%         3.00000\n",
            "50%         6.00000\n",
            "75%        10.00000\n",
            "max       400.00000\n",
            "Name: groups_quest, dtype: float64\n"
          ]
        },
        {
          "data": {
            "image/png": "[encoded data removed]",
            "text/plain": [
              "<Figure size 432x288 with 1 Axes>"
            ]
          },
          "metadata": {
            "needs_background": "light"
          },
          "output_type": "display_data"
        }
      ],
      "source": [
        "print(data[\"groups_quest\"].describe())\n",
        "\n",
        "# Plot\n",
        "sns.kdeplot(data[\"groups_don\"], label = \"Donation\", fill = True)\n",
        "sns.kdeplot(data[\"groups_quest\"], label = \"Questionnaire\", fill = True)\n",
        "\n",
        "# Add titles and labels\n",
        "plt.title(\"Density of Number of Groups by Source of Information\")\n",
        "plt.xlabel(\"Groups\")\n",
        "plt.ylabel(\"Density\")\n",
        "plt.legend()\n",
        "\n",
        "# Show the plot\n",
        "plt.show()"
      ]
    },
    {
      "cell_type": "markdown",
      "id": "a4a64ce5",
      "metadata": {
        "id": "a4a64ce5"
      },
      "source": [
        "*Add you answer here*"
      ]
    },
    {
      "cell_type": "markdown",
      "id": "58c122d7",
      "metadata": {
        "id": "58c122d7"
      },
      "source": [
        "If there were no differences between these two variables, they would have a correlation of 1.\n",
        "\n",
        "#### 4.6. What is the correlation coefficient between these two variables?"
      ]
    },
    {
      "cell_type": "code",
      "execution_count": null,
      "id": "a2uJwXuIHW7a",
      "metadata": {
        "colab": {
          "base_uri": "https://localhost:8080/",
          "height": 489
        },
        "id": "a2uJwXuIHW7a",
        "outputId": "c20b53ad-0359-4760-c128-7284de243411"
      },
      "outputs": [
        {
          "name": "stdout",
          "output_type": "stream",
          "text": [
            "0.5421788780261098\n"
          ]
        },
        {
          "data": {
            "image/png": "[encoded data removed]",
            "text/plain": [
              "<Figure size 432x288 with 1 Axes>"
            ]
          },
          "metadata": {
            "needs_background": "light"
          },
          "output_type": "display_data"
        }
      ],
      "source": [
        "# Correlation\n",
        "correlation = data[[\"groups_don\", \"groups_quest\"]].dropna().corr().iloc[0, 1]\n",
        "print(correlation)\n",
        "\n",
        "# Plot\n",
        "plt.scatter(data[\"groups_don\"], data[\"groups_quest\"])\n",
        "plt.xlabel(\"Donated Data\")\n",
        "plt.ylabel(\"Questionnaire\")\n",
        "plt.title(\"Scatter Plot of Donated vs. Questionnaire Data\")\n",
        "plt.show()"
      ]
    },
    {
      "cell_type": "markdown",
      "source": [
        "*Add you answer here*"
      ],
      "metadata": {
        "id": "n9vQBuW6uJG0"
      },
      "id": "n9vQBuW6uJG0"
    },
    {
      "cell_type": "markdown",
      "id": "7ac54918",
      "metadata": {
        "id": "7ac54918"
      },
      "source": [
        "#### 4.7. How would you interpret this correlation?"
      ]
    },
    {
      "cell_type": "markdown",
      "id": "c5ec77c6",
      "metadata": {
        "id": "c5ec77c6"
      },
      "source": [
        "*Add you answer here*"
      ]
    },
    {
      "cell_type": "markdown",
      "id": "11bc6da1",
      "metadata": {
        "id": "11bc6da1"
      },
      "source": [
        "### Processing error"
      ]
    },
    {
      "cell_type": "markdown",
      "id": "027a05e7",
      "metadata": {
        "id": "027a05e7"
      },
      "source": [
        "#### 4.8. What is processing error?"
      ]
    },
    {
      "cell_type": "markdown",
      "id": "1e4e32b5",
      "metadata": {
        "id": "1e4e32b5"
      },
      "source": [
        "*Add you answer here*"
      ]
    },
    {
      "cell_type": "markdown",
      "id": "68705d78",
      "metadata": {
        "id": "68705d78"
      },
      "source": [
        "Consider the number of WhatsApp groups we obtained through data donation. Data donation in this study was performed using local processing, meaning that only the number of WhatsApp groups was already counted locally on the device of the participant, and the raw WhatsApp groups were never shared with LISS.\n",
        "\n",
        "#### 4.9. What is the consequence of this local processing step when considering the processing error here?"
      ]
    },
    {
      "cell_type": "markdown",
      "id": "86e331e6",
      "metadata": {
        "id": "86e331e6"
      },
      "source": [
        "*Add you answer here*"
      ]
    },
    {
      "cell_type": "markdown",
      "id": "5bbabdd3",
      "metadata": {
        "id": "5bbabdd3"
      },
      "source": [
        "#### 4.10. What other forms of processing errors can you think of?"
      ]
    },
    {
      "cell_type": "markdown",
      "id": "153d14c3",
      "metadata": {
        "id": "153d14c3"
      },
      "source": [
        "*Add you answer here*"
      ]
    },
    {
      "cell_type": "markdown",
      "id": "74662717",
      "metadata": {
        "id": "74662717"
      },
      "source": [
        "## Part 5: Amplified asking"
      ]
    },
    {
      "cell_type": "markdown",
      "id": "18652cb3",
      "metadata": {
        "id": "18652cb3"
      },
      "source": [
        "What we want to do now, is creating a model to predict the number of WhatsApp groups provided in the donated data using the survey variables as predictors. To do that,\twe only take the part where we have observations for both the survey and the donations.\n",
        "\n",
        "First of all, we need to subset the data to respondents who also donated their WhatsApp data, as we need observations with values in the dependent variable to estimate the model."
      ]
    },
    {
      "cell_type": "code",
      "execution_count": null,
      "id": "2a550d00",
      "metadata": {
        "id": "2a550d00"
      },
      "outputs": [],
      "source": [
        "# Subset data to people who donated\n",
        "data_don = data[data['groups_don'].notna()]"
      ]
    },
    {
      "cell_type": "markdown",
      "id": "8c941b0f",
      "metadata": {
        "id": "8c941b0f"
      },
      "source": [
        "Next, we estimate an OLS regression model to predict *groups_don*. We first only use the self-reported number of groups (i.e., *groups_quest*) as predictor which further illustrates the relationship between the two variables. Next, we include other survey variables, i.e. *sex*, *age*, *education* in the model as well."
      ]
    },
    {
      "cell_type": "code",
      "execution_count": null,
      "id": "56575ed7",
      "metadata": {
        "colab": {
          "base_uri": "https://localhost:8080/"
        },
        "id": "56575ed7",
        "outputId": "be2b9000-d7ad-40dc-db8a-a602c6c75a35"
      },
      "outputs": [
        {
          "name": "stdout",
          "output_type": "stream",
          "text": [
            "                            OLS Regression Results                            \n",
            "==============================================================================\n",
            "Dep. Variable:             groups_don   R-squared:                       0.294\n",
            "Model:                            OLS   Adj. R-squared:                  0.292\n",
            "Method:                 Least Squares   F-statistic:                     128.7\n",
            "Date:                Wed, 02 Jul 2025   Prob (F-statistic):           3.66e-25\n",
            "Time:                        13:47:38   Log-Likelihood:                -1619.5\n",
            "No. Observations:                 311   AIC:                             3243.\n",
            "Df Residuals:                     309   BIC:                             3251.\n",
            "Df Model:                           1                                         \n",
            "Covariance Type:            nonrobust                                         \n",
            "================================================================================\n",
            "                   coef    std err          t      P>|t|      [0.025      0.975]\n",
            "--------------------------------------------------------------------------------\n",
            "Intercept       36.9725      2.911     12.702      0.000      31.245      42.700\n",
            "groups_quest     0.9588      0.085     11.342      0.000       0.792       1.125\n",
            "==============================================================================\n",
            "Omnibus:                      106.180   Durbin-Watson:                   2.079\n",
            "Prob(Omnibus):                  0.000   Jarque-Bera (JB):              281.351\n",
            "Skew:                           1.611   Prob(JB):                     8.04e-62\n",
            "Kurtosis:                       6.366   Cond. No.                         39.9\n",
            "==============================================================================\n",
            "\n",
            "Notes:\n",
            "[1] Standard Errors assume that the covariance matrix of the errors is correctly specified.\n",
            "                            OLS Regression Results                            \n",
            "==============================================================================\n",
            "Dep. Variable:             groups_don   R-squared:                       0.430\n",
            "Model:                            OLS   Adj. R-squared:                  0.414\n",
            "Method:                 Least Squares   F-statistic:                     28.34\n",
            "Date:                Wed, 02 Jul 2025   Prob (F-statistic):           9.59e-33\n",
            "Time:                        13:47:38   Log-Likelihood:                -1580.2\n",
            "No. Observations:                 310   AIC:                             3178.\n",
            "Df Residuals:                     301   BIC:                             3212.\n",
            "Df Model:                           8                                         \n",
            "Covariance Type:            nonrobust                                         \n",
            "==================================================================================================\n",
            "                                     coef    std err          t      P>|t|      [0.025      0.975]\n",
            "--------------------------------------------------------------------------------------------------\n",
            "Intercept                         81.2912      9.098      8.935      0.000      63.388      99.194\n",
            "sex[T.male]                       10.7525      4.770      2.254      0.025       1.365      20.140\n",
            "education[T.hbo]                  -3.4767      7.934     -0.438      0.662     -19.090      12.137\n",
            "education[T.mbo]                 -11.7636      8.676     -1.356      0.176     -28.836       5.309\n",
            "education[T.primary education]   -32.1188     12.741     -2.521      0.012     -57.192      -7.045\n",
            "education[T.vmbo]                -20.6528     11.063     -1.867      0.063     -42.424       1.119\n",
            "education[T.wo]                   13.4107      7.936      1.690      0.092      -2.206      29.027\n",
            "age                               -1.0671      0.163     -6.537      0.000      -1.388      -0.746\n",
            "groups_quest                       0.7782      0.080      9.669      0.000       0.620       0.937\n",
            "==============================================================================\n",
            "Omnibus:                       81.453   Durbin-Watson:                   2.003\n",
            "Prob(Omnibus):                  0.000   Jarque-Bera (JB):              182.822\n",
            "Skew:                           1.296   Prob(JB):                     2.00e-40\n",
            "Kurtosis:                       5.728   Cond. No.                         374.\n",
            "==============================================================================\n",
            "\n",
            "Notes:\n",
            "[1] Standard Errors assume that the covariance matrix of the errors is correctly specified.\n"
          ]
        }
      ],
      "source": [
        "import statsmodels.formula.api as sm\n",
        "\n",
        "# model only including self-reported groups\n",
        "model_selfrep = sm.ols(formula=\"groups_don ~ groups_quest\", data=data_don).fit()\n",
        "print(model_selfrep.summary())\n",
        "\n",
        "# model including other survey variables\n",
        "model_full = sm.ols(formula=\"groups_don ~ sex + age + education + groups_quest\", data=data_don).fit()\n",
        "print(model_full.summary())\n"
      ]
    },
    {
      "cell_type": "markdown",
      "id": "7df18bf1",
      "metadata": {
        "id": "7df18bf1"
      },
      "source": [
        "#### 5.1. Looking at the model output, which of the two models should we continue with? Reason your decision with a statistic from the output."
      ]
    },
    {
      "cell_type": "markdown",
      "id": "995f7fd7",
      "metadata": {
        "id": "995f7fd7"
      },
      "source": [
        "*Add you answer here*"
      ]
    },
    {
      "cell_type": "markdown",
      "id": "21944e0b",
      "metadata": {
        "id": "21944e0b"
      },
      "source": [
        "Next, we can look at how well the predicted values from the full model for people who donated match with the actual donated values. To do so, we plot them against each other below."
      ]
    },
    {
      "cell_type": "code",
      "execution_count": null,
      "id": "9626c52c",
      "metadata": {
        "colab": {
          "base_uri": "https://localhost:8080/",
          "height": 472
        },
        "id": "9626c52c",
        "outputId": "27961fdf-8631-4a0e-8387-ff98c1174766"
      },
      "outputs": [
        {
          "data": {
            "image/png": "[encoded data removed]",
            "text/plain": [
              "<Figure size 432x288 with 1 Axes>"
            ]
          },
          "metadata": {
            "needs_background": "light"
          },
          "output_type": "display_data"
        }
      ],
      "source": [
        "# Scatter plot donated and predicted data\n",
        "plt.scatter(data_don[\"groups_don\"], model_full.predict(data_don), s=10)\n",
        "\n",
        "# Add diagonal dashed line\n",
        "plt.axline((0, 0), slope=1, color=\"black\", linestyle=\"--\")\n",
        "\n",
        "# Add titles and labels\n",
        "plt.xlabel(\"Donated Number of Groups\")\n",
        "plt.ylabel(\"Predicted Number of Groups\")\n",
        "plt.title(\"Donated vs. Predicted Number of WhatsApp Groups\")\n",
        "\n",
        "# Show the plot\n",
        "plt.show()\n"
      ]
    },
    {
      "cell_type": "markdown",
      "id": "2ff113a8",
      "metadata": {
        "id": "2ff113a8"
      },
      "source": [
        "Additionally we can again look at the densities"
      ]
    },
    {
      "cell_type": "code",
      "execution_count": null,
      "id": "e3193845",
      "metadata": {
        "colab": {
          "base_uri": "https://localhost:8080/",
          "height": 472
        },
        "id": "e3193845",
        "outputId": "3abac58a-02ed-465a-9b40-e41815417c1f"
      },
      "outputs": [
        {
          "data": {
            "image/png": "[encoded data removed]",
            "text/plain": [
              "<Figure size 432x288 with 1 Axes>"
            ]
          },
          "metadata": {
            "needs_background": "light"
          },
          "output_type": "display_data"
        }
      ],
      "source": [
        "# Plot densities\n",
        "sns.kdeplot(data_don[\"groups_don\"], label = \"Donated\", fill = True, cut=0)\n",
        "sns.kdeplot(model_full.predict(data_don), label = \"Predicted\", fill = True, cut=0)\n",
        "\n",
        "# Add titles and labels\n",
        "plt.title(\"Density of Actual vs Predicted Number of Groups\")\n",
        "plt.xlabel(\"Groups\")\n",
        "plt.ylabel(\"Density\")\n",
        "plt.legend()\n",
        "\n",
        "# Show the plot\n",
        "plt.show()\n"
      ]
    },
    {
      "cell_type": "markdown",
      "id": "5be76ac4",
      "metadata": {
        "id": "5be76ac4"
      },
      "source": [
        "#### 5.2. Inspecting the two plots above, what do you notice about the predicted values? Does the model predict the number of groups well?"
      ]
    },
    {
      "cell_type": "markdown",
      "id": "3dfc9f8a",
      "metadata": {
        "id": "3dfc9f8a"
      },
      "source": [
        "*Add you answer here*"
      ]
    },
    {
      "cell_type": "markdown",
      "id": "4a55ef91",
      "metadata": {
        "id": "4a55ef91"
      },
      "source": [
        "We can now run a cross-validation:"
      ]
    },
    {
      "cell_type": "code",
      "execution_count": null,
      "id": "89715b6a",
      "metadata": {
        "colab": {
          "base_uri": "https://localhost:8080/"
        },
        "id": "89715b6a",
        "outputId": "d1f5d130-4803-40b8-d3e2-91786f24f675"
      },
      "outputs": [
        {
          "name": "stdout",
          "output_type": "stream",
          "text": [
            "R2 scores: [0.17839802 0.18656432 0.02879055 0.39972704 0.39857481]\n",
            "Average R2 score: 0.23841094846299046\n"
          ]
        }
      ],
      "source": [
        "from sklearn.model_selection import cross_val_score\n",
        "from sklearn.linear_model import LinearRegression\n",
        "from sklearn.preprocessing import LabelEncoder\n",
        "\n",
        "# Only keep complete observations (listwise deletion)\n",
        "X = data_don[[\"sex\", \"age\", \"education\", \"groups_quest\"]].dropna()\n",
        "y = data_don[\"groups_don\"][X.index]\n",
        "\n",
        "# Create label encoder for the categorical variables\n",
        "le = LabelEncoder()\n",
        "\n",
        "# Fit and transform the categorical variables\n",
        "X[\"sex\"] = le.fit_transform(X[\"sex\"]) # convert sex to numeric values\n",
        "X[\"education\"] = le.fit_transform(X[\"education\"]) # convert education to numeric values\n",
        "\n",
        "# Estimate linear model\n",
        "model = LinearRegression()\n",
        "\n",
        "# Perform cross-validation\n",
        "r2_scores = cross_val_score(model, X, y, cv=5, scoring= \"r2\")\n",
        "\n",
        "# Retrieve r2 values per fold\n",
        "print(\"R2 scores:\", r2_scores)\n",
        "print(\"Average R2 score:\", r2_scores.mean())\n",
        "\n"
      ]
    },
    {
      "cell_type": "markdown",
      "id": "faf61c41",
      "metadata": {
        "id": "faf61c41"
      },
      "source": [
        "And then use the estimated model to predict the number of groups for participants who did not donate their Whatsapp groups."
      ]
    },
    {
      "cell_type": "code",
      "execution_count": null,
      "id": "0c9fbf72",
      "metadata": {
        "colab": {
          "base_uri": "https://localhost:8080/"
        },
        "id": "0c9fbf72",
        "outputId": "5568c535-db27-480a-a675-75ca5e5e5b6d"
      },
      "outputs": [
        {
          "name": "stdout",
          "output_type": "stream",
          "text": [
            "  consent did_donate_account     sex  age education  groups_don  groups_quest  \\\n",
            "1      no                 No    male   60        wo         NaN           6.0   \n",
            "3      no                 No  female   32       mbo         NaN           1.0   \n",
            "5     yes                 No  female   39       mbo         NaN          10.0   \n",
            "6      no                 No  female   69       mbo         NaN           2.0   \n",
            "7      no                 No  female   48       mbo         NaN           4.0   \n",
            "\n",
            "   groups_don_pred  \n",
            "1        38.083152  \n",
            "3        42.462145  \n",
            "5        43.099031  \n",
            "6         6.960046  \n",
            "7        29.252777  \n"
          ]
        },
        {
          "name": "stderr",
          "output_type": "stream",
          "text": [
            "<ipython-input-24-071224680c1c>:8: SettingWithCopyWarning: \n",
            "A value is trying to be set on a copy of a slice from a DataFrame.\n",
            "Try using .loc[row_indexer,col_indexer] = value instead\n",
            "\n",
            "See the caveats in the documentation: https://pandas.pydata.org/pandas-docs/stable/user_guide/indexing.html#returning-a-view-versus-a-copy\n",
            "  X_new[\"sex\"] = le.fit_transform(X_new[\"sex\"])\n",
            "<ipython-input-24-071224680c1c>:9: SettingWithCopyWarning: \n",
            "A value is trying to be set on a copy of a slice from a DataFrame.\n",
            "Try using .loc[row_indexer,col_indexer] = value instead\n",
            "\n",
            "See the caveats in the documentation: https://pandas.pydata.org/pandas-docs/stable/user_guide/indexing.html#returning-a-view-versus-a-copy\n",
            "  X_new[\"education\"] = le.fit_transform(X_new[\"education\"])\n",
            "<ipython-input-24-071224680c1c>:19: SettingWithCopyWarning: \n",
            "A value is trying to be set on a copy of a slice from a DataFrame.\n",
            "Try using .loc[row_indexer,col_indexer] = value instead\n",
            "\n",
            "See the caveats in the documentation: https://pandas.pydata.org/pandas-docs/stable/user_guide/indexing.html#returning-a-view-versus-a-copy\n",
            "  data_survey['groups_don_pred'] = y_pred\n"
          ]
        }
      ],
      "source": [
        "# Subset to people who have values for all survey variables & didn't donate\n",
        "data_survey = data[data['groups_don'].isna() & data[['sex', 'age', 'education', 'groups_quest']].notna().all(axis=1)]\n",
        "\n",
        "# Select predictor variables\n",
        "X_new = data_survey[[\"sex\", \"age\", \"education\", \"groups_quest\"]]\n",
        "\n",
        "# Fit and transform the categorical variables\n",
        "X_new[\"sex\"] = le.fit_transform(X_new[\"sex\"])\n",
        "X_new[\"education\"] = le.fit_transform(X_new[\"education\"])\n",
        "\n",
        "# Estimate linear model\n",
        "model = LinearRegression()\n",
        "model.fit(X, y)\n",
        "\n",
        "# Make predictions\n",
        "y_pred = model.predict(X_new)\n",
        "\n",
        "# Add predictions to the data_survey\n",
        "data_survey['groups_don_pred'] = y_pred\n",
        "\n",
        "print(data_survey.head())"
      ]
    },
    {
      "cell_type": "markdown",
      "id": "07923d7e",
      "metadata": {
        "id": "07923d7e"
      },
      "source": [
        "Lastly, we can compare the distribution of Whatsapp groups of the actual data from the donation and the predictions from our model:"
      ]
    },
    {
      "cell_type": "code",
      "execution_count": null,
      "id": "017e2dee",
      "metadata": {
        "colab": {
          "base_uri": "https://localhost:8080/",
          "height": 472
        },
        "id": "017e2dee",
        "outputId": "2258c5ba-d126-4997-be21-6dea0b8024a7"
      },
      "outputs": [
        {
          "data": {
            "image/png": "[encoded data removed]",
            "text/plain": [
              "<Figure size 432x288 with 1 Axes>"
            ]
          },
          "metadata": {
            "needs_background": "light"
          },
          "output_type": "display_data"
        }
      ],
      "source": [
        "# concatenate data_don[\"groups_don\"] and data_survey['groups_don_pred']\n",
        "data_all = pd.concat([data_don[\"groups_don\"], data_survey['groups_don_pred']])\n",
        "\n",
        "# density plot for actual donated values\n",
        "sns.kdeplot(data_don[\"groups_don\"], label=\"Donated Data\", fill = True, cut=0)\n",
        "\n",
        "# density plot for predicted donated values\n",
        "sns.kdeplot(data_all, label=\"New/Imputed Data\", fill = True, cut=0)\n",
        "\n",
        "# density plot for the survey group\n",
        "sns.kdeplot(data[\"groups_quest\"], label=\"Survey Data\", fill = True, cut=0)\n",
        "\n",
        "# Add titles and labels\n",
        "plt.title(\"Density of Actual vs Predicted Number of Groups\")\n",
        "\n",
        "plt.xlabel(\"Number of WhatsApp Groups\")\n",
        "plt.ylabel(\"Density\")\n",
        "plt.legend()\n",
        "plt.show()\n"
      ]
    },
    {
      "cell_type": "markdown",
      "id": "855cd167",
      "metadata": {
        "id": "855cd167"
      },
      "source": [
        "#### 5.3. Describe in your own words which steps we carried out in the pieces of code above."
      ]
    },
    {
      "cell_type": "markdown",
      "id": "f2117eef",
      "metadata": {
        "id": "f2117eef"
      },
      "source": [
        "*Add you answer here*"
      ]
    },
    {
      "cell_type": "markdown",
      "id": "093b17e8",
      "metadata": {
        "id": "093b17e8"
      },
      "source": [
        "#### 5.4. How can we use this new predicted/imputed variable?"
      ]
    },
    {
      "cell_type": "markdown",
      "id": "2d4694b8",
      "metadata": {
        "id": "2d4694b8"
      },
      "source": [
        "*Add you answer here*"
      ]
    },
    {
      "cell_type": "markdown",
      "id": "c06523dc",
      "metadata": {
        "id": "c06523dc"
      },
      "source": [
        "#### 5.5. Compare the distribution of the number of groups from the survey group to the new group. How do they differ?"
      ]
    },
    {
      "cell_type": "markdown",
      "id": "26af8461",
      "metadata": {
        "id": "26af8461"
      },
      "source": [
        "*Add you answer here*"
      ]
    },
    {
      "cell_type": "markdown",
      "id": "4eab0a2f",
      "metadata": {
        "id": "4eab0a2f"
      },
      "source": [
        "#### 5.6. As we found out earlier, the average of the predicted values for \"donated number of groups\" is a bit lower compared to the average in the observed values for \"donated number of groups\". Consider the information that we incorporate in our prediction model here. What can be an explanation for this difference?"
      ]
    },
    {
      "cell_type": "markdown",
      "id": "212e2744",
      "metadata": {
        "id": "212e2744"
      },
      "source": [
        "*Add you answer here*"
      ]
    },
    {
      "cell_type": "markdown",
      "id": "5333346e",
      "metadata": {
        "id": "5333346e"
      },
      "source": [
        "#### 5.7. We now have a variable that contains both the \"donated number of groups\" as well as the \"predicted donated number of groups\" for the participants that did not donate. In what way can this variable lead to estimates of better quality (less error) compared to when only the \"donated number of groups\" was being used?"
      ]
    },
    {
      "cell_type": "markdown",
      "id": "37890436",
      "metadata": {
        "id": "37890436"
      },
      "source": [
        "*Add you answer here*"
      ]
    },
    {
      "cell_type": "markdown",
      "id": "f506013f",
      "metadata": {
        "id": "f506013f"
      },
      "source": [
        "#### 5.8. And in what way could using such a variable could lead to estimats of lower quality?"
      ]
    },
    {
      "cell_type": "markdown",
      "id": "f9d86fc9",
      "metadata": {
        "id": "f9d86fc9"
      },
      "source": [
        "*Add you answer here*"
      ]
    },
    {
      "cell_type": "markdown",
      "id": "94dbca7b",
      "metadata": {
        "id": "94dbca7b"
      },
      "source": [
        "## Part 6: Literature questions"
      ]
    },
    {
      "cell_type": "markdown",
      "id": "8fea556e",
      "metadata": {
        "id": "8fea556e"
      },
      "source": [
        "#### 6.1. Read through [this](https://royalsocietypublishing.org/doi/pdf/10.1098/rsif.2015.0185) paper as well as Section 3.6.2 in the Bit by Bit book. What are the similarities between the study design of Toole et al. (2015) with that of Blumenstock et al. (2015)?"
      ]
    },
    {
      "cell_type": "markdown",
      "id": "db0dee89",
      "metadata": {
        "id": "db0dee89"
      },
      "source": [
        "*Add you answer here*"
      ]
    },
    {
      "cell_type": "markdown",
      "id": "8bfb7932",
      "metadata": {
        "id": "8bfb7932"
      },
      "source": [
        "#### 6.2. And what are the differences?"
      ]
    },
    {
      "cell_type": "markdown",
      "id": "7061026d",
      "metadata": {
        "id": "7061026d"
      },
      "source": [
        "*Add you answer here*"
      ]
    },
    {
      "cell_type": "markdown",
      "id": "296600fb",
      "metadata": {
        "id": "296600fb"
      },
      "source": [
        "#### 6.3. Do you think call records should replace traditional surveys, complement them, or not to be used at all for government policymakers to track unemployment. Why?"
      ]
    },
    {
      "cell_type": "markdown",
      "id": "fd90232b",
      "metadata": {
        "id": "fd90232b"
      },
      "source": [
        "*Add you answer here*"
      ]
    },
    {
      "cell_type": "markdown",
      "id": "417d3092",
      "metadata": {
        "id": "417d3092"
      },
      "source": [
        "#### 6.4. What evidence would convince you that call detail records can completely replace traditional survey measures of unemployment rate?"
      ]
    },
    {
      "cell_type": "markdown",
      "id": "d8c92804",
      "metadata": {
        "id": "d8c92804"
      },
      "source": [
        "*Add you answer here*"
      ]
    }
  ],
  "metadata": {
    "colab": {
      "provenance": []
    },
    "kernelspec": {
      "display_name": "base",
      "language": "python",
      "name": "python3"
    },
    "language_info": {
      "codemirror_mode": {
        "name": "ipython",
        "version": 3
      },
      "file_extension": ".py",
      "mimetype": "text/x-python",
      "name": "python",
      "nbconvert_exporter": "python",
      "pygments_lexer": "ipython3",
      "version": "3.8.5"
    },
    "vscode": {
      "interpreter": {
        "hash": "0a68ab044c6ea367198d7b58f0f8352272d5267d2d2c131306c104f6e9ede3d6"
      }
    }
  },
  "nbformat": 4,
  "nbformat_minor": 5
}